{
 "cells": [
  {
   "cell_type": "code",
   "execution_count": 1,
   "id": "dd7f4fe8",
   "metadata": {},
   "outputs": [
    {
     "name": "stdout",
     "output_type": "stream",
     "text": [
      "Mon Jun 12 15:10:03 2023       \r\n",
      "+-----------------------------------------------------------------------------+\r\n",
      "| NVIDIA-SMI 384.81                 Driver Version: 460.67                    |\r\n",
      "|-------------------------------+----------------------+----------------------+\r\n",
      "| GPU  Name        Persistence-M| Bus-Id        Disp.A | Volatile Uncorr. ECC |\r\n",
      "| Fan  Temp  Perf  Pwr:Usage/Cap|         Memory-Usage | GPU-Util  Compute M. |\r\n",
      "|===============================+======================+======================|\r\n",
      "|   0  GeForce GTX 108...  Off  | 00000000:3D:00.0 Off |                  N/A |\r\n",
      "| 28%   33C    P8     8W / 250W |   5017MiB / 11178MiB |      0%      Default |\r\n",
      "+-------------------------------+----------------------+----------------------+\r\n",
      "                                                                               \r\n",
      "+-----------------------------------------------------------------------------+\r\n",
      "| Processes:                                                       GPU Memory |\r\n",
      "|  GPU       PID   Type   Process name                             Usage      |\r\n",
      "|=============================================================================|\r\n",
      "Internal error\r\n"
     ]
    }
   ],
   "source": [
    "# Check the GPU type\n",
    "\n",
    "!nvidia-smi"
   ]
  },
  {
   "cell_type": "code",
   "execution_count": 2,
   "id": "e1fee0fb",
   "metadata": {},
   "outputs": [],
   "source": [
    "# Imports\n",
    "\n",
    "from contextlib import contextmanager\n",
    "from copy import deepcopy\n",
    "import math\n",
    "from torch.utils.data import DataLoader\n",
    "from IPython import display\n",
    "from matplotlib import pyplot as plt\n",
    "import torch\n",
    "from torch import optim, nn\n",
    "from torch.nn import functional as F\n",
    "from torch.utils import data\n",
    "import torchvision\n",
    "import torchvision.datasets as dset\n",
    "from torchvision import datasets, transforms, utils\n",
    "from torchvision.transforms import functional as TF\n",
    "from tqdm.notebook import tqdm, trange\n",
    "from torchvision.datasets import ImageFolder\n",
    "from torchvision.utils import save_image"
   ]
  },
  {
   "cell_type": "code",
   "execution_count": 3,
   "id": "6d782265",
   "metadata": {},
   "outputs": [],
   "source": [
    "# Utilities\n",
    "\n",
    "@contextmanager\n",
    "def train_mode(model, mode=True):\n",
    "    \"\"\"A context manager that places a model into training mode and restores\n",
    "    the previous mode on exit.\"\"\"\n",
    "    modes = [module.training for module in model.modules()]\n",
    "    try:\n",
    "        yield model.train(mode)\n",
    "    finally:\n",
    "        for i, module in enumerate(model.modules()):\n",
    "            module.training = modes[i]\n",
    "\n",
    "\n",
    "def eval_mode(model):\n",
    "    \"\"\"A context manager that places a model into evaluation mode and restores\n",
    "    the previous mode on exit.\"\"\"\n",
    "    return train_mode(model, False)\n",
    "\n",
    "\n",
    "@torch.no_grad()\n",
    "def ema_update(model, averaged_model, decay):\n",
    "    \"\"\"Incorporates updated model parameters into an exponential moving averaged\n",
    "    version of a model. It should be called after each optimizer step.\"\"\"\n",
    "    model_params = dict(model.named_parameters())\n",
    "    averaged_params = dict(averaged_model.named_parameters())\n",
    "    assert model_params.keys() == averaged_params.keys()\n",
    "\n",
    "    for name, param in model_params.items():\n",
    "        averaged_params[name].mul_(decay).add_(param, alpha=1 - decay)\n",
    "\n",
    "    model_buffers = dict(model.named_buffers())\n",
    "    averaged_buffers = dict(averaged_model.named_buffers())\n",
    "    assert model_buffers.keys() == averaged_buffers.keys()\n",
    "\n",
    "    for name, buf in model_buffers.items():\n",
    "        averaged_buffers[name].copy_(buf)\n"
   ]
  },
  {
   "cell_type": "code",
   "execution_count": 4,
   "id": "1372e20e",
   "metadata": {},
   "outputs": [],
   "source": [
    "import ignite\n",
    "from ignite.metrics import InceptionScore\n",
    "from ignite.engine import Engine, Events\n",
    "\n",
    "def eval_step(engine, batch):\n",
    "    batch = F.interpolate(batch, size=(299, 299), mode='bilinear', align_corners=False)\n",
    "    return batch\n",
    "\n",
    "\n",
    "evaluator = Engine(eval_step)\n",
    "inception_score = InceptionScore()\n",
    "inception_score.attach(evaluator, \"is\")\n",
    "eption_score = InceptionScore()"
   ]
  },
  {
   "cell_type": "code",
   "execution_count": 5,
   "id": "201d5c96",
   "metadata": {},
   "outputs": [],
   "source": [
    "# Define the model (a residual U-Net)\n",
    "\n",
    "class ResidualBlock(nn.Module):\n",
    "    def __init__(self, main, skip=None):\n",
    "        super().__init__()\n",
    "        self.main = nn.Sequential(*main)\n",
    "        self.skip = skip if skip else nn.Identity()\n",
    "\n",
    "    def forward(self, input):\n",
    "        return self.main(input) + self.skip(input)\n",
    "\n",
    "\n",
    "class ResConvBlock(ResidualBlock):\n",
    "    def __init__(self, c_in, c_mid, c_out, dropout_last=True):\n",
    "        skip = None if c_in == c_out else nn.Conv2d(c_in, c_out, 1, bias=False)\n",
    "        super().__init__([\n",
    "            nn.Conv2d(c_in, c_mid, 3, padding=1),\n",
    "            nn.Dropout2d(0.1, inplace=True),\n",
    "            nn.ReLU(inplace=True),\n",
    "            nn.Conv2d(c_mid, c_out, 3, padding=1),\n",
    "            nn.Dropout2d(0.1, inplace=True) if dropout_last else nn.Identity(),\n",
    "            nn.ReLU(inplace=True),\n",
    "        ], skip)\n",
    "\n",
    "\n",
    "class SkipBlock(nn.Module):\n",
    "    def __init__(self, main, skip=None):\n",
    "        super().__init__()\n",
    "        self.main = nn.Sequential(*main)\n",
    "        self.skip = skip if skip else nn.Identity()\n",
    "\n",
    "    def forward(self, input):\n",
    "        return torch.cat([self.main(input), self.skip(input)], dim=1)\n",
    "\n",
    "\n",
    "class FourierFeatures(nn.Module):\n",
    "    def __init__(self, in_features, out_features, std=1.):\n",
    "        super().__init__()\n",
    "        assert out_features % 2 == 0\n",
    "        self.weight = nn.Parameter(torch.randn([out_features // 2, in_features]) * std)\n",
    "\n",
    "    def forward(self, input):\n",
    "        f = 2 * math.pi * input @ self.weight.T\n",
    "        return torch.cat([f.cos(), f.sin()], dim=-1)\n",
    "\n",
    "\n",
    "def expand_to_planes(input, shape):\n",
    "    return input[..., None, None].repeat([1, 1, shape[2], shape[3]])\n",
    "\n",
    "class SelfAttention(nn.Module):\n",
    "    def __init__(self, in_channels):\n",
    "        super().__init__()\n",
    "        \n",
    "        self.query_conv = nn.Conv2d(in_channels, in_channels//8, kernel_size=1)\n",
    "        self.key_conv = nn.Conv2d(in_channels, in_channels//8, kernel_size=1)\n",
    "        self.value_conv = nn.Conv2d(in_channels, in_channels, kernel_size=1)\n",
    "        self.gamma = nn.Parameter(torch.zeros(1))\n",
    "        self.softmax = nn.Softmax(dim=-1)\n",
    "\n",
    "    def forward(self, input):\n",
    "        # Apply the conv layer to the input to get q, k and v\n",
    "        q = self.query_conv(input)\n",
    "        k = self.key_conv(input)\n",
    "        v = self.value_conv(input)\n",
    "\n",
    "        # Reshape q, k, v to make matrix multiplication possible\n",
    "        b, c, h, w = input.shape\n",
    "        q = q.view(b, -1, h*w).permute(0, 2, 1)\n",
    "        k = k.view(b, -1, h*w)\n",
    "        v = v.view(b, -1, h*w)\n",
    "\n",
    "        # Calculate the attention map\n",
    "        attention_map = self.softmax(torch.bmm(q, k))\n",
    "\n",
    "        # Calculate the self-attention weighted value map\n",
    "        out = torch.bmm(v, attention_map.permute(0, 2, 1))\n",
    "        out = out.view(b, c, h, w)\n",
    "        \n",
    "        # Add the self-attention weighted output to the input\n",
    "        out = self.gamma * out + input\n",
    "        return out\n",
    "\n",
    "class Diffusion(nn.Module):\n",
    "    def __init__(self):\n",
    "        super().__init__()\n",
    "        c = 64  # The base channel count\n",
    "\n",
    "        # The inputs to timestep_embed will approximately fall into the range\n",
    "        # -10 to 10, so use std 0.2 for the Fourier Features.\n",
    "        self.timestep_embed = FourierFeatures(1, 16, std=0.2)\n",
    "        self.class_embed = nn.Embedding(10, 4)\n",
    "        #self.self_attention = SelfAttention(c)\n",
    "\n",
    "        self.net = nn.Sequential(   # 32x32\n",
    "            ResConvBlock(19, c, c),\n",
    "            ResConvBlock(c, c, c),\n",
    "            SkipBlock([\n",
    "                nn.AvgPool2d(2),  # 32x32 -> 16x16\n",
    "                ResConvBlock(c, c * 2, c * 2),\n",
    "                ResConvBlock(c * 2, c * 2, c * 2),\n",
    "                SkipBlock([\n",
    "                    nn.AvgPool2d(2),  # 16x16 -> 8x8\n",
    "                    ResConvBlock(c * 2, c * 4, c * 4),\n",
    "                    ResConvBlock(c * 4, c * 4, c * 4),\n",
    "                    SkipBlock([\n",
    "                        nn.AvgPool2d(2),  # 8x8 -> 4x4\n",
    "                        ResConvBlock(c * 4, c * 8, c * 8),\n",
    "                        ResConvBlock(c * 8, c * 8, c * 8),\n",
    "                        ResConvBlock(c * 8, c * 8, c * 8),\n",
    "                        ResConvBlock(c * 8, c * 8, c * 4),\n",
    "                        nn.Upsample(scale_factor=2),\n",
    "                    ]),  # 4x4 -> 8x8\n",
    "                    ResConvBlock(c * 8, c * 4, c * 4),\n",
    "                    ResConvBlock(c * 4, c * 4, c * 2),\n",
    "                    nn.Upsample(scale_factor=2),\n",
    "                ]),  # 8x8 -> 16x16\n",
    "                ResConvBlock(c * 4, c * 2, c * 2),\n",
    "                ResConvBlock(c * 2, c * 2, c),\n",
    "                nn.Upsample(scale_factor=2),\n",
    "                #self.self_attention,\n",
    "            ]),  # 16x16 -> 32x32\n",
    "            ResConvBlock(c * 2, c, c),\n",
    "            ResConvBlock(c, c, 3, dropout_last=False),\n",
    "        )\n",
    "\n",
    "    def forward(self, input, log_snrs):\n",
    "        timestep_embed = expand_to_planes(self.timestep_embed(log_snrs[:, None]), input.shape)\n",
    "\n",
    "        # Remove class_embed and cond usage\n",
    "        # class_embed = expand_to_planes(self.class_embed(cond), input.shape)\n",
    "\n",
    "        # Update the input to the self.net by removing class_embed from the concatenation\n",
    "        return self.net(torch.cat([input, timestep_embed], dim=1))\n"
   ]
  },
  {
   "cell_type": "code",
   "execution_count": 6,
   "id": "e3024561",
   "metadata": {},
   "outputs": [],
   "source": [
    "# Define the noise schedule and sampling loop\n",
    "\n",
    "def get_alphas_sigmas(log_snrs):\n",
    "    \"\"\"Returns the scaling factors for the clean image (alpha) and for the\n",
    "    noise (sigma), given the log SNR for a timestep.\"\"\"\n",
    "    return log_snrs.sigmoid().sqrt(), log_snrs.neg().sigmoid().sqrt()\n",
    "\n",
    "\n",
    "def get_ddpm_schedule(t):\n",
    "    \"\"\"Returns log SNRs for the noise schedule from the DDPM paper.\"\"\"\n",
    "    return -torch.special.expm1(1e-4 + 10 * t**2).log()\n",
    "\n",
    "\n",
    "@torch.no_grad()\n",
    "def sample(model, x, steps, eta):\n",
    "    \"\"\"Draws samples from a model given starting noise.\"\"\"\n",
    "    ts = x.new_ones([x.shape[0]])\n",
    "\n",
    "    # Create the noise schedule\n",
    "    t = torch.linspace(1, 0, steps + 1)[:-1]\n",
    "    log_snrs = get_ddpm_schedule(t)\n",
    "    alphas, sigmas = get_alphas_sigmas(log_snrs)\n",
    "\n",
    "    # The sampling loop\n",
    "    for i in trange(steps):\n",
    "\n",
    "        # Get the model output (v, the predicted velocity)\n",
    "        with torch.cuda.amp.autocast():\n",
    "            v = model(x, ts * log_snrs[i]).float()\n",
    "\n",
    "        # Predict the noise and the denoised image\n",
    "        pred = x * alphas[i] - v * sigmas[i]\n",
    "        eps = x * sigmas[i] + v * alphas[i]\n",
    "\n",
    "        # If we are not on the last timestep, compute the noisy image for the\n",
    "        # next timestep.\n",
    "        if i < steps - 1:\n",
    "            # If eta > 0, adjust the scaling factor for the predicted noise\n",
    "            # downward according to the amount of additional noise to add\n",
    "            ddim_sigma = eta * (sigmas[i + 1]**2 / sigmas[i]**2).sqrt() * \\\n",
    "                (1 - alphas[i]**2 / alphas[i + 1]**2).sqrt()\n",
    "            adjusted_sigma = (sigmas[i + 1]**2 - ddim_sigma**2).sqrt()\n",
    "\n",
    "            # Recombine the predicted noise and predicted denoised image in the\n",
    "            # correct proportions for the next step\n",
    "            x = pred * alphas[i + 1] + eps * adjusted_sigma\n",
    "\n",
    "            # Add the correct amount of fresh noise\n",
    "            if eta:\n",
    "                x += torch.randn_like(x) * ddim_sigma\n",
    "\n",
    "    # If we are on the last timestep, output the denoised image\n",
    "    return pred\n"
   ]
  },
  {
   "cell_type": "code",
   "execution_count": 7,
   "id": "2ce7e850",
   "metadata": {},
   "outputs": [
    {
     "name": "stdout",
     "output_type": "stream",
     "text": [
      "The noise schedule:\n"
     ]
    },
    {
     "data": {
      "image/png": "[encoded data removed]",
      "text/plain": [
       "<Figure size 600x400 with 1 Axes>"
      ]
     },
     "metadata": {
      "image/png": {
       "height": 365,
       "width": 516
      },
      "needs_background": "light"
     },
     "output_type": "display_data"
    },
    {
     "data": {
      "image/png": "[encoded data removed]",
      "text/plain": [
       "<Figure size 600x400 with 1 Axes>"
      ]
     },
     "metadata": {
      "image/png": {
       "height": 368,
       "width": 537
      },
      "needs_background": "light"
     },
     "output_type": "display_data"
    }
   ],
   "source": [
    "# Visualize the noise schedule\n",
    "\n",
    "%config InlineBackend.figure_format = 'retina'\n",
    "plt.rcParams['figure.dpi'] = 100\n",
    "\n",
    "t_vis = torch.linspace(0, 1, 1000)\n",
    "log_snrs_vis = get_ddpm_schedule(t_vis)\n",
    "alphas_vis, sigmas_vis = get_alphas_sigmas(log_snrs_vis)\n",
    "\n",
    "print('The noise schedule:')\n",
    "\n",
    "plt.plot(t_vis, alphas_vis, label='alpha (signal level)')\n",
    "plt.plot(t_vis, sigmas_vis, label='sigma (noise level)')\n",
    "plt.legend()\n",
    "plt.xlabel('timestep')\n",
    "plt.grid()\n",
    "plt.show()\n",
    "\n",
    "plt.plot(t_vis, log_snrs_vis, label='log SNR')\n",
    "plt.legend()\n",
    "plt.xlabel('timestep')\n",
    "plt.grid()\n",
    "plt.show()\n"
   ]
  },
  {
   "cell_type": "code",
   "execution_count": 10,
   "id": "5398e992",
   "metadata": {},
   "outputs": [],
   "source": [
    "from torch.utils.data import Dataset\n",
    "from PIL import Image\n",
    "import glob\n",
    "\n",
    "class CelebADataset(Dataset):\n",
    "    def __init__(self, root_dir, transform=None):\n",
    "        self.root_dir = root_dir\n",
    "        self.transform = transform\n",
    "        self.list_of_files = glob.glob(root_dir + '/*.jpg')\n",
    "\n",
    "    def __len__(self):\n",
    "        return len(self.list_of_files)\n",
    "\n",
    "    def __getitem__(self, idx):\n",
    "        if torch.is_tensor(idx):\n",
    "            idx = idx.tolist()\n",
    "\n",
    "        img_path = self.list_of_files[idx]\n",
    "        image = Image.open(img_path)\n",
    "\n",
    "        if self.transform:\n",
    "            image = self.transform(image)\n",
    "\n",
    "        return image"
   ]
  },
  {
   "cell_type": "code",
   "execution_count": 11,
   "id": "92517741",
   "metadata": {},
   "outputs": [],
   "source": [
    "from torch.utils.data import Dataset, DataLoader, random_split\n",
    "\n",
    "transform = transforms.Compose(\n",
    "    [transforms.CenterCrop(178),\n",
    "     transforms.Resize((32,32)),\n",
    "     transforms.ToTensor(),\n",
    "     transforms.Normalize(mean=[0.5], std=[0.5])])\n",
    "\n",
    "# processing 4 images at once. *adjustable*\n",
    "batch_size = 128\n",
    "\n",
    "# set trainset: loading CIFAR-10, apply previously defined transform function\n",
    "dataset = CelebADataset(root_dir='./data/img_align_celeba', transform=transform)\n",
    "\n",
    "train_size = int(0.8 * len(dataset))\n",
    "val_size = len(dataset) - train_size\n",
    "\n",
    "train_ds, val_ds = random_split(dataset, [train_size, val_size])\n",
    "\n",
    "# Create DataLoader for the training and validation sets\n",
    "batch_size = 64\n",
    "train_dl = DataLoader(train_ds, batch_size=batch_size, shuffle=True)\n",
    "val_dl = DataLoader(val_ds, batch_size=batch_size, shuffle=True)"
   ]
  },
  {
   "cell_type": "code",
   "execution_count": 12,
   "id": "7d0f8210",
   "metadata": {},
   "outputs": [
    {
     "name": "stdout",
     "output_type": "stream",
     "text": [
      "Using device: cuda\n",
      "Model parameters: 23213956\n"
     ]
    }
   ],
   "source": [
    "# Create the model and optimizer\n",
    "\n",
    "seed = 0\n",
    "\n",
    "device = torch.device('cuda' if torch.cuda.is_available() else 'cpu')\n",
    "print('Using device:', device)\n",
    "torch.manual_seed(0)\n",
    "\n",
    "model = Diffusion().to(device)\n",
    "model_ema = deepcopy(model)\n",
    "print('Model parameters:', sum(p.numel() for p in model.parameters()))\n",
    "\n",
    "opt = optim.Adam(model.parameters(), lr=2e-4)\n",
    "scaler = torch.cuda.amp.GradScaler()\n",
    "epoch = 0\n",
    "\n",
    "# Use a low discrepancy quasi-random sequence to sample uniformly distributed\n",
    "# timesteps. This considerably reduces the between-batch variance of the loss.\n",
    "rng = torch.quasirandom.SobolEngine(1, scramble=True)"
   ]
  },
  {
   "cell_type": "code",
   "execution_count": 13,
   "id": "aefc4398",
   "metadata": {},
   "outputs": [
    {
     "name": "stdout",
     "output_type": "stream",
     "text": [
      "\n",
      "Validating...\n"
     ]
    },
    {
     "data": {
      "application/vnd.jupyter.widget-view+json": {
       "model_id": "c47ccfed5ad84179bb21e7afbde14f91",
       "version_major": 2,
       "version_minor": 0
      },
      "text/plain": [
       "  0%|          | 0/188 [00:00<?, ?it/s]"
      ]
     },
     "metadata": {},
     "output_type": "display_data"
    },
    {
     "name": "stdout",
     "output_type": "stream",
     "text": [
      "Validation: Epoch: 0, loss: 0.223164\n",
      "Epoch 0\n"
     ]
    },
    {
     "data": {
      "application/vnd.jupyter.widget-view+json": {
       "model_id": "ba09d7699dff4fe5aa6a6ccb5c6233d7",
       "version_major": 2,
       "version_minor": 0
      },
      "text/plain": [
       "  0%|          | 0/750 [00:00<?, ?it/s]"
      ]
     },
     "metadata": {},
     "output_type": "display_data"
    },
    {
     "name": "stdout",
     "output_type": "stream",
     "text": [
      "Epoch: 0, iteration: 0, loss: 0.218497\n",
      "Epoch: 0, iteration: 50, loss: 0.114142\n",
      "Epoch: 0, iteration: 100, loss: 0.0762898\n",
      "Epoch: 0, iteration: 150, loss: 0.0594099\n",
      "Epoch: 0, iteration: 200, loss: 0.0620368\n",
      "Epoch: 0, iteration: 250, loss: 0.0573514\n",
      "Epoch: 0, iteration: 300, loss: 0.0604043\n",
      "Epoch: 0, iteration: 350, loss: 0.0474706\n",
      "Epoch: 0, iteration: 400, loss: 0.0548965\n",
      "Epoch: 0, iteration: 450, loss: 0.0463906\n",
      "Epoch: 0, iteration: 500, loss: 0.0556063\n",
      "Epoch: 0, iteration: 550, loss: 0.0443794\n",
      "Epoch: 0, iteration: 600, loss: 0.0505256\n",
      "Epoch: 0, iteration: 650, loss: 0.047171\n",
      "Epoch: 0, iteration: 700, loss: 0.0510317\n",
      "Epoch 1\n"
     ]
    },
    {
     "data": {
      "application/vnd.jupyter.widget-view+json": {
       "model_id": "04c257061820402c9ffe2c394cb4cc21",
       "version_major": 2,
       "version_minor": 0
      },
      "text/plain": [
       "  0%|          | 0/750 [00:00<?, ?it/s]"
      ]
     },
     "metadata": {},
     "output_type": "display_data"
    },
    {
     "name": "stdout",
     "output_type": "stream",
     "text": [
      "Epoch: 1, iteration: 0, loss: 0.0414146\n",
      "Epoch: 1, iteration: 50, loss: 0.0456752\n",
      "Epoch: 1, iteration: 100, loss: 0.0438542\n",
      "Epoch: 1, iteration: 150, loss: 0.0504594\n",
      "Epoch: 1, iteration: 200, loss: 0.0400292\n",
      "Epoch: 1, iteration: 250, loss: 0.0425059\n",
      "Epoch: 1, iteration: 300, loss: 0.0387024\n",
      "Epoch: 1, iteration: 350, loss: 0.0487347\n",
      "Epoch: 1, iteration: 400, loss: 0.0353946\n",
      "Epoch: 1, iteration: 450, loss: 0.0433016\n",
      "Epoch: 1, iteration: 500, loss: 0.0376634\n",
      "Epoch: 1, iteration: 550, loss: 0.045427\n",
      "Epoch: 1, iteration: 600, loss: 0.0378495\n",
      "Epoch: 1, iteration: 650, loss: 0.0413893\n",
      "Epoch: 1, iteration: 700, loss: 0.0399329\n",
      "Epoch 2\n"
     ]
    },
    {
     "data": {
      "application/vnd.jupyter.widget-view+json": {
       "model_id": "5733372d18fb47dd9217bc73400c7ded",
       "version_major": 2,
       "version_minor": 0
      },
      "text/plain": [
       "  0%|          | 0/750 [00:00<?, ?it/s]"
      ]
     },
     "metadata": {},
     "output_type": "display_data"
    },
    {
     "name": "stdout",
     "output_type": "stream",
     "text": [
      "Epoch: 2, iteration: 0, loss: 0.0436715\n",
      "Epoch: 2, iteration: 50, loss: 0.0367919\n",
      "Epoch: 2, iteration: 100, loss: 0.0449432\n",
      "Epoch: 2, iteration: 150, loss: 0.0401355\n",
      "Epoch: 2, iteration: 200, loss: 0.0418576\n",
      "Epoch: 2, iteration: 250, loss: 0.0373624\n",
      "Epoch: 2, iteration: 300, loss: 0.0383206\n",
      "Epoch: 2, iteration: 350, loss: 0.0393208\n",
      "Epoch: 2, iteration: 400, loss: 0.0425808\n",
      "Epoch: 2, iteration: 450, loss: 0.0352007\n",
      "Epoch: 2, iteration: 500, loss: 0.0397936\n",
      "Epoch: 2, iteration: 550, loss: 0.040841\n",
      "Epoch: 2, iteration: 600, loss: 0.0407992\n",
      "Epoch: 2, iteration: 650, loss: 0.0332249\n",
      "Epoch: 2, iteration: 700, loss: 0.0402627\n",
      "Epoch 3\n"
     ]
    },
    {
     "data": {
      "application/vnd.jupyter.widget-view+json": {
       "model_id": "ca3c12b7e8f44a278225c7c4950da062",
       "version_major": 2,
       "version_minor": 0
      },
      "text/plain": [
       "  0%|          | 0/750 [00:00<?, ?it/s]"
      ]
     },
     "metadata": {},
     "output_type": "display_data"
    },
    {
     "name": "stdout",
     "output_type": "stream",
     "text": [
      "Epoch: 3, iteration: 0, loss: 0.0380551\n",
      "Epoch: 3, iteration: 50, loss: 0.0425602\n",
      "Epoch: 3, iteration: 100, loss: 0.0368394\n",
      "Epoch: 3, iteration: 150, loss: 0.0382551\n",
      "Epoch: 3, iteration: 200, loss: 0.0347463\n",
      "Epoch: 3, iteration: 250, loss: 0.0428547\n",
      "Epoch: 3, iteration: 300, loss: 0.0355609\n",
      "Epoch: 3, iteration: 350, loss: 0.0394826\n",
      "Epoch: 3, iteration: 400, loss: 0.034431\n",
      "Epoch: 3, iteration: 450, loss: 0.0420819\n",
      "Epoch: 3, iteration: 500, loss: 0.0314648\n",
      "Epoch: 3, iteration: 550, loss: 0.0406831\n",
      "Epoch: 3, iteration: 600, loss: 0.0333622\n",
      "Epoch: 3, iteration: 650, loss: 0.0421464\n",
      "Epoch: 3, iteration: 700, loss: 0.0333188\n",
      "Epoch 4\n"
     ]
    },
    {
     "data": {
      "application/vnd.jupyter.widget-view+json": {
       "model_id": "99bf253d50bf450ea788bda4df074fd8",
       "version_major": 2,
       "version_minor": 0
      },
      "text/plain": [
       "  0%|          | 0/750 [00:00<?, ?it/s]"
      ]
     },
     "metadata": {},
     "output_type": "display_data"
    },
    {
     "name": "stdout",
     "output_type": "stream",
     "text": [
      "Epoch: 4, iteration: 0, loss: 0.0381797\n",
      "Epoch: 4, iteration: 50, loss: 0.0340826\n",
      "Epoch: 4, iteration: 100, loss: 0.0379379\n",
      "Epoch: 4, iteration: 150, loss: 0.033268\n",
      "Epoch: 4, iteration: 200, loss: 0.0400776\n",
      "Epoch: 4, iteration: 250, loss: 0.0363471\n",
      "Epoch: 4, iteration: 300, loss: 0.0387172\n",
      "Epoch: 4, iteration: 350, loss: 0.0332614\n",
      "Epoch: 4, iteration: 400, loss: 0.0357984\n",
      "Epoch: 4, iteration: 450, loss: 0.0334818\n",
      "Epoch: 4, iteration: 500, loss: 0.0430064\n",
      "Epoch: 4, iteration: 550, loss: 0.0301172\n",
      "Epoch: 4, iteration: 600, loss: 0.0390177\n",
      "Epoch: 4, iteration: 650, loss: 0.0321666\n",
      "Epoch: 4, iteration: 700, loss: 0.0398313\n",
      "\n",
      "Validating...\n"
     ]
    },
    {
     "data": {
      "application/vnd.jupyter.widget-view+json": {
       "model_id": "7f2f66d2b5654851b1a583cf8f64ee99",
       "version_major": 2,
       "version_minor": 0
      },
      "text/plain": [
       "  0%|          | 0/188 [00:00<?, ?it/s]"
      ]
     },
     "metadata": {},
     "output_type": "display_data"
    },
    {
     "name": "stdout",
     "output_type": "stream",
     "text": [
      "Validation: Epoch: 5, loss: 0.0331798\n",
      "Epoch 5\n"
     ]
    },
    {
     "data": {
      "application/vnd.jupyter.widget-view+json": {
       "model_id": "07badc7987c84ec49d7c1c8eb329e9a1",
       "version_major": 2,
       "version_minor": 0
      },
      "text/plain": [
       "  0%|          | 0/750 [00:00<?, ?it/s]"
      ]
     },
     "metadata": {},
     "output_type": "display_data"
    },
    {
     "name": "stdout",
     "output_type": "stream",
     "text": [
      "Epoch: 5, iteration: 0, loss: 0.0316422\n",
      "Epoch: 5, iteration: 50, loss: 0.0404024\n",
      "Epoch: 5, iteration: 100, loss: 0.0318002\n",
      "Epoch: 5, iteration: 150, loss: 0.0435692\n",
      "Epoch: 5, iteration: 200, loss: 0.0321041\n",
      "Epoch: 5, iteration: 250, loss: 0.0358678\n",
      "Epoch: 5, iteration: 300, loss: 0.0339263\n",
      "Epoch: 5, iteration: 350, loss: 0.0432911\n",
      "Epoch: 5, iteration: 400, loss: 0.0337574\n",
      "Epoch: 5, iteration: 450, loss: 0.0428062\n",
      "Epoch: 5, iteration: 500, loss: 0.0354934\n",
      "Epoch: 5, iteration: 550, loss: 0.0381731\n",
      "Epoch: 5, iteration: 600, loss: 0.0318592\n",
      "Epoch: 5, iteration: 650, loss: 0.0337774\n",
      "Epoch: 5, iteration: 700, loss: 0.0333526\n",
      "Epoch 6\n"
     ]
    },
    {
     "data": {
      "application/vnd.jupyter.widget-view+json": {
       "model_id": "944e08be801944cda1272f99d4e585f7",
       "version_major": 2,
       "version_minor": 0
      },
      "text/plain": [
       "  0%|          | 0/750 [00:00<?, ?it/s]"
      ]
     },
     "metadata": {},
     "output_type": "display_data"
    },
    {
     "name": "stdout",
     "output_type": "stream",
     "text": [
      "Epoch: 6, iteration: 0, loss: 0.0378213\n",
      "Epoch: 6, iteration: 50, loss: 0.0312752\n",
      "Epoch: 6, iteration: 100, loss: 0.0367214\n",
      "Epoch: 6, iteration: 150, loss: 0.0322024\n",
      "Epoch: 6, iteration: 200, loss: 0.036733\n",
      "Epoch: 6, iteration: 250, loss: 0.0319709\n",
      "Epoch: 6, iteration: 300, loss: 0.036895\n",
      "Epoch: 6, iteration: 350, loss: 0.0331414\n",
      "Epoch: 6, iteration: 400, loss: 0.041986\n",
      "Epoch: 6, iteration: 450, loss: 0.0310995\n",
      "Epoch: 6, iteration: 500, loss: 0.0353508\n",
      "Epoch: 6, iteration: 550, loss: 0.0352099\n",
      "Epoch: 6, iteration: 600, loss: 0.0362697\n",
      "Epoch: 6, iteration: 650, loss: 0.0341887\n",
      "Epoch: 6, iteration: 700, loss: 0.0395349\n",
      "Epoch 7\n"
     ]
    },
    {
     "data": {
      "application/vnd.jupyter.widget-view+json": {
       "model_id": "7c6fee42e1ac40ff9b365a6471bb67ae",
       "version_major": 2,
       "version_minor": 0
      },
      "text/plain": [
       "  0%|          | 0/750 [00:00<?, ?it/s]"
      ]
     },
     "metadata": {},
     "output_type": "display_data"
    },
    {
     "name": "stdout",
     "output_type": "stream",
     "text": [
      "Epoch: 7, iteration: 0, loss: 0.0336117\n",
      "Epoch: 7, iteration: 50, loss: 0.0437534\n",
      "Epoch: 7, iteration: 100, loss: 0.0314499\n",
      "Epoch: 7, iteration: 150, loss: 0.032321\n",
      "Epoch: 7, iteration: 200, loss: 0.0337575\n",
      "Epoch: 7, iteration: 250, loss: 0.0365496\n",
      "Epoch: 7, iteration: 300, loss: 0.0305511\n",
      "Epoch: 7, iteration: 350, loss: 0.0322954\n",
      "Epoch: 7, iteration: 400, loss: 0.0303943\n",
      "Epoch: 7, iteration: 450, loss: 0.03924\n",
      "Epoch: 7, iteration: 500, loss: 0.0295827\n",
      "Epoch: 7, iteration: 550, loss: 0.0326368\n",
      "Epoch: 7, iteration: 600, loss: 0.030869\n",
      "Epoch: 7, iteration: 650, loss: 0.0367065\n",
      "Epoch: 7, iteration: 700, loss: 0.0340827\n",
      "Epoch 8\n"
     ]
    },
    {
     "data": {
      "application/vnd.jupyter.widget-view+json": {
       "model_id": "3f67273de3d9426ab590dc401b3425a8",
       "version_major": 2,
       "version_minor": 0
      },
      "text/plain": [
       "  0%|          | 0/750 [00:00<?, ?it/s]"
      ]
     },
     "metadata": {},
     "output_type": "display_data"
    },
    {
     "name": "stdout",
     "output_type": "stream",
     "text": [
      "Epoch: 8, iteration: 0, loss: 0.0352785\n",
      "Epoch: 8, iteration: 50, loss: 0.0342389\n",
      "Epoch: 8, iteration: 100, loss: 0.0354091\n",
      "Epoch: 8, iteration: 150, loss: 0.0327371\n",
      "Epoch: 8, iteration: 200, loss: 0.0330536\n",
      "Epoch: 8, iteration: 250, loss: 0.0316622\n",
      "Epoch: 8, iteration: 300, loss: 0.0387433\n",
      "Epoch: 8, iteration: 350, loss: 0.0296175\n",
      "Epoch: 8, iteration: 400, loss: 0.0342315\n",
      "Epoch: 8, iteration: 450, loss: 0.0299452\n",
      "Epoch: 8, iteration: 500, loss: 0.0392587\n",
      "Epoch: 8, iteration: 550, loss: 0.0279458\n",
      "Epoch: 8, iteration: 600, loss: 0.0357928\n",
      "Epoch: 8, iteration: 650, loss: 0.03216\n",
      "Epoch: 8, iteration: 700, loss: 0.0335931\n",
      "Epoch 9\n"
     ]
    },
    {
     "data": {
      "application/vnd.jupyter.widget-view+json": {
       "model_id": "a0d4c57412bc47b687d74c302c92bc0c",
       "version_major": 2,
       "version_minor": 0
      },
      "text/plain": [
       "  0%|          | 0/750 [00:00<?, ?it/s]"
      ]
     },
     "metadata": {},
     "output_type": "display_data"
    },
    {
     "name": "stdout",
     "output_type": "stream",
     "text": [
      "Epoch: 9, iteration: 0, loss: 0.0304841\n",
      "Epoch: 9, iteration: 50, loss: 0.035556\n",
      "Epoch: 9, iteration: 100, loss: 0.0308738\n",
      "Epoch: 9, iteration: 150, loss: 0.0373288\n",
      "Epoch: 9, iteration: 200, loss: 0.0329567\n",
      "Epoch: 9, iteration: 250, loss: 0.0346032\n",
      "Epoch: 9, iteration: 300, loss: 0.0306958\n",
      "Epoch: 9, iteration: 350, loss: 0.0372541\n",
      "Epoch: 9, iteration: 400, loss: 0.0282413\n",
      "Epoch: 9, iteration: 450, loss: 0.0332037\n",
      "Epoch: 9, iteration: 500, loss: 0.0312843\n",
      "Epoch: 9, iteration: 550, loss: 0.0396988\n",
      "Epoch: 9, iteration: 600, loss: 0.0289694\n",
      "Epoch: 9, iteration: 650, loss: 0.034243\n",
      "Epoch: 9, iteration: 700, loss: 0.0350636\n",
      "\n",
      "Validating...\n"
     ]
    },
    {
     "data": {
      "application/vnd.jupyter.widget-view+json": {
       "model_id": "f0c50760573e4dd9bd347231ecc004b6",
       "version_major": 2,
       "version_minor": 0
      },
      "text/plain": [
       "  0%|          | 0/188 [00:00<?, ?it/s]"
      ]
     },
     "metadata": {},
     "output_type": "display_data"
    },
    {
     "name": "stdout",
     "output_type": "stream",
     "text": [
      "Validation: Epoch: 10, loss: 0.0310497\n",
      "Epoch 10\n"
     ]
    },
    {
     "data": {
      "application/vnd.jupyter.widget-view+json": {
       "model_id": "1e325317a49b41a4ba8212d14c6183cf",
       "version_major": 2,
       "version_minor": 0
      },
      "text/plain": [
       "  0%|          | 0/750 [00:00<?, ?it/s]"
      ]
     },
     "metadata": {},
     "output_type": "display_data"
    },
    {
     "name": "stdout",
     "output_type": "stream",
     "text": [
      "Epoch: 10, iteration: 0, loss: 0.03684\n",
      "Epoch: 10, iteration: 50, loss: 0.0294607\n",
      "Epoch: 10, iteration: 100, loss: 0.0307472\n",
      "Epoch: 10, iteration: 150, loss: 0.0325213\n",
      "Epoch: 10, iteration: 200, loss: 0.0378989\n",
      "Epoch: 10, iteration: 250, loss: 0.0299734\n",
      "Epoch: 10, iteration: 300, loss: 0.0359993\n",
      "Epoch: 10, iteration: 350, loss: 0.0305463\n",
      "Epoch: 10, iteration: 400, loss: 0.0367375\n",
      "Epoch: 10, iteration: 450, loss: 0.0311494\n",
      "Epoch: 10, iteration: 500, loss: 0.0330095\n",
      "Epoch: 10, iteration: 550, loss: 0.0314287\n",
      "Epoch: 10, iteration: 600, loss: 0.0389707\n",
      "Epoch: 10, iteration: 650, loss: 0.0287688\n",
      "Epoch: 10, iteration: 700, loss: 0.0319697\n",
      "Epoch 11\n"
     ]
    },
    {
     "data": {
      "application/vnd.jupyter.widget-view+json": {
       "model_id": "2dce7d0a4ae146cc8844b345ec105e9a",
       "version_major": 2,
       "version_minor": 0
      },
      "text/plain": [
       "  0%|          | 0/750 [00:00<?, ?it/s]"
      ]
     },
     "metadata": {},
     "output_type": "display_data"
    },
    {
     "name": "stdout",
     "output_type": "stream",
     "text": [
      "Epoch: 11, iteration: 0, loss: 0.0284611\n",
      "Epoch: 11, iteration: 50, loss: 0.0363993\n",
      "Epoch: 11, iteration: 100, loss: 0.0301458\n",
      "Epoch: 11, iteration: 150, loss: 0.0309994\n",
      "Epoch: 11, iteration: 200, loss: 0.0330076\n",
      "Epoch: 11, iteration: 250, loss: 0.0394105\n",
      "Epoch: 11, iteration: 300, loss: 0.0292071\n",
      "Epoch: 11, iteration: 350, loss: 0.0350505\n",
      "Epoch: 11, iteration: 400, loss: 0.0320133\n",
      "Epoch: 11, iteration: 450, loss: 0.0341521\n",
      "Epoch: 11, iteration: 500, loss: 0.0297995\n",
      "Epoch: 11, iteration: 550, loss: 0.0326294\n",
      "Epoch: 11, iteration: 600, loss: 0.031946\n",
      "Epoch: 11, iteration: 650, loss: 0.0344011\n",
      "Epoch: 11, iteration: 700, loss: 0.0285283\n",
      "Epoch 12\n"
     ]
    },
    {
     "data": {
      "application/vnd.jupyter.widget-view+json": {
       "model_id": "25c4e0bae57d489fa422a978ae02c60f",
       "version_major": 2,
       "version_minor": 0
      },
      "text/plain": [
       "  0%|          | 0/750 [00:00<?, ?it/s]"
      ]
     },
     "metadata": {},
     "output_type": "display_data"
    },
    {
     "name": "stdout",
     "output_type": "stream",
     "text": [
      "Epoch: 12, iteration: 0, loss: 0.0341269\n",
      "Epoch: 12, iteration: 50, loss: 0.0321799\n",
      "Epoch: 12, iteration: 100, loss: 0.0345486\n",
      "Epoch: 12, iteration: 150, loss: 0.029625\n",
      "Epoch: 12, iteration: 200, loss: 0.0337445\n",
      "Epoch: 12, iteration: 250, loss: 0.028308\n",
      "Epoch: 12, iteration: 300, loss: 0.0401092\n",
      "Epoch: 12, iteration: 350, loss: 0.028195\n",
      "Epoch: 12, iteration: 400, loss: 0.033902\n",
      "Epoch: 12, iteration: 450, loss: 0.0317936\n",
      "Epoch: 12, iteration: 500, loss: 0.037568\n",
      "Epoch: 12, iteration: 550, loss: 0.0291948\n",
      "Epoch: 12, iteration: 600, loss: 0.0319834\n",
      "Epoch: 12, iteration: 650, loss: 0.0321562\n",
      "Epoch: 12, iteration: 700, loss: 0.0341578\n",
      "Epoch 13\n"
     ]
    },
    {
     "data": {
      "application/vnd.jupyter.widget-view+json": {
       "model_id": "9c2b5723f40e4fc28b72f43c26303230",
       "version_major": 2,
       "version_minor": 0
      },
      "text/plain": [
       "  0%|          | 0/750 [00:00<?, ?it/s]"
      ]
     },
     "metadata": {},
     "output_type": "display_data"
    },
    {
     "name": "stdout",
     "output_type": "stream",
     "text": [
      "Epoch: 13, iteration: 0, loss: 0.028577\n",
      "Epoch: 13, iteration: 50, loss: 0.0341439\n",
      "Epoch: 13, iteration: 100, loss: 0.0308334\n",
      "Epoch: 13, iteration: 150, loss: 0.0355781\n",
      "Epoch: 13, iteration: 200, loss: 0.0293229\n",
      "Epoch: 13, iteration: 250, loss: 0.0305527\n",
      "Epoch: 13, iteration: 300, loss: 0.0287241\n",
      "Epoch: 13, iteration: 350, loss: 0.0367744\n",
      "Epoch: 13, iteration: 400, loss: 0.0271531\n",
      "Epoch: 13, iteration: 450, loss: 0.0335225\n",
      "Epoch: 13, iteration: 500, loss: 0.0292054\n",
      "Epoch: 13, iteration: 550, loss: 0.0374218\n",
      "Epoch: 13, iteration: 600, loss: 0.0294607\n",
      "Epoch: 13, iteration: 650, loss: 0.0332979\n",
      "Epoch: 13, iteration: 700, loss: 0.0300707\n",
      "Epoch 14\n"
     ]
    },
    {
     "data": {
      "application/vnd.jupyter.widget-view+json": {
       "model_id": "75baae6abc7549e8bc860bf4b6176d76",
       "version_major": 2,
       "version_minor": 0
      },
      "text/plain": [
       "  0%|          | 0/750 [00:00<?, ?it/s]"
      ]
     },
     "metadata": {},
     "output_type": "display_data"
    },
    {
     "name": "stdout",
     "output_type": "stream",
     "text": [
      "Epoch: 14, iteration: 0, loss: 0.0379748\n",
      "Epoch: 14, iteration: 50, loss: 0.0314793\n",
      "Epoch: 14, iteration: 100, loss: 0.034152\n",
      "Epoch: 14, iteration: 150, loss: 0.031271\n",
      "Epoch: 14, iteration: 200, loss: 0.0340053\n",
      "Epoch: 14, iteration: 250, loss: 0.0324516\n",
      "Epoch: 14, iteration: 300, loss: 0.0341253\n",
      "Epoch: 14, iteration: 350, loss: 0.0297373\n",
      "Epoch: 14, iteration: 400, loss: 0.0373286\n",
      "Epoch: 14, iteration: 450, loss: 0.0286811\n",
      "Epoch: 14, iteration: 500, loss: 0.0341766\n",
      "Epoch: 14, iteration: 550, loss: 0.0297683\n",
      "Epoch: 14, iteration: 600, loss: 0.0345076\n",
      "Epoch: 14, iteration: 650, loss: 0.0287695\n",
      "Epoch: 14, iteration: 700, loss: 0.0330237\n",
      "\n",
      "Validating...\n"
     ]
    },
    {
     "data": {
      "application/vnd.jupyter.widget-view+json": {
       "model_id": "8a580d825808421f8e274b659c629077",
       "version_major": 2,
       "version_minor": 0
      },
      "text/plain": [
       "  0%|          | 0/188 [00:00<?, ?it/s]"
      ]
     },
     "metadata": {},
     "output_type": "display_data"
    },
    {
     "name": "stdout",
     "output_type": "stream",
     "text": [
      "Validation: Epoch: 15, loss: 0.0300578\n",
      "Epoch 15\n"
     ]
    },
    {
     "data": {
      "application/vnd.jupyter.widget-view+json": {
       "model_id": "4089dcd8136442538b41463954bcedeb",
       "version_major": 2,
       "version_minor": 0
      },
      "text/plain": [
       "  0%|          | 0/750 [00:00<?, ?it/s]"
      ]
     },
     "metadata": {},
     "output_type": "display_data"
    },
    {
     "name": "stdout",
     "output_type": "stream",
     "text": [
      "Epoch: 15, iteration: 0, loss: 0.0286666\n",
      "Epoch: 15, iteration: 50, loss: 0.0343687\n",
      "Epoch: 15, iteration: 100, loss: 0.0312798\n",
      "Epoch: 15, iteration: 150, loss: 0.0347413\n",
      "Epoch: 15, iteration: 200, loss: 0.0316901\n",
      "Epoch: 15, iteration: 250, loss: 0.0361055\n",
      "Epoch: 15, iteration: 300, loss: 0.0288691\n",
      "Epoch: 15, iteration: 350, loss: 0.0342256\n",
      "Epoch: 15, iteration: 400, loss: 0.0315666\n",
      "Epoch: 15, iteration: 450, loss: 0.0359843\n",
      "Epoch: 15, iteration: 500, loss: 0.0271531\n",
      "Epoch: 15, iteration: 550, loss: 0.0346577\n",
      "Epoch: 15, iteration: 600, loss: 0.0300217\n",
      "Epoch: 15, iteration: 650, loss: 0.0339134\n",
      "Epoch: 15, iteration: 700, loss: 0.0286915\n",
      "Epoch 16\n"
     ]
    },
    {
     "data": {
      "application/vnd.jupyter.widget-view+json": {
       "model_id": "df3472db986d431a8614b5d5cc8d02a7",
       "version_major": 2,
       "version_minor": 0
      },
      "text/plain": [
       "  0%|          | 0/750 [00:00<?, ?it/s]"
      ]
     },
     "metadata": {},
     "output_type": "display_data"
    },
    {
     "name": "stdout",
     "output_type": "stream",
     "text": [
      "Epoch: 16, iteration: 0, loss: 0.0322122\n",
      "Epoch: 16, iteration: 50, loss: 0.0285403\n",
      "Epoch: 16, iteration: 100, loss: 0.0363478\n",
      "Epoch: 16, iteration: 150, loss: 0.0308521\n",
      "Epoch: 16, iteration: 200, loss: 0.0311667\n",
      "Epoch: 16, iteration: 250, loss: 0.0302164\n",
      "Epoch: 16, iteration: 300, loss: 0.0368348\n",
      "Epoch: 16, iteration: 350, loss: 0.0275674\n",
      "Epoch: 16, iteration: 400, loss: 0.0305332\n",
      "Epoch: 16, iteration: 450, loss: 0.0267203\n",
      "Epoch: 16, iteration: 500, loss: 0.0348337\n",
      "Epoch: 16, iteration: 550, loss: 0.029832\n",
      "Epoch: 16, iteration: 600, loss: 0.0332884\n",
      "Epoch: 16, iteration: 650, loss: 0.0304812\n",
      "Epoch: 16, iteration: 700, loss: 0.0355738\n",
      "Epoch 17\n"
     ]
    },
    {
     "data": {
      "application/vnd.jupyter.widget-view+json": {
       "model_id": "eee6116b8f8f4c3bbcccc64b2dbf17d7",
       "version_major": 2,
       "version_minor": 0
      },
      "text/plain": [
       "  0%|          | 0/750 [00:00<?, ?it/s]"
      ]
     },
     "metadata": {},
     "output_type": "display_data"
    },
    {
     "name": "stdout",
     "output_type": "stream",
     "text": [
      "Epoch: 17, iteration: 0, loss: 0.0288442\n",
      "Epoch: 17, iteration: 50, loss: 0.0292202\n",
      "Epoch: 17, iteration: 100, loss: 0.0308389\n",
      "Epoch: 17, iteration: 150, loss: 0.0337945\n",
      "Epoch: 17, iteration: 200, loss: 0.0282466\n",
      "Epoch: 17, iteration: 250, loss: 0.0326611\n",
      "Epoch: 17, iteration: 300, loss: 0.0317011\n",
      "Epoch: 17, iteration: 350, loss: 0.035941\n",
      "Epoch: 17, iteration: 400, loss: 0.0287658\n",
      "Epoch: 17, iteration: 450, loss: 0.0313302\n",
      "Epoch: 17, iteration: 500, loss: 0.0287938\n",
      "Epoch: 17, iteration: 550, loss: 0.033145\n",
      "Epoch: 17, iteration: 600, loss: 0.0288626\n",
      "Epoch: 17, iteration: 650, loss: 0.0328963\n",
      "Epoch: 17, iteration: 700, loss: 0.0309774\n",
      "Epoch 18\n"
     ]
    },
    {
     "data": {
      "application/vnd.jupyter.widget-view+json": {
       "model_id": "99f87045824c4c9893cdf6c57cdfb3d3",
       "version_major": 2,
       "version_minor": 0
      },
      "text/plain": [
       "  0%|          | 0/750 [00:00<?, ?it/s]"
      ]
     },
     "metadata": {},
     "output_type": "display_data"
    },
    {
     "name": "stdout",
     "output_type": "stream",
     "text": [
      "Epoch: 18, iteration: 0, loss: 0.0337909\n",
      "Epoch: 18, iteration: 50, loss: 0.0281485\n",
      "Epoch: 18, iteration: 100, loss: 0.0322935\n",
      "Epoch: 18, iteration: 150, loss: 0.0314046\n",
      "Epoch: 18, iteration: 200, loss: 0.0371558\n",
      "Epoch: 18, iteration: 250, loss: 0.0290166\n",
      "Epoch: 18, iteration: 300, loss: 0.033996\n",
      "Epoch: 18, iteration: 350, loss: 0.0305959\n",
      "Epoch: 18, iteration: 400, loss: 0.0361316\n",
      "Epoch: 18, iteration: 450, loss: 0.0263266\n",
      "Epoch: 18, iteration: 500, loss: 0.0345425\n",
      "Epoch: 18, iteration: 550, loss: 0.0305278\n",
      "Epoch: 18, iteration: 600, loss: 0.0368218\n",
      "Epoch: 18, iteration: 650, loss: 0.02824\n",
      "Epoch: 18, iteration: 700, loss: 0.0321425\n",
      "Epoch 19\n"
     ]
    },
    {
     "data": {
      "application/vnd.jupyter.widget-view+json": {
       "model_id": "a7729e76ecc84d67b9f444ae4fbfc63d",
       "version_major": 2,
       "version_minor": 0
      },
      "text/plain": [
       "  0%|          | 0/750 [00:00<?, ?it/s]"
      ]
     },
     "metadata": {},
     "output_type": "display_data"
    },
    {
     "name": "stdout",
     "output_type": "stream",
     "text": [
      "Epoch: 19, iteration: 0, loss: 0.0266977\n",
      "Epoch: 19, iteration: 50, loss: 0.036988\n",
      "Epoch: 19, iteration: 100, loss: 0.0277086\n",
      "Epoch: 19, iteration: 150, loss: 0.0329508\n",
      "Epoch: 19, iteration: 200, loss: 0.0294728\n",
      "Epoch: 19, iteration: 250, loss: 0.0340471\n",
      "Epoch: 19, iteration: 300, loss: 0.0261891\n",
      "Epoch: 19, iteration: 350, loss: 0.0331986\n",
      "Epoch: 19, iteration: 400, loss: 0.0286395\n",
      "Epoch: 19, iteration: 450, loss: 0.0351907\n",
      "Epoch: 19, iteration: 500, loss: 0.028106\n",
      "Epoch: 19, iteration: 550, loss: 0.0310226\n",
      "Epoch: 19, iteration: 600, loss: 0.0300367\n",
      "Epoch: 19, iteration: 650, loss: 0.0375667\n",
      "Epoch: 19, iteration: 700, loss: 0.0320338\n",
      "\n",
      "Validating...\n"
     ]
    },
    {
     "data": {
      "application/vnd.jupyter.widget-view+json": {
       "model_id": "15848203a8c4404cb176ae432e2dd610",
       "version_major": 2,
       "version_minor": 0
      },
      "text/plain": [
       "  0%|          | 0/188 [00:00<?, ?it/s]"
      ]
     },
     "metadata": {},
     "output_type": "display_data"
    },
    {
     "name": "stdout",
     "output_type": "stream",
     "text": [
      "Validation: Epoch: 20, loss: 0.0295324\n",
      "Epoch 20\n"
     ]
    },
    {
     "data": {
      "application/vnd.jupyter.widget-view+json": {
       "model_id": "6d95272eb49a483491070e3406cd8a9f",
       "version_major": 2,
       "version_minor": 0
      },
      "text/plain": [
       "  0%|          | 0/750 [00:00<?, ?it/s]"
      ]
     },
     "metadata": {},
     "output_type": "display_data"
    },
    {
     "name": "stdout",
     "output_type": "stream",
     "text": [
      "Epoch: 20, iteration: 0, loss: 0.0301637\n",
      "Epoch: 20, iteration: 50, loss: 0.0307371\n",
      "Epoch: 20, iteration: 100, loss: 0.0323436\n",
      "Epoch: 20, iteration: 150, loss: 0.0269157\n",
      "Epoch: 20, iteration: 200, loss: 0.0348316\n",
      "Epoch: 20, iteration: 250, loss: 0.028649\n",
      "Epoch: 20, iteration: 300, loss: 0.0380718\n",
      "Epoch: 20, iteration: 350, loss: 0.0280561\n",
      "Epoch: 20, iteration: 400, loss: 0.0318146\n",
      "Epoch: 20, iteration: 450, loss: 0.0297569\n",
      "Epoch: 20, iteration: 500, loss: 0.0322596\n",
      "Epoch: 20, iteration: 550, loss: 0.0293746\n",
      "Epoch: 20, iteration: 600, loss: 0.0337049\n",
      "Epoch: 20, iteration: 650, loss: 0.0290247\n",
      "Epoch: 20, iteration: 700, loss: 0.0365106\n",
      "Epoch 21\n"
     ]
    },
    {
     "data": {
      "application/vnd.jupyter.widget-view+json": {
       "model_id": "af287bb2601f42908c68f218067ffb1c",
       "version_major": 2,
       "version_minor": 0
      },
      "text/plain": [
       "  0%|          | 0/750 [00:00<?, ?it/s]"
      ]
     },
     "metadata": {},
     "output_type": "display_data"
    },
    {
     "name": "stdout",
     "output_type": "stream",
     "text": [
      "Epoch: 21, iteration: 0, loss: 0.029376\n",
      "Epoch: 21, iteration: 50, loss: 0.0322183\n",
      "Epoch: 21, iteration: 100, loss: 0.0293416\n",
      "Epoch: 21, iteration: 150, loss: 0.0329653\n",
      "Epoch: 21, iteration: 200, loss: 0.0256136\n",
      "Epoch: 21, iteration: 250, loss: 0.0322665\n",
      "Epoch: 21, iteration: 300, loss: 0.0291843\n",
      "Epoch: 21, iteration: 350, loss: 0.0343046\n",
      "Epoch: 21, iteration: 400, loss: 0.0277747\n",
      "Epoch: 21, iteration: 450, loss: 0.030602\n",
      "Epoch: 21, iteration: 500, loss: 0.0318424\n",
      "Epoch: 21, iteration: 550, loss: 0.0330269\n",
      "Epoch: 21, iteration: 600, loss: 0.0274748\n",
      "Epoch: 21, iteration: 650, loss: 0.0259948\n",
      "Epoch: 21, iteration: 700, loss: 0.0284126\n",
      "Epoch 22\n"
     ]
    },
    {
     "data": {
      "application/vnd.jupyter.widget-view+json": {
       "model_id": "bbb5e743686345bbb26cc96bdc50d170",
       "version_major": 2,
       "version_minor": 0
      },
      "text/plain": [
       "  0%|          | 0/750 [00:00<?, ?it/s]"
      ]
     },
     "metadata": {},
     "output_type": "display_data"
    },
    {
     "name": "stdout",
     "output_type": "stream",
     "text": [
      "Epoch: 22, iteration: 0, loss: 0.0346497\n",
      "Epoch: 22, iteration: 50, loss: 0.0257946\n",
      "Epoch: 22, iteration: 100, loss: 0.0326509\n",
      "Epoch: 22, iteration: 150, loss: 0.0305347\n",
      "Epoch: 22, iteration: 200, loss: 0.0324242\n",
      "Epoch: 22, iteration: 250, loss: 0.0294926\n",
      "Epoch: 22, iteration: 300, loss: 0.0331967\n",
      "Epoch: 22, iteration: 350, loss: 0.0286564\n",
      "Epoch: 22, iteration: 400, loss: 0.0336452\n",
      "Epoch: 22, iteration: 450, loss: 0.0268031\n",
      "Epoch: 22, iteration: 500, loss: 0.0328875\n",
      "Epoch: 22, iteration: 550, loss: 0.029739\n",
      "Epoch: 22, iteration: 600, loss: 0.0341401\n",
      "Epoch: 22, iteration: 650, loss: 0.0280498\n",
      "Epoch: 22, iteration: 700, loss: 0.0312669\n",
      "Epoch 23\n"
     ]
    },
    {
     "data": {
      "application/vnd.jupyter.widget-view+json": {
       "model_id": "3699bf72018948698e120bd383c2a567",
       "version_major": 2,
       "version_minor": 0
      },
      "text/plain": [
       "  0%|          | 0/750 [00:00<?, ?it/s]"
      ]
     },
     "metadata": {},
     "output_type": "display_data"
    },
    {
     "name": "stdout",
     "output_type": "stream",
     "text": [
      "Epoch: 23, iteration: 0, loss: 0.0323444\n",
      "Epoch: 23, iteration: 50, loss: 0.0342559\n",
      "Epoch: 23, iteration: 100, loss: 0.0272333\n",
      "Epoch: 23, iteration: 150, loss: 0.031083\n",
      "Epoch: 23, iteration: 200, loss: 0.031679\n",
      "Epoch: 23, iteration: 250, loss: 0.0348021\n",
      "Epoch: 23, iteration: 300, loss: 0.0270627\n",
      "Epoch: 23, iteration: 350, loss: 0.0319475\n",
      "Epoch: 23, iteration: 400, loss: 0.0293816\n",
      "Epoch: 23, iteration: 450, loss: 0.0360378\n",
      "Epoch: 23, iteration: 500, loss: 0.0259984\n",
      "Epoch: 23, iteration: 550, loss: 0.0321861\n",
      "Epoch: 23, iteration: 600, loss: 0.0287086\n",
      "Epoch: 23, iteration: 650, loss: 0.0331864\n",
      "Epoch: 23, iteration: 700, loss: 0.0272159\n",
      "Epoch 24\n"
     ]
    },
    {
     "data": {
      "application/vnd.jupyter.widget-view+json": {
       "model_id": "ab1e53c5d98749ed8d8fced4554fa083",
       "version_major": 2,
       "version_minor": 0
      },
      "text/plain": [
       "  0%|          | 0/750 [00:00<?, ?it/s]"
      ]
     },
     "metadata": {},
     "output_type": "display_data"
    },
    {
     "name": "stdout",
     "output_type": "stream",
     "text": [
      "Epoch: 24, iteration: 0, loss: 0.0324375\n",
      "Epoch: 24, iteration: 50, loss: 0.0271633\n",
      "Epoch: 24, iteration: 100, loss: 0.0363597\n",
      "Epoch: 24, iteration: 150, loss: 0.0305876\n",
      "Epoch: 24, iteration: 200, loss: 0.0309939\n",
      "Epoch: 24, iteration: 250, loss: 0.0275769\n",
      "Epoch: 24, iteration: 300, loss: 0.0326213\n",
      "Epoch: 24, iteration: 350, loss: 0.0296942\n",
      "Epoch: 24, iteration: 400, loss: 0.0342917\n",
      "Epoch: 24, iteration: 450, loss: 0.0283971\n",
      "Epoch: 24, iteration: 500, loss: 0.0363196\n",
      "Epoch: 24, iteration: 550, loss: 0.0282559\n",
      "Epoch: 24, iteration: 600, loss: 0.030837\n",
      "Epoch: 24, iteration: 650, loss: 0.0325812\n",
      "Epoch: 24, iteration: 700, loss: 0.0350963\n",
      "\n",
      "Validating...\n"
     ]
    },
    {
     "data": {
      "application/vnd.jupyter.widget-view+json": {
       "model_id": "0078bdef76244e25bc29cb1f05fcf8f6",
       "version_major": 2,
       "version_minor": 0
      },
      "text/plain": [
       "  0%|          | 0/188 [00:00<?, ?it/s]"
      ]
     },
     "metadata": {},
     "output_type": "display_data"
    },
    {
     "name": "stdout",
     "output_type": "stream",
     "text": [
      "Validation: Epoch: 25, loss: 0.0289391\n",
      "Epoch 25\n"
     ]
    },
    {
     "data": {
      "application/vnd.jupyter.widget-view+json": {
       "model_id": "7ea20727d53448428298586d8ac8f38b",
       "version_major": 2,
       "version_minor": 0
      },
      "text/plain": [
       "  0%|          | 0/750 [00:00<?, ?it/s]"
      ]
     },
     "metadata": {},
     "output_type": "display_data"
    },
    {
     "name": "stdout",
     "output_type": "stream",
     "text": [
      "Epoch: 25, iteration: 0, loss: 0.0259711\n",
      "Epoch: 25, iteration: 50, loss: 0.0344362\n",
      "Epoch: 25, iteration: 100, loss: 0.0286656\n",
      "Epoch: 25, iteration: 150, loss: 0.0357732\n",
      "Epoch: 25, iteration: 200, loss: 0.025217\n",
      "Epoch: 25, iteration: 250, loss: 0.0322904\n",
      "Epoch: 25, iteration: 300, loss: 0.028917\n",
      "Epoch: 25, iteration: 350, loss: 0.0330605\n",
      "Epoch: 25, iteration: 400, loss: 0.0294433\n",
      "Epoch: 25, iteration: 450, loss: 0.0329953\n",
      "Epoch: 25, iteration: 500, loss: 0.0281378\n",
      "Epoch: 25, iteration: 550, loss: 0.0311751\n",
      "Epoch: 25, iteration: 600, loss: 0.0254594\n",
      "Epoch: 25, iteration: 650, loss: 0.0295443\n",
      "Epoch: 25, iteration: 700, loss: 0.0272285\n",
      "Epoch 26\n"
     ]
    },
    {
     "data": {
      "application/vnd.jupyter.widget-view+json": {
       "model_id": "fd2db0da2d52474abcc9e187f1ceb45a",
       "version_major": 2,
       "version_minor": 0
      },
      "text/plain": [
       "  0%|          | 0/750 [00:00<?, ?it/s]"
      ]
     },
     "metadata": {},
     "output_type": "display_data"
    },
    {
     "name": "stdout",
     "output_type": "stream",
     "text": [
      "Epoch: 26, iteration: 0, loss: 0.0327511\n",
      "Epoch: 26, iteration: 50, loss: 0.0286392\n",
      "Epoch: 26, iteration: 100, loss: 0.0280009\n",
      "Epoch: 26, iteration: 150, loss: 0.028748\n",
      "Epoch: 26, iteration: 200, loss: 0.0363565\n",
      "Epoch: 26, iteration: 250, loss: 0.0265436\n",
      "Epoch: 26, iteration: 300, loss: 0.0308799\n",
      "Epoch: 26, iteration: 350, loss: 0.0271513\n",
      "Epoch: 26, iteration: 400, loss: 0.0341268\n",
      "Epoch: 26, iteration: 450, loss: 0.0296907\n",
      "Epoch: 26, iteration: 500, loss: 0.0330102\n",
      "Epoch: 26, iteration: 550, loss: 0.0257362\n",
      "Epoch: 26, iteration: 600, loss: 0.0357925\n",
      "Epoch: 26, iteration: 650, loss: 0.0275705\n",
      "Epoch: 26, iteration: 700, loss: 0.0345431\n",
      "Epoch 27\n"
     ]
    },
    {
     "data": {
      "application/vnd.jupyter.widget-view+json": {
       "model_id": "96170eed4f4f40f8881adecbc0182d9b",
       "version_major": 2,
       "version_minor": 0
      },
      "text/plain": [
       "  0%|          | 0/750 [00:00<?, ?it/s]"
      ]
     },
     "metadata": {},
     "output_type": "display_data"
    },
    {
     "name": "stdout",
     "output_type": "stream",
     "text": [
      "Epoch: 27, iteration: 0, loss: 0.0287019\n",
      "Epoch: 27, iteration: 50, loss: 0.0374061\n",
      "Epoch: 27, iteration: 100, loss: 0.028205\n",
      "Epoch: 27, iteration: 150, loss: 0.0314855\n",
      "Epoch: 27, iteration: 200, loss: 0.0294783\n",
      "Epoch: 27, iteration: 250, loss: 0.0366804\n",
      "Epoch: 27, iteration: 300, loss: 0.0275726\n",
      "Epoch: 27, iteration: 350, loss: 0.0317115\n",
      "Epoch: 27, iteration: 400, loss: 0.0291647\n",
      "Epoch: 27, iteration: 450, loss: 0.0319128\n",
      "Epoch: 27, iteration: 500, loss: 0.0270635\n",
      "Epoch: 27, iteration: 550, loss: 0.0319754\n",
      "Epoch: 27, iteration: 600, loss: 0.0276559\n",
      "Epoch: 27, iteration: 650, loss: 0.0351705\n",
      "Epoch: 27, iteration: 700, loss: 0.0283789\n",
      "Epoch 28\n"
     ]
    },
    {
     "data": {
      "application/vnd.jupyter.widget-view+json": {
       "model_id": "c2972187955140acabb7ed271c766085",
       "version_major": 2,
       "version_minor": 0
      },
      "text/plain": [
       "  0%|          | 0/750 [00:00<?, ?it/s]"
      ]
     },
     "metadata": {},
     "output_type": "display_data"
    },
    {
     "name": "stdout",
     "output_type": "stream",
     "text": [
      "Epoch: 28, iteration: 0, loss: 0.0272544\n",
      "Epoch: 28, iteration: 50, loss: 0.0280162\n",
      "Epoch: 28, iteration: 100, loss: 0.035062\n",
      "Epoch: 28, iteration: 150, loss: 0.0283405\n",
      "Epoch: 28, iteration: 200, loss: 0.0316178\n",
      "Epoch: 28, iteration: 250, loss: 0.0293947\n",
      "Epoch: 28, iteration: 300, loss: 0.0359908\n",
      "Epoch: 28, iteration: 350, loss: 0.0243208\n",
      "Epoch: 28, iteration: 400, loss: 0.0318046\n",
      "Epoch: 28, iteration: 450, loss: 0.0315448\n",
      "Epoch: 28, iteration: 500, loss: 0.0350968\n",
      "Epoch: 28, iteration: 550, loss: 0.0262145\n",
      "Epoch: 28, iteration: 600, loss: 0.0322674\n",
      "Epoch: 28, iteration: 650, loss: 0.0293547\n",
      "Epoch: 28, iteration: 700, loss: 0.0359751\n",
      "Epoch 29\n"
     ]
    },
    {
     "data": {
      "application/vnd.jupyter.widget-view+json": {
       "model_id": "4729d0c5febd4e0389f66a9943637aa4",
       "version_major": 2,
       "version_minor": 0
      },
      "text/plain": [
       "  0%|          | 0/750 [00:00<?, ?it/s]"
      ]
     },
     "metadata": {},
     "output_type": "display_data"
    },
    {
     "name": "stdout",
     "output_type": "stream",
     "text": [
      "Epoch: 29, iteration: 0, loss: 0.028165\n",
      "Epoch: 29, iteration: 50, loss: 0.0310588\n",
      "Epoch: 29, iteration: 100, loss: 0.0310492\n",
      "Epoch: 29, iteration: 150, loss: 0.0344681\n",
      "Epoch: 29, iteration: 200, loss: 0.0260929\n",
      "Epoch: 29, iteration: 250, loss: 0.0322191\n",
      "Epoch: 29, iteration: 300, loss: 0.0275003\n",
      "Epoch: 29, iteration: 350, loss: 0.0322472\n",
      "Epoch: 29, iteration: 400, loss: 0.027343\n",
      "Epoch: 29, iteration: 450, loss: 0.0350284\n",
      "Epoch: 29, iteration: 500, loss: 0.031927\n",
      "Epoch: 29, iteration: 550, loss: 0.0354833\n",
      "Epoch: 29, iteration: 600, loss: 0.0269512\n",
      "Epoch: 29, iteration: 650, loss: 0.0287077\n",
      "Epoch: 29, iteration: 700, loss: 0.0273582\n",
      "\n",
      "Validating...\n"
     ]
    },
    {
     "data": {
      "application/vnd.jupyter.widget-view+json": {
       "model_id": "ca4b21088ff547beadf5368e1ebdb4c2",
       "version_major": 2,
       "version_minor": 0
      },
      "text/plain": [
       "  0%|          | 0/188 [00:00<?, ?it/s]"
      ]
     },
     "metadata": {},
     "output_type": "display_data"
    },
    {
     "name": "stdout",
     "output_type": "stream",
     "text": [
      "Validation: Epoch: 30, loss: 0.0286809\n",
      "Epoch 30\n"
     ]
    },
    {
     "data": {
      "application/vnd.jupyter.widget-view+json": {
       "model_id": "08525751c3814a8fb45d9f650462a4fe",
       "version_major": 2,
       "version_minor": 0
      },
      "text/plain": [
       "  0%|          | 0/750 [00:00<?, ?it/s]"
      ]
     },
     "metadata": {},
     "output_type": "display_data"
    },
    {
     "name": "stdout",
     "output_type": "stream",
     "text": [
      "Epoch: 30, iteration: 0, loss: 0.0372682\n",
      "Epoch: 30, iteration: 50, loss: 0.0316919\n",
      "Epoch: 30, iteration: 100, loss: 0.0298178\n",
      "Epoch: 30, iteration: 150, loss: 0.0297049\n",
      "Epoch: 30, iteration: 200, loss: 0.032977\n",
      "Epoch: 30, iteration: 250, loss: 0.0270539\n",
      "Epoch: 30, iteration: 300, loss: 0.0289614\n",
      "Epoch: 30, iteration: 350, loss: 0.027539\n",
      "Epoch: 30, iteration: 400, loss: 0.0357029\n",
      "Epoch: 30, iteration: 450, loss: 0.029717\n",
      "Epoch: 30, iteration: 500, loss: 0.0296791\n",
      "Epoch: 30, iteration: 550, loss: 0.0285424\n",
      "Epoch: 30, iteration: 600, loss: 0.0340366\n",
      "Epoch: 30, iteration: 650, loss: 0.0269234\n",
      "Epoch: 30, iteration: 700, loss: 0.0319231\n",
      "Epoch 31\n"
     ]
    },
    {
     "data": {
      "application/vnd.jupyter.widget-view+json": {
       "model_id": "7742472c3a8c49ed835506031376d6fe",
       "version_major": 2,
       "version_minor": 0
      },
      "text/plain": [
       "  0%|          | 0/750 [00:00<?, ?it/s]"
      ]
     },
     "metadata": {},
     "output_type": "display_data"
    },
    {
     "name": "stdout",
     "output_type": "stream",
     "text": [
      "Epoch: 31, iteration: 0, loss: 0.0306694\n",
      "Epoch: 31, iteration: 50, loss: 0.0347182\n",
      "Epoch: 31, iteration: 100, loss: 0.0275108\n",
      "Epoch: 31, iteration: 150, loss: 0.0293148\n",
      "Epoch: 31, iteration: 200, loss: 0.0296857\n",
      "Epoch: 31, iteration: 250, loss: 0.0330417\n",
      "Epoch: 31, iteration: 300, loss: 0.0280864\n",
      "Epoch: 31, iteration: 350, loss: 0.0285384\n",
      "Epoch: 31, iteration: 400, loss: 0.0290164\n",
      "Epoch: 31, iteration: 450, loss: 0.0364314\n",
      "Epoch: 31, iteration: 500, loss: 0.0274363\n",
      "Epoch: 31, iteration: 550, loss: 0.032607\n",
      "Epoch: 31, iteration: 600, loss: 0.0307834\n",
      "Epoch: 31, iteration: 650, loss: 0.0351115\n",
      "Epoch: 31, iteration: 700, loss: 0.0263929\n",
      "Epoch 32\n"
     ]
    },
    {
     "data": {
      "application/vnd.jupyter.widget-view+json": {
       "model_id": "b53f30490d3141e2a0d02bc013b8093d",
       "version_major": 2,
       "version_minor": 0
      },
      "text/plain": [
       "  0%|          | 0/750 [00:00<?, ?it/s]"
      ]
     },
     "metadata": {},
     "output_type": "display_data"
    },
    {
     "name": "stdout",
     "output_type": "stream",
     "text": [
      "Epoch: 32, iteration: 0, loss: 0.0318605\n",
      "Epoch: 32, iteration: 50, loss: 0.0286376\n",
      "Epoch: 32, iteration: 100, loss: 0.0327096\n",
      "Epoch: 32, iteration: 150, loss: 0.0268081\n",
      "Epoch: 32, iteration: 200, loss: 0.0281706\n",
      "Epoch: 32, iteration: 250, loss: 0.029664\n",
      "Epoch: 32, iteration: 300, loss: 0.034614\n",
      "Epoch: 32, iteration: 350, loss: 0.0272653\n",
      "Epoch: 32, iteration: 400, loss: 0.0310548\n",
      "Epoch: 32, iteration: 450, loss: 0.0318313\n",
      "Epoch: 32, iteration: 500, loss: 0.0347584\n",
      "Epoch: 32, iteration: 550, loss: 0.0257049\n",
      "Epoch: 32, iteration: 600, loss: 0.0314887\n",
      "Epoch: 32, iteration: 650, loss: 0.0288726\n",
      "Epoch: 32, iteration: 700, loss: 0.0348222\n",
      "Epoch 33\n"
     ]
    },
    {
     "data": {
      "application/vnd.jupyter.widget-view+json": {
       "model_id": "c129178569be43cf8dbf349edf39503b",
       "version_major": 2,
       "version_minor": 0
      },
      "text/plain": [
       "  0%|          | 0/750 [00:00<?, ?it/s]"
      ]
     },
     "metadata": {},
     "output_type": "display_data"
    },
    {
     "name": "stdout",
     "output_type": "stream",
     "text": [
      "Epoch: 33, iteration: 0, loss: 0.0285127\n",
      "Epoch: 33, iteration: 50, loss: 0.0307458\n",
      "Epoch: 33, iteration: 100, loss: 0.0313329\n",
      "Epoch: 33, iteration: 150, loss: 0.0350067\n",
      "Epoch: 33, iteration: 200, loss: 0.0269649\n",
      "Epoch: 33, iteration: 250, loss: 0.0292541\n",
      "Epoch: 33, iteration: 300, loss: 0.0296619\n",
      "Epoch: 33, iteration: 350, loss: 0.0362435\n",
      "Epoch: 33, iteration: 400, loss: 0.0298489\n",
      "Epoch: 33, iteration: 450, loss: 0.0296656\n",
      "Epoch: 33, iteration: 500, loss: 0.0311597\n",
      "Epoch: 33, iteration: 550, loss: 0.0360242\n",
      "Epoch: 33, iteration: 600, loss: 0.0302384\n",
      "Epoch: 33, iteration: 650, loss: 0.0303495\n",
      "Epoch: 33, iteration: 700, loss: 0.0305064\n",
      "Epoch 34\n"
     ]
    },
    {
     "data": {
      "application/vnd.jupyter.widget-view+json": {
       "model_id": "bdfcbb448ec7454488d519c5374be5c5",
       "version_major": 2,
       "version_minor": 0
      },
      "text/plain": [
       "  0%|          | 0/750 [00:00<?, ?it/s]"
      ]
     },
     "metadata": {},
     "output_type": "display_data"
    },
    {
     "name": "stdout",
     "output_type": "stream",
     "text": [
      "Epoch: 34, iteration: 0, loss: 0.0351351\n",
      "Epoch: 34, iteration: 50, loss: 0.0253114\n",
      "Epoch: 34, iteration: 100, loss: 0.0304162\n",
      "Epoch: 34, iteration: 150, loss: 0.0264889\n",
      "Epoch: 34, iteration: 200, loss: 0.0338362\n",
      "Epoch: 34, iteration: 250, loss: 0.0300016\n",
      "Epoch: 34, iteration: 300, loss: 0.0313748\n",
      "Epoch: 34, iteration: 350, loss: 0.0292281\n",
      "Epoch: 34, iteration: 400, loss: 0.0335605\n",
      "Epoch: 34, iteration: 450, loss: 0.0250393\n",
      "Epoch: 34, iteration: 500, loss: 0.0312765\n",
      "Epoch: 34, iteration: 550, loss: 0.0279126\n",
      "Epoch: 34, iteration: 600, loss: 0.0325527\n",
      "Epoch: 34, iteration: 650, loss: 0.0290036\n",
      "Epoch: 34, iteration: 700, loss: 0.029405\n",
      "\n",
      "Validating...\n"
     ]
    },
    {
     "data": {
      "application/vnd.jupyter.widget-view+json": {
       "model_id": "d78af08da420447680b196e8c8bf17c3",
       "version_major": 2,
       "version_minor": 0
      },
      "text/plain": [
       "  0%|          | 0/188 [00:00<?, ?it/s]"
      ]
     },
     "metadata": {},
     "output_type": "display_data"
    },
    {
     "name": "stdout",
     "output_type": "stream",
     "text": [
      "Validation: Epoch: 35, loss: 0.0284867\n",
      "Epoch 35\n"
     ]
    },
    {
     "data": {
      "application/vnd.jupyter.widget-view+json": {
       "model_id": "af43c37aeabf4edc862a6be612f841e9",
       "version_major": 2,
       "version_minor": 0
      },
      "text/plain": [
       "  0%|          | 0/750 [00:00<?, ?it/s]"
      ]
     },
     "metadata": {},
     "output_type": "display_data"
    },
    {
     "name": "stdout",
     "output_type": "stream",
     "text": [
      "Epoch: 35, iteration: 0, loss: 0.0298972\n",
      "Epoch: 35, iteration: 50, loss: 0.0367694\n",
      "Epoch: 35, iteration: 100, loss: 0.0291383\n",
      "Epoch: 35, iteration: 150, loss: 0.0335178\n",
      "Epoch: 35, iteration: 200, loss: 0.0265724\n",
      "Epoch: 35, iteration: 250, loss: 0.0344622\n",
      "Epoch: 35, iteration: 300, loss: 0.0262659\n",
      "Epoch: 35, iteration: 350, loss: 0.0301641\n",
      "Epoch: 35, iteration: 400, loss: 0.0290693\n",
      "Epoch: 35, iteration: 450, loss: 0.0329077\n",
      "Epoch: 35, iteration: 500, loss: 0.0274666\n",
      "Epoch: 35, iteration: 550, loss: 0.0315005\n",
      "Epoch: 35, iteration: 600, loss: 0.0276431\n",
      "Epoch: 35, iteration: 650, loss: 0.0321811\n",
      "Epoch: 35, iteration: 700, loss: 0.0275674\n",
      "Epoch 36\n"
     ]
    },
    {
     "data": {
      "application/vnd.jupyter.widget-view+json": {
       "model_id": "bececd9213f247099e6ac5810c7c44c8",
       "version_major": 2,
       "version_minor": 0
      },
      "text/plain": [
       "  0%|          | 0/750 [00:00<?, ?it/s]"
      ]
     },
     "metadata": {},
     "output_type": "display_data"
    },
    {
     "name": "stdout",
     "output_type": "stream",
     "text": [
      "Epoch: 36, iteration: 0, loss: 0.0323045\n",
      "Epoch: 36, iteration: 50, loss: 0.0273916\n",
      "Epoch: 36, iteration: 100, loss: 0.0358005\n",
      "Epoch: 36, iteration: 150, loss: 0.0274211\n",
      "Epoch: 36, iteration: 200, loss: 0.0281658\n",
      "Epoch: 36, iteration: 250, loss: 0.031323\n",
      "Epoch: 36, iteration: 300, loss: 0.0350408\n",
      "Epoch: 36, iteration: 350, loss: 0.0314826\n",
      "Epoch: 36, iteration: 400, loss: 0.0311093\n",
      "Epoch: 36, iteration: 450, loss: 0.0301408\n",
      "Epoch: 36, iteration: 500, loss: 0.0311917\n",
      "Epoch: 36, iteration: 550, loss: 0.0275105\n",
      "Epoch: 36, iteration: 600, loss: 0.0339776\n",
      "Epoch: 36, iteration: 650, loss: 0.0283134\n",
      "Epoch: 36, iteration: 700, loss: 0.0344445\n",
      "Epoch 37\n"
     ]
    },
    {
     "data": {
      "application/vnd.jupyter.widget-view+json": {
       "model_id": "b23143dc881948fcb18327028f29a5f0",
       "version_major": 2,
       "version_minor": 0
      },
      "text/plain": [
       "  0%|          | 0/750 [00:00<?, ?it/s]"
      ]
     },
     "metadata": {},
     "output_type": "display_data"
    },
    {
     "name": "stdout",
     "output_type": "stream",
     "text": [
      "Epoch: 37, iteration: 0, loss: 0.028354\n",
      "Epoch: 37, iteration: 50, loss: 0.0322477\n",
      "Epoch: 37, iteration: 100, loss: 0.028772\n",
      "Epoch: 37, iteration: 150, loss: 0.0331211\n",
      "Epoch: 37, iteration: 200, loss: 0.0261088\n",
      "Epoch: 37, iteration: 250, loss: 0.0284742\n",
      "Epoch: 37, iteration: 300, loss: 0.0272506\n",
      "Epoch: 37, iteration: 350, loss: 0.0324163\n",
      "Epoch: 37, iteration: 400, loss: 0.0260934\n",
      "Epoch: 37, iteration: 450, loss: 0.0284112\n",
      "Epoch: 37, iteration: 500, loss: 0.0299981\n",
      "Epoch: 37, iteration: 550, loss: 0.0306208\n",
      "Epoch: 37, iteration: 600, loss: 0.0260502\n",
      "Epoch: 37, iteration: 650, loss: 0.0304891\n",
      "Epoch: 37, iteration: 700, loss: 0.027229\n",
      "Epoch 38\n"
     ]
    },
    {
     "data": {
      "application/vnd.jupyter.widget-view+json": {
       "model_id": "485ed3d963254af785019ff5050210ea",
       "version_major": 2,
       "version_minor": 0
      },
      "text/plain": [
       "  0%|          | 0/750 [00:00<?, ?it/s]"
      ]
     },
     "metadata": {},
     "output_type": "display_data"
    },
    {
     "name": "stdout",
     "output_type": "stream",
     "text": [
      "Epoch: 38, iteration: 0, loss: 0.0341168\n",
      "Epoch: 38, iteration: 50, loss: 0.0255423\n",
      "Epoch: 38, iteration: 100, loss: 0.0316172\n",
      "Epoch: 38, iteration: 150, loss: 0.0273045\n",
      "Epoch: 38, iteration: 200, loss: 0.0315915\n",
      "Epoch: 38, iteration: 250, loss: 0.0236855\n",
      "Epoch: 38, iteration: 300, loss: 0.0290166\n",
      "Epoch: 38, iteration: 350, loss: 0.0317299\n",
      "Epoch: 38, iteration: 400, loss: 0.0351772\n",
      "Epoch: 38, iteration: 450, loss: 0.0262811\n",
      "Epoch: 38, iteration: 500, loss: 0.0314948\n",
      "Epoch: 38, iteration: 550, loss: 0.0299585\n",
      "Epoch: 38, iteration: 600, loss: 0.0322845\n",
      "Epoch: 38, iteration: 650, loss: 0.0263048\n",
      "Epoch: 38, iteration: 700, loss: 0.0300262\n",
      "Epoch 39\n"
     ]
    },
    {
     "data": {
      "application/vnd.jupyter.widget-view+json": {
       "model_id": "6af9d9066bd7458ab3f1086cfd38eb3d",
       "version_major": 2,
       "version_minor": 0
      },
      "text/plain": [
       "  0%|          | 0/750 [00:00<?, ?it/s]"
      ]
     },
     "metadata": {},
     "output_type": "display_data"
    },
    {
     "name": "stdout",
     "output_type": "stream",
     "text": [
      "Epoch: 39, iteration: 0, loss: 0.0263876\n",
      "Epoch: 39, iteration: 50, loss: 0.0342485\n",
      "Epoch: 39, iteration: 100, loss: 0.0267474\n",
      "Epoch: 39, iteration: 150, loss: 0.0309336\n",
      "Epoch: 39, iteration: 200, loss: 0.029329\n",
      "Epoch: 39, iteration: 250, loss: 0.034351\n",
      "Epoch: 39, iteration: 300, loss: 0.0293301\n",
      "Epoch: 39, iteration: 350, loss: 0.0281625\n",
      "Epoch: 39, iteration: 400, loss: 0.0270664\n",
      "Epoch: 39, iteration: 450, loss: 0.0353596\n",
      "Epoch: 39, iteration: 500, loss: 0.0253132\n",
      "Epoch: 39, iteration: 550, loss: 0.0342782\n",
      "Epoch: 39, iteration: 600, loss: 0.0295155\n",
      "Epoch: 39, iteration: 650, loss: 0.0319748\n",
      "Epoch: 39, iteration: 700, loss: 0.026333\n",
      "\n",
      "Validating...\n"
     ]
    },
    {
     "data": {
      "application/vnd.jupyter.widget-view+json": {
       "model_id": "6a2a3a31c21b4bc68607b621b8f1f259",
       "version_major": 2,
       "version_minor": 0
      },
      "text/plain": [
       "  0%|          | 0/188 [00:00<?, ?it/s]"
      ]
     },
     "metadata": {},
     "output_type": "display_data"
    },
    {
     "name": "stdout",
     "output_type": "stream",
     "text": [
      "Validation: Epoch: 40, loss: 0.0283421\n",
      "Epoch 40\n"
     ]
    },
    {
     "data": {
      "application/vnd.jupyter.widget-view+json": {
       "model_id": "e2f3a7027b7948b7b94c73e23132b9e0",
       "version_major": 2,
       "version_minor": 0
      },
      "text/plain": [
       "  0%|          | 0/750 [00:00<?, ?it/s]"
      ]
     },
     "metadata": {},
     "output_type": "display_data"
    },
    {
     "name": "stdout",
     "output_type": "stream",
     "text": [
      "Epoch: 40, iteration: 0, loss: 0.0291788\n",
      "Epoch: 40, iteration: 50, loss: 0.0252253\n",
      "Epoch: 40, iteration: 100, loss: 0.034297\n",
      "Epoch: 40, iteration: 150, loss: 0.0275727\n",
      "Epoch: 40, iteration: 200, loss: 0.028037\n",
      "Epoch: 40, iteration: 250, loss: 0.0299972\n",
      "Epoch: 40, iteration: 300, loss: 0.0362466\n",
      "Epoch: 40, iteration: 350, loss: 0.0273557\n",
      "Epoch: 40, iteration: 400, loss: 0.029021\n",
      "Epoch: 40, iteration: 450, loss: 0.0286276\n",
      "Epoch: 40, iteration: 500, loss: 0.0335089\n",
      "Epoch: 40, iteration: 550, loss: 0.0262611\n",
      "Epoch: 40, iteration: 600, loss: 0.0324189\n",
      "Epoch: 40, iteration: 650, loss: 0.0313857\n",
      "Epoch: 40, iteration: 700, loss: 0.0309045\n",
      "Epoch 41\n"
     ]
    },
    {
     "data": {
      "application/vnd.jupyter.widget-view+json": {
       "model_id": "ce89b651f10e4d148eb622c0b4a2585f",
       "version_major": 2,
       "version_minor": 0
      },
      "text/plain": [
       "  0%|          | 0/750 [00:00<?, ?it/s]"
      ]
     },
     "metadata": {},
     "output_type": "display_data"
    },
    {
     "name": "stdout",
     "output_type": "stream",
     "text": [
      "Epoch: 41, iteration: 0, loss: 0.027398\n",
      "Epoch: 41, iteration: 50, loss: 0.030048\n",
      "Epoch: 41, iteration: 100, loss: 0.0270429\n",
      "Epoch: 41, iteration: 150, loss: 0.0341151\n",
      "Epoch: 41, iteration: 200, loss: 0.0279401\n",
      "Epoch: 41, iteration: 250, loss: 0.0311018\n",
      "Epoch: 41, iteration: 300, loss: 0.0282014\n",
      "Epoch: 41, iteration: 350, loss: 0.0375071\n",
      "Epoch: 41, iteration: 400, loss: 0.0256154\n",
      "Epoch: 41, iteration: 450, loss: 0.0301561\n",
      "Epoch: 41, iteration: 500, loss: 0.0270083\n",
      "Epoch: 41, iteration: 550, loss: 0.0337478\n",
      "Epoch: 41, iteration: 600, loss: 0.0278738\n",
      "Epoch: 41, iteration: 650, loss: 0.0308378\n",
      "Epoch: 41, iteration: 700, loss: 0.0258964\n",
      "Epoch 42\n"
     ]
    },
    {
     "data": {
      "application/vnd.jupyter.widget-view+json": {
       "model_id": "e5e54f0a79b24a5dac02b63a4bbc84f9",
       "version_major": 2,
       "version_minor": 0
      },
      "text/plain": [
       "  0%|          | 0/750 [00:00<?, ?it/s]"
      ]
     },
     "metadata": {},
     "output_type": "display_data"
    },
    {
     "name": "stdout",
     "output_type": "stream",
     "text": [
      "Epoch: 42, iteration: 0, loss: 0.0315553\n",
      "Epoch: 42, iteration: 50, loss: 0.0270132\n",
      "Epoch: 42, iteration: 100, loss: 0.0295429\n",
      "Epoch: 42, iteration: 150, loss: 0.0284944\n",
      "Epoch: 42, iteration: 200, loss: 0.0329963\n",
      "Epoch: 42, iteration: 250, loss: 0.0254046\n",
      "Epoch: 42, iteration: 300, loss: 0.0337718\n",
      "Epoch: 42, iteration: 350, loss: 0.0277093\n",
      "Epoch: 42, iteration: 400, loss: 0.0350956\n",
      "Epoch: 42, iteration: 450, loss: 0.0271485\n",
      "Epoch: 42, iteration: 500, loss: 0.0314009\n",
      "Epoch: 42, iteration: 550, loss: 0.0281497\n",
      "Epoch: 42, iteration: 600, loss: 0.0319553\n",
      "Epoch: 42, iteration: 650, loss: 0.0268955\n",
      "Epoch: 42, iteration: 700, loss: 0.0298973\n",
      "Epoch 43\n"
     ]
    },
    {
     "data": {
      "application/vnd.jupyter.widget-view+json": {
       "model_id": "a687788b4cc24825a22ba6ac8ace1336",
       "version_major": 2,
       "version_minor": 0
      },
      "text/plain": [
       "  0%|          | 0/750 [00:00<?, ?it/s]"
      ]
     },
     "metadata": {},
     "output_type": "display_data"
    },
    {
     "name": "stdout",
     "output_type": "stream",
     "text": [
      "Epoch: 43, iteration: 0, loss: 0.0285332\n",
      "Epoch: 43, iteration: 50, loss: 0.0312347\n",
      "Epoch: 43, iteration: 100, loss: 0.0279196\n",
      "Epoch: 43, iteration: 150, loss: 0.0279338\n",
      "Epoch: 43, iteration: 200, loss: 0.0278003\n",
      "Epoch: 43, iteration: 250, loss: 0.0331479\n",
      "Epoch: 43, iteration: 300, loss: 0.0241221\n",
      "Epoch: 43, iteration: 350, loss: 0.0333266\n",
      "Epoch: 43, iteration: 400, loss: 0.0295017\n",
      "Epoch: 43, iteration: 450, loss: 0.0336948\n",
      "Epoch: 43, iteration: 500, loss: 0.0242198\n",
      "Epoch: 43, iteration: 550, loss: 0.0291748\n",
      "Epoch: 43, iteration: 600, loss: 0.0274003\n",
      "Epoch: 43, iteration: 650, loss: 0.0303993\n",
      "Epoch: 43, iteration: 700, loss: 0.0300193\n",
      "Epoch 44\n"
     ]
    },
    {
     "data": {
      "application/vnd.jupyter.widget-view+json": {
       "model_id": "d36dd432f2bb4bf5a1e95f556c7cb555",
       "version_major": 2,
       "version_minor": 0
      },
      "text/plain": [
       "  0%|          | 0/750 [00:00<?, ?it/s]"
      ]
     },
     "metadata": {},
     "output_type": "display_data"
    },
    {
     "name": "stdout",
     "output_type": "stream",
     "text": [
      "Epoch: 44, iteration: 0, loss: 0.0292304\n",
      "Epoch: 44, iteration: 50, loss: 0.0294052\n",
      "Epoch: 44, iteration: 100, loss: 0.0331797\n",
      "Epoch: 44, iteration: 150, loss: 0.0242699\n",
      "Epoch: 44, iteration: 200, loss: 0.0332559\n",
      "Epoch: 44, iteration: 250, loss: 0.0299607\n",
      "Epoch: 44, iteration: 300, loss: 0.0364804\n",
      "Epoch: 44, iteration: 350, loss: 0.0284261\n",
      "Epoch: 44, iteration: 400, loss: 0.0286987\n",
      "Epoch: 44, iteration: 450, loss: 0.0288331\n",
      "Epoch: 44, iteration: 500, loss: 0.0370401\n",
      "Epoch: 44, iteration: 550, loss: 0.0265454\n",
      "Epoch: 44, iteration: 600, loss: 0.0315109\n",
      "Epoch: 44, iteration: 650, loss: 0.0266299\n",
      "Epoch: 44, iteration: 700, loss: 0.0333742\n",
      "\n",
      "Validating...\n"
     ]
    },
    {
     "data": {
      "application/vnd.jupyter.widget-view+json": {
       "model_id": "026be94e92b645e8bd595cbb710fdc7f",
       "version_major": 2,
       "version_minor": 0
      },
      "text/plain": [
       "  0%|          | 0/188 [00:00<?, ?it/s]"
      ]
     },
     "metadata": {},
     "output_type": "display_data"
    },
    {
     "name": "stdout",
     "output_type": "stream",
     "text": [
      "Validation: Epoch: 45, loss: 0.0282324\n",
      "Epoch 45\n"
     ]
    },
    {
     "data": {
      "application/vnd.jupyter.widget-view+json": {
       "model_id": "2548e3ceeac74e6b81b929b65e60b33f",
       "version_major": 2,
       "version_minor": 0
      },
      "text/plain": [
       "  0%|          | 0/750 [00:00<?, ?it/s]"
      ]
     },
     "metadata": {},
     "output_type": "display_data"
    },
    {
     "name": "stdout",
     "output_type": "stream",
     "text": [
      "Epoch: 45, iteration: 0, loss: 0.0261501\n",
      "Epoch: 45, iteration: 50, loss: 0.0295589\n",
      "Epoch: 45, iteration: 100, loss: 0.0279132\n",
      "Epoch: 45, iteration: 150, loss: 0.0338497\n",
      "Epoch: 45, iteration: 200, loss: 0.0261821\n",
      "Epoch: 45, iteration: 250, loss: 0.0311227\n",
      "Epoch: 45, iteration: 300, loss: 0.0274789\n",
      "Epoch: 45, iteration: 350, loss: 0.0347866\n",
      "Epoch: 45, iteration: 400, loss: 0.0266803\n",
      "Epoch: 45, iteration: 450, loss: 0.0307098\n",
      "Epoch: 45, iteration: 500, loss: 0.0282902\n",
      "Epoch: 45, iteration: 550, loss: 0.0338016\n",
      "Epoch: 45, iteration: 600, loss: 0.0262694\n",
      "Epoch: 45, iteration: 650, loss: 0.0288551\n",
      "Epoch: 45, iteration: 700, loss: 0.0261872\n",
      "Epoch 46\n"
     ]
    },
    {
     "data": {
      "application/vnd.jupyter.widget-view+json": {
       "model_id": "426c8e3b883f465fbf45168868b4d02b",
       "version_major": 2,
       "version_minor": 0
      },
      "text/plain": [
       "  0%|          | 0/750 [00:00<?, ?it/s]"
      ]
     },
     "metadata": {},
     "output_type": "display_data"
    },
    {
     "name": "stdout",
     "output_type": "stream",
     "text": [
      "Epoch: 46, iteration: 0, loss: 0.0343032\n",
      "Epoch: 46, iteration: 50, loss: 0.0277257\n",
      "Epoch: 46, iteration: 100, loss: 0.0304607\n",
      "Epoch: 46, iteration: 150, loss: 0.0311936\n",
      "Epoch: 46, iteration: 200, loss: 0.0334501\n",
      "Epoch: 46, iteration: 250, loss: 0.0262588\n",
      "Epoch: 46, iteration: 300, loss: 0.0280446\n",
      "Epoch: 46, iteration: 350, loss: 0.0274349\n",
      "Epoch: 46, iteration: 400, loss: 0.0341649\n",
      "Epoch: 46, iteration: 450, loss: 0.0281634\n",
      "Epoch: 46, iteration: 500, loss: 0.0300024\n",
      "Epoch: 46, iteration: 550, loss: 0.0269907\n",
      "Epoch: 46, iteration: 600, loss: 0.0335464\n",
      "Epoch: 46, iteration: 650, loss: 0.0289928\n",
      "Epoch: 46, iteration: 700, loss: 0.0287874\n",
      "Epoch 47\n"
     ]
    },
    {
     "data": {
      "application/vnd.jupyter.widget-view+json": {
       "model_id": "9e52eea3bf7743ba80d8c8272caa1b79",
       "version_major": 2,
       "version_minor": 0
      },
      "text/plain": [
       "  0%|          | 0/750 [00:00<?, ?it/s]"
      ]
     },
     "metadata": {},
     "output_type": "display_data"
    },
    {
     "name": "stdout",
     "output_type": "stream",
     "text": [
      "Epoch: 47, iteration: 0, loss: 0.0255405\n",
      "Epoch: 47, iteration: 50, loss: 0.0319745\n",
      "Epoch: 47, iteration: 100, loss: 0.0284223\n",
      "Epoch: 47, iteration: 150, loss: 0.0311745\n",
      "Epoch: 47, iteration: 200, loss: 0.0297142\n",
      "Epoch: 47, iteration: 250, loss: 0.0335324\n",
      "Epoch: 47, iteration: 300, loss: 0.0252903\n",
      "Epoch: 47, iteration: 350, loss: 0.0294203\n",
      "Epoch: 47, iteration: 400, loss: 0.0262877\n",
      "Epoch: 47, iteration: 450, loss: 0.0370384\n",
      "Epoch: 47, iteration: 500, loss: 0.0276334\n",
      "Epoch: 47, iteration: 550, loss: 0.0307763\n",
      "Epoch: 47, iteration: 600, loss: 0.0322232\n",
      "Epoch: 47, iteration: 650, loss: 0.0330478\n",
      "Epoch: 47, iteration: 700, loss: 0.0269584\n",
      "Epoch 48\n"
     ]
    },
    {
     "data": {
      "application/vnd.jupyter.widget-view+json": {
       "model_id": "8cb4bfe30eb64fd092309d9aa0208446",
       "version_major": 2,
       "version_minor": 0
      },
      "text/plain": [
       "  0%|          | 0/750 [00:00<?, ?it/s]"
      ]
     },
     "metadata": {},
     "output_type": "display_data"
    },
    {
     "name": "stdout",
     "output_type": "stream",
     "text": [
      "Epoch: 48, iteration: 0, loss: 0.0271745\n",
      "Epoch: 48, iteration: 50, loss: 0.0250755\n",
      "Epoch: 48, iteration: 100, loss: 0.0337968\n",
      "Epoch: 48, iteration: 150, loss: 0.0285827\n",
      "Epoch: 48, iteration: 200, loss: 0.0347496\n",
      "Epoch: 48, iteration: 250, loss: 0.0286664\n",
      "Epoch: 48, iteration: 300, loss: 0.0326953\n",
      "Epoch: 48, iteration: 350, loss: 0.0256397\n",
      "Epoch: 48, iteration: 400, loss: 0.0305996\n",
      "Epoch: 48, iteration: 450, loss: 0.0273823\n",
      "Epoch: 48, iteration: 500, loss: 0.0364462\n",
      "Epoch: 48, iteration: 550, loss: 0.0250726\n",
      "Epoch: 48, iteration: 600, loss: 0.0294447\n",
      "Epoch: 48, iteration: 650, loss: 0.027912\n",
      "Epoch: 48, iteration: 700, loss: 0.0333838\n",
      "Epoch 49\n"
     ]
    },
    {
     "data": {
      "application/vnd.jupyter.widget-view+json": {
       "model_id": "b87a8ac1c3354f118f15d750a096e66d",
       "version_major": 2,
       "version_minor": 0
      },
      "text/plain": [
       "  0%|          | 0/750 [00:00<?, ?it/s]"
      ]
     },
     "metadata": {},
     "output_type": "display_data"
    },
    {
     "name": "stdout",
     "output_type": "stream",
     "text": [
      "Epoch: 49, iteration: 0, loss: 0.0287484\n",
      "Epoch: 49, iteration: 50, loss: 0.0299296\n",
      "Epoch: 49, iteration: 100, loss: 0.0285244\n",
      "Epoch: 49, iteration: 150, loss: 0.0339365\n",
      "Epoch: 49, iteration: 200, loss: 0.0264436\n",
      "Epoch: 49, iteration: 250, loss: 0.032162\n",
      "Epoch: 49, iteration: 300, loss: 0.0287748\n",
      "Epoch: 49, iteration: 350, loss: 0.0285488\n",
      "Epoch: 49, iteration: 400, loss: 0.0245329\n",
      "Epoch: 49, iteration: 450, loss: 0.0304045\n",
      "Epoch: 49, iteration: 500, loss: 0.0289587\n",
      "Epoch: 49, iteration: 550, loss: 0.0341858\n",
      "Epoch: 49, iteration: 600, loss: 0.0275956\n",
      "Epoch: 49, iteration: 650, loss: 0.0294793\n",
      "Epoch: 49, iteration: 700, loss: 0.0287327\n",
      "\n",
      "Validating...\n"
     ]
    },
    {
     "data": {
      "application/vnd.jupyter.widget-view+json": {
       "model_id": "5813a9b42902445681b018e8dc1d7f2f",
       "version_major": 2,
       "version_minor": 0
      },
      "text/plain": [
       "  0%|          | 0/188 [00:00<?, ?it/s]"
      ]
     },
     "metadata": {},
     "output_type": "display_data"
    },
    {
     "name": "stdout",
     "output_type": "stream",
     "text": [
      "Validation: Epoch: 50, loss: 0.0281341\n",
      "Epoch 50\n"
     ]
    },
    {
     "data": {
      "application/vnd.jupyter.widget-view+json": {
       "model_id": "c1dd644b140a458199e7b6c66bc1ef65",
       "version_major": 2,
       "version_minor": 0
      },
      "text/plain": [
       "  0%|          | 0/750 [00:00<?, ?it/s]"
      ]
     },
     "metadata": {},
     "output_type": "display_data"
    },
    {
     "name": "stdout",
     "output_type": "stream",
     "text": [
      "Epoch: 50, iteration: 0, loss: 0.0321565\n",
      "Epoch: 50, iteration: 50, loss: 0.0241158\n",
      "Epoch: 50, iteration: 100, loss: 0.0307306\n",
      "Epoch: 50, iteration: 150, loss: 0.0284601\n",
      "Epoch: 50, iteration: 200, loss: 0.0310953\n",
      "Epoch: 50, iteration: 250, loss: 0.0284339\n",
      "Epoch: 50, iteration: 300, loss: 0.0306151\n",
      "Epoch: 50, iteration: 350, loss: 0.0282776\n",
      "Epoch: 50, iteration: 400, loss: 0.0334401\n",
      "Epoch: 50, iteration: 450, loss: 0.0261012\n",
      "Epoch: 50, iteration: 500, loss: 0.0312717\n",
      "Epoch: 50, iteration: 550, loss: 0.0261314\n",
      "Epoch: 50, iteration: 600, loss: 0.0317708\n",
      "Epoch: 50, iteration: 650, loss: 0.0272511\n",
      "Epoch: 50, iteration: 700, loss: 0.0337389\n",
      "Epoch 51\n"
     ]
    },
    {
     "data": {
      "application/vnd.jupyter.widget-view+json": {
       "model_id": "ef412af553c8464b95ff4445427f7d05",
       "version_major": 2,
       "version_minor": 0
      },
      "text/plain": [
       "  0%|          | 0/750 [00:00<?, ?it/s]"
      ]
     },
     "metadata": {},
     "output_type": "display_data"
    },
    {
     "name": "stdout",
     "output_type": "stream",
     "text": [
      "Epoch: 51, iteration: 0, loss: 0.0281537\n",
      "Epoch: 51, iteration: 50, loss: 0.0318344\n",
      "Epoch: 51, iteration: 100, loss: 0.0269127\n",
      "Epoch: 51, iteration: 150, loss: 0.0323956\n",
      "Epoch: 51, iteration: 200, loss: 0.0273344\n",
      "Epoch: 51, iteration: 250, loss: 0.0345618\n",
      "Epoch: 51, iteration: 300, loss: 0.0265416\n",
      "Epoch: 51, iteration: 350, loss: 0.0321735\n",
      "Epoch: 51, iteration: 400, loss: 0.0272922\n",
      "Epoch: 51, iteration: 450, loss: 0.030459\n",
      "Epoch: 51, iteration: 500, loss: 0.0262656\n",
      "Epoch: 51, iteration: 550, loss: 0.0313562\n",
      "Epoch: 51, iteration: 600, loss: 0.0259431\n",
      "Epoch: 51, iteration: 650, loss: 0.0367121\n",
      "Epoch: 51, iteration: 700, loss: 0.025501\n",
      "Epoch 52\n"
     ]
    },
    {
     "data": {
      "application/vnd.jupyter.widget-view+json": {
       "model_id": "0c622554cc034987822fbcf14b67dd16",
       "version_major": 2,
       "version_minor": 0
      },
      "text/plain": [
       "  0%|          | 0/750 [00:00<?, ?it/s]"
      ]
     },
     "metadata": {},
     "output_type": "display_data"
    },
    {
     "name": "stdout",
     "output_type": "stream",
     "text": [
      "Epoch: 52, iteration: 0, loss: 0.0287885\n",
      "Epoch: 52, iteration: 50, loss: 0.0289008\n",
      "Epoch: 52, iteration: 100, loss: 0.0335062\n",
      "Epoch: 52, iteration: 150, loss: 0.0255991\n",
      "Epoch: 52, iteration: 200, loss: 0.0322639\n",
      "Epoch: 52, iteration: 250, loss: 0.0280769\n",
      "Epoch: 52, iteration: 300, loss: 0.0318088\n",
      "Epoch: 52, iteration: 350, loss: 0.0241116\n",
      "Epoch: 52, iteration: 400, loss: 0.0282785\n",
      "Epoch: 52, iteration: 450, loss: 0.0273515\n",
      "Epoch: 52, iteration: 500, loss: 0.0331984\n",
      "Epoch: 52, iteration: 550, loss: 0.0272013\n",
      "Epoch: 52, iteration: 600, loss: 0.029481\n",
      "Epoch: 52, iteration: 650, loss: 0.0258197\n",
      "Epoch: 52, iteration: 700, loss: 0.0336411\n",
      "Epoch 53\n"
     ]
    },
    {
     "data": {
      "application/vnd.jupyter.widget-view+json": {
       "model_id": "7b68a037f4c849cdace9e6b94de2ba5a",
       "version_major": 2,
       "version_minor": 0
      },
      "text/plain": [
       "  0%|          | 0/750 [00:00<?, ?it/s]"
      ]
     },
     "metadata": {},
     "output_type": "display_data"
    },
    {
     "name": "stdout",
     "output_type": "stream",
     "text": [
      "Epoch: 53, iteration: 0, loss: 0.0283008\n",
      "Epoch: 53, iteration: 50, loss: 0.028128\n",
      "Epoch: 53, iteration: 100, loss: 0.0295092\n",
      "Epoch: 53, iteration: 150, loss: 0.0336718\n",
      "Epoch: 53, iteration: 200, loss: 0.0252986\n",
      "Epoch: 53, iteration: 250, loss: 0.0286393\n",
      "Epoch: 53, iteration: 300, loss: 0.0282416\n",
      "Epoch: 53, iteration: 350, loss: 0.0309957\n",
      "Epoch: 53, iteration: 400, loss: 0.0257765\n",
      "Epoch: 53, iteration: 450, loss: 0.0303322\n",
      "Epoch: 53, iteration: 500, loss: 0.0286871\n",
      "Epoch: 53, iteration: 550, loss: 0.0354449\n",
      "Epoch: 53, iteration: 600, loss: 0.0284774\n",
      "Epoch: 53, iteration: 650, loss: 0.0336461\n",
      "Epoch: 53, iteration: 700, loss: 0.0306417\n",
      "Epoch 54\n"
     ]
    },
    {
     "data": {
      "application/vnd.jupyter.widget-view+json": {
       "model_id": "377a76fa300249849804f82c075e0f00",
       "version_major": 2,
       "version_minor": 0
      },
      "text/plain": [
       "  0%|          | 0/750 [00:00<?, ?it/s]"
      ]
     },
     "metadata": {},
     "output_type": "display_data"
    },
    {
     "name": "stdout",
     "output_type": "stream",
     "text": [
      "Epoch: 54, iteration: 0, loss: 0.0335648\n",
      "Epoch: 54, iteration: 50, loss: 0.0277751\n",
      "Epoch: 54, iteration: 100, loss: 0.0314743\n",
      "Epoch: 54, iteration: 150, loss: 0.0256152\n",
      "Epoch: 54, iteration: 200, loss: 0.0308684\n",
      "Epoch: 54, iteration: 250, loss: 0.0275611\n",
      "Epoch: 54, iteration: 300, loss: 0.032383\n",
      "Epoch: 54, iteration: 350, loss: 0.03076\n",
      "Epoch: 54, iteration: 400, loss: 0.0344502\n",
      "Epoch: 54, iteration: 450, loss: 0.0263034\n",
      "Epoch: 54, iteration: 500, loss: 0.0310006\n",
      "Epoch: 54, iteration: 550, loss: 0.0298421\n",
      "Epoch: 54, iteration: 600, loss: 0.0354758\n",
      "Epoch: 54, iteration: 650, loss: 0.0255998\n",
      "Epoch: 54, iteration: 700, loss: 0.0295754\n",
      "\n",
      "Validating...\n"
     ]
    },
    {
     "data": {
      "application/vnd.jupyter.widget-view+json": {
       "model_id": "04b4cb73eacb4020b9e077bcb330c7fd",
       "version_major": 2,
       "version_minor": 0
      },
      "text/plain": [
       "  0%|          | 0/188 [00:00<?, ?it/s]"
      ]
     },
     "metadata": {},
     "output_type": "display_data"
    },
    {
     "name": "stdout",
     "output_type": "stream",
     "text": [
      "Validation: Epoch: 55, loss: 0.0280488\n",
      "Epoch 55\n"
     ]
    },
    {
     "data": {
      "application/vnd.jupyter.widget-view+json": {
       "model_id": "25e73cd91103415f95447ccbd278bfa6",
       "version_major": 2,
       "version_minor": 0
      },
      "text/plain": [
       "  0%|          | 0/750 [00:00<?, ?it/s]"
      ]
     },
     "metadata": {},
     "output_type": "display_data"
    },
    {
     "name": "stdout",
     "output_type": "stream",
     "text": [
      "Epoch: 55, iteration: 0, loss: 0.0270375\n",
      "Epoch: 55, iteration: 50, loss: 0.0330253\n",
      "Epoch: 55, iteration: 100, loss: 0.0260205\n",
      "Epoch: 55, iteration: 150, loss: 0.0267019\n",
      "Epoch: 55, iteration: 200, loss: 0.0269896\n",
      "Epoch: 55, iteration: 250, loss: 0.0334818\n",
      "Epoch: 55, iteration: 300, loss: 0.0254031\n",
      "Epoch: 55, iteration: 350, loss: 0.0318083\n",
      "Epoch: 55, iteration: 400, loss: 0.0302343\n",
      "Epoch: 55, iteration: 450, loss: 0.028724\n",
      "Epoch: 55, iteration: 500, loss: 0.0278782\n",
      "Epoch: 55, iteration: 550, loss: 0.0338232\n",
      "Epoch: 55, iteration: 600, loss: 0.0317711\n",
      "Epoch: 55, iteration: 650, loss: 0.0342945\n",
      "Epoch: 55, iteration: 700, loss: 0.0258522\n",
      "Epoch 56\n"
     ]
    },
    {
     "data": {
      "application/vnd.jupyter.widget-view+json": {
       "model_id": "b99a2d6c687748739e0303723aabfc77",
       "version_major": 2,
       "version_minor": 0
      },
      "text/plain": [
       "  0%|          | 0/750 [00:00<?, ?it/s]"
      ]
     },
     "metadata": {},
     "output_type": "display_data"
    },
    {
     "name": "stdout",
     "output_type": "stream",
     "text": [
      "Epoch: 56, iteration: 0, loss: 0.0289372\n",
      "Epoch: 56, iteration: 50, loss: 0.0297712\n",
      "Epoch: 56, iteration: 100, loss: 0.0303807\n",
      "Epoch: 56, iteration: 150, loss: 0.0265538\n",
      "Epoch: 56, iteration: 200, loss: 0.0290239\n",
      "Epoch: 56, iteration: 250, loss: 0.0268424\n",
      "Epoch: 56, iteration: 300, loss: 0.0315847\n",
      "Epoch: 56, iteration: 350, loss: 0.0268033\n",
      "Epoch: 56, iteration: 400, loss: 0.0294303\n",
      "Epoch: 56, iteration: 450, loss: 0.0280575\n",
      "Epoch: 56, iteration: 500, loss: 0.0347944\n",
      "Epoch: 56, iteration: 550, loss: 0.0277151\n",
      "Epoch: 56, iteration: 600, loss: 0.0313038\n",
      "Epoch: 56, iteration: 650, loss: 0.0273123\n",
      "Epoch: 56, iteration: 700, loss: 0.0316484\n",
      "Epoch 57\n"
     ]
    },
    {
     "data": {
      "application/vnd.jupyter.widget-view+json": {
       "model_id": "bf316ef94e86444c85511648c8403b38",
       "version_major": 2,
       "version_minor": 0
      },
      "text/plain": [
       "  0%|          | 0/750 [00:00<?, ?it/s]"
      ]
     },
     "metadata": {},
     "output_type": "display_data"
    },
    {
     "name": "stdout",
     "output_type": "stream",
     "text": [
      "Epoch: 57, iteration: 0, loss: 0.0248109\n",
      "Epoch: 57, iteration: 50, loss: 0.0302674\n",
      "Epoch: 57, iteration: 100, loss: 0.0278716\n",
      "Epoch: 57, iteration: 150, loss: 0.033931\n",
      "Epoch: 57, iteration: 200, loss: 0.0274602\n",
      "Epoch: 57, iteration: 250, loss: 0.0312448\n",
      "Epoch: 57, iteration: 300, loss: 0.0261959\n",
      "Epoch: 57, iteration: 350, loss: 0.0358603\n",
      "Epoch: 57, iteration: 400, loss: 0.0266395\n",
      "Epoch: 57, iteration: 450, loss: 0.0301874\n",
      "Epoch: 57, iteration: 500, loss: 0.0260107\n",
      "Epoch: 57, iteration: 550, loss: 0.0322139\n",
      "Epoch: 57, iteration: 600, loss: 0.0264945\n",
      "Epoch: 57, iteration: 650, loss: 0.0285336\n",
      "Epoch: 57, iteration: 700, loss: 0.0268218\n",
      "Epoch 58\n"
     ]
    },
    {
     "data": {
      "application/vnd.jupyter.widget-view+json": {
       "model_id": "b6d3510a69d64d4bb9bcc95e55153516",
       "version_major": 2,
       "version_minor": 0
      },
      "text/plain": [
       "  0%|          | 0/750 [00:00<?, ?it/s]"
      ]
     },
     "metadata": {},
     "output_type": "display_data"
    },
    {
     "name": "stdout",
     "output_type": "stream",
     "text": [
      "Epoch: 58, iteration: 0, loss: 0.0339991\n",
      "Epoch: 58, iteration: 50, loss: 0.0260742\n",
      "Epoch: 58, iteration: 100, loss: 0.0313443\n",
      "Epoch: 58, iteration: 150, loss: 0.0281945\n",
      "Epoch: 58, iteration: 200, loss: 0.0331302\n",
      "Epoch: 58, iteration: 250, loss: 0.0260363\n",
      "Epoch: 58, iteration: 300, loss: 0.0283366\n",
      "Epoch: 58, iteration: 350, loss: 0.0287341\n",
      "Epoch: 58, iteration: 400, loss: 0.0304496\n",
      "Epoch: 58, iteration: 450, loss: 0.0279444\n",
      "Epoch: 58, iteration: 500, loss: 0.030551\n",
      "Epoch: 58, iteration: 550, loss: 0.027212\n",
      "Epoch: 58, iteration: 600, loss: 0.0335405\n",
      "Epoch: 58, iteration: 650, loss: 0.0259083\n",
      "Epoch: 58, iteration: 700, loss: 0.0324274\n",
      "Epoch 59\n"
     ]
    },
    {
     "data": {
      "application/vnd.jupyter.widget-view+json": {
       "model_id": "18ddd962d3c84bbaaeaa715c71f7c1fa",
       "version_major": 2,
       "version_minor": 0
      },
      "text/plain": [
       "  0%|          | 0/750 [00:00<?, ?it/s]"
      ]
     },
     "metadata": {},
     "output_type": "display_data"
    },
    {
     "name": "stdout",
     "output_type": "stream",
     "text": [
      "Epoch: 59, iteration: 0, loss: 0.0260256\n",
      "Epoch: 59, iteration: 50, loss: 0.032117\n",
      "Epoch: 59, iteration: 100, loss: 0.027573\n",
      "Epoch: 59, iteration: 150, loss: 0.0303481\n",
      "Epoch: 59, iteration: 200, loss: 0.0263754\n",
      "Epoch: 59, iteration: 250, loss: 0.0354806\n",
      "Epoch: 59, iteration: 300, loss: 0.0268931\n",
      "Epoch: 59, iteration: 350, loss: 0.032101\n",
      "Epoch: 59, iteration: 400, loss: 0.0323239\n",
      "Epoch: 59, iteration: 450, loss: 0.0352508\n",
      "Epoch: 59, iteration: 500, loss: 0.0265488\n",
      "Epoch: 59, iteration: 550, loss: 0.0298276\n",
      "Epoch: 59, iteration: 600, loss: 0.030627\n",
      "Epoch: 59, iteration: 650, loss: 0.0356617\n",
      "Epoch: 59, iteration: 700, loss: 0.0275695\n",
      "\n",
      "Validating...\n"
     ]
    },
    {
     "data": {
      "application/vnd.jupyter.widget-view+json": {
       "model_id": "13d88fc408b94415892ca9a7e3052736",
       "version_major": 2,
       "version_minor": 0
      },
      "text/plain": [
       "  0%|          | 0/188 [00:00<?, ?it/s]"
      ]
     },
     "metadata": {},
     "output_type": "display_data"
    },
    {
     "name": "stdout",
     "output_type": "stream",
     "text": [
      "Validation: Epoch: 60, loss: 0.0279733\n",
      "Epoch 60\n"
     ]
    },
    {
     "data": {
      "application/vnd.jupyter.widget-view+json": {
       "model_id": "ebf7a21bc4654385b4847c505eb36ee6",
       "version_major": 2,
       "version_minor": 0
      },
      "text/plain": [
       "  0%|          | 0/750 [00:00<?, ?it/s]"
      ]
     },
     "metadata": {},
     "output_type": "display_data"
    },
    {
     "name": "stdout",
     "output_type": "stream",
     "text": [
      "Epoch: 60, iteration: 0, loss: 0.0301697\n",
      "Epoch: 60, iteration: 50, loss: 0.0270292\n",
      "Epoch: 60, iteration: 100, loss: 0.031659\n",
      "Epoch: 60, iteration: 150, loss: 0.0254718\n",
      "Epoch: 60, iteration: 200, loss: 0.0307017\n",
      "Epoch: 60, iteration: 250, loss: 0.0295689\n",
      "Epoch: 60, iteration: 300, loss: 0.0325373\n",
      "Epoch: 60, iteration: 350, loss: 0.0253859\n",
      "Epoch: 60, iteration: 400, loss: 0.0307924\n",
      "Epoch: 60, iteration: 450, loss: 0.0255733\n",
      "Epoch: 60, iteration: 500, loss: 0.0315993\n",
      "Epoch: 60, iteration: 550, loss: 0.0236002\n",
      "Epoch: 60, iteration: 600, loss: 0.0289902\n",
      "Epoch: 60, iteration: 650, loss: 0.0260009\n",
      "Epoch: 60, iteration: 700, loss: 0.0341447\n",
      "Epoch 61\n"
     ]
    },
    {
     "data": {
      "application/vnd.jupyter.widget-view+json": {
       "model_id": "8ff337b280a74d91854a1952aa1f16f6",
       "version_major": 2,
       "version_minor": 0
      },
      "text/plain": [
       "  0%|          | 0/750 [00:00<?, ?it/s]"
      ]
     },
     "metadata": {},
     "output_type": "display_data"
    },
    {
     "name": "stdout",
     "output_type": "stream",
     "text": [
      "Epoch: 61, iteration: 0, loss: 0.030199\n",
      "Epoch: 61, iteration: 50, loss: 0.0298198\n",
      "Epoch: 61, iteration: 100, loss: 0.0272056\n",
      "Epoch: 61, iteration: 150, loss: 0.0339137\n",
      "Epoch: 61, iteration: 200, loss: 0.0264552\n",
      "Epoch: 61, iteration: 250, loss: 0.032631\n",
      "Epoch: 61, iteration: 300, loss: 0.0263562\n",
      "Epoch: 61, iteration: 350, loss: 0.0329016\n",
      "Epoch: 61, iteration: 400, loss: 0.0251178\n",
      "Epoch: 61, iteration: 450, loss: 0.0292693\n",
      "Epoch: 61, iteration: 500, loss: 0.0272144\n",
      "Epoch: 61, iteration: 550, loss: 0.0338609\n",
      "Epoch: 61, iteration: 600, loss: 0.026304\n",
      "Epoch: 61, iteration: 650, loss: 0.0307251\n",
      "Epoch: 61, iteration: 700, loss: 0.0273903\n",
      "Epoch 62\n"
     ]
    },
    {
     "data": {
      "application/vnd.jupyter.widget-view+json": {
       "model_id": "ce1652ae30c242688e7ec75734f004c6",
       "version_major": 2,
       "version_minor": 0
      },
      "text/plain": [
       "  0%|          | 0/750 [00:00<?, ?it/s]"
      ]
     },
     "metadata": {},
     "output_type": "display_data"
    },
    {
     "name": "stdout",
     "output_type": "stream",
     "text": [
      "Epoch: 62, iteration: 0, loss: 0.0346371\n",
      "Epoch: 62, iteration: 50, loss: 0.0267696\n",
      "Epoch: 62, iteration: 100, loss: 0.0299009\n",
      "Epoch: 62, iteration: 150, loss: 0.0294128\n",
      "Epoch: 62, iteration: 200, loss: 0.0342884\n",
      "Epoch: 62, iteration: 250, loss: 0.0259483\n",
      "Epoch: 62, iteration: 300, loss: 0.0261736\n",
      "Epoch: 62, iteration: 350, loss: 0.0268382\n",
      "Epoch: 62, iteration: 400, loss: 0.0331775\n",
      "Epoch: 62, iteration: 450, loss: 0.0252794\n",
      "Epoch: 62, iteration: 500, loss: 0.0319904\n",
      "Epoch: 62, iteration: 550, loss: 0.0279736\n",
      "Epoch: 62, iteration: 600, loss: 0.035051\n",
      "Epoch: 62, iteration: 650, loss: 0.0258816\n",
      "Epoch: 62, iteration: 700, loss: 0.027858\n",
      "Epoch 63\n"
     ]
    },
    {
     "data": {
      "application/vnd.jupyter.widget-view+json": {
       "model_id": "c0ae2275f9aa48b5897464c207d4561e",
       "version_major": 2,
       "version_minor": 0
      },
      "text/plain": [
       "  0%|          | 0/750 [00:00<?, ?it/s]"
      ]
     },
     "metadata": {},
     "output_type": "display_data"
    },
    {
     "name": "stdout",
     "output_type": "stream",
     "text": [
      "Epoch: 63, iteration: 0, loss: 0.0285761\n",
      "Epoch: 63, iteration: 50, loss: 0.0322094\n",
      "Epoch: 63, iteration: 100, loss: 0.0260441\n",
      "Epoch: 63, iteration: 150, loss: 0.0312192\n",
      "Epoch: 63, iteration: 200, loss: 0.0260474\n",
      "Epoch: 63, iteration: 250, loss: 0.0317958\n",
      "Epoch: 63, iteration: 300, loss: 0.0280394\n",
      "Epoch: 63, iteration: 350, loss: 0.034326\n",
      "Epoch: 63, iteration: 400, loss: 0.0297142\n",
      "Epoch: 63, iteration: 450, loss: 0.0364392\n",
      "Epoch: 63, iteration: 500, loss: 0.0290078\n",
      "Epoch: 63, iteration: 550, loss: 0.0306564\n",
      "Epoch: 63, iteration: 600, loss: 0.0255271\n",
      "Epoch: 63, iteration: 650, loss: 0.0321545\n",
      "Epoch: 63, iteration: 700, loss: 0.0264506\n",
      "Epoch 64\n"
     ]
    },
    {
     "data": {
      "application/vnd.jupyter.widget-view+json": {
       "model_id": "540fd5348e2c4c78adcfee8ca2375fc4",
       "version_major": 2,
       "version_minor": 0
      },
      "text/plain": [
       "  0%|          | 0/750 [00:00<?, ?it/s]"
      ]
     },
     "metadata": {},
     "output_type": "display_data"
    },
    {
     "name": "stdout",
     "output_type": "stream",
     "text": [
      "Epoch: 64, iteration: 0, loss: 0.0275266\n",
      "Epoch: 64, iteration: 50, loss: 0.0300904\n",
      "Epoch: 64, iteration: 100, loss: 0.0337389\n",
      "Epoch: 64, iteration: 150, loss: 0.0275573\n",
      "Epoch: 64, iteration: 200, loss: 0.0305798\n",
      "Epoch: 64, iteration: 250, loss: 0.0304086\n",
      "Epoch: 64, iteration: 300, loss: 0.0334306\n",
      "Epoch: 64, iteration: 350, loss: 0.0274225\n",
      "Epoch: 64, iteration: 400, loss: 0.0314782\n",
      "Epoch: 64, iteration: 450, loss: 0.026507\n",
      "Epoch: 64, iteration: 500, loss: 0.0335963\n",
      "Epoch: 64, iteration: 550, loss: 0.0238719\n",
      "Epoch: 64, iteration: 600, loss: 0.0300483\n",
      "Epoch: 64, iteration: 650, loss: 0.0290654\n",
      "Epoch: 64, iteration: 700, loss: 0.0344098\n",
      "\n",
      "Validating...\n"
     ]
    },
    {
     "data": {
      "application/vnd.jupyter.widget-view+json": {
       "model_id": "a69a10882b9049ebbb4e1548405ee2c7",
       "version_major": 2,
       "version_minor": 0
      },
      "text/plain": [
       "  0%|          | 0/188 [00:00<?, ?it/s]"
      ]
     },
     "metadata": {},
     "output_type": "display_data"
    },
    {
     "name": "stdout",
     "output_type": "stream",
     "text": [
      "Validation: Epoch: 65, loss: 0.0279137\n",
      "Epoch 65\n"
     ]
    },
    {
     "data": {
      "application/vnd.jupyter.widget-view+json": {
       "model_id": "ed439315f7cc43b59fa39bcd0672d0f6",
       "version_major": 2,
       "version_minor": 0
      },
      "text/plain": [
       "  0%|          | 0/750 [00:00<?, ?it/s]"
      ]
     },
     "metadata": {},
     "output_type": "display_data"
    },
    {
     "name": "stdout",
     "output_type": "stream",
     "text": [
      "Epoch: 65, iteration: 0, loss: 0.0246524\n",
      "Epoch: 65, iteration: 50, loss: 0.0275125\n",
      "Epoch: 65, iteration: 100, loss: 0.0288075\n",
      "Epoch: 65, iteration: 150, loss: 0.0312029\n",
      "Epoch: 65, iteration: 200, loss: 0.0269437\n",
      "Epoch: 65, iteration: 250, loss: 0.0317165\n",
      "Epoch: 65, iteration: 300, loss: 0.0293414\n",
      "Epoch: 65, iteration: 350, loss: 0.0338166\n",
      "Epoch: 65, iteration: 400, loss: 0.0250069\n",
      "Epoch: 65, iteration: 450, loss: 0.0309255\n",
      "Epoch: 65, iteration: 500, loss: 0.0270437\n",
      "Epoch: 65, iteration: 550, loss: 0.0341437\n",
      "Epoch: 65, iteration: 600, loss: 0.0246018\n",
      "Epoch: 65, iteration: 650, loss: 0.0300146\n",
      "Epoch: 65, iteration: 700, loss: 0.0282694\n",
      "Epoch 66\n"
     ]
    },
    {
     "data": {
      "application/vnd.jupyter.widget-view+json": {
       "model_id": "554dabc96de340c2904030e7e80fb1aa",
       "version_major": 2,
       "version_minor": 0
      },
      "text/plain": [
       "  0%|          | 0/750 [00:00<?, ?it/s]"
      ]
     },
     "metadata": {},
     "output_type": "display_data"
    },
    {
     "name": "stdout",
     "output_type": "stream",
     "text": [
      "Epoch: 66, iteration: 0, loss: 0.0328722\n",
      "Epoch: 66, iteration: 50, loss: 0.0270449\n",
      "Epoch: 66, iteration: 100, loss: 0.030502\n",
      "Epoch: 66, iteration: 150, loss: 0.0251976\n",
      "Epoch: 66, iteration: 200, loss: 0.033171\n",
      "Epoch: 66, iteration: 250, loss: 0.0270073\n",
      "Epoch: 66, iteration: 300, loss: 0.0299151\n",
      "Epoch: 66, iteration: 350, loss: 0.0273865\n",
      "Epoch: 66, iteration: 400, loss: 0.0322922\n",
      "Epoch: 66, iteration: 450, loss: 0.0283953\n",
      "Epoch: 66, iteration: 500, loss: 0.0322365\n",
      "Epoch: 66, iteration: 550, loss: 0.0305544\n",
      "Epoch: 66, iteration: 600, loss: 0.0305845\n",
      "Epoch: 66, iteration: 650, loss: 0.0255026\n",
      "Epoch: 66, iteration: 700, loss: 0.0280758\n",
      "Epoch 67\n"
     ]
    },
    {
     "data": {
      "application/vnd.jupyter.widget-view+json": {
       "model_id": "f60fde8a48874293815daf7388de809d",
       "version_major": 2,
       "version_minor": 0
      },
      "text/plain": [
       "  0%|          | 0/750 [00:00<?, ?it/s]"
      ]
     },
     "metadata": {},
     "output_type": "display_data"
    },
    {
     "name": "stdout",
     "output_type": "stream",
     "text": [
      "Epoch: 67, iteration: 0, loss: 0.0276676\n",
      "Epoch: 67, iteration: 50, loss: 0.03247\n",
      "Epoch: 67, iteration: 100, loss: 0.0258716\n",
      "Epoch: 67, iteration: 150, loss: 0.030094\n",
      "Epoch: 67, iteration: 200, loss: 0.0271459\n",
      "Epoch: 67, iteration: 250, loss: 0.0329076\n",
      "Epoch: 67, iteration: 300, loss: 0.0266718\n",
      "Epoch: 67, iteration: 350, loss: 0.0281767\n",
      "Epoch: 67, iteration: 400, loss: 0.0269916\n",
      "Epoch: 67, iteration: 450, loss: 0.0329126\n",
      "Epoch: 67, iteration: 500, loss: 0.0285179\n",
      "Epoch: 67, iteration: 550, loss: 0.0268916\n",
      "Epoch: 67, iteration: 600, loss: 0.0270983\n",
      "Epoch: 67, iteration: 650, loss: 0.0353441\n",
      "Epoch: 67, iteration: 700, loss: 0.0265631\n",
      "Epoch 68\n"
     ]
    },
    {
     "data": {
      "application/vnd.jupyter.widget-view+json": {
       "model_id": "820c84eda2ca4b2584dd08eff98ee493",
       "version_major": 2,
       "version_minor": 0
      },
      "text/plain": [
       "  0%|          | 0/750 [00:00<?, ?it/s]"
      ]
     },
     "metadata": {},
     "output_type": "display_data"
    },
    {
     "name": "stdout",
     "output_type": "stream",
     "text": [
      "Epoch: 68, iteration: 0, loss: 0.0326149\n",
      "Epoch: 68, iteration: 50, loss: 0.0299988\n",
      "Epoch: 68, iteration: 100, loss: 0.0342914\n",
      "Epoch: 68, iteration: 150, loss: 0.0263177\n",
      "Epoch: 68, iteration: 200, loss: 0.029787\n",
      "Epoch: 68, iteration: 250, loss: 0.0312156\n",
      "Epoch: 68, iteration: 300, loss: 0.0335168\n",
      "Epoch: 68, iteration: 350, loss: 0.0251924\n",
      "Epoch: 68, iteration: 400, loss: 0.0268556\n",
      "Epoch: 68, iteration: 450, loss: 0.0314299\n",
      "Epoch: 68, iteration: 500, loss: 0.0316868\n",
      "Epoch: 68, iteration: 550, loss: 0.0259042\n",
      "Epoch: 68, iteration: 600, loss: 0.031975\n",
      "Epoch: 68, iteration: 650, loss: 0.0272758\n",
      "Epoch: 68, iteration: 700, loss: 0.0334702\n",
      "Epoch 69\n"
     ]
    },
    {
     "data": {
      "application/vnd.jupyter.widget-view+json": {
       "model_id": "001f96bd83e4449a87ae71f88a31d393",
       "version_major": 2,
       "version_minor": 0
      },
      "text/plain": [
       "  0%|          | 0/750 [00:00<?, ?it/s]"
      ]
     },
     "metadata": {},
     "output_type": "display_data"
    },
    {
     "name": "stdout",
     "output_type": "stream",
     "text": [
      "Epoch: 69, iteration: 0, loss: 0.0276251\n",
      "Epoch: 69, iteration: 50, loss: 0.0330645\n",
      "Epoch: 69, iteration: 100, loss: 0.0267697\n",
      "Epoch: 69, iteration: 150, loss: 0.032004\n",
      "Epoch: 69, iteration: 200, loss: 0.0265878\n",
      "Epoch: 69, iteration: 250, loss: 0.0281734\n",
      "Epoch: 69, iteration: 300, loss: 0.0276487\n",
      "Epoch: 69, iteration: 350, loss: 0.0311034\n",
      "Epoch: 69, iteration: 400, loss: 0.0256741\n",
      "Epoch: 69, iteration: 450, loss: 0.0291315\n",
      "Epoch: 69, iteration: 500, loss: 0.0290635\n",
      "Epoch: 69, iteration: 550, loss: 0.0324619\n",
      "Epoch: 69, iteration: 600, loss: 0.0265505\n",
      "Epoch: 69, iteration: 650, loss: 0.0303367\n",
      "Epoch: 69, iteration: 700, loss: 0.0308476\n",
      "\n",
      "Validating...\n"
     ]
    },
    {
     "data": {
      "application/vnd.jupyter.widget-view+json": {
       "model_id": "06f045d2b9884780a47b5af3ddbfc9fb",
       "version_major": 2,
       "version_minor": 0
      },
      "text/plain": [
       "  0%|          | 0/188 [00:00<?, ?it/s]"
      ]
     },
     "metadata": {},
     "output_type": "display_data"
    },
    {
     "name": "stdout",
     "output_type": "stream",
     "text": [
      "Validation: Epoch: 70, loss: 0.0278539\n",
      "Epoch 70\n"
     ]
    },
    {
     "data": {
      "application/vnd.jupyter.widget-view+json": {
       "model_id": "f1774ad6d184495f9df38cc214477ab8",
       "version_major": 2,
       "version_minor": 0
      },
      "text/plain": [
       "  0%|          | 0/750 [00:00<?, ?it/s]"
      ]
     },
     "metadata": {},
     "output_type": "display_data"
    },
    {
     "name": "stdout",
     "output_type": "stream",
     "text": [
      "Epoch: 70, iteration: 0, loss: 0.0370125\n",
      "Epoch: 70, iteration: 50, loss: 0.0271542\n",
      "Epoch: 70, iteration: 100, loss: 0.0297423\n",
      "Epoch: 70, iteration: 150, loss: 0.0270547\n",
      "Epoch: 70, iteration: 200, loss: 0.0319315\n",
      "Epoch: 70, iteration: 250, loss: 0.0266156\n",
      "Epoch: 70, iteration: 300, loss: 0.0321093\n",
      "Epoch: 70, iteration: 350, loss: 0.027497\n",
      "Epoch: 70, iteration: 400, loss: 0.0317957\n",
      "Epoch: 70, iteration: 450, loss: 0.0257444\n",
      "Epoch: 70, iteration: 500, loss: 0.0293797\n",
      "Epoch: 70, iteration: 550, loss: 0.0285782\n",
      "Epoch: 70, iteration: 600, loss: 0.0339138\n",
      "Epoch: 70, iteration: 650, loss: 0.0245565\n",
      "Epoch: 70, iteration: 700, loss: 0.0301811\n",
      "Epoch 71\n"
     ]
    },
    {
     "data": {
      "application/vnd.jupyter.widget-view+json": {
       "model_id": "1b2d5f38d1da4f98996885fe014d78ba",
       "version_major": 2,
       "version_minor": 0
      },
      "text/plain": [
       "  0%|          | 0/750 [00:00<?, ?it/s]"
      ]
     },
     "metadata": {},
     "output_type": "display_data"
    },
    {
     "name": "stdout",
     "output_type": "stream",
     "text": [
      "Epoch: 71, iteration: 0, loss: 0.0258277\n",
      "Epoch: 71, iteration: 50, loss: 0.0312309\n",
      "Epoch: 71, iteration: 100, loss: 0.0266621\n",
      "Epoch: 71, iteration: 150, loss: 0.0289907\n",
      "Epoch: 71, iteration: 200, loss: 0.0265812\n",
      "Epoch: 71, iteration: 250, loss: 0.0338319\n",
      "Epoch: 71, iteration: 300, loss: 0.0260362\n",
      "Epoch: 71, iteration: 350, loss: 0.0277132\n",
      "Epoch: 71, iteration: 400, loss: 0.0270058\n",
      "Epoch: 71, iteration: 450, loss: 0.0322132\n",
      "Epoch: 71, iteration: 500, loss: 0.0287095\n",
      "Epoch: 71, iteration: 550, loss: 0.030678\n",
      "Epoch: 71, iteration: 600, loss: 0.0316683\n",
      "Epoch: 71, iteration: 650, loss: 0.0358843\n",
      "Epoch: 71, iteration: 700, loss: 0.0268504\n",
      "Epoch 72\n"
     ]
    },
    {
     "data": {
      "application/vnd.jupyter.widget-view+json": {
       "model_id": "d733bf91bdb641c3b5ce17549bf5a7cb",
       "version_major": 2,
       "version_minor": 0
      },
      "text/plain": [
       "  0%|          | 0/750 [00:00<?, ?it/s]"
      ]
     },
     "metadata": {},
     "output_type": "display_data"
    },
    {
     "name": "stdout",
     "output_type": "stream",
     "text": [
      "Epoch: 72, iteration: 0, loss: 0.028218\n",
      "Epoch: 72, iteration: 50, loss: 0.0294197\n",
      "Epoch: 72, iteration: 100, loss: 0.0341422\n",
      "Epoch: 72, iteration: 150, loss: 0.0256066\n",
      "Epoch: 72, iteration: 200, loss: 0.0330896\n",
      "Epoch: 72, iteration: 250, loss: 0.0254644\n",
      "Epoch: 72, iteration: 300, loss: 0.0328164\n",
      "Epoch: 72, iteration: 350, loss: 0.0255985\n",
      "Epoch: 72, iteration: 400, loss: 0.028931\n",
      "Epoch: 72, iteration: 450, loss: 0.027679\n",
      "Epoch: 72, iteration: 500, loss: 0.0365068\n",
      "Epoch: 72, iteration: 550, loss: 0.0278721\n",
      "Epoch: 72, iteration: 600, loss: 0.0277823\n",
      "Epoch: 72, iteration: 650, loss: 0.029302\n",
      "Epoch: 72, iteration: 700, loss: 0.0288672\n",
      "Epoch 73\n"
     ]
    },
    {
     "data": {
      "application/vnd.jupyter.widget-view+json": {
       "model_id": "20c6528f566642f8a7e18417b6b1dbec",
       "version_major": 2,
       "version_minor": 0
      },
      "text/plain": [
       "  0%|          | 0/750 [00:00<?, ?it/s]"
      ]
     },
     "metadata": {},
     "output_type": "display_data"
    },
    {
     "name": "stdout",
     "output_type": "stream",
     "text": [
      "Epoch: 73, iteration: 0, loss: 0.0299365\n",
      "Epoch: 73, iteration: 50, loss: 0.0293873\n",
      "Epoch: 73, iteration: 100, loss: 0.0298534\n",
      "Epoch: 73, iteration: 150, loss: 0.0348928\n",
      "Epoch: 73, iteration: 200, loss: 0.0261885\n",
      "Epoch: 73, iteration: 250, loss: 0.0308022\n",
      "Epoch: 73, iteration: 300, loss: 0.0253583\n",
      "Epoch: 73, iteration: 350, loss: 0.030516\n",
      "Epoch: 73, iteration: 400, loss: 0.0265297\n",
      "Epoch: 73, iteration: 450, loss: 0.0277866\n",
      "Epoch: 73, iteration: 500, loss: 0.0279543\n",
      "Epoch: 73, iteration: 550, loss: 0.0331545\n",
      "Epoch: 73, iteration: 600, loss: 0.0265709\n",
      "Epoch: 73, iteration: 650, loss: 0.0310067\n",
      "Epoch: 73, iteration: 700, loss: 0.0304744\n",
      "Epoch 74\n"
     ]
    },
    {
     "data": {
      "application/vnd.jupyter.widget-view+json": {
       "model_id": "c8945645005745589ccce0c97dc02702",
       "version_major": 2,
       "version_minor": 0
      },
      "text/plain": [
       "  0%|          | 0/750 [00:00<?, ?it/s]"
      ]
     },
     "metadata": {},
     "output_type": "display_data"
    },
    {
     "name": "stdout",
     "output_type": "stream",
     "text": [
      "Epoch: 74, iteration: 0, loss: 0.0343743\n",
      "Epoch: 74, iteration: 50, loss: 0.0262353\n",
      "Epoch: 74, iteration: 100, loss: 0.0337042\n",
      "Epoch: 74, iteration: 150, loss: 0.0286818\n",
      "Epoch: 74, iteration: 200, loss: 0.0334072\n",
      "Epoch: 74, iteration: 250, loss: 0.0275273\n",
      "Epoch: 74, iteration: 300, loss: 0.0309284\n",
      "Epoch: 74, iteration: 350, loss: 0.0291656\n",
      "Epoch: 74, iteration: 400, loss: 0.0384121\n",
      "Epoch: 74, iteration: 450, loss: 0.0244681\n",
      "Epoch: 74, iteration: 500, loss: 0.0294713\n",
      "Epoch: 74, iteration: 550, loss: 0.0272449\n",
      "Epoch: 74, iteration: 600, loss: 0.0313295\n",
      "Epoch: 74, iteration: 650, loss: 0.025702\n",
      "Epoch: 74, iteration: 700, loss: 0.0306502\n",
      "\n",
      "Validating...\n"
     ]
    },
    {
     "data": {
      "application/vnd.jupyter.widget-view+json": {
       "model_id": "d4fff55085b84545bbc7eb07d46092d3",
       "version_major": 2,
       "version_minor": 0
      },
      "text/plain": [
       "  0%|          | 0/188 [00:00<?, ?it/s]"
      ]
     },
     "metadata": {},
     "output_type": "display_data"
    },
    {
     "name": "stdout",
     "output_type": "stream",
     "text": [
      "Validation: Epoch: 75, loss: 0.0278156\n",
      "Epoch 75\n"
     ]
    },
    {
     "data": {
      "application/vnd.jupyter.widget-view+json": {
       "model_id": "5912d5d26a1d49e0b21bbed3c84b47a0",
       "version_major": 2,
       "version_minor": 0
      },
      "text/plain": [
       "  0%|          | 0/750 [00:00<?, ?it/s]"
      ]
     },
     "metadata": {},
     "output_type": "display_data"
    },
    {
     "name": "stdout",
     "output_type": "stream",
     "text": [
      "Epoch: 75, iteration: 0, loss: 0.0275955\n",
      "Epoch: 75, iteration: 50, loss: 0.0351598\n",
      "Epoch: 75, iteration: 100, loss: 0.0285465\n",
      "Epoch: 75, iteration: 150, loss: 0.0301595\n",
      "Epoch: 75, iteration: 200, loss: 0.0268524\n",
      "Epoch: 75, iteration: 250, loss: 0.0309973\n",
      "Epoch: 75, iteration: 300, loss: 0.0238147\n",
      "Epoch: 75, iteration: 350, loss: 0.030242\n",
      "Epoch: 75, iteration: 400, loss: 0.0281371\n",
      "Epoch: 75, iteration: 450, loss: 0.0335919\n",
      "Epoch: 75, iteration: 500, loss: 0.0257923\n",
      "Epoch: 75, iteration: 550, loss: 0.0284356\n",
      "Epoch: 75, iteration: 600, loss: 0.0261708\n",
      "Epoch: 75, iteration: 650, loss: 0.0324841\n",
      "Epoch: 75, iteration: 700, loss: 0.0260534\n",
      "Epoch 76\n"
     ]
    },
    {
     "data": {
      "application/vnd.jupyter.widget-view+json": {
       "model_id": "8a1b8566b3e148bab78133f38a52ee9f",
       "version_major": 2,
       "version_minor": 0
      },
      "text/plain": [
       "  0%|          | 0/750 [00:00<?, ?it/s]"
      ]
     },
     "metadata": {},
     "output_type": "display_data"
    },
    {
     "name": "stdout",
     "output_type": "stream",
     "text": [
      "Epoch: 76, iteration: 0, loss: 0.029516\n",
      "Epoch: 76, iteration: 50, loss: 0.0291381\n",
      "Epoch: 76, iteration: 100, loss: 0.036111\n",
      "Epoch: 76, iteration: 150, loss: 0.0272129\n",
      "Epoch: 76, iteration: 200, loss: 0.0263824\n",
      "Epoch: 76, iteration: 250, loss: 0.027688\n",
      "Epoch: 76, iteration: 300, loss: 0.0343906\n",
      "Epoch: 76, iteration: 350, loss: 0.0243163\n",
      "Epoch: 76, iteration: 400, loss: 0.030061\n",
      "Epoch: 76, iteration: 450, loss: 0.0263394\n",
      "Epoch: 76, iteration: 500, loss: 0.0290185\n",
      "Epoch: 76, iteration: 550, loss: 0.0262221\n",
      "Epoch: 76, iteration: 600, loss: 0.0277476\n",
      "Epoch: 76, iteration: 650, loss: 0.026078\n",
      "Epoch: 76, iteration: 700, loss: 0.0303061\n",
      "Epoch 77\n"
     ]
    },
    {
     "data": {
      "application/vnd.jupyter.widget-view+json": {
       "model_id": "5e6c25d9ec0140eeb7ae2467331ceb80",
       "version_major": 2,
       "version_minor": 0
      },
      "text/plain": [
       "  0%|          | 0/750 [00:00<?, ?it/s]"
      ]
     },
     "metadata": {},
     "output_type": "display_data"
    },
    {
     "name": "stdout",
     "output_type": "stream",
     "text": [
      "Epoch: 77, iteration: 0, loss: 0.0248598\n",
      "Epoch: 77, iteration: 50, loss: 0.0311303\n",
      "Epoch: 77, iteration: 100, loss: 0.0300967\n",
      "Epoch: 77, iteration: 150, loss: 0.0326462\n",
      "Epoch: 77, iteration: 200, loss: 0.0264206\n",
      "Epoch: 77, iteration: 250, loss: 0.030946\n",
      "Epoch: 77, iteration: 300, loss: 0.0253826\n",
      "Epoch: 77, iteration: 350, loss: 0.0333053\n",
      "Epoch: 77, iteration: 400, loss: 0.0256442\n",
      "Epoch: 77, iteration: 450, loss: 0.0328323\n",
      "Epoch: 77, iteration: 500, loss: 0.0292751\n",
      "Epoch: 77, iteration: 550, loss: 0.0328912\n",
      "Epoch: 77, iteration: 600, loss: 0.0262285\n",
      "Epoch: 77, iteration: 650, loss: 0.0276943\n",
      "Epoch: 77, iteration: 700, loss: 0.0269142\n",
      "Epoch 78\n"
     ]
    },
    {
     "data": {
      "application/vnd.jupyter.widget-view+json": {
       "model_id": "2761c3f6323c43f4ab76546107231aad",
       "version_major": 2,
       "version_minor": 0
      },
      "text/plain": [
       "  0%|          | 0/750 [00:00<?, ?it/s]"
      ]
     },
     "metadata": {},
     "output_type": "display_data"
    },
    {
     "name": "stdout",
     "output_type": "stream",
     "text": [
      "Epoch: 78, iteration: 0, loss: 0.0304983\n",
      "Epoch: 78, iteration: 50, loss: 0.0265907\n",
      "Epoch: 78, iteration: 100, loss: 0.030686\n",
      "Epoch: 78, iteration: 150, loss: 0.0314107\n",
      "Epoch: 78, iteration: 200, loss: 0.033199\n",
      "Epoch: 78, iteration: 250, loss: 0.0247486\n",
      "Epoch: 78, iteration: 300, loss: 0.0320491\n",
      "Epoch: 78, iteration: 350, loss: 0.0268435\n",
      "Epoch: 78, iteration: 400, loss: 0.0339599\n",
      "Epoch: 78, iteration: 450, loss: 0.028715\n",
      "Epoch: 78, iteration: 500, loss: 0.0319299\n",
      "Epoch: 78, iteration: 550, loss: 0.0263436\n",
      "Epoch: 78, iteration: 600, loss: 0.031613\n",
      "Epoch: 78, iteration: 650, loss: 0.0262501\n",
      "Epoch: 78, iteration: 700, loss: 0.0283994\n",
      "Epoch 79\n"
     ]
    },
    {
     "data": {
      "application/vnd.jupyter.widget-view+json": {
       "model_id": "e3525e85eedd4eec8840d58f902b9568",
       "version_major": 2,
       "version_minor": 0
      },
      "text/plain": [
       "  0%|          | 0/750 [00:00<?, ?it/s]"
      ]
     },
     "metadata": {},
     "output_type": "display_data"
    },
    {
     "name": "stdout",
     "output_type": "stream",
     "text": [
      "Epoch: 79, iteration: 0, loss: 0.0277328\n",
      "Epoch: 79, iteration: 50, loss: 0.0343159\n",
      "Epoch: 79, iteration: 100, loss: 0.0278007\n",
      "Epoch: 79, iteration: 150, loss: 0.0313624\n",
      "Epoch: 79, iteration: 200, loss: 0.0313454\n",
      "Epoch: 79, iteration: 250, loss: 0.0304097\n",
      "Epoch: 79, iteration: 300, loss: 0.0246385\n",
      "Epoch: 79, iteration: 350, loss: 0.0339818\n",
      "Epoch: 79, iteration: 400, loss: 0.0285322\n",
      "Epoch: 79, iteration: 450, loss: 0.0360358\n",
      "Epoch: 79, iteration: 500, loss: 0.0262309\n",
      "Epoch: 79, iteration: 550, loss: 0.030996\n",
      "Epoch: 79, iteration: 600, loss: 0.0261222\n",
      "Epoch: 79, iteration: 650, loss: 0.0305566\n",
      "Epoch: 79, iteration: 700, loss: 0.0273652\n",
      "\n",
      "Validating...\n"
     ]
    },
    {
     "data": {
      "application/vnd.jupyter.widget-view+json": {
       "model_id": "0d7d64a4424c4290883e0b2a258f4528",
       "version_major": 2,
       "version_minor": 0
      },
      "text/plain": [
       "  0%|          | 0/188 [00:00<?, ?it/s]"
      ]
     },
     "metadata": {},
     "output_type": "display_data"
    },
    {
     "name": "stdout",
     "output_type": "stream",
     "text": [
      "Validation: Epoch: 80, loss: 0.0277705\n",
      "Epoch 80\n"
     ]
    },
    {
     "data": {
      "application/vnd.jupyter.widget-view+json": {
       "model_id": "11b34550b6ba4142901c65484f08d916",
       "version_major": 2,
       "version_minor": 0
      },
      "text/plain": [
       "  0%|          | 0/750 [00:00<?, ?it/s]"
      ]
     },
     "metadata": {},
     "output_type": "display_data"
    },
    {
     "name": "stdout",
     "output_type": "stream",
     "text": [
      "Epoch: 80, iteration: 0, loss: 0.0301118\n",
      "Epoch: 80, iteration: 50, loss: 0.0275246\n",
      "Epoch: 80, iteration: 100, loss: 0.0345671\n",
      "Epoch: 80, iteration: 150, loss: 0.0266761\n",
      "Epoch: 80, iteration: 200, loss: 0.0300788\n",
      "Epoch: 80, iteration: 250, loss: 0.0280884\n",
      "Epoch: 80, iteration: 300, loss: 0.0340146\n",
      "Epoch: 80, iteration: 350, loss: 0.0241942\n",
      "Epoch: 80, iteration: 400, loss: 0.0283958\n",
      "Epoch: 80, iteration: 450, loss: 0.0265805\n",
      "Epoch: 80, iteration: 500, loss: 0.032952\n",
      "Epoch: 80, iteration: 550, loss: 0.0259894\n",
      "Epoch: 80, iteration: 600, loss: 0.0273712\n",
      "Epoch: 80, iteration: 650, loss: 0.0280843\n",
      "Epoch: 80, iteration: 700, loss: 0.0313263\n",
      "Epoch 81\n"
     ]
    },
    {
     "data": {
      "application/vnd.jupyter.widget-view+json": {
       "model_id": "8234df0933aa4f38a9ee617484c03ad6",
       "version_major": 2,
       "version_minor": 0
      },
      "text/plain": [
       "  0%|          | 0/750 [00:00<?, ?it/s]"
      ]
     },
     "metadata": {},
     "output_type": "display_data"
    },
    {
     "name": "stdout",
     "output_type": "stream",
     "text": [
      "Epoch: 81, iteration: 0, loss: 0.0277293\n",
      "Epoch: 81, iteration: 50, loss: 0.0308604\n",
      "Epoch: 81, iteration: 100, loss: 0.0290762\n",
      "Epoch: 81, iteration: 150, loss: 0.0340828\n",
      "Epoch: 81, iteration: 200, loss: 0.0285195\n",
      "Epoch: 81, iteration: 250, loss: 0.0296177\n",
      "Epoch: 81, iteration: 300, loss: 0.0275064\n",
      "Epoch: 81, iteration: 350, loss: 0.0298825\n",
      "Epoch: 81, iteration: 400, loss: 0.0240254\n",
      "Epoch: 81, iteration: 450, loss: 0.0288648\n",
      "Epoch: 81, iteration: 500, loss: 0.0248286\n",
      "Epoch: 81, iteration: 550, loss: 0.0342144\n",
      "Epoch: 81, iteration: 600, loss: 0.0272776\n",
      "Epoch: 81, iteration: 650, loss: 0.0304461\n",
      "Epoch: 81, iteration: 700, loss: 0.0287538\n",
      "Epoch 82\n"
     ]
    },
    {
     "data": {
      "application/vnd.jupyter.widget-view+json": {
       "model_id": "c1ab7b7879fe4cadadffae46f98d1405",
       "version_major": 2,
       "version_minor": 0
      },
      "text/plain": [
       "  0%|          | 0/750 [00:00<?, ?it/s]"
      ]
     },
     "metadata": {},
     "output_type": "display_data"
    },
    {
     "name": "stdout",
     "output_type": "stream",
     "text": [
      "Epoch: 82, iteration: 0, loss: 0.0355183\n",
      "Epoch: 82, iteration: 50, loss: 0.0267743\n",
      "Epoch: 82, iteration: 100, loss: 0.0278995\n",
      "Epoch: 82, iteration: 150, loss: 0.0267043\n",
      "Epoch: 82, iteration: 200, loss: 0.0322752\n",
      "Epoch: 82, iteration: 250, loss: 0.0252954\n",
      "Epoch: 82, iteration: 300, loss: 0.0304588\n",
      "Epoch: 82, iteration: 350, loss: 0.030372\n",
      "Epoch: 82, iteration: 400, loss: 0.0328976\n",
      "Epoch: 82, iteration: 450, loss: 0.0266311\n",
      "Epoch: 82, iteration: 500, loss: 0.0300741\n",
      "Epoch: 82, iteration: 550, loss: 0.0260441\n",
      "Epoch: 82, iteration: 600, loss: 0.0328786\n",
      "Epoch: 82, iteration: 650, loss: 0.0266951\n",
      "Epoch: 82, iteration: 700, loss: 0.0296515\n",
      "Epoch 83\n"
     ]
    },
    {
     "data": {
      "application/vnd.jupyter.widget-view+json": {
       "model_id": "9806668837fc4a4392178d1e3c0a223d",
       "version_major": 2,
       "version_minor": 0
      },
      "text/plain": [
       "  0%|          | 0/750 [00:00<?, ?it/s]"
      ]
     },
     "metadata": {},
     "output_type": "display_data"
    },
    {
     "name": "stdout",
     "output_type": "stream",
     "text": [
      "Epoch: 83, iteration: 0, loss: 0.0269685\n",
      "Epoch: 83, iteration: 50, loss: 0.0294624\n",
      "Epoch: 83, iteration: 100, loss: 0.0242572\n",
      "Epoch: 83, iteration: 150, loss: 0.0286208\n",
      "Epoch: 83, iteration: 200, loss: 0.0293332\n",
      "Epoch: 83, iteration: 250, loss: 0.0321016\n",
      "Epoch: 83, iteration: 300, loss: 0.0278723\n",
      "Epoch: 83, iteration: 350, loss: 0.0302894\n",
      "Epoch: 83, iteration: 400, loss: 0.029414\n",
      "Epoch: 83, iteration: 450, loss: 0.032148\n",
      "Epoch: 83, iteration: 500, loss: 0.0242195\n",
      "Epoch: 83, iteration: 550, loss: 0.0315367\n",
      "Epoch: 83, iteration: 600, loss: 0.0241273\n",
      "Epoch: 83, iteration: 650, loss: 0.0335491\n",
      "Epoch: 83, iteration: 700, loss: 0.0281611\n",
      "Epoch 84\n"
     ]
    },
    {
     "data": {
      "application/vnd.jupyter.widget-view+json": {
       "model_id": "3ac4545064d4493590600377ce19e637",
       "version_major": 2,
       "version_minor": 0
      },
      "text/plain": [
       "  0%|          | 0/750 [00:00<?, ?it/s]"
      ]
     },
     "metadata": {},
     "output_type": "display_data"
    },
    {
     "name": "stdout",
     "output_type": "stream",
     "text": [
      "Epoch: 84, iteration: 0, loss: 0.0283959\n",
      "Epoch: 84, iteration: 50, loss: 0.0283108\n",
      "Epoch: 84, iteration: 100, loss: 0.035757\n",
      "Epoch: 84, iteration: 150, loss: 0.0241068\n",
      "Epoch: 84, iteration: 200, loss: 0.0280695\n",
      "Epoch: 84, iteration: 250, loss: 0.031943\n",
      "Epoch: 84, iteration: 300, loss: 0.0320092\n",
      "Epoch: 84, iteration: 350, loss: 0.0282056\n",
      "Epoch: 84, iteration: 400, loss: 0.0323147\n",
      "Epoch: 84, iteration: 450, loss: 0.0279462\n",
      "Epoch: 84, iteration: 500, loss: 0.0328928\n",
      "Epoch: 84, iteration: 550, loss: 0.0254104\n",
      "Epoch: 84, iteration: 600, loss: 0.0297657\n",
      "Epoch: 84, iteration: 650, loss: 0.0263752\n",
      "Epoch: 84, iteration: 700, loss: 0.0364921\n",
      "\n",
      "Validating...\n"
     ]
    },
    {
     "data": {
      "application/vnd.jupyter.widget-view+json": {
       "model_id": "309d13d1e0c24c67ba834e330f38db0c",
       "version_major": 2,
       "version_minor": 0
      },
      "text/plain": [
       "  0%|          | 0/188 [00:00<?, ?it/s]"
      ]
     },
     "metadata": {},
     "output_type": "display_data"
    },
    {
     "name": "stdout",
     "output_type": "stream",
     "text": [
      "Validation: Epoch: 85, loss: 0.0277304\n",
      "Epoch 85\n"
     ]
    },
    {
     "data": {
      "application/vnd.jupyter.widget-view+json": {
       "model_id": "40394c442586487bb0f8e164cf673c75",
       "version_major": 2,
       "version_minor": 0
      },
      "text/plain": [
       "  0%|          | 0/750 [00:00<?, ?it/s]"
      ]
     },
     "metadata": {},
     "output_type": "display_data"
    },
    {
     "name": "stdout",
     "output_type": "stream",
     "text": [
      "Epoch: 85, iteration: 0, loss: 0.0272807\n",
      "Epoch: 85, iteration: 50, loss: 0.0295361\n",
      "Epoch: 85, iteration: 100, loss: 0.0292041\n",
      "Epoch: 85, iteration: 150, loss: 0.0323977\n",
      "Epoch: 85, iteration: 200, loss: 0.0269439\n",
      "Epoch: 85, iteration: 250, loss: 0.0298561\n",
      "Epoch: 85, iteration: 300, loss: 0.0267384\n",
      "Epoch: 85, iteration: 350, loss: 0.0319407\n",
      "Epoch: 85, iteration: 400, loss: 0.0250584\n",
      "Epoch: 85, iteration: 450, loss: 0.0335042\n",
      "Epoch: 85, iteration: 500, loss: 0.0254192\n",
      "Epoch: 85, iteration: 550, loss: 0.0300817\n",
      "Epoch: 85, iteration: 600, loss: 0.0260583\n",
      "Epoch: 85, iteration: 650, loss: 0.0309746\n",
      "Epoch: 85, iteration: 700, loss: 0.0293573\n",
      "Epoch 86\n"
     ]
    },
    {
     "data": {
      "application/vnd.jupyter.widget-view+json": {
       "model_id": "10b1d03afab24d03b08732f06e3f3c87",
       "version_major": 2,
       "version_minor": 0
      },
      "text/plain": [
       "  0%|          | 0/750 [00:00<?, ?it/s]"
      ]
     },
     "metadata": {},
     "output_type": "display_data"
    },
    {
     "name": "stdout",
     "output_type": "stream",
     "text": [
      "Epoch: 86, iteration: 0, loss: 0.0303142\n",
      "Epoch: 86, iteration: 50, loss: 0.0244866\n",
      "Epoch: 86, iteration: 100, loss: 0.028959\n",
      "Epoch: 86, iteration: 150, loss: 0.0250577\n",
      "Epoch: 86, iteration: 200, loss: 0.0332128\n",
      "Epoch: 86, iteration: 250, loss: 0.0241132\n",
      "Epoch: 86, iteration: 300, loss: 0.0294176\n",
      "Epoch: 86, iteration: 350, loss: 0.0268812\n",
      "Epoch: 86, iteration: 400, loss: 0.0331336\n",
      "Epoch: 86, iteration: 450, loss: 0.0234016\n",
      "Epoch: 86, iteration: 500, loss: 0.0287516\n",
      "Epoch: 86, iteration: 550, loss: 0.02679\n",
      "Epoch: 86, iteration: 600, loss: 0.0335462\n",
      "Epoch: 86, iteration: 650, loss: 0.0247981\n",
      "Epoch: 86, iteration: 700, loss: 0.0304191\n",
      "Epoch 87\n"
     ]
    },
    {
     "data": {
      "application/vnd.jupyter.widget-view+json": {
       "model_id": "fc54b65436c340c19b2881cd25cf6d8c",
       "version_major": 2,
       "version_minor": 0
      },
      "text/plain": [
       "  0%|          | 0/750 [00:00<?, ?it/s]"
      ]
     },
     "metadata": {},
     "output_type": "display_data"
    },
    {
     "name": "stdout",
     "output_type": "stream",
     "text": [
      "Epoch: 87, iteration: 0, loss: 0.026727\n",
      "Epoch: 87, iteration: 50, loss: 0.0321378\n",
      "Epoch: 87, iteration: 100, loss: 0.0255247\n",
      "Epoch: 87, iteration: 150, loss: 0.0296768\n",
      "Epoch: 87, iteration: 200, loss: 0.0275259\n",
      "Epoch: 87, iteration: 250, loss: 0.0323088\n",
      "Epoch: 87, iteration: 300, loss: 0.0266198\n",
      "Epoch: 87, iteration: 350, loss: 0.0300502\n",
      "Epoch: 87, iteration: 400, loss: 0.0247578\n",
      "Epoch: 87, iteration: 450, loss: 0.0358669\n",
      "Epoch: 87, iteration: 500, loss: 0.0254224\n",
      "Epoch: 87, iteration: 550, loss: 0.030921\n",
      "Epoch: 87, iteration: 600, loss: 0.0289406\n",
      "Epoch: 87, iteration: 650, loss: 0.0323699\n",
      "Epoch: 87, iteration: 700, loss: 0.0265501\n",
      "Epoch 88\n"
     ]
    },
    {
     "data": {
      "application/vnd.jupyter.widget-view+json": {
       "model_id": "284174c97e92455d80baa2008e6357c5",
       "version_major": 2,
       "version_minor": 0
      },
      "text/plain": [
       "  0%|          | 0/750 [00:00<?, ?it/s]"
      ]
     },
     "metadata": {},
     "output_type": "display_data"
    },
    {
     "name": "stdout",
     "output_type": "stream",
     "text": [
      "Epoch: 88, iteration: 0, loss: 0.0272422\n",
      "Epoch: 88, iteration: 50, loss: 0.0259878\n",
      "Epoch: 88, iteration: 100, loss: 0.0361278\n",
      "Epoch: 88, iteration: 150, loss: 0.0258139\n",
      "Epoch: 88, iteration: 200, loss: 0.0273582\n",
      "Epoch: 88, iteration: 250, loss: 0.0275947\n",
      "Epoch: 88, iteration: 300, loss: 0.0330055\n",
      "Epoch: 88, iteration: 350, loss: 0.0265133\n",
      "Epoch: 88, iteration: 400, loss: 0.0284072\n",
      "Epoch: 88, iteration: 450, loss: 0.028269\n",
      "Epoch: 88, iteration: 500, loss: 0.0331161\n",
      "Epoch: 88, iteration: 550, loss: 0.0264923\n",
      "Epoch: 88, iteration: 600, loss: 0.029743\n",
      "Epoch: 88, iteration: 650, loss: 0.0275097\n",
      "Epoch: 88, iteration: 700, loss: 0.0317593\n",
      "Epoch 89\n"
     ]
    },
    {
     "data": {
      "application/vnd.jupyter.widget-view+json": {
       "model_id": "07114a0e566f4404814aa03e29ccc361",
       "version_major": 2,
       "version_minor": 0
      },
      "text/plain": [
       "  0%|          | 0/750 [00:00<?, ?it/s]"
      ]
     },
     "metadata": {},
     "output_type": "display_data"
    },
    {
     "name": "stdout",
     "output_type": "stream",
     "text": [
      "Epoch: 89, iteration: 0, loss: 0.0271494\n",
      "Epoch: 89, iteration: 50, loss: 0.0302162\n",
      "Epoch: 89, iteration: 100, loss: 0.0264925\n",
      "Epoch: 89, iteration: 150, loss: 0.0352468\n",
      "Epoch: 89, iteration: 200, loss: 0.0237387\n",
      "Epoch: 89, iteration: 250, loss: 0.033294\n",
      "Epoch: 89, iteration: 300, loss: 0.0271736\n",
      "Epoch: 89, iteration: 350, loss: 0.0339441\n",
      "Epoch: 89, iteration: 400, loss: 0.0249401\n",
      "Epoch: 89, iteration: 450, loss: 0.0284212\n",
      "Epoch: 89, iteration: 500, loss: 0.0284332\n",
      "Epoch: 89, iteration: 550, loss: 0.0333822\n",
      "Epoch: 89, iteration: 600, loss: 0.0260588\n",
      "Epoch: 89, iteration: 650, loss: 0.0284226\n",
      "Epoch: 89, iteration: 700, loss: 0.0274671\n",
      "\n",
      "Validating...\n"
     ]
    },
    {
     "data": {
      "application/vnd.jupyter.widget-view+json": {
       "model_id": "13e647b11ea745d1beb5286aaf2f464b",
       "version_major": 2,
       "version_minor": 0
      },
      "text/plain": [
       "  0%|          | 0/188 [00:00<?, ?it/s]"
      ]
     },
     "metadata": {},
     "output_type": "display_data"
    },
    {
     "name": "stdout",
     "output_type": "stream",
     "text": [
      "Validation: Epoch: 90, loss: 0.0276888\n",
      "Epoch 90\n"
     ]
    },
    {
     "data": {
      "application/vnd.jupyter.widget-view+json": {
       "model_id": "a5aa2802f37441a6be051291058d2e5a",
       "version_major": 2,
       "version_minor": 0
      },
      "text/plain": [
       "  0%|          | 0/750 [00:00<?, ?it/s]"
      ]
     },
     "metadata": {},
     "output_type": "display_data"
    },
    {
     "name": "stdout",
     "output_type": "stream",
     "text": [
      "Epoch: 90, iteration: 0, loss: 0.0342822\n",
      "Epoch: 90, iteration: 50, loss: 0.0239113\n",
      "Epoch: 90, iteration: 100, loss: 0.0321053\n",
      "Epoch: 90, iteration: 150, loss: 0.0293292\n",
      "Epoch: 90, iteration: 200, loss: 0.034183\n",
      "Epoch: 90, iteration: 250, loss: 0.0270956\n",
      "Epoch: 90, iteration: 300, loss: 0.0290974\n",
      "Epoch: 90, iteration: 350, loss: 0.0270601\n",
      "Epoch: 90, iteration: 400, loss: 0.0335787\n",
      "Epoch: 90, iteration: 450, loss: 0.0268091\n",
      "Epoch: 90, iteration: 500, loss: 0.0289145\n",
      "Epoch: 90, iteration: 550, loss: 0.0268885\n",
      "Epoch: 90, iteration: 600, loss: 0.0341143\n",
      "Epoch: 90, iteration: 650, loss: 0.0268508\n",
      "Epoch: 90, iteration: 700, loss: 0.0329878\n",
      "Epoch 91\n"
     ]
    },
    {
     "data": {
      "application/vnd.jupyter.widget-view+json": {
       "model_id": "2134a6ae9068485a8b70551b07c3e44e",
       "version_major": 2,
       "version_minor": 0
      },
      "text/plain": [
       "  0%|          | 0/750 [00:00<?, ?it/s]"
      ]
     },
     "metadata": {},
     "output_type": "display_data"
    },
    {
     "name": "stdout",
     "output_type": "stream",
     "text": [
      "Epoch: 91, iteration: 0, loss: 0.0275367\n",
      "Epoch: 91, iteration: 50, loss: 0.0332539\n",
      "Epoch: 91, iteration: 100, loss: 0.0266321\n",
      "Epoch: 91, iteration: 150, loss: 0.0263192\n",
      "Epoch: 91, iteration: 200, loss: 0.0277476\n",
      "Epoch: 91, iteration: 250, loss: 0.0335651\n",
      "Epoch: 91, iteration: 300, loss: 0.0269911\n",
      "Epoch: 91, iteration: 350, loss: 0.0294558\n",
      "Epoch: 91, iteration: 400, loss: 0.0304875\n",
      "Epoch: 91, iteration: 450, loss: 0.0325293\n",
      "Epoch: 91, iteration: 500, loss: 0.0281818\n",
      "Epoch: 91, iteration: 550, loss: 0.0297066\n",
      "Epoch: 91, iteration: 600, loss: 0.029784\n",
      "Epoch: 91, iteration: 650, loss: 0.0309828\n",
      "Epoch: 91, iteration: 700, loss: 0.0274821\n",
      "Epoch 92\n"
     ]
    },
    {
     "data": {
      "application/vnd.jupyter.widget-view+json": {
       "model_id": "01c6b86377a243b7bf93c43ba8af7b39",
       "version_major": 2,
       "version_minor": 0
      },
      "text/plain": [
       "  0%|          | 0/750 [00:00<?, ?it/s]"
      ]
     },
     "metadata": {},
     "output_type": "display_data"
    },
    {
     "name": "stdout",
     "output_type": "stream",
     "text": [
      "Epoch: 92, iteration: 0, loss: 0.03173\n",
      "Epoch: 92, iteration: 50, loss: 0.0271576\n",
      "Epoch: 92, iteration: 100, loss: 0.0312661\n",
      "Epoch: 92, iteration: 150, loss: 0.0271837\n",
      "Epoch: 92, iteration: 200, loss: 0.0326336\n",
      "Epoch: 92, iteration: 250, loss: 0.0277893\n",
      "Epoch: 92, iteration: 300, loss: 0.0327393\n",
      "Epoch: 92, iteration: 350, loss: 0.0269631\n",
      "Epoch: 92, iteration: 400, loss: 0.0298442\n",
      "Epoch: 92, iteration: 450, loss: 0.0297538\n",
      "Epoch: 92, iteration: 500, loss: 0.0301551\n",
      "Epoch: 92, iteration: 550, loss: 0.0260665\n",
      "Epoch: 92, iteration: 600, loss: 0.0296375\n",
      "Epoch: 92, iteration: 650, loss: 0.0259273\n",
      "Epoch: 92, iteration: 700, loss: 0.034825\n",
      "Epoch 93\n"
     ]
    },
    {
     "data": {
      "application/vnd.jupyter.widget-view+json": {
       "model_id": "16e1a98440e5469e944ef40a9d77d6d3",
       "version_major": 2,
       "version_minor": 0
      },
      "text/plain": [
       "  0%|          | 0/750 [00:00<?, ?it/s]"
      ]
     },
     "metadata": {},
     "output_type": "display_data"
    },
    {
     "name": "stdout",
     "output_type": "stream",
     "text": [
      "Epoch: 93, iteration: 0, loss: 0.0257718\n",
      "Epoch: 93, iteration: 50, loss: 0.0278244\n",
      "Epoch: 93, iteration: 100, loss: 0.0287121\n",
      "Epoch: 93, iteration: 150, loss: 0.0326669\n",
      "Epoch: 93, iteration: 200, loss: 0.0249453\n",
      "Epoch: 93, iteration: 250, loss: 0.0287293\n",
      "Epoch: 93, iteration: 300, loss: 0.0270678\n",
      "Epoch: 93, iteration: 350, loss: 0.0306509\n",
      "Epoch: 93, iteration: 400, loss: 0.0257417\n",
      "Epoch: 93, iteration: 450, loss: 0.0318091\n",
      "Epoch: 93, iteration: 500, loss: 0.0291138\n",
      "Epoch: 93, iteration: 550, loss: 0.0323116\n",
      "Epoch: 93, iteration: 600, loss: 0.0250124\n",
      "Epoch: 93, iteration: 650, loss: 0.0276361\n",
      "Epoch: 93, iteration: 700, loss: 0.0266103\n",
      "Epoch 94\n"
     ]
    },
    {
     "data": {
      "application/vnd.jupyter.widget-view+json": {
       "model_id": "3dff21729546482f965e23d4561de45c",
       "version_major": 2,
       "version_minor": 0
      },
      "text/plain": [
       "  0%|          | 0/750 [00:00<?, ?it/s]"
      ]
     },
     "metadata": {},
     "output_type": "display_data"
    },
    {
     "name": "stdout",
     "output_type": "stream",
     "text": [
      "Epoch: 94, iteration: 0, loss: 0.0333915\n",
      "Epoch: 94, iteration: 50, loss: 0.0295467\n",
      "Epoch: 94, iteration: 100, loss: 0.0291134\n",
      "Epoch: 94, iteration: 150, loss: 0.0265707\n",
      "Epoch: 94, iteration: 200, loss: 0.0328577\n",
      "Epoch: 94, iteration: 250, loss: 0.0237499\n",
      "Epoch: 94, iteration: 300, loss: 0.0327685\n",
      "Epoch: 94, iteration: 350, loss: 0.0267752\n",
      "Epoch: 94, iteration: 400, loss: 0.0317625\n",
      "Epoch: 94, iteration: 450, loss: 0.0241989\n",
      "Epoch: 94, iteration: 500, loss: 0.0293517\n",
      "Epoch: 94, iteration: 550, loss: 0.0264004\n",
      "Epoch: 94, iteration: 600, loss: 0.0344061\n",
      "Epoch: 94, iteration: 650, loss: 0.0268995\n",
      "Epoch: 94, iteration: 700, loss: 0.0282389\n",
      "\n",
      "Validating...\n"
     ]
    },
    {
     "data": {
      "application/vnd.jupyter.widget-view+json": {
       "model_id": "6e6b92201c094228ac65ee3d4bd13e0f",
       "version_major": 2,
       "version_minor": 0
      },
      "text/plain": [
       "  0%|          | 0/188 [00:00<?, ?it/s]"
      ]
     },
     "metadata": {},
     "output_type": "display_data"
    },
    {
     "name": "stdout",
     "output_type": "stream",
     "text": [
      "Validation: Epoch: 95, loss: 0.0276598\n",
      "Epoch 95\n"
     ]
    },
    {
     "data": {
      "application/vnd.jupyter.widget-view+json": {
       "model_id": "0c2629f267204e09918f9965d525d1ab",
       "version_major": 2,
       "version_minor": 0
      },
      "text/plain": [
       "  0%|          | 0/750 [00:00<?, ?it/s]"
      ]
     },
     "metadata": {},
     "output_type": "display_data"
    },
    {
     "name": "stdout",
     "output_type": "stream",
     "text": [
      "Epoch: 95, iteration: 0, loss: 0.0295312\n",
      "Epoch: 95, iteration: 50, loss: 0.0339704\n",
      "Epoch: 95, iteration: 100, loss: 0.0258474\n",
      "Epoch: 95, iteration: 150, loss: 0.0315088\n",
      "Epoch: 95, iteration: 200, loss: 0.0262492\n",
      "Epoch: 95, iteration: 250, loss: 0.0318208\n",
      "Epoch: 95, iteration: 300, loss: 0.0274265\n",
      "Epoch: 95, iteration: 350, loss: 0.0310734\n",
      "Epoch: 95, iteration: 400, loss: 0.0265618\n",
      "Epoch: 95, iteration: 450, loss: 0.0347653\n",
      "Epoch: 95, iteration: 500, loss: 0.0264319\n",
      "Epoch: 95, iteration: 550, loss: 0.0306966\n",
      "Epoch: 95, iteration: 600, loss: 0.0270775\n",
      "Epoch: 95, iteration: 650, loss: 0.0338949\n",
      "Epoch: 95, iteration: 700, loss: 0.0267096\n",
      "Epoch 96\n"
     ]
    },
    {
     "data": {
      "application/vnd.jupyter.widget-view+json": {
       "model_id": "fda680a30d834b149cd883bfbf7b5191",
       "version_major": 2,
       "version_minor": 0
      },
      "text/plain": [
       "  0%|          | 0/750 [00:00<?, ?it/s]"
      ]
     },
     "metadata": {},
     "output_type": "display_data"
    },
    {
     "name": "stdout",
     "output_type": "stream",
     "text": [
      "Epoch: 96, iteration: 0, loss: 0.0269465\n",
      "Epoch: 96, iteration: 50, loss: 0.0285685\n",
      "Epoch: 96, iteration: 100, loss: 0.0331262\n",
      "Epoch: 96, iteration: 150, loss: 0.0259668\n",
      "Epoch: 96, iteration: 200, loss: 0.0290269\n",
      "Epoch: 96, iteration: 250, loss: 0.0279402\n",
      "Epoch: 96, iteration: 300, loss: 0.0337015\n",
      "Epoch: 96, iteration: 350, loss: 0.027386\n",
      "Epoch: 96, iteration: 400, loss: 0.0298997\n",
      "Epoch: 96, iteration: 450, loss: 0.024974\n",
      "Epoch: 96, iteration: 500, loss: 0.0352369\n",
      "Epoch: 96, iteration: 550, loss: 0.025801\n",
      "Epoch: 96, iteration: 600, loss: 0.0336371\n",
      "Epoch: 96, iteration: 650, loss: 0.0284801\n",
      "Epoch: 96, iteration: 700, loss: 0.0276404\n",
      "Epoch 97\n"
     ]
    },
    {
     "data": {
      "application/vnd.jupyter.widget-view+json": {
       "model_id": "1f4c166fb818457ab6013dd579054fa4",
       "version_major": 2,
       "version_minor": 0
      },
      "text/plain": [
       "  0%|          | 0/750 [00:00<?, ?it/s]"
      ]
     },
     "metadata": {},
     "output_type": "display_data"
    },
    {
     "name": "stdout",
     "output_type": "stream",
     "text": [
      "Epoch: 97, iteration: 0, loss: 0.0266731\n",
      "Epoch: 97, iteration: 50, loss: 0.029712\n",
      "Epoch: 97, iteration: 100, loss: 0.0248753\n",
      "Epoch: 97, iteration: 150, loss: 0.0324092\n",
      "Epoch: 97, iteration: 200, loss: 0.0251206\n",
      "Epoch: 97, iteration: 250, loss: 0.0306803\n",
      "Epoch: 97, iteration: 300, loss: 0.0275495\n",
      "Epoch: 97, iteration: 350, loss: 0.0332831\n",
      "Epoch: 97, iteration: 400, loss: 0.029209\n",
      "Epoch: 97, iteration: 450, loss: 0.0296359\n",
      "Epoch: 97, iteration: 500, loss: 0.0277583\n",
      "Epoch: 97, iteration: 550, loss: 0.0331357\n",
      "Epoch: 97, iteration: 600, loss: 0.026581\n",
      "Epoch: 97, iteration: 650, loss: 0.0316805\n",
      "Epoch: 97, iteration: 700, loss: 0.0310727\n",
      "Epoch 98\n"
     ]
    },
    {
     "data": {
      "application/vnd.jupyter.widget-view+json": {
       "model_id": "05e57514ee064a8d9e6af3b36c116af1",
       "version_major": 2,
       "version_minor": 0
      },
      "text/plain": [
       "  0%|          | 0/750 [00:00<?, ?it/s]"
      ]
     },
     "metadata": {},
     "output_type": "display_data"
    },
    {
     "name": "stdout",
     "output_type": "stream",
     "text": [
      "Epoch: 98, iteration: 0, loss: 0.0299011\n",
      "Epoch: 98, iteration: 50, loss: 0.0238885\n",
      "Epoch: 98, iteration: 100, loss: 0.0289377\n",
      "Epoch: 98, iteration: 150, loss: 0.027092\n",
      "Epoch: 98, iteration: 200, loss: 0.0337176\n",
      "Epoch: 98, iteration: 250, loss: 0.0284128\n",
      "Epoch: 98, iteration: 300, loss: 0.0294092\n",
      "Epoch: 98, iteration: 350, loss: 0.0283764\n",
      "Epoch: 98, iteration: 400, loss: 0.0323068\n",
      "Epoch: 98, iteration: 450, loss: 0.0274484\n",
      "Epoch: 98, iteration: 500, loss: 0.0280381\n",
      "Epoch: 98, iteration: 550, loss: 0.0262716\n",
      "Epoch: 98, iteration: 600, loss: 0.0338541\n",
      "Epoch: 98, iteration: 650, loss: 0.0253216\n",
      "Epoch: 98, iteration: 700, loss: 0.0287341\n",
      "Epoch 99\n"
     ]
    },
    {
     "data": {
      "application/vnd.jupyter.widget-view+json": {
       "model_id": "ecc21f54170a41a486365b905b834247",
       "version_major": 2,
       "version_minor": 0
      },
      "text/plain": [
       "  0%|          | 0/750 [00:00<?, ?it/s]"
      ]
     },
     "metadata": {},
     "output_type": "display_data"
    },
    {
     "name": "stdout",
     "output_type": "stream",
     "text": [
      "Epoch: 99, iteration: 0, loss: 0.0245704\n",
      "Epoch: 99, iteration: 50, loss: 0.033808\n",
      "Epoch: 99, iteration: 100, loss: 0.0265187\n",
      "Epoch: 99, iteration: 150, loss: 0.028943\n",
      "Epoch: 99, iteration: 200, loss: 0.0252166\n",
      "Epoch: 99, iteration: 250, loss: 0.0368529\n",
      "Epoch: 99, iteration: 300, loss: 0.0272768\n",
      "Epoch: 99, iteration: 350, loss: 0.0322493\n",
      "Epoch: 99, iteration: 400, loss: 0.0283531\n",
      "Epoch: 99, iteration: 450, loss: 0.0335404\n",
      "Epoch: 99, iteration: 500, loss: 0.0254062\n",
      "Epoch: 99, iteration: 550, loss: 0.0295608\n",
      "Epoch: 99, iteration: 600, loss: 0.026909\n",
      "Epoch: 99, iteration: 650, loss: 0.0343548\n",
      "Epoch: 99, iteration: 700, loss: 0.0255538\n",
      "\n",
      "Validating...\n"
     ]
    },
    {
     "data": {
      "application/vnd.jupyter.widget-view+json": {
       "model_id": "ff64ad34fa8b48a8affc2925d1c35e68",
       "version_major": 2,
       "version_minor": 0
      },
      "text/plain": [
       "  0%|          | 0/188 [00:00<?, ?it/s]"
      ]
     },
     "metadata": {},
     "output_type": "display_data"
    },
    {
     "name": "stdout",
     "output_type": "stream",
     "text": [
      "Validation: Epoch: 100, loss: 0.0276296\n",
      "Epoch 100\n"
     ]
    },
    {
     "data": {
      "application/vnd.jupyter.widget-view+json": {
       "model_id": "01fed19009424392a6a6c9bb16aadd15",
       "version_major": 2,
       "version_minor": 0
      },
      "text/plain": [
       "  0%|          | 0/750 [00:00<?, ?it/s]"
      ]
     },
     "metadata": {},
     "output_type": "display_data"
    },
    {
     "name": "stdout",
     "output_type": "stream",
     "text": [
      "Epoch: 100, iteration: 0, loss: 0.0292079\n",
      "Epoch: 100, iteration: 50, loss: 0.0279702\n",
      "Epoch: 100, iteration: 100, loss: 0.0290031\n",
      "Epoch: 100, iteration: 150, loss: 0.0263678\n",
      "Epoch: 100, iteration: 200, loss: 0.0291752\n",
      "Epoch: 100, iteration: 250, loss: 0.0272305\n",
      "Epoch: 100, iteration: 300, loss: 0.031684\n",
      "Epoch: 100, iteration: 350, loss: 0.0269099\n",
      "Epoch: 100, iteration: 400, loss: 0.0320893\n",
      "Epoch: 100, iteration: 450, loss: 0.0269353\n",
      "Epoch: 100, iteration: 500, loss: 0.033877\n",
      "Epoch: 100, iteration: 550, loss: 0.0242044\n",
      "Epoch: 100, iteration: 600, loss: 0.030283\n",
      "Epoch: 100, iteration: 650, loss: 0.0285251\n",
      "Epoch: 100, iteration: 700, loss: 0.0334226\n",
      "Epoch 101\n"
     ]
    },
    {
     "data": {
      "application/vnd.jupyter.widget-view+json": {
       "model_id": "24971b7eb71a4292a07e4bf3ea2148a8",
       "version_major": 2,
       "version_minor": 0
      },
      "text/plain": [
       "  0%|          | 0/750 [00:00<?, ?it/s]"
      ]
     },
     "metadata": {},
     "output_type": "display_data"
    },
    {
     "name": "stdout",
     "output_type": "stream",
     "text": [
      "Epoch: 101, iteration: 0, loss: 0.0237449\n",
      "Epoch: 101, iteration: 50, loss: 0.0297604\n",
      "Epoch: 101, iteration: 100, loss: 0.0267492\n",
      "Epoch: 101, iteration: 150, loss: 0.0336403\n",
      "Epoch: 101, iteration: 200, loss: 0.0228626\n",
      "Epoch: 101, iteration: 250, loss: 0.0294898\n",
      "Epoch: 101, iteration: 300, loss: 0.026584\n",
      "Epoch: 101, iteration: 350, loss: 0.0334522\n",
      "Epoch: 101, iteration: 400, loss: 0.0265899\n",
      "Epoch: 101, iteration: 450, loss: 0.0312864\n",
      "Epoch: 101, iteration: 500, loss: 0.0309018\n",
      "Epoch: 101, iteration: 550, loss: 0.03194\n",
      "Epoch: 101, iteration: 600, loss: 0.0272299\n",
      "Epoch: 101, iteration: 650, loss: 0.0301168\n",
      "Epoch: 101, iteration: 700, loss: 0.024016\n",
      "Epoch 102\n"
     ]
    },
    {
     "data": {
      "application/vnd.jupyter.widget-view+json": {
       "model_id": "10992c838081414cad968c2c2697d3a9",
       "version_major": 2,
       "version_minor": 0
      },
      "text/plain": [
       "  0%|          | 0/750 [00:00<?, ?it/s]"
      ]
     },
     "metadata": {},
     "output_type": "display_data"
    },
    {
     "name": "stdout",
     "output_type": "stream",
     "text": [
      "Epoch: 102, iteration: 0, loss: 0.0300649\n",
      "Epoch: 102, iteration: 50, loss: 0.0269776\n",
      "Epoch: 102, iteration: 100, loss: 0.029538\n",
      "Epoch: 102, iteration: 150, loss: 0.0289035\n",
      "Epoch: 102, iteration: 200, loss: 0.0370678\n",
      "Epoch: 102, iteration: 250, loss: 0.0260219\n",
      "Epoch: 102, iteration: 300, loss: 0.0308983\n",
      "Epoch: 102, iteration: 350, loss: 0.0262904\n",
      "Epoch: 102, iteration: 400, loss: 0.0330614\n",
      "Epoch: 102, iteration: 450, loss: 0.0265806\n",
      "Epoch: 102, iteration: 500, loss: 0.0335717\n",
      "Epoch: 102, iteration: 550, loss: 0.0312698\n",
      "Epoch: 102, iteration: 600, loss: 0.0299277\n",
      "Epoch: 102, iteration: 650, loss: 0.0257665\n",
      "Epoch: 102, iteration: 700, loss: 0.0301729\n",
      "Epoch 103\n"
     ]
    },
    {
     "data": {
      "application/vnd.jupyter.widget-view+json": {
       "model_id": "fe18187f2e6d4440a5d44ede49b429e8",
       "version_major": 2,
       "version_minor": 0
      },
      "text/plain": [
       "  0%|          | 0/750 [00:00<?, ?it/s]"
      ]
     },
     "metadata": {},
     "output_type": "display_data"
    },
    {
     "name": "stdout",
     "output_type": "stream",
     "text": [
      "Epoch: 103, iteration: 0, loss: 0.0272469\n",
      "Epoch: 103, iteration: 50, loss: 0.0344047\n",
      "Epoch: 103, iteration: 100, loss: 0.0277656\n",
      "Epoch: 103, iteration: 150, loss: 0.0328697\n",
      "Epoch: 103, iteration: 200, loss: 0.0286637\n",
      "Epoch: 103, iteration: 250, loss: 0.0334933\n",
      "Epoch: 103, iteration: 300, loss: 0.0253255\n",
      "Epoch: 103, iteration: 350, loss: 0.0294089\n",
      "Epoch: 103, iteration: 400, loss: 0.0289915\n",
      "Epoch: 103, iteration: 450, loss: 0.034956\n",
      "Epoch: 103, iteration: 500, loss: 0.0284262\n",
      "Epoch: 103, iteration: 550, loss: 0.0306449\n",
      "Epoch: 103, iteration: 600, loss: 0.0269718\n",
      "Epoch: 103, iteration: 650, loss: 0.0337109\n",
      "Epoch: 103, iteration: 700, loss: 0.0266179\n",
      "Epoch 104\n"
     ]
    },
    {
     "data": {
      "application/vnd.jupyter.widget-view+json": {
       "model_id": "0f1bb767d44e48cebc944fc355528508",
       "version_major": 2,
       "version_minor": 0
      },
      "text/plain": [
       "  0%|          | 0/750 [00:00<?, ?it/s]"
      ]
     },
     "metadata": {},
     "output_type": "display_data"
    },
    {
     "name": "stdout",
     "output_type": "stream",
     "text": [
      "Epoch: 104, iteration: 0, loss: 0.0347322\n",
      "Epoch: 104, iteration: 50, loss: 0.0278451\n",
      "Epoch: 104, iteration: 100, loss: 0.031931\n",
      "Epoch: 104, iteration: 150, loss: 0.0258971\n",
      "Epoch: 104, iteration: 200, loss: 0.0332574\n",
      "Epoch: 104, iteration: 250, loss: 0.0296913\n",
      "Epoch: 104, iteration: 300, loss: 0.0347317\n",
      "Epoch: 104, iteration: 350, loss: 0.0222932\n",
      "Epoch: 104, iteration: 400, loss: 0.032547\n",
      "Epoch: 104, iteration: 450, loss: 0.0277145\n",
      "Epoch: 104, iteration: 500, loss: 0.0328078\n",
      "Epoch: 104, iteration: 550, loss: 0.0249694\n",
      "Epoch: 104, iteration: 600, loss: 0.0269283\n",
      "Epoch: 104, iteration: 650, loss: 0.03079\n",
      "Epoch: 104, iteration: 700, loss: 0.0286737\n",
      "\n",
      "Validating...\n"
     ]
    },
    {
     "data": {
      "application/vnd.jupyter.widget-view+json": {
       "model_id": "51d93ca8a98e46ca938915bc2f1c49a1",
       "version_major": 2,
       "version_minor": 0
      },
      "text/plain": [
       "  0%|          | 0/188 [00:00<?, ?it/s]"
      ]
     },
     "metadata": {},
     "output_type": "display_data"
    },
    {
     "name": "stdout",
     "output_type": "stream",
     "text": [
      "Validation: Epoch: 105, loss: 0.0276042\n",
      "Epoch 105\n"
     ]
    },
    {
     "data": {
      "application/vnd.jupyter.widget-view+json": {
       "model_id": "3b38872214c54279a5f42d58b4ce51b7",
       "version_major": 2,
       "version_minor": 0
      },
      "text/plain": [
       "  0%|          | 0/750 [00:00<?, ?it/s]"
      ]
     },
     "metadata": {},
     "output_type": "display_data"
    },
    {
     "name": "stdout",
     "output_type": "stream",
     "text": [
      "Epoch: 105, iteration: 0, loss: 0.0259065\n",
      "Epoch: 105, iteration: 50, loss: 0.0313478\n",
      "Epoch: 105, iteration: 100, loss: 0.0266379\n",
      "Epoch: 105, iteration: 150, loss: 0.0321885\n",
      "Epoch: 105, iteration: 200, loss: 0.0258985\n",
      "Epoch: 105, iteration: 250, loss: 0.0315608\n",
      "Epoch: 105, iteration: 300, loss: 0.029165\n",
      "Epoch: 105, iteration: 350, loss: 0.0305968\n",
      "Epoch: 105, iteration: 400, loss: 0.0262689\n",
      "Epoch: 105, iteration: 450, loss: 0.0267983\n",
      "Epoch: 105, iteration: 500, loss: 0.0304073\n",
      "Epoch: 105, iteration: 550, loss: 0.0355526\n",
      "Epoch: 105, iteration: 600, loss: 0.0242776\n",
      "Epoch: 105, iteration: 650, loss: 0.0292298\n",
      "Epoch: 105, iteration: 700, loss: 0.026274\n",
      "Epoch 106\n"
     ]
    },
    {
     "data": {
      "application/vnd.jupyter.widget-view+json": {
       "model_id": "36e1da589b094cb5ade92f7589c49859",
       "version_major": 2,
       "version_minor": 0
      },
      "text/plain": [
       "  0%|          | 0/750 [00:00<?, ?it/s]"
      ]
     },
     "metadata": {},
     "output_type": "display_data"
    },
    {
     "name": "stdout",
     "output_type": "stream",
     "text": [
      "Epoch: 106, iteration: 0, loss: 0.0354354\n",
      "Epoch: 106, iteration: 50, loss: 0.0266831\n",
      "Epoch: 106, iteration: 100, loss: 0.028223\n",
      "Epoch: 106, iteration: 150, loss: 0.0270674\n",
      "Epoch: 106, iteration: 200, loss: 0.0295059\n",
      "Epoch: 106, iteration: 250, loss: 0.0271589\n",
      "Epoch: 106, iteration: 300, loss: 0.0309278\n",
      "Epoch: 106, iteration: 350, loss: 0.0270261\n",
      "Epoch: 106, iteration: 400, loss: 0.0305891\n",
      "Epoch: 106, iteration: 450, loss: 0.0248131\n",
      "Epoch: 106, iteration: 500, loss: 0.0311498\n",
      "Epoch: 106, iteration: 550, loss: 0.028365\n",
      "Epoch: 106, iteration: 600, loss: 0.030724\n",
      "Epoch: 106, iteration: 650, loss: 0.0287654\n",
      "Epoch: 106, iteration: 700, loss: 0.0308607\n",
      "Epoch 107\n"
     ]
    },
    {
     "data": {
      "application/vnd.jupyter.widget-view+json": {
       "model_id": "eef2eec3fdc3431b92d27d565c90c6db",
       "version_major": 2,
       "version_minor": 0
      },
      "text/plain": [
       "  0%|          | 0/750 [00:00<?, ?it/s]"
      ]
     },
     "metadata": {},
     "output_type": "display_data"
    },
    {
     "name": "stdout",
     "output_type": "stream",
     "text": [
      "Epoch: 107, iteration: 0, loss: 0.0338681\n",
      "Epoch: 107, iteration: 50, loss: 0.0320472\n",
      "Epoch: 107, iteration: 100, loss: 0.0239906\n",
      "Epoch: 107, iteration: 150, loss: 0.0292125\n",
      "Epoch: 107, iteration: 200, loss: 0.0275763\n",
      "Epoch: 107, iteration: 250, loss: 0.03292\n",
      "Epoch: 107, iteration: 300, loss: 0.0245226\n",
      "Epoch: 107, iteration: 350, loss: 0.0284358\n",
      "Epoch: 107, iteration: 400, loss: 0.0276004\n",
      "Epoch: 107, iteration: 450, loss: 0.0330173\n",
      "Epoch: 107, iteration: 500, loss: 0.0250437\n",
      "Epoch: 107, iteration: 550, loss: 0.0285732\n",
      "Epoch: 107, iteration: 600, loss: 0.0273507\n",
      "Epoch: 107, iteration: 650, loss: 0.0315345\n",
      "Epoch: 107, iteration: 700, loss: 0.0243876\n",
      "Epoch 108\n"
     ]
    },
    {
     "data": {
      "application/vnd.jupyter.widget-view+json": {
       "model_id": "d31277d49b4a4593bcf90b0ffe69ebcc",
       "version_major": 2,
       "version_minor": 0
      },
      "text/plain": [
       "  0%|          | 0/750 [00:00<?, ?it/s]"
      ]
     },
     "metadata": {},
     "output_type": "display_data"
    },
    {
     "name": "stdout",
     "output_type": "stream",
     "text": [
      "Epoch: 108, iteration: 0, loss: 0.0311787\n",
      "Epoch: 108, iteration: 50, loss: 0.0271941\n",
      "Epoch: 108, iteration: 100, loss: 0.0356647\n",
      "Epoch: 108, iteration: 150, loss: 0.0240875\n",
      "Epoch: 108, iteration: 200, loss: 0.0279346\n",
      "Epoch: 108, iteration: 250, loss: 0.0275698\n",
      "Epoch: 108, iteration: 300, loss: 0.0351038\n",
      "Epoch: 108, iteration: 350, loss: 0.0246788\n",
      "Epoch: 108, iteration: 400, loss: 0.0282762\n",
      "Epoch: 108, iteration: 450, loss: 0.0250906\n",
      "Epoch: 108, iteration: 500, loss: 0.0310604\n",
      "Epoch: 108, iteration: 550, loss: 0.0243024\n",
      "Epoch: 108, iteration: 600, loss: 0.028728\n",
      "Epoch: 108, iteration: 650, loss: 0.0262902\n",
      "Epoch: 108, iteration: 700, loss: 0.0298472\n",
      "Epoch 109\n"
     ]
    },
    {
     "data": {
      "application/vnd.jupyter.widget-view+json": {
       "model_id": "d1e5ea6a9dda45e09be1123520daf725",
       "version_major": 2,
       "version_minor": 0
      },
      "text/plain": [
       "  0%|          | 0/750 [00:00<?, ?it/s]"
      ]
     },
     "metadata": {},
     "output_type": "display_data"
    },
    {
     "name": "stdout",
     "output_type": "stream",
     "text": [
      "Epoch: 109, iteration: 0, loss: 0.0279291\n",
      "Epoch: 109, iteration: 50, loss: 0.0297779\n",
      "Epoch: 109, iteration: 100, loss: 0.0289248\n",
      "Epoch: 109, iteration: 150, loss: 0.0327137\n",
      "Epoch: 109, iteration: 200, loss: 0.0269214\n",
      "Epoch: 109, iteration: 250, loss: 0.029852\n",
      "Epoch: 109, iteration: 300, loss: 0.0274869\n",
      "Epoch: 109, iteration: 350, loss: 0.0324309\n",
      "Epoch: 109, iteration: 400, loss: 0.0261412\n",
      "Epoch: 109, iteration: 450, loss: 0.0282712\n",
      "Epoch: 109, iteration: 500, loss: 0.0285534\n",
      "Epoch: 109, iteration: 550, loss: 0.0343578\n",
      "Epoch: 109, iteration: 600, loss: 0.0272708\n",
      "Epoch: 109, iteration: 650, loss: 0.0291972\n",
      "Epoch: 109, iteration: 700, loss: 0.0281535\n",
      "\n",
      "Validating...\n"
     ]
    },
    {
     "data": {
      "application/vnd.jupyter.widget-view+json": {
       "model_id": "1ed2e2cce49d4753b4b32213b4dc5449",
       "version_major": 2,
       "version_minor": 0
      },
      "text/plain": [
       "  0%|          | 0/188 [00:00<?, ?it/s]"
      ]
     },
     "metadata": {},
     "output_type": "display_data"
    },
    {
     "name": "stdout",
     "output_type": "stream",
     "text": [
      "Validation: Epoch: 110, loss: 0.0275806\n",
      "Epoch 110\n"
     ]
    },
    {
     "data": {
      "application/vnd.jupyter.widget-view+json": {
       "model_id": "611a0a786c674a27821ca45aef60df2d",
       "version_major": 2,
       "version_minor": 0
      },
      "text/plain": [
       "  0%|          | 0/750 [00:00<?, ?it/s]"
      ]
     },
     "metadata": {},
     "output_type": "display_data"
    },
    {
     "name": "stdout",
     "output_type": "stream",
     "text": [
      "Epoch: 110, iteration: 0, loss: 0.0352779\n",
      "Epoch: 110, iteration: 50, loss: 0.0257571\n",
      "Epoch: 110, iteration: 100, loss: 0.0303147\n",
      "Epoch: 110, iteration: 150, loss: 0.0255222\n",
      "Epoch: 110, iteration: 200, loss: 0.0318892\n",
      "Epoch: 110, iteration: 250, loss: 0.0262623\n",
      "Epoch: 110, iteration: 300, loss: 0.0284427\n",
      "Epoch: 110, iteration: 350, loss: 0.0262269\n",
      "Epoch: 110, iteration: 400, loss: 0.0318646\n",
      "Epoch: 110, iteration: 450, loss: 0.0247213\n",
      "Epoch: 110, iteration: 500, loss: 0.0288507\n",
      "Epoch: 110, iteration: 550, loss: 0.0280143\n",
      "Epoch: 110, iteration: 600, loss: 0.0331461\n",
      "Epoch: 110, iteration: 650, loss: 0.0258308\n",
      "Epoch: 110, iteration: 700, loss: 0.0268084\n",
      "Epoch 111\n"
     ]
    },
    {
     "data": {
      "application/vnd.jupyter.widget-view+json": {
       "model_id": "903c9bd365e64a7f8c7905ac6f1a06ab",
       "version_major": 2,
       "version_minor": 0
      },
      "text/plain": [
       "  0%|          | 0/750 [00:00<?, ?it/s]"
      ]
     },
     "metadata": {},
     "output_type": "display_data"
    },
    {
     "name": "stdout",
     "output_type": "stream",
     "text": [
      "Epoch: 111, iteration: 0, loss: 0.0271385\n",
      "Epoch: 111, iteration: 50, loss: 0.0326821\n",
      "Epoch: 111, iteration: 100, loss: 0.026237\n",
      "Epoch: 111, iteration: 150, loss: 0.0270615\n",
      "Epoch: 111, iteration: 200, loss: 0.0276294\n",
      "Epoch: 111, iteration: 250, loss: 0.027137\n",
      "Epoch: 111, iteration: 300, loss: 0.0251546\n",
      "Epoch: 111, iteration: 350, loss: 0.0285693\n",
      "Epoch: 111, iteration: 400, loss: 0.0244496\n",
      "Epoch: 111, iteration: 450, loss: 0.0304829\n",
      "Epoch: 111, iteration: 500, loss: 0.0255237\n",
      "Epoch: 111, iteration: 550, loss: 0.0283128\n",
      "Epoch: 111, iteration: 600, loss: 0.0298115\n",
      "Epoch: 111, iteration: 650, loss: 0.0289421\n",
      "Epoch: 111, iteration: 700, loss: 0.0262907\n",
      "Epoch 112\n"
     ]
    },
    {
     "data": {
      "application/vnd.jupyter.widget-view+json": {
       "model_id": "4107d1affbf549cfadd52ddb2558dc71",
       "version_major": 2,
       "version_minor": 0
      },
      "text/plain": [
       "  0%|          | 0/750 [00:00<?, ?it/s]"
      ]
     },
     "metadata": {},
     "output_type": "display_data"
    },
    {
     "name": "stdout",
     "output_type": "stream",
     "text": [
      "Epoch: 112, iteration: 0, loss: 0.0303115\n",
      "Epoch: 112, iteration: 50, loss: 0.0298273\n",
      "Epoch: 112, iteration: 100, loss: 0.034958\n",
      "Epoch: 112, iteration: 150, loss: 0.0269981\n",
      "Epoch: 112, iteration: 200, loss: 0.0292182\n",
      "Epoch: 112, iteration: 250, loss: 0.0266729\n",
      "Epoch: 112, iteration: 300, loss: 0.0297633\n",
      "Epoch: 112, iteration: 350, loss: 0.0262091\n",
      "Epoch: 112, iteration: 400, loss: 0.0299476\n",
      "Epoch: 112, iteration: 450, loss: 0.025709\n",
      "Epoch: 112, iteration: 500, loss: 0.0360416\n",
      "Epoch: 112, iteration: 550, loss: 0.0218425\n",
      "Epoch: 112, iteration: 600, loss: 0.0324827\n",
      "Epoch: 112, iteration: 650, loss: 0.0271818\n",
      "Epoch: 112, iteration: 700, loss: 0.0324108\n",
      "Epoch 113\n"
     ]
    },
    {
     "data": {
      "application/vnd.jupyter.widget-view+json": {
       "model_id": "6ea3e61e3c60442dac967de60609af34",
       "version_major": 2,
       "version_minor": 0
      },
      "text/plain": [
       "  0%|          | 0/750 [00:00<?, ?it/s]"
      ]
     },
     "metadata": {},
     "output_type": "display_data"
    },
    {
     "name": "stdout",
     "output_type": "stream",
     "text": [
      "Epoch: 113, iteration: 0, loss: 0.0274264\n",
      "Epoch: 113, iteration: 50, loss: 0.0288836\n",
      "Epoch: 113, iteration: 100, loss: 0.027308\n",
      "Epoch: 113, iteration: 150, loss: 0.0312784\n",
      "Epoch: 113, iteration: 200, loss: 0.0279424\n",
      "Epoch: 113, iteration: 250, loss: 0.0285579\n",
      "Epoch: 113, iteration: 300, loss: 0.0257677\n",
      "Epoch: 113, iteration: 350, loss: 0.0310127\n",
      "Epoch: 113, iteration: 400, loss: 0.0281084\n",
      "Epoch: 113, iteration: 450, loss: 0.033928\n",
      "Epoch: 113, iteration: 500, loss: 0.0270173\n",
      "Epoch: 113, iteration: 550, loss: 0.0307773\n",
      "Epoch: 113, iteration: 600, loss: 0.0256524\n",
      "Epoch: 113, iteration: 650, loss: 0.0307078\n",
      "Epoch: 113, iteration: 700, loss: 0.0247897\n",
      "Epoch 114\n"
     ]
    },
    {
     "data": {
      "application/vnd.jupyter.widget-view+json": {
       "model_id": "7ae0ab5ab0194c8c80071661ac779804",
       "version_major": 2,
       "version_minor": 0
      },
      "text/plain": [
       "  0%|          | 0/750 [00:00<?, ?it/s]"
      ]
     },
     "metadata": {},
     "output_type": "display_data"
    },
    {
     "name": "stdout",
     "output_type": "stream",
     "text": [
      "Epoch: 114, iteration: 0, loss: 0.0311579\n",
      "Epoch: 114, iteration: 50, loss: 0.0265244\n",
      "Epoch: 114, iteration: 100, loss: 0.0318883\n",
      "Epoch: 114, iteration: 150, loss: 0.0266381\n",
      "Epoch: 114, iteration: 200, loss: 0.0339301\n",
      "Epoch: 114, iteration: 250, loss: 0.024818\n",
      "Epoch: 114, iteration: 300, loss: 0.0300078\n",
      "Epoch: 114, iteration: 350, loss: 0.0255826\n",
      "Epoch: 114, iteration: 400, loss: 0.0310778\n",
      "Epoch: 114, iteration: 450, loss: 0.0250595\n",
      "Epoch: 114, iteration: 500, loss: 0.0287802\n",
      "Epoch: 114, iteration: 550, loss: 0.0267371\n",
      "Epoch: 114, iteration: 600, loss: 0.0352401\n",
      "Epoch: 114, iteration: 650, loss: 0.0284113\n",
      "Epoch: 114, iteration: 700, loss: 0.0298352\n",
      "\n",
      "Validating...\n"
     ]
    },
    {
     "data": {
      "application/vnd.jupyter.widget-view+json": {
       "model_id": "6cc80b16f35a4bbbaada5e1534bda0ab",
       "version_major": 2,
       "version_minor": 0
      },
      "text/plain": [
       "  0%|          | 0/188 [00:00<?, ?it/s]"
      ]
     },
     "metadata": {},
     "output_type": "display_data"
    },
    {
     "name": "stdout",
     "output_type": "stream",
     "text": [
      "Validation: Epoch: 115, loss: 0.0275487\n",
      "Epoch 115\n"
     ]
    },
    {
     "data": {
      "application/vnd.jupyter.widget-view+json": {
       "model_id": "eb3270624ca848ce88beaf01b69d249e",
       "version_major": 2,
       "version_minor": 0
      },
      "text/plain": [
       "  0%|          | 0/750 [00:00<?, ?it/s]"
      ]
     },
     "metadata": {},
     "output_type": "display_data"
    },
    {
     "name": "stdout",
     "output_type": "stream",
     "text": [
      "Epoch: 115, iteration: 0, loss: 0.025709\n",
      "Epoch: 115, iteration: 50, loss: 0.0302275\n",
      "Epoch: 115, iteration: 100, loss: 0.0232413\n",
      "Epoch: 115, iteration: 150, loss: 0.0275988\n",
      "Epoch: 115, iteration: 200, loss: 0.0281818\n",
      "Epoch: 115, iteration: 250, loss: 0.032371\n",
      "Epoch: 115, iteration: 300, loss: 0.0277142\n",
      "Epoch: 115, iteration: 350, loss: 0.0298751\n",
      "Epoch: 115, iteration: 400, loss: 0.0283459\n",
      "Epoch: 115, iteration: 450, loss: 0.0339679\n",
      "Epoch: 115, iteration: 500, loss: 0.0267555\n",
      "Epoch: 115, iteration: 550, loss: 0.0326399\n",
      "Epoch: 115, iteration: 600, loss: 0.0271427\n",
      "Epoch: 115, iteration: 650, loss: 0.0365088\n",
      "Epoch: 115, iteration: 700, loss: 0.0264049\n",
      "Epoch 116\n"
     ]
    },
    {
     "data": {
      "application/vnd.jupyter.widget-view+json": {
       "model_id": "b1668bb85dc44d2eb3ce9c1d2f5a605e",
       "version_major": 2,
       "version_minor": 0
      },
      "text/plain": [
       "  0%|          | 0/750 [00:00<?, ?it/s]"
      ]
     },
     "metadata": {},
     "output_type": "display_data"
    },
    {
     "name": "stdout",
     "output_type": "stream",
     "text": [
      "Epoch: 116, iteration: 0, loss: 0.0271349\n",
      "Epoch: 116, iteration: 50, loss: 0.0284371\n",
      "Epoch: 116, iteration: 100, loss: 0.0346528\n",
      "Epoch: 116, iteration: 150, loss: 0.0239695\n",
      "Epoch: 116, iteration: 200, loss: 0.0310314\n",
      "Epoch: 116, iteration: 250, loss: 0.0280964\n",
      "Epoch: 116, iteration: 300, loss: 0.0330669\n",
      "Epoch: 116, iteration: 350, loss: 0.0267468\n",
      "Epoch: 116, iteration: 400, loss: 0.0302242\n",
      "Epoch: 116, iteration: 450, loss: 0.0252887\n",
      "Epoch: 116, iteration: 500, loss: 0.0333605\n",
      "Epoch: 116, iteration: 550, loss: 0.0263619\n",
      "Epoch: 116, iteration: 600, loss: 0.0321045\n",
      "Epoch: 116, iteration: 650, loss: 0.0269621\n",
      "Epoch: 116, iteration: 700, loss: 0.0318057\n",
      "Epoch 117\n"
     ]
    },
    {
     "data": {
      "application/vnd.jupyter.widget-view+json": {
       "model_id": "fba2ae472b3349a6863739f56de51eb4",
       "version_major": 2,
       "version_minor": 0
      },
      "text/plain": [
       "  0%|          | 0/750 [00:00<?, ?it/s]"
      ]
     },
     "metadata": {},
     "output_type": "display_data"
    },
    {
     "name": "stdout",
     "output_type": "stream",
     "text": [
      "Epoch: 117, iteration: 0, loss: 0.0262657\n",
      "Epoch: 117, iteration: 50, loss: 0.0307989\n",
      "Epoch: 117, iteration: 100, loss: 0.0260768\n",
      "Epoch: 117, iteration: 150, loss: 0.0327058\n",
      "Epoch: 117, iteration: 200, loss: 0.0241264\n",
      "Epoch: 117, iteration: 250, loss: 0.0260995\n",
      "Epoch: 117, iteration: 300, loss: 0.0280121\n",
      "Epoch: 117, iteration: 350, loss: 0.0308038\n",
      "Epoch: 117, iteration: 400, loss: 0.0246183\n",
      "Epoch: 117, iteration: 450, loss: 0.0283821\n",
      "Epoch: 117, iteration: 500, loss: 0.0311212\n",
      "Epoch: 117, iteration: 550, loss: 0.0345475\n",
      "Epoch: 117, iteration: 600, loss: 0.0269125\n",
      "Epoch: 117, iteration: 650, loss: 0.0269027\n",
      "Epoch: 117, iteration: 700, loss: 0.0292113\n",
      "Epoch 118\n"
     ]
    },
    {
     "data": {
      "application/vnd.jupyter.widget-view+json": {
       "model_id": "343d527ac6054b9b8c3c18b701f14fd7",
       "version_major": 2,
       "version_minor": 0
      },
      "text/plain": [
       "  0%|          | 0/750 [00:00<?, ?it/s]"
      ]
     },
     "metadata": {},
     "output_type": "display_data"
    },
    {
     "name": "stdout",
     "output_type": "stream",
     "text": [
      "Epoch: 118, iteration: 0, loss: 0.0324872\n",
      "Epoch: 118, iteration: 50, loss: 0.026551\n",
      "Epoch: 118, iteration: 100, loss: 0.031046\n",
      "Epoch: 118, iteration: 150, loss: 0.0277953\n",
      "Epoch: 118, iteration: 200, loss: 0.0316267\n",
      "Epoch: 118, iteration: 250, loss: 0.0240075\n",
      "Epoch: 118, iteration: 300, loss: 0.0296927\n",
      "Epoch: 118, iteration: 350, loss: 0.0255131\n",
      "Epoch: 118, iteration: 400, loss: 0.0363129\n",
      "Epoch: 118, iteration: 450, loss: 0.025239\n",
      "Epoch: 118, iteration: 500, loss: 0.031125\n",
      "Epoch: 118, iteration: 550, loss: 0.0255557\n",
      "Epoch: 118, iteration: 600, loss: 0.0314102\n",
      "Epoch: 118, iteration: 650, loss: 0.02429\n",
      "Epoch: 118, iteration: 700, loss: 0.0281864\n",
      "Epoch 119\n"
     ]
    },
    {
     "data": {
      "application/vnd.jupyter.widget-view+json": {
       "model_id": "a7e0fac2850e4de193672e05c7f37e35",
       "version_major": 2,
       "version_minor": 0
      },
      "text/plain": [
       "  0%|          | 0/750 [00:00<?, ?it/s]"
      ]
     },
     "metadata": {},
     "output_type": "display_data"
    },
    {
     "name": "stdout",
     "output_type": "stream",
     "text": [
      "Epoch: 119, iteration: 0, loss: 0.0252062\n",
      "Epoch: 119, iteration: 50, loss: 0.0332671\n",
      "Epoch: 119, iteration: 100, loss: 0.0244334\n",
      "Epoch: 119, iteration: 150, loss: 0.031518\n",
      "Epoch: 119, iteration: 200, loss: 0.0274739\n",
      "Epoch: 119, iteration: 250, loss: 0.0329357\n",
      "Epoch: 119, iteration: 300, loss: 0.0279767\n",
      "Epoch: 119, iteration: 350, loss: 0.0283739\n",
      "Epoch: 119, iteration: 400, loss: 0.0266626\n",
      "Epoch: 119, iteration: 450, loss: 0.0333237\n",
      "Epoch: 119, iteration: 500, loss: 0.027389\n",
      "Epoch: 119, iteration: 550, loss: 0.0279093\n",
      "Epoch: 119, iteration: 600, loss: 0.0252685\n",
      "Epoch: 119, iteration: 650, loss: 0.0326357\n",
      "Epoch: 119, iteration: 700, loss: 0.0226293\n",
      "\n",
      "Validating...\n"
     ]
    },
    {
     "data": {
      "application/vnd.jupyter.widget-view+json": {
       "model_id": "b3517cb1d2764f9caff231e072edd990",
       "version_major": 2,
       "version_minor": 0
      },
      "text/plain": [
       "  0%|          | 0/188 [00:00<?, ?it/s]"
      ]
     },
     "metadata": {},
     "output_type": "display_data"
    },
    {
     "name": "stdout",
     "output_type": "stream",
     "text": [
      "Validation: Epoch: 120, loss: 0.0275336\n",
      "Epoch 120\n"
     ]
    },
    {
     "data": {
      "application/vnd.jupyter.widget-view+json": {
       "model_id": "8aa28a713ec44646b6091694bd23e107",
       "version_major": 2,
       "version_minor": 0
      },
      "text/plain": [
       "  0%|          | 0/750 [00:00<?, ?it/s]"
      ]
     },
     "metadata": {},
     "output_type": "display_data"
    },
    {
     "name": "stdout",
     "output_type": "stream",
     "text": [
      "Epoch: 120, iteration: 0, loss: 0.0281972\n",
      "Epoch: 120, iteration: 50, loss: 0.025262\n",
      "Epoch: 120, iteration: 100, loss: 0.0279609\n",
      "Epoch: 120, iteration: 150, loss: 0.0285747\n",
      "Epoch: 120, iteration: 200, loss: 0.0326706\n",
      "Epoch: 120, iteration: 250, loss: 0.0291852\n",
      "Epoch: 120, iteration: 300, loss: 0.034572\n",
      "Epoch: 120, iteration: 350, loss: 0.0275674\n",
      "Epoch: 120, iteration: 400, loss: 0.0304218\n",
      "Epoch: 120, iteration: 450, loss: 0.0271429\n",
      "Epoch: 120, iteration: 500, loss: 0.0333465\n",
      "Epoch: 120, iteration: 550, loss: 0.024087\n",
      "Epoch: 120, iteration: 600, loss: 0.0308022\n",
      "Epoch: 120, iteration: 650, loss: 0.0264853\n",
      "Epoch: 120, iteration: 700, loss: 0.0330444\n",
      "Epoch 121\n"
     ]
    },
    {
     "data": {
      "application/vnd.jupyter.widget-view+json": {
       "model_id": "05bfe44539464cd8965b62b4151e2dc9",
       "version_major": 2,
       "version_minor": 0
      },
      "text/plain": [
       "  0%|          | 0/750 [00:00<?, ?it/s]"
      ]
     },
     "metadata": {},
     "output_type": "display_data"
    },
    {
     "name": "stdout",
     "output_type": "stream",
     "text": [
      "Epoch: 121, iteration: 0, loss: 0.0231225\n",
      "Epoch: 121, iteration: 50, loss: 0.033807\n",
      "Epoch: 121, iteration: 100, loss: 0.0296035\n",
      "Epoch: 121, iteration: 150, loss: 0.0294819\n",
      "Epoch: 121, iteration: 200, loss: 0.0256177\n",
      "Epoch: 121, iteration: 250, loss: 0.0325372\n",
      "Epoch: 121, iteration: 300, loss: 0.025929\n",
      "Epoch: 121, iteration: 350, loss: 0.0314024\n",
      "Epoch: 121, iteration: 400, loss: 0.0282567\n",
      "Epoch: 121, iteration: 450, loss: 0.0291622\n",
      "Epoch: 121, iteration: 500, loss: 0.0252626\n",
      "Epoch: 121, iteration: 550, loss: 0.0296274\n",
      "Epoch: 121, iteration: 600, loss: 0.0270912\n",
      "Epoch: 121, iteration: 650, loss: 0.0291186\n",
      "Epoch: 121, iteration: 700, loss: 0.0272108\n",
      "Epoch 122\n"
     ]
    },
    {
     "data": {
      "application/vnd.jupyter.widget-view+json": {
       "model_id": "a0b48e50af5b4236b7bb3eacac5ef3e9",
       "version_major": 2,
       "version_minor": 0
      },
      "text/plain": [
       "  0%|          | 0/750 [00:00<?, ?it/s]"
      ]
     },
     "metadata": {},
     "output_type": "display_data"
    },
    {
     "name": "stdout",
     "output_type": "stream",
     "text": [
      "Epoch: 122, iteration: 0, loss: 0.0317484\n",
      "Epoch: 122, iteration: 50, loss: 0.0278289\n",
      "Epoch: 122, iteration: 100, loss: 0.0292973\n",
      "Epoch: 122, iteration: 150, loss: 0.0302619\n",
      "Epoch: 122, iteration: 200, loss: 0.0345894\n",
      "Epoch: 122, iteration: 250, loss: 0.0277498\n",
      "Epoch: 122, iteration: 300, loss: 0.0310834\n",
      "Epoch: 122, iteration: 350, loss: 0.0269993\n",
      "Epoch: 122, iteration: 400, loss: 0.0311856\n",
      "Epoch: 122, iteration: 450, loss: 0.0270261\n",
      "Epoch: 122, iteration: 500, loss: 0.0317662\n",
      "Epoch: 122, iteration: 550, loss: 0.0276635\n",
      "Epoch: 122, iteration: 600, loss: 0.0337406\n",
      "Epoch: 122, iteration: 650, loss: 0.0242468\n",
      "Epoch: 122, iteration: 700, loss: 0.029532\n",
      "Epoch 123\n"
     ]
    },
    {
     "data": {
      "application/vnd.jupyter.widget-view+json": {
       "model_id": "7f0abebd3b3340e59073d18c45c4c91c",
       "version_major": 2,
       "version_minor": 0
      },
      "text/plain": [
       "  0%|          | 0/750 [00:00<?, ?it/s]"
      ]
     },
     "metadata": {},
     "output_type": "display_data"
    },
    {
     "name": "stdout",
     "output_type": "stream",
     "text": [
      "Epoch: 123, iteration: 0, loss: 0.0280381\n",
      "Epoch: 123, iteration: 50, loss: 0.0338455\n",
      "Epoch: 123, iteration: 100, loss: 0.0246997\n",
      "Epoch: 123, iteration: 150, loss: 0.0302086\n",
      "Epoch: 123, iteration: 200, loss: 0.0262747\n",
      "Epoch: 123, iteration: 250, loss: 0.0343235\n",
      "Epoch: 123, iteration: 300, loss: 0.0255954\n",
      "Epoch: 123, iteration: 350, loss: 0.0309254\n",
      "Epoch: 123, iteration: 400, loss: 0.0265755\n",
      "Epoch: 123, iteration: 450, loss: 0.0326196\n",
      "Epoch: 123, iteration: 500, loss: 0.0263464\n",
      "Epoch: 123, iteration: 550, loss: 0.0288684\n",
      "Epoch: 123, iteration: 600, loss: 0.0286005\n",
      "Epoch: 123, iteration: 650, loss: 0.0322297\n",
      "Epoch: 123, iteration: 700, loss: 0.0289264\n",
      "Epoch 124\n"
     ]
    },
    {
     "data": {
      "application/vnd.jupyter.widget-view+json": {
       "model_id": "5a65fb54faf44928b9ce03703098de64",
       "version_major": 2,
       "version_minor": 0
      },
      "text/plain": [
       "  0%|          | 0/750 [00:00<?, ?it/s]"
      ]
     },
     "metadata": {},
     "output_type": "display_data"
    },
    {
     "name": "stdout",
     "output_type": "stream",
     "text": [
      "Epoch: 124, iteration: 0, loss: 0.0315064\n",
      "Epoch: 124, iteration: 50, loss: 0.0273034\n",
      "Epoch: 124, iteration: 100, loss: 0.0319842\n",
      "Epoch: 124, iteration: 150, loss: 0.0255505\n",
      "Epoch: 124, iteration: 200, loss: 0.0271432\n",
      "Epoch: 124, iteration: 250, loss: 0.0268998\n",
      "Epoch: 124, iteration: 300, loss: 0.0317161\n",
      "Epoch: 124, iteration: 350, loss: 0.0251685\n",
      "Epoch: 124, iteration: 400, loss: 0.031901\n",
      "Epoch: 124, iteration: 450, loss: 0.026844\n",
      "Epoch: 124, iteration: 500, loss: 0.033456\n",
      "Epoch: 124, iteration: 550, loss: 0.0267852\n",
      "Epoch: 124, iteration: 600, loss: 0.0309051\n",
      "Epoch: 124, iteration: 650, loss: 0.0263155\n",
      "Epoch: 124, iteration: 700, loss: 0.0319738\n",
      "\n",
      "Validating...\n"
     ]
    },
    {
     "data": {
      "application/vnd.jupyter.widget-view+json": {
       "model_id": "d6ef0d02dd384244b8c1b2a93cf40a16",
       "version_major": 2,
       "version_minor": 0
      },
      "text/plain": [
       "  0%|          | 0/188 [00:00<?, ?it/s]"
      ]
     },
     "metadata": {},
     "output_type": "display_data"
    },
    {
     "name": "stdout",
     "output_type": "stream",
     "text": [
      "Validation: Epoch: 125, loss: 0.027511\n",
      "Epoch 125\n"
     ]
    },
    {
     "data": {
      "application/vnd.jupyter.widget-view+json": {
       "model_id": "6d842476e0c54052a3b5f74b9ddacf2b",
       "version_major": 2,
       "version_minor": 0
      },
      "text/plain": [
       "  0%|          | 0/750 [00:00<?, ?it/s]"
      ]
     },
     "metadata": {},
     "output_type": "display_data"
    },
    {
     "name": "stdout",
     "output_type": "stream",
     "text": [
      "Epoch: 125, iteration: 0, loss: 0.025407\n",
      "Epoch: 125, iteration: 50, loss: 0.0319149\n",
      "Epoch: 125, iteration: 100, loss: 0.0277455\n",
      "Epoch: 125, iteration: 150, loss: 0.0301247\n",
      "Epoch: 125, iteration: 200, loss: 0.0252388\n",
      "Epoch: 125, iteration: 250, loss: 0.0287192\n",
      "Epoch: 125, iteration: 300, loss: 0.0299154\n",
      "Epoch: 125, iteration: 350, loss: 0.0319762\n",
      "Epoch: 125, iteration: 400, loss: 0.0251872\n",
      "Epoch: 125, iteration: 450, loss: 0.0318816\n",
      "Epoch: 125, iteration: 500, loss: 0.027001\n",
      "Epoch: 125, iteration: 550, loss: 0.0331568\n",
      "Epoch: 125, iteration: 600, loss: 0.023758\n",
      "Epoch: 125, iteration: 650, loss: 0.0268708\n",
      "Epoch: 125, iteration: 700, loss: 0.0263745\n",
      "Epoch 126\n"
     ]
    },
    {
     "data": {
      "application/vnd.jupyter.widget-view+json": {
       "model_id": "8e29f35e6e2d41fd930c8077101b3739",
       "version_major": 2,
       "version_minor": 0
      },
      "text/plain": [
       "  0%|          | 0/750 [00:00<?, ?it/s]"
      ]
     },
     "metadata": {},
     "output_type": "display_data"
    },
    {
     "name": "stdout",
     "output_type": "stream",
     "text": [
      "Epoch: 126, iteration: 0, loss: 0.0332276\n",
      "Epoch: 126, iteration: 50, loss: 0.0279842\n",
      "Epoch: 126, iteration: 100, loss: 0.0299011\n",
      "Epoch: 126, iteration: 150, loss: 0.0294408\n",
      "Epoch: 126, iteration: 200, loss: 0.0313476\n",
      "Epoch: 126, iteration: 250, loss: 0.0245311\n",
      "Epoch: 126, iteration: 300, loss: 0.0280301\n",
      "Epoch: 126, iteration: 350, loss: 0.0280245\n",
      "Epoch: 126, iteration: 400, loss: 0.0340384\n",
      "Epoch: 126, iteration: 450, loss: 0.0270156\n",
      "Epoch: 126, iteration: 500, loss: 0.0295082\n",
      "Epoch: 126, iteration: 550, loss: 0.0291555\n",
      "Epoch: 126, iteration: 600, loss: 0.0298307\n",
      "Epoch: 126, iteration: 650, loss: 0.0264402\n",
      "Epoch: 126, iteration: 700, loss: 0.0284397\n",
      "Epoch 127\n"
     ]
    },
    {
     "data": {
      "application/vnd.jupyter.widget-view+json": {
       "model_id": "78652dfce3c84b19bbbc62de7857f2bd",
       "version_major": 2,
       "version_minor": 0
      },
      "text/plain": [
       "  0%|          | 0/750 [00:00<?, ?it/s]"
      ]
     },
     "metadata": {},
     "output_type": "display_data"
    },
    {
     "name": "stdout",
     "output_type": "stream",
     "text": [
      "Epoch: 127, iteration: 0, loss: 0.0279827\n",
      "Epoch: 127, iteration: 50, loss: 0.0331419\n",
      "Epoch: 127, iteration: 100, loss: 0.0260954\n",
      "Epoch: 127, iteration: 150, loss: 0.0266913\n",
      "Epoch: 127, iteration: 200, loss: 0.025919\n",
      "Epoch: 127, iteration: 250, loss: 0.0300443\n",
      "Epoch: 127, iteration: 300, loss: 0.0249495\n",
      "Epoch: 127, iteration: 350, loss: 0.0310963\n",
      "Epoch: 127, iteration: 400, loss: 0.0278004\n",
      "Epoch: 127, iteration: 450, loss: 0.0308221\n",
      "Epoch: 127, iteration: 500, loss: 0.0262998\n",
      "Epoch: 127, iteration: 550, loss: 0.0314976\n",
      "Epoch: 127, iteration: 600, loss: 0.0268293\n",
      "Epoch: 127, iteration: 650, loss: 0.0327147\n",
      "Epoch: 127, iteration: 700, loss: 0.0256144\n",
      "Epoch 128\n"
     ]
    },
    {
     "data": {
      "application/vnd.jupyter.widget-view+json": {
       "model_id": "0e6cd8e3a9e04ccfb5164c54b5b52ab3",
       "version_major": 2,
       "version_minor": 0
      },
      "text/plain": [
       "  0%|          | 0/750 [00:00<?, ?it/s]"
      ]
     },
     "metadata": {},
     "output_type": "display_data"
    },
    {
     "name": "stdout",
     "output_type": "stream",
     "text": [
      "Epoch: 128, iteration: 0, loss: 0.0291116\n",
      "Epoch: 128, iteration: 50, loss: 0.02557\n",
      "Epoch: 128, iteration: 100, loss: 0.0341255\n",
      "Epoch: 128, iteration: 150, loss: 0.0276469\n",
      "Epoch: 128, iteration: 200, loss: 0.0305646\n",
      "Epoch: 128, iteration: 250, loss: 0.0263344\n",
      "Epoch: 128, iteration: 300, loss: 0.0287121\n",
      "Epoch: 128, iteration: 350, loss: 0.0251149\n",
      "Epoch: 128, iteration: 400, loss: 0.0270546\n",
      "Epoch: 128, iteration: 450, loss: 0.0271158\n",
      "Epoch: 128, iteration: 500, loss: 0.0352183\n",
      "Epoch: 128, iteration: 550, loss: 0.0274866\n",
      "Epoch: 128, iteration: 600, loss: 0.0276245\n",
      "Epoch: 128, iteration: 650, loss: 0.0276045\n",
      "Epoch: 128, iteration: 700, loss: 0.0319614\n",
      "Epoch 129\n"
     ]
    },
    {
     "data": {
      "application/vnd.jupyter.widget-view+json": {
       "model_id": "6a688b2a04124074a92d8767f3257446",
       "version_major": 2,
       "version_minor": 0
      },
      "text/plain": [
       "  0%|          | 0/750 [00:00<?, ?it/s]"
      ]
     },
     "metadata": {},
     "output_type": "display_data"
    },
    {
     "name": "stdout",
     "output_type": "stream",
     "text": [
      "Epoch: 129, iteration: 0, loss: 0.0250416\n",
      "Epoch: 129, iteration: 50, loss: 0.0296424\n",
      "Epoch: 129, iteration: 100, loss: 0.0258094\n",
      "Epoch: 129, iteration: 150, loss: 0.0356696\n",
      "Epoch: 129, iteration: 200, loss: 0.0259838\n",
      "Epoch: 129, iteration: 250, loss: 0.0297752\n",
      "Epoch: 129, iteration: 300, loss: 0.0288782\n",
      "Epoch: 129, iteration: 350, loss: 0.0300585\n",
      "Epoch: 129, iteration: 400, loss: 0.0240249\n",
      "Epoch: 129, iteration: 450, loss: 0.027313\n",
      "Epoch: 129, iteration: 500, loss: 0.0276442\n",
      "Epoch: 129, iteration: 550, loss: 0.0304115\n",
      "Epoch: 129, iteration: 600, loss: 0.0256879\n",
      "Epoch: 129, iteration: 650, loss: 0.0303993\n",
      "Epoch: 129, iteration: 700, loss: 0.030307\n",
      "\n",
      "Validating...\n"
     ]
    },
    {
     "data": {
      "application/vnd.jupyter.widget-view+json": {
       "model_id": "4e2bd7923e154e98993e2a71d588b2f3",
       "version_major": 2,
       "version_minor": 0
      },
      "text/plain": [
       "  0%|          | 0/188 [00:00<?, ?it/s]"
      ]
     },
     "metadata": {},
     "output_type": "display_data"
    },
    {
     "name": "stdout",
     "output_type": "stream",
     "text": [
      "Validation: Epoch: 130, loss: 0.0274907\n",
      "Epoch 130\n"
     ]
    },
    {
     "data": {
      "application/vnd.jupyter.widget-view+json": {
       "model_id": "9749ed749d844a1a9bda6f1a0e10bc01",
       "version_major": 2,
       "version_minor": 0
      },
      "text/plain": [
       "  0%|          | 0/750 [00:00<?, ?it/s]"
      ]
     },
     "metadata": {},
     "output_type": "display_data"
    },
    {
     "name": "stdout",
     "output_type": "stream",
     "text": [
      "Epoch: 130, iteration: 0, loss: 0.0340693\n",
      "Epoch: 130, iteration: 50, loss: 0.0292553\n",
      "Epoch: 130, iteration: 100, loss: 0.0283771\n",
      "Epoch: 130, iteration: 150, loss: 0.0249415\n",
      "Epoch: 130, iteration: 200, loss: 0.0337658\n",
      "Epoch: 130, iteration: 250, loss: 0.0271407\n",
      "Epoch: 130, iteration: 300, loss: 0.0294561\n",
      "Epoch: 130, iteration: 350, loss: 0.0291373\n",
      "Epoch: 130, iteration: 400, loss: 0.0311017\n",
      "Epoch: 130, iteration: 450, loss: 0.0267863\n",
      "Epoch: 130, iteration: 500, loss: 0.0283444\n",
      "Epoch: 130, iteration: 550, loss: 0.0239887\n",
      "Epoch: 130, iteration: 600, loss: 0.0339825\n",
      "Epoch: 130, iteration: 650, loss: 0.0258864\n",
      "Epoch: 130, iteration: 700, loss: 0.0296133\n",
      "Epoch 131\n"
     ]
    },
    {
     "data": {
      "application/vnd.jupyter.widget-view+json": {
       "model_id": "ae64cfa70f9e4b68962a6115b3180649",
       "version_major": 2,
       "version_minor": 0
      },
      "text/plain": [
       "  0%|          | 0/750 [00:00<?, ?it/s]"
      ]
     },
     "metadata": {},
     "output_type": "display_data"
    },
    {
     "name": "stdout",
     "output_type": "stream",
     "text": [
      "Epoch: 131, iteration: 0, loss: 0.0280642\n",
      "Epoch: 131, iteration: 50, loss: 0.0346792\n",
      "Epoch: 131, iteration: 100, loss: 0.0244781\n",
      "Epoch: 131, iteration: 150, loss: 0.0312832\n",
      "Epoch: 131, iteration: 200, loss: 0.0286239\n",
      "Epoch: 131, iteration: 250, loss: 0.0321224\n",
      "Epoch: 131, iteration: 300, loss: 0.0254937\n",
      "Epoch: 131, iteration: 350, loss: 0.0318569\n",
      "Epoch: 131, iteration: 400, loss: 0.0270761\n",
      "Epoch: 131, iteration: 450, loss: 0.0358573\n",
      "Epoch: 131, iteration: 500, loss: 0.0258949\n",
      "Epoch: 131, iteration: 550, loss: 0.0301078\n",
      "Epoch: 131, iteration: 600, loss: 0.0276008\n",
      "Epoch: 131, iteration: 650, loss: 0.0322872\n",
      "Epoch: 131, iteration: 700, loss: 0.0246155\n",
      "Epoch 132\n"
     ]
    },
    {
     "data": {
      "application/vnd.jupyter.widget-view+json": {
       "model_id": "5697feb92db948af949d4f5546834f34",
       "version_major": 2,
       "version_minor": 0
      },
      "text/plain": [
       "  0%|          | 0/750 [00:00<?, ?it/s]"
      ]
     },
     "metadata": {},
     "output_type": "display_data"
    },
    {
     "name": "stdout",
     "output_type": "stream",
     "text": [
      "Epoch: 132, iteration: 0, loss: 0.0289268\n",
      "Epoch: 132, iteration: 50, loss: 0.0250653\n",
      "Epoch: 132, iteration: 100, loss: 0.033742\n",
      "Epoch: 132, iteration: 150, loss: 0.023279\n",
      "Epoch: 132, iteration: 200, loss: 0.0277293\n",
      "Epoch: 132, iteration: 250, loss: 0.0284802\n",
      "Epoch: 132, iteration: 300, loss: 0.0304331\n",
      "Epoch: 132, iteration: 350, loss: 0.0274584\n",
      "Epoch: 132, iteration: 400, loss: 0.0295134\n",
      "Epoch: 132, iteration: 450, loss: 0.0284627\n",
      "Epoch: 132, iteration: 500, loss: 0.0319736\n",
      "Epoch: 132, iteration: 550, loss: 0.0248905\n",
      "Epoch: 132, iteration: 600, loss: 0.0302007\n",
      "Epoch: 132, iteration: 650, loss: 0.0269219\n",
      "Epoch: 132, iteration: 700, loss: 0.0333876\n",
      "Epoch 133\n"
     ]
    },
    {
     "data": {
      "application/vnd.jupyter.widget-view+json": {
       "model_id": "0d40e6348fcd4fa88c014864304114a7",
       "version_major": 2,
       "version_minor": 0
      },
      "text/plain": [
       "  0%|          | 0/750 [00:00<?, ?it/s]"
      ]
     },
     "metadata": {},
     "output_type": "display_data"
    },
    {
     "name": "stdout",
     "output_type": "stream",
     "text": [
      "Epoch: 133, iteration: 0, loss: 0.0231788\n",
      "Epoch: 133, iteration: 50, loss: 0.0323353\n",
      "Epoch: 133, iteration: 100, loss: 0.0264863\n",
      "Epoch: 133, iteration: 150, loss: 0.0320962\n",
      "Epoch: 133, iteration: 200, loss: 0.0237161\n",
      "Epoch: 133, iteration: 250, loss: 0.0276202\n",
      "Epoch: 133, iteration: 300, loss: 0.0270459\n",
      "Epoch: 133, iteration: 350, loss: 0.032639\n",
      "Epoch: 133, iteration: 400, loss: 0.0267284\n",
      "Epoch: 133, iteration: 450, loss: 0.0307996\n",
      "Epoch: 133, iteration: 500, loss: 0.0274668\n",
      "Epoch: 133, iteration: 550, loss: 0.0366548\n",
      "Epoch: 133, iteration: 600, loss: 0.0241482\n",
      "Epoch: 133, iteration: 650, loss: 0.0311308\n",
      "Epoch: 133, iteration: 700, loss: 0.0263297\n",
      "Epoch 134\n"
     ]
    },
    {
     "data": {
      "application/vnd.jupyter.widget-view+json": {
       "model_id": "7fa1332e6ddc40c4aaed4bf4df948b30",
       "version_major": 2,
       "version_minor": 0
      },
      "text/plain": [
       "  0%|          | 0/750 [00:00<?, ?it/s]"
      ]
     },
     "metadata": {},
     "output_type": "display_data"
    },
    {
     "name": "stdout",
     "output_type": "stream",
     "text": [
      "Epoch: 134, iteration: 0, loss: 0.0360814\n",
      "Epoch: 134, iteration: 50, loss: 0.025751\n",
      "Epoch: 134, iteration: 100, loss: 0.0321091\n",
      "Epoch: 134, iteration: 150, loss: 0.0300575\n",
      "Epoch: 134, iteration: 200, loss: 0.0327986\n",
      "Epoch: 134, iteration: 250, loss: 0.0244768\n",
      "Epoch: 134, iteration: 300, loss: 0.0278152\n",
      "Epoch: 134, iteration: 350, loss: 0.0261625\n",
      "Epoch: 134, iteration: 400, loss: 0.0323405\n",
      "Epoch: 134, iteration: 450, loss: 0.0245839\n",
      "Epoch: 134, iteration: 500, loss: 0.034469\n",
      "Epoch: 134, iteration: 550, loss: 0.0264467\n",
      "Epoch: 134, iteration: 600, loss: 0.0317235\n",
      "Epoch: 134, iteration: 650, loss: 0.0249445\n",
      "Epoch: 134, iteration: 700, loss: 0.0276153\n",
      "\n",
      "Validating...\n"
     ]
    },
    {
     "data": {
      "application/vnd.jupyter.widget-view+json": {
       "model_id": "e2b150cf4f284f838c23cd9fd38bb3c4",
       "version_major": 2,
       "version_minor": 0
      },
      "text/plain": [
       "  0%|          | 0/188 [00:00<?, ?it/s]"
      ]
     },
     "metadata": {},
     "output_type": "display_data"
    },
    {
     "name": "stdout",
     "output_type": "stream",
     "text": [
      "Validation: Epoch: 135, loss: 0.0274737\n",
      "Epoch 135\n"
     ]
    },
    {
     "data": {
      "application/vnd.jupyter.widget-view+json": {
       "model_id": "5b84958370b84510bb655de9fedc67d3",
       "version_major": 2,
       "version_minor": 0
      },
      "text/plain": [
       "  0%|          | 0/750 [00:00<?, ?it/s]"
      ]
     },
     "metadata": {},
     "output_type": "display_data"
    },
    {
     "name": "stdout",
     "output_type": "stream",
     "text": [
      "Epoch: 135, iteration: 0, loss: 0.0275907\n",
      "Epoch: 135, iteration: 50, loss: 0.0316467\n",
      "Epoch: 135, iteration: 100, loss: 0.0227844\n",
      "Epoch: 135, iteration: 150, loss: 0.0259577\n",
      "Epoch: 135, iteration: 200, loss: 0.026418\n",
      "Epoch: 135, iteration: 250, loss: 0.0300593\n",
      "Epoch: 135, iteration: 300, loss: 0.0253825\n",
      "Epoch: 135, iteration: 350, loss: 0.0293439\n",
      "Epoch: 135, iteration: 400, loss: 0.0282192\n",
      "Epoch: 135, iteration: 450, loss: 0.0304861\n",
      "Epoch: 135, iteration: 500, loss: 0.0244336\n",
      "Epoch: 135, iteration: 550, loss: 0.0273873\n",
      "Epoch: 135, iteration: 600, loss: 0.0281309\n",
      "Epoch: 135, iteration: 650, loss: 0.0345882\n",
      "Epoch: 135, iteration: 700, loss: 0.0256925\n",
      "Epoch 136\n"
     ]
    },
    {
     "data": {
      "application/vnd.jupyter.widget-view+json": {
       "model_id": "3586f278f9df4160b894391746621e67",
       "version_major": 2,
       "version_minor": 0
      },
      "text/plain": [
       "  0%|          | 0/750 [00:00<?, ?it/s]"
      ]
     },
     "metadata": {},
     "output_type": "display_data"
    },
    {
     "name": "stdout",
     "output_type": "stream",
     "text": [
      "Epoch: 136, iteration: 0, loss: 0.0309801\n",
      "Epoch: 136, iteration: 50, loss: 0.0238254\n",
      "Epoch: 136, iteration: 100, loss: 0.033607\n",
      "Epoch: 136, iteration: 150, loss: 0.0269582\n",
      "Epoch: 136, iteration: 200, loss: 0.0283154\n",
      "Epoch: 136, iteration: 250, loss: 0.0279286\n",
      "Epoch: 136, iteration: 300, loss: 0.0330706\n",
      "Epoch: 136, iteration: 350, loss: 0.0252682\n",
      "Epoch: 136, iteration: 400, loss: 0.0293333\n",
      "Epoch: 136, iteration: 450, loss: 0.0265422\n",
      "Epoch: 136, iteration: 500, loss: 0.0369555\n",
      "Epoch: 136, iteration: 550, loss: 0.0261118\n",
      "Epoch: 136, iteration: 600, loss: 0.0287668\n",
      "Epoch: 136, iteration: 650, loss: 0.0255211\n",
      "Epoch: 136, iteration: 700, loss: 0.0321973\n",
      "Epoch 137\n"
     ]
    },
    {
     "data": {
      "application/vnd.jupyter.widget-view+json": {
       "model_id": "261b3592dd0b4e4aa2c659b6908f06c7",
       "version_major": 2,
       "version_minor": 0
      },
      "text/plain": [
       "  0%|          | 0/750 [00:00<?, ?it/s]"
      ]
     },
     "metadata": {},
     "output_type": "display_data"
    },
    {
     "name": "stdout",
     "output_type": "stream",
     "text": [
      "Epoch: 137, iteration: 0, loss: 0.0248729\n",
      "Epoch: 137, iteration: 50, loss: 0.0322412\n",
      "Epoch: 137, iteration: 100, loss: 0.0266521\n",
      "Epoch: 137, iteration: 150, loss: 0.0314474\n",
      "Epoch: 137, iteration: 200, loss: 0.0269105\n",
      "Epoch: 137, iteration: 250, loss: 0.0298795\n",
      "Epoch: 137, iteration: 300, loss: 0.0293763\n",
      "Epoch: 137, iteration: 350, loss: 0.0315531\n",
      "Epoch: 137, iteration: 400, loss: 0.0240198\n",
      "Epoch: 137, iteration: 450, loss: 0.0300215\n",
      "Epoch: 137, iteration: 500, loss: 0.0262622\n",
      "Epoch: 137, iteration: 550, loss: 0.0279253\n",
      "Epoch: 137, iteration: 600, loss: 0.025546\n",
      "Epoch: 137, iteration: 650, loss: 0.0290337\n",
      "Epoch: 137, iteration: 700, loss: 0.0277406\n",
      "Epoch 138\n"
     ]
    },
    {
     "data": {
      "application/vnd.jupyter.widget-view+json": {
       "model_id": "47a21f8b93d243b59da0f956eba83512",
       "version_major": 2,
       "version_minor": 0
      },
      "text/plain": [
       "  0%|          | 0/750 [00:00<?, ?it/s]"
      ]
     },
     "metadata": {},
     "output_type": "display_data"
    },
    {
     "name": "stdout",
     "output_type": "stream",
     "text": [
      "Epoch: 138, iteration: 0, loss: 0.0328548\n",
      "Epoch: 138, iteration: 50, loss: 0.0268434\n",
      "Epoch: 138, iteration: 100, loss: 0.029644\n",
      "Epoch: 138, iteration: 150, loss: 0.0252362\n",
      "Epoch: 138, iteration: 200, loss: 0.0321149\n",
      "Epoch: 138, iteration: 250, loss: 0.0249175\n",
      "Epoch: 138, iteration: 300, loss: 0.0300442\n",
      "Epoch: 138, iteration: 350, loss: 0.0256371\n",
      "Epoch: 138, iteration: 400, loss: 0.0322735\n",
      "Epoch: 138, iteration: 450, loss: 0.0253181\n",
      "Epoch: 138, iteration: 500, loss: 0.0275396\n",
      "Epoch: 138, iteration: 550, loss: 0.0281462\n",
      "Epoch: 138, iteration: 600, loss: 0.0335547\n",
      "Epoch: 138, iteration: 650, loss: 0.0258784\n",
      "Epoch: 138, iteration: 700, loss: 0.0296098\n",
      "Epoch 139\n"
     ]
    },
    {
     "data": {
      "application/vnd.jupyter.widget-view+json": {
       "model_id": "e5e71baeabf54f16b09e284a2d5e3156",
       "version_major": 2,
       "version_minor": 0
      },
      "text/plain": [
       "  0%|          | 0/750 [00:00<?, ?it/s]"
      ]
     },
     "metadata": {},
     "output_type": "display_data"
    },
    {
     "name": "stdout",
     "output_type": "stream",
     "text": [
      "Epoch: 139, iteration: 0, loss: 0.0268326\n",
      "Epoch: 139, iteration: 50, loss: 0.0292965\n",
      "Epoch: 139, iteration: 100, loss: 0.0263777\n",
      "Epoch: 139, iteration: 150, loss: 0.0297589\n",
      "Epoch: 139, iteration: 200, loss: 0.0279524\n",
      "Epoch: 139, iteration: 250, loss: 0.0335152\n",
      "Epoch: 139, iteration: 300, loss: 0.0268563\n",
      "Epoch: 139, iteration: 350, loss: 0.0311264\n",
      "Epoch: 139, iteration: 400, loss: 0.0282163\n",
      "Epoch: 139, iteration: 450, loss: 0.0315921\n",
      "Epoch: 139, iteration: 500, loss: 0.0238237\n",
      "Epoch: 139, iteration: 550, loss: 0.0301433\n",
      "Epoch: 139, iteration: 600, loss: 0.0268762\n",
      "Epoch: 139, iteration: 650, loss: 0.0311286\n",
      "Epoch: 139, iteration: 700, loss: 0.0270455\n",
      "\n",
      "Validating...\n"
     ]
    },
    {
     "data": {
      "application/vnd.jupyter.widget-view+json": {
       "model_id": "3d75e38f67d0429a924384420075dcb2",
       "version_major": 2,
       "version_minor": 0
      },
      "text/plain": [
       "  0%|          | 0/188 [00:00<?, ?it/s]"
      ]
     },
     "metadata": {},
     "output_type": "display_data"
    },
    {
     "name": "stdout",
     "output_type": "stream",
     "text": [
      "Validation: Epoch: 140, loss: 0.0274587\n",
      "Epoch 140\n"
     ]
    },
    {
     "data": {
      "application/vnd.jupyter.widget-view+json": {
       "model_id": "32a3929a0ac1496fac5c4b0e3e0bdbd7",
       "version_major": 2,
       "version_minor": 0
      },
      "text/plain": [
       "  0%|          | 0/750 [00:00<?, ?it/s]"
      ]
     },
     "metadata": {},
     "output_type": "display_data"
    },
    {
     "name": "stdout",
     "output_type": "stream",
     "text": [
      "Epoch: 140, iteration: 0, loss: 0.0287879\n",
      "Epoch: 140, iteration: 50, loss: 0.0281579\n",
      "Epoch: 140, iteration: 100, loss: 0.0310505\n",
      "Epoch: 140, iteration: 150, loss: 0.0260413\n",
      "Epoch: 140, iteration: 200, loss: 0.0318442\n",
      "Epoch: 140, iteration: 250, loss: 0.0249764\n",
      "Epoch: 140, iteration: 300, loss: 0.0340034\n",
      "Epoch: 140, iteration: 350, loss: 0.027438\n",
      "Epoch: 140, iteration: 400, loss: 0.0283772\n",
      "Epoch: 140, iteration: 450, loss: 0.0258447\n",
      "Epoch: 140, iteration: 500, loss: 0.033293\n",
      "Epoch: 140, iteration: 550, loss: 0.0267057\n",
      "Epoch: 140, iteration: 600, loss: 0.0277218\n",
      "Epoch: 140, iteration: 650, loss: 0.0255071\n",
      "Epoch: 140, iteration: 700, loss: 0.0340114\n",
      "Epoch 141\n"
     ]
    },
    {
     "data": {
      "application/vnd.jupyter.widget-view+json": {
       "model_id": "52eca4fc21944f5b91e5643f1e51ba3d",
       "version_major": 2,
       "version_minor": 0
      },
      "text/plain": [
       "  0%|          | 0/750 [00:00<?, ?it/s]"
      ]
     },
     "metadata": {},
     "output_type": "display_data"
    },
    {
     "name": "stdout",
     "output_type": "stream",
     "text": [
      "Epoch: 141, iteration: 0, loss: 0.0246762\n",
      "Epoch: 141, iteration: 50, loss: 0.026542\n",
      "Epoch: 141, iteration: 100, loss: 0.0267497\n",
      "Epoch: 141, iteration: 150, loss: 0.0334338\n",
      "Epoch: 141, iteration: 200, loss: 0.0265678\n",
      "Epoch: 141, iteration: 250, loss: 0.0297703\n",
      "Epoch: 141, iteration: 300, loss: 0.0276496\n",
      "Epoch: 141, iteration: 350, loss: 0.035997\n",
      "Epoch: 141, iteration: 400, loss: 0.0249456\n",
      "Epoch: 141, iteration: 450, loss: 0.0328488\n",
      "Epoch: 141, iteration: 500, loss: 0.0291983\n",
      "Epoch: 141, iteration: 550, loss: 0.033652\n",
      "Epoch: 141, iteration: 600, loss: 0.0253924\n",
      "Epoch: 141, iteration: 650, loss: 0.030071\n",
      "Epoch: 141, iteration: 700, loss: 0.0285736\n",
      "Epoch 142\n"
     ]
    },
    {
     "data": {
      "application/vnd.jupyter.widget-view+json": {
       "model_id": "c270f20fcad0483ebfcd5b95d3115db1",
       "version_major": 2,
       "version_minor": 0
      },
      "text/plain": [
       "  0%|          | 0/750 [00:00<?, ?it/s]"
      ]
     },
     "metadata": {},
     "output_type": "display_data"
    },
    {
     "name": "stdout",
     "output_type": "stream",
     "text": [
      "Epoch: 142, iteration: 0, loss: 0.0297012\n",
      "Epoch: 142, iteration: 50, loss: 0.0242991\n",
      "Epoch: 142, iteration: 100, loss: 0.0289375\n",
      "Epoch: 142, iteration: 150, loss: 0.0259476\n",
      "Epoch: 142, iteration: 200, loss: 0.0313627\n",
      "Epoch: 142, iteration: 250, loss: 0.0252675\n",
      "Epoch: 142, iteration: 300, loss: 0.0318865\n",
      "Epoch: 142, iteration: 350, loss: 0.030259\n",
      "Epoch: 142, iteration: 400, loss: 0.0359402\n",
      "Epoch: 142, iteration: 450, loss: 0.0261589\n",
      "Epoch: 142, iteration: 500, loss: 0.0313436\n",
      "Epoch: 142, iteration: 550, loss: 0.0273386\n",
      "Epoch: 142, iteration: 600, loss: 0.034254\n",
      "Epoch: 142, iteration: 650, loss: 0.0264012\n",
      "Epoch: 142, iteration: 700, loss: 0.0287721\n",
      "Epoch 143\n"
     ]
    },
    {
     "data": {
      "application/vnd.jupyter.widget-view+json": {
       "model_id": "9b499e8c90044b69a2212f56dd035dce",
       "version_major": 2,
       "version_minor": 0
      },
      "text/plain": [
       "  0%|          | 0/750 [00:00<?, ?it/s]"
      ]
     },
     "metadata": {},
     "output_type": "display_data"
    },
    {
     "name": "stdout",
     "output_type": "stream",
     "text": [
      "Epoch: 143, iteration: 0, loss: 0.0249611\n",
      "Epoch: 143, iteration: 50, loss: 0.0339354\n",
      "Epoch: 143, iteration: 100, loss: 0.0245083\n",
      "Epoch: 143, iteration: 150, loss: 0.0278715\n",
      "Epoch: 143, iteration: 200, loss: 0.027425\n",
      "Epoch: 143, iteration: 250, loss: 0.0305541\n",
      "Epoch: 143, iteration: 300, loss: 0.0256689\n",
      "Epoch: 143, iteration: 350, loss: 0.0256074\n",
      "Epoch: 143, iteration: 400, loss: 0.0255273\n",
      "Epoch: 143, iteration: 450, loss: 0.0311291\n",
      "Epoch: 143, iteration: 500, loss: 0.0262287\n",
      "Epoch: 143, iteration: 550, loss: 0.0304078\n",
      "Epoch: 143, iteration: 600, loss: 0.0240795\n",
      "Epoch: 143, iteration: 650, loss: 0.0284227\n",
      "Epoch: 143, iteration: 700, loss: 0.0290468\n",
      "Epoch 144\n"
     ]
    },
    {
     "data": {
      "application/vnd.jupyter.widget-view+json": {
       "model_id": "1d7ebf3ac762453ab0b94ca6e9e6811c",
       "version_major": 2,
       "version_minor": 0
      },
      "text/plain": [
       "  0%|          | 0/750 [00:00<?, ?it/s]"
      ]
     },
     "metadata": {},
     "output_type": "display_data"
    },
    {
     "name": "stdout",
     "output_type": "stream",
     "text": [
      "Epoch: 144, iteration: 0, loss: 0.02545\n",
      "Epoch: 144, iteration: 50, loss: 0.027452\n",
      "Epoch: 144, iteration: 100, loss: 0.0296868\n",
      "Epoch: 144, iteration: 150, loss: 0.0251557\n",
      "Epoch: 144, iteration: 200, loss: 0.0301678\n",
      "Epoch: 144, iteration: 250, loss: 0.0258327\n",
      "Epoch: 144, iteration: 300, loss: 0.0326886\n",
      "Epoch: 144, iteration: 350, loss: 0.0267162\n",
      "Epoch: 144, iteration: 400, loss: 0.0274243\n",
      "Epoch: 144, iteration: 450, loss: 0.025694\n",
      "Epoch: 144, iteration: 500, loss: 0.0324601\n",
      "Epoch: 144, iteration: 550, loss: 0.0231916\n",
      "Epoch: 144, iteration: 600, loss: 0.0316791\n",
      "Epoch: 144, iteration: 650, loss: 0.0272852\n",
      "Epoch: 144, iteration: 700, loss: 0.0324541\n",
      "\n",
      "Validating...\n"
     ]
    },
    {
     "data": {
      "application/vnd.jupyter.widget-view+json": {
       "model_id": "7ba35c59e75b4487882dee01b94d395b",
       "version_major": 2,
       "version_minor": 0
      },
      "text/plain": [
       "  0%|          | 0/188 [00:00<?, ?it/s]"
      ]
     },
     "metadata": {},
     "output_type": "display_data"
    },
    {
     "name": "stdout",
     "output_type": "stream",
     "text": [
      "Validation: Epoch: 145, loss: 0.0274394\n",
      "Epoch 145\n"
     ]
    },
    {
     "data": {
      "application/vnd.jupyter.widget-view+json": {
       "model_id": "56355a25d4894d4fa6284477d5d39eea",
       "version_major": 2,
       "version_minor": 0
      },
      "text/plain": [
       "  0%|          | 0/750 [00:00<?, ?it/s]"
      ]
     },
     "metadata": {},
     "output_type": "display_data"
    },
    {
     "name": "stdout",
     "output_type": "stream",
     "text": [
      "Epoch: 145, iteration: 0, loss: 0.0251084\n",
      "Epoch: 145, iteration: 50, loss: 0.0276608\n",
      "Epoch: 145, iteration: 100, loss: 0.0264395\n",
      "Epoch: 145, iteration: 150, loss: 0.0307708\n",
      "Epoch: 145, iteration: 200, loss: 0.0244169\n",
      "Epoch: 145, iteration: 250, loss: 0.0298416\n",
      "Epoch: 145, iteration: 300, loss: 0.0249674\n",
      "Epoch: 145, iteration: 350, loss: 0.0314091\n",
      "Epoch: 145, iteration: 400, loss: 0.0283278\n",
      "Epoch: 145, iteration: 450, loss: 0.032227\n",
      "Epoch: 145, iteration: 500, loss: 0.0245394\n",
      "Epoch: 145, iteration: 550, loss: 0.0321049\n",
      "Epoch: 145, iteration: 600, loss: 0.0253358\n",
      "Epoch: 145, iteration: 650, loss: 0.0297268\n",
      "Epoch: 145, iteration: 700, loss: 0.0295026\n",
      "Epoch 146\n"
     ]
    },
    {
     "data": {
      "application/vnd.jupyter.widget-view+json": {
       "model_id": "69c11484983d41259b088200199c1f10",
       "version_major": 2,
       "version_minor": 0
      },
      "text/plain": [
       "  0%|          | 0/750 [00:00<?, ?it/s]"
      ]
     },
     "metadata": {},
     "output_type": "display_data"
    },
    {
     "name": "stdout",
     "output_type": "stream",
     "text": [
      "Epoch: 146, iteration: 0, loss: 0.0327458\n",
      "Epoch: 146, iteration: 50, loss: 0.0277961\n",
      "Epoch: 146, iteration: 100, loss: 0.0279884\n",
      "Epoch: 146, iteration: 150, loss: 0.030826\n",
      "Epoch: 146, iteration: 200, loss: 0.0318803\n",
      "Epoch: 146, iteration: 250, loss: 0.0282543\n",
      "Epoch: 146, iteration: 300, loss: 0.0319906\n",
      "Epoch: 146, iteration: 350, loss: 0.0263562\n",
      "Epoch: 146, iteration: 400, loss: 0.0302442\n",
      "Epoch: 146, iteration: 450, loss: 0.026767\n",
      "Epoch: 146, iteration: 500, loss: 0.0267696\n",
      "Epoch: 146, iteration: 550, loss: 0.0263115\n",
      "Epoch: 146, iteration: 600, loss: 0.0327639\n",
      "Epoch: 146, iteration: 650, loss: 0.0270317\n",
      "Epoch: 146, iteration: 700, loss: 0.0284619\n",
      "Epoch 147\n"
     ]
    },
    {
     "data": {
      "application/vnd.jupyter.widget-view+json": {
       "model_id": "36357b412cee4109956696186b561898",
       "version_major": 2,
       "version_minor": 0
      },
      "text/plain": [
       "  0%|          | 0/750 [00:00<?, ?it/s]"
      ]
     },
     "metadata": {},
     "output_type": "display_data"
    },
    {
     "name": "stdout",
     "output_type": "stream",
     "text": [
      "Epoch: 147, iteration: 0, loss: 0.0299432\n",
      "Epoch: 147, iteration: 50, loss: 0.0310802\n",
      "Epoch: 147, iteration: 100, loss: 0.0287714\n",
      "Epoch: 147, iteration: 150, loss: 0.0278553\n",
      "Epoch: 147, iteration: 200, loss: 0.0269862\n",
      "Epoch: 147, iteration: 250, loss: 0.0321901\n",
      "Epoch: 147, iteration: 300, loss: 0.0239476\n",
      "Epoch: 147, iteration: 350, loss: 0.0293263\n",
      "Epoch: 147, iteration: 400, loss: 0.0270681\n",
      "Epoch: 147, iteration: 450, loss: 0.0311861\n",
      "Epoch: 147, iteration: 500, loss: 0.0238921\n",
      "Epoch: 147, iteration: 550, loss: 0.0288464\n",
      "Epoch: 147, iteration: 600, loss: 0.0279781\n",
      "Epoch: 147, iteration: 650, loss: 0.0328629\n",
      "Epoch: 147, iteration: 700, loss: 0.0256159\n",
      "Epoch 148\n"
     ]
    },
    {
     "data": {
      "application/vnd.jupyter.widget-view+json": {
       "model_id": "80b4ffa5ff7b4446842300156af3124c",
       "version_major": 2,
       "version_minor": 0
      },
      "text/plain": [
       "  0%|          | 0/750 [00:00<?, ?it/s]"
      ]
     },
     "metadata": {},
     "output_type": "display_data"
    },
    {
     "name": "stdout",
     "output_type": "stream",
     "text": [
      "Epoch: 148, iteration: 0, loss: 0.0290958\n",
      "Epoch: 148, iteration: 50, loss: 0.0279218\n",
      "Epoch: 148, iteration: 100, loss: 0.0319371\n",
      "Epoch: 148, iteration: 150, loss: 0.0246141\n",
      "Epoch: 148, iteration: 200, loss: 0.0283239\n",
      "Epoch: 148, iteration: 250, loss: 0.0276398\n",
      "Epoch: 148, iteration: 300, loss: 0.0332403\n",
      "Epoch: 148, iteration: 350, loss: 0.025511\n",
      "Epoch: 148, iteration: 400, loss: 0.0311261\n",
      "Epoch: 148, iteration: 450, loss: 0.0295242\n",
      "Epoch: 148, iteration: 500, loss: 0.0303727\n",
      "Epoch: 148, iteration: 550, loss: 0.0242583\n",
      "Epoch: 148, iteration: 600, loss: 0.0275788\n",
      "Epoch: 148, iteration: 650, loss: 0.0268795\n",
      "Epoch: 148, iteration: 700, loss: 0.0334372\n",
      "Epoch 149\n"
     ]
    },
    {
     "data": {
      "application/vnd.jupyter.widget-view+json": {
       "model_id": "8985004ffeb8429b9b82f32cfe2df3a3",
       "version_major": 2,
       "version_minor": 0
      },
      "text/plain": [
       "  0%|          | 0/750 [00:00<?, ?it/s]"
      ]
     },
     "metadata": {},
     "output_type": "display_data"
    },
    {
     "name": "stdout",
     "output_type": "stream",
     "text": [
      "Epoch: 149, iteration: 0, loss: 0.0217676\n",
      "Epoch: 149, iteration: 50, loss: 0.0276886\n",
      "Epoch: 149, iteration: 100, loss: 0.0293312\n",
      "Epoch: 149, iteration: 150, loss: 0.0295557\n",
      "Epoch: 149, iteration: 200, loss: 0.0244276\n",
      "Epoch: 149, iteration: 250, loss: 0.0288799\n",
      "Epoch: 149, iteration: 300, loss: 0.0262975\n",
      "Epoch: 149, iteration: 350, loss: 0.0305573\n",
      "Epoch: 149, iteration: 400, loss: 0.0264561\n",
      "Epoch: 149, iteration: 450, loss: 0.028478\n",
      "Epoch: 149, iteration: 500, loss: 0.0272084\n",
      "Epoch: 149, iteration: 550, loss: 0.0302641\n",
      "Epoch: 149, iteration: 600, loss: 0.026217\n",
      "Epoch: 149, iteration: 650, loss: 0.0325328\n",
      "Epoch: 149, iteration: 700, loss: 0.0244925\n",
      "\n",
      "Validating...\n"
     ]
    },
    {
     "data": {
      "application/vnd.jupyter.widget-view+json": {
       "model_id": "abe5e21172794d6d8d9741352a7c50d5",
       "version_major": 2,
       "version_minor": 0
      },
      "text/plain": [
       "  0%|          | 0/188 [00:00<?, ?it/s]"
      ]
     },
     "metadata": {},
     "output_type": "display_data"
    },
    {
     "name": "stdout",
     "output_type": "stream",
     "text": [
      "Validation: Epoch: 150, loss: 0.0274228\n",
      "Epoch 150\n"
     ]
    },
    {
     "data": {
      "application/vnd.jupyter.widget-view+json": {
       "model_id": "792e281768924f92b2fa07fe21354331",
       "version_major": 2,
       "version_minor": 0
      },
      "text/plain": [
       "  0%|          | 0/750 [00:00<?, ?it/s]"
      ]
     },
     "metadata": {},
     "output_type": "display_data"
    },
    {
     "name": "stdout",
     "output_type": "stream",
     "text": [
      "Epoch: 150, iteration: 0, loss: 0.0344192\n",
      "Epoch: 150, iteration: 50, loss: 0.0246793\n",
      "Epoch: 150, iteration: 100, loss: 0.0295299\n",
      "Epoch: 150, iteration: 150, loss: 0.0316348\n",
      "Epoch: 150, iteration: 200, loss: 0.0312987\n",
      "Epoch: 150, iteration: 250, loss: 0.0243035\n",
      "Epoch: 150, iteration: 300, loss: 0.0273115\n",
      "Epoch: 150, iteration: 350, loss: 0.0261339\n",
      "Epoch: 150, iteration: 400, loss: 0.0329007\n",
      "Epoch: 150, iteration: 450, loss: 0.0284963\n",
      "Epoch: 150, iteration: 500, loss: 0.0307514\n",
      "Epoch: 150, iteration: 550, loss: 0.0280717\n",
      "Epoch: 150, iteration: 600, loss: 0.0323637\n",
      "Epoch: 150, iteration: 650, loss: 0.0251474\n",
      "Epoch: 150, iteration: 700, loss: 0.0282024\n",
      "Epoch 151\n"
     ]
    },
    {
     "data": {
      "application/vnd.jupyter.widget-view+json": {
       "model_id": "8840beec8d364a4b81c9f9dc09817162",
       "version_major": 2,
       "version_minor": 0
      },
      "text/plain": [
       "  0%|          | 0/750 [00:00<?, ?it/s]"
      ]
     },
     "metadata": {},
     "output_type": "display_data"
    },
    {
     "name": "stdout",
     "output_type": "stream",
     "text": [
      "Epoch: 151, iteration: 0, loss: 0.0246875\n",
      "Epoch: 151, iteration: 50, loss: 0.0332806\n",
      "Epoch: 151, iteration: 100, loss: 0.0260196\n",
      "Epoch: 151, iteration: 150, loss: 0.0321438\n",
      "Epoch: 151, iteration: 200, loss: 0.0265117\n",
      "Epoch: 151, iteration: 250, loss: 0.032865\n",
      "Epoch: 151, iteration: 300, loss: 0.023636\n",
      "Epoch: 151, iteration: 350, loss: 0.0275753\n",
      "Epoch: 151, iteration: 400, loss: 0.0272713\n",
      "Epoch: 151, iteration: 450, loss: 0.03276\n",
      "Epoch: 151, iteration: 500, loss: 0.0260841\n",
      "Epoch: 151, iteration: 550, loss: 0.0255763\n",
      "Epoch: 151, iteration: 600, loss: 0.0299441\n",
      "Epoch: 151, iteration: 650, loss: 0.0337273\n",
      "Epoch: 151, iteration: 700, loss: 0.0236949\n",
      "Epoch 152\n"
     ]
    },
    {
     "data": {
      "application/vnd.jupyter.widget-view+json": {
       "model_id": "56bcaa0d448644789242677a64564ed7",
       "version_major": 2,
       "version_minor": 0
      },
      "text/plain": [
       "  0%|          | 0/750 [00:00<?, ?it/s]"
      ]
     },
     "metadata": {},
     "output_type": "display_data"
    },
    {
     "name": "stdout",
     "output_type": "stream",
     "text": [
      "Epoch: 152, iteration: 0, loss: 0.0256073\n",
      "Epoch: 152, iteration: 50, loss: 0.0264392\n",
      "Epoch: 152, iteration: 100, loss: 0.0315323\n",
      "Epoch: 152, iteration: 150, loss: 0.0261897\n",
      "Epoch: 152, iteration: 200, loss: 0.0310742\n",
      "Epoch: 152, iteration: 250, loss: 0.0257073\n",
      "Epoch: 152, iteration: 300, loss: 0.033291\n",
      "Epoch: 152, iteration: 350, loss: 0.0266812\n",
      "Epoch: 152, iteration: 400, loss: 0.0282515\n",
      "Epoch: 152, iteration: 450, loss: 0.0281878\n",
      "Epoch: 152, iteration: 500, loss: 0.0310788\n",
      "Epoch: 152, iteration: 550, loss: 0.0257778\n",
      "Epoch: 152, iteration: 600, loss: 0.0281634\n",
      "Epoch: 152, iteration: 650, loss: 0.0282856\n",
      "Epoch: 152, iteration: 700, loss: 0.0319193\n",
      "Epoch 153\n"
     ]
    },
    {
     "data": {
      "application/vnd.jupyter.widget-view+json": {
       "model_id": "9079bf29fb2045a7b61814c95ee5dc34",
       "version_major": 2,
       "version_minor": 0
      },
      "text/plain": [
       "  0%|          | 0/750 [00:00<?, ?it/s]"
      ]
     },
     "metadata": {},
     "output_type": "display_data"
    },
    {
     "name": "stdout",
     "output_type": "stream",
     "text": [
      "Epoch: 153, iteration: 0, loss: 0.0235351\n",
      "Epoch: 153, iteration: 50, loss: 0.0273347\n",
      "Epoch: 153, iteration: 100, loss: 0.0277077\n",
      "Epoch: 153, iteration: 150, loss: 0.0343144\n",
      "Epoch: 153, iteration: 200, loss: 0.0262663\n",
      "Epoch: 153, iteration: 250, loss: 0.0305168\n",
      "Epoch: 153, iteration: 300, loss: 0.0270106\n",
      "Epoch: 153, iteration: 350, loss: 0.0318622\n",
      "Epoch: 153, iteration: 400, loss: 0.0244883\n",
      "Epoch: 153, iteration: 450, loss: 0.0279274\n",
      "Epoch: 153, iteration: 500, loss: 0.0249192\n",
      "Epoch: 153, iteration: 550, loss: 0.0324097\n",
      "Epoch: 153, iteration: 600, loss: 0.0251936\n",
      "Epoch: 153, iteration: 650, loss: 0.0285363\n",
      "Epoch: 153, iteration: 700, loss: 0.0284831\n",
      "Epoch 154\n"
     ]
    },
    {
     "data": {
      "application/vnd.jupyter.widget-view+json": {
       "model_id": "1aa18d15d1fc45b69f27646aaee287a2",
       "version_major": 2,
       "version_minor": 0
      },
      "text/plain": [
       "  0%|          | 0/750 [00:00<?, ?it/s]"
      ]
     },
     "metadata": {},
     "output_type": "display_data"
    },
    {
     "name": "stdout",
     "output_type": "stream",
     "text": [
      "Epoch: 154, iteration: 0, loss: 0.0311279\n",
      "Epoch: 154, iteration: 50, loss: 0.0242728\n",
      "Epoch: 154, iteration: 100, loss: 0.0267757\n",
      "Epoch: 154, iteration: 150, loss: 0.0267417\n",
      "Epoch: 154, iteration: 200, loss: 0.031947\n",
      "Epoch: 154, iteration: 250, loss: 0.0252216\n",
      "Epoch: 154, iteration: 300, loss: 0.0276627\n",
      "Epoch: 154, iteration: 350, loss: 0.0261001\n",
      "Epoch: 154, iteration: 400, loss: 0.0294808\n",
      "Epoch: 154, iteration: 450, loss: 0.0259927\n",
      "Epoch: 154, iteration: 500, loss: 0.0292381\n",
      "Epoch: 154, iteration: 550, loss: 0.0281076\n",
      "Epoch: 154, iteration: 600, loss: 0.0333368\n",
      "Epoch: 154, iteration: 650, loss: 0.0262863\n",
      "Epoch: 154, iteration: 700, loss: 0.0292996\n",
      "\n",
      "Validating...\n"
     ]
    },
    {
     "data": {
      "application/vnd.jupyter.widget-view+json": {
       "model_id": "02c6992c93e84ddaab14d04c2faf8b42",
       "version_major": 2,
       "version_minor": 0
      },
      "text/plain": [
       "  0%|          | 0/188 [00:00<?, ?it/s]"
      ]
     },
     "metadata": {},
     "output_type": "display_data"
    },
    {
     "name": "stdout",
     "output_type": "stream",
     "text": [
      "Validation: Epoch: 155, loss: 0.0273978\n",
      "Epoch 155\n"
     ]
    },
    {
     "data": {
      "application/vnd.jupyter.widget-view+json": {
       "model_id": "eef2ae27782e474daaba5f4234d7bfc9",
       "version_major": 2,
       "version_minor": 0
      },
      "text/plain": [
       "  0%|          | 0/750 [00:00<?, ?it/s]"
      ]
     },
     "metadata": {},
     "output_type": "display_data"
    },
    {
     "name": "stdout",
     "output_type": "stream",
     "text": [
      "Epoch: 155, iteration: 0, loss: 0.0295041\n",
      "Epoch: 155, iteration: 50, loss: 0.0318488\n",
      "Epoch: 155, iteration: 100, loss: 0.026102\n",
      "Epoch: 155, iteration: 150, loss: 0.0293649\n",
      "Epoch: 155, iteration: 200, loss: 0.0265087\n",
      "Epoch: 155, iteration: 250, loss: 0.0356563\n",
      "Epoch: 155, iteration: 300, loss: 0.026176\n",
      "Epoch: 155, iteration: 350, loss: 0.0275099\n",
      "Epoch: 155, iteration: 400, loss: 0.0277425\n",
      "Epoch: 155, iteration: 450, loss: 0.032428\n",
      "Epoch: 155, iteration: 500, loss: 0.0238881\n",
      "Epoch: 155, iteration: 550, loss: 0.0254471\n",
      "Epoch: 155, iteration: 600, loss: 0.0266041\n",
      "Epoch: 155, iteration: 650, loss: 0.0372257\n",
      "Epoch: 155, iteration: 700, loss: 0.02695\n",
      "Epoch 156\n"
     ]
    },
    {
     "data": {
      "application/vnd.jupyter.widget-view+json": {
       "model_id": "f5961cf5f2da4d12a339e3f6bda40b2e",
       "version_major": 2,
       "version_minor": 0
      },
      "text/plain": [
       "  0%|          | 0/750 [00:00<?, ?it/s]"
      ]
     },
     "metadata": {},
     "output_type": "display_data"
    },
    {
     "name": "stdout",
     "output_type": "stream",
     "text": [
      "Epoch: 156, iteration: 0, loss: 0.0324249\n",
      "Epoch: 156, iteration: 50, loss: 0.0300771\n",
      "Epoch: 156, iteration: 100, loss: 0.0294875\n",
      "Epoch: 156, iteration: 150, loss: 0.0243974\n",
      "Epoch: 156, iteration: 200, loss: 0.0269258\n",
      "Epoch: 156, iteration: 250, loss: 0.0287456\n",
      "Epoch: 156, iteration: 300, loss: 0.0317928\n",
      "Epoch: 156, iteration: 350, loss: 0.0250983\n",
      "Epoch: 156, iteration: 400, loss: 0.0298051\n",
      "Epoch: 156, iteration: 450, loss: 0.0281166\n",
      "Epoch: 156, iteration: 500, loss: 0.0350414\n",
      "Epoch: 156, iteration: 550, loss: 0.0284664\n",
      "Epoch: 156, iteration: 600, loss: 0.0282554\n",
      "Epoch: 156, iteration: 650, loss: 0.0297413\n",
      "Epoch: 156, iteration: 700, loss: 0.0335464\n",
      "Epoch 157\n"
     ]
    },
    {
     "data": {
      "application/vnd.jupyter.widget-view+json": {
       "model_id": "1e6826e05ddd4577b74f589789cde727",
       "version_major": 2,
       "version_minor": 0
      },
      "text/plain": [
       "  0%|          | 0/750 [00:00<?, ?it/s]"
      ]
     },
     "metadata": {},
     "output_type": "display_data"
    },
    {
     "name": "stdout",
     "output_type": "stream",
     "text": [
      "Epoch: 157, iteration: 0, loss: 0.0265109\n",
      "Epoch: 157, iteration: 50, loss: 0.0295299\n",
      "Epoch: 157, iteration: 100, loss: 0.0269291\n",
      "Epoch: 157, iteration: 150, loss: 0.0319893\n",
      "Epoch: 157, iteration: 200, loss: 0.0239476\n",
      "Epoch: 157, iteration: 250, loss: 0.0288506\n",
      "Epoch: 157, iteration: 300, loss: 0.0284474\n",
      "Epoch: 157, iteration: 350, loss: 0.0340969\n",
      "Epoch: 157, iteration: 400, loss: 0.0267482\n",
      "Epoch: 157, iteration: 450, loss: 0.029659\n",
      "Epoch: 157, iteration: 500, loss: 0.0276391\n",
      "Epoch: 157, iteration: 550, loss: 0.032004\n",
      "Epoch: 157, iteration: 600, loss: 0.0281388\n",
      "Epoch: 157, iteration: 650, loss: 0.0280006\n",
      "Epoch: 157, iteration: 700, loss: 0.0263799\n",
      "Epoch 158\n"
     ]
    },
    {
     "data": {
      "application/vnd.jupyter.widget-view+json": {
       "model_id": "4108b4af51cf412e9725cdcbafe68a41",
       "version_major": 2,
       "version_minor": 0
      },
      "text/plain": [
       "  0%|          | 0/750 [00:00<?, ?it/s]"
      ]
     },
     "metadata": {},
     "output_type": "display_data"
    },
    {
     "name": "stdout",
     "output_type": "stream",
     "text": [
      "Epoch: 158, iteration: 0, loss: 0.031195\n",
      "Epoch: 158, iteration: 50, loss: 0.0277218\n",
      "Epoch: 158, iteration: 100, loss: 0.0288797\n",
      "Epoch: 158, iteration: 150, loss: 0.0281256\n",
      "Epoch: 158, iteration: 200, loss: 0.0324668\n",
      "Epoch: 158, iteration: 250, loss: 0.0272541\n",
      "Epoch: 158, iteration: 300, loss: 0.0285746\n",
      "Epoch: 158, iteration: 350, loss: 0.0268423\n",
      "Epoch: 158, iteration: 400, loss: 0.0338532\n",
      "Epoch: 158, iteration: 450, loss: 0.0256251\n",
      "Epoch: 158, iteration: 500, loss: 0.0285083\n",
      "Epoch: 158, iteration: 550, loss: 0.0293292\n",
      "Epoch: 158, iteration: 600, loss: 0.0339585\n",
      "Epoch: 158, iteration: 650, loss: 0.0235481\n",
      "Epoch: 158, iteration: 700, loss: 0.0277892\n",
      "Epoch 159\n"
     ]
    },
    {
     "data": {
      "application/vnd.jupyter.widget-view+json": {
       "model_id": "bc58a26a96244b08904aa1c9bb7106bc",
       "version_major": 2,
       "version_minor": 0
      },
      "text/plain": [
       "  0%|          | 0/750 [00:00<?, ?it/s]"
      ]
     },
     "metadata": {},
     "output_type": "display_data"
    },
    {
     "name": "stdout",
     "output_type": "stream",
     "text": [
      "Epoch: 159, iteration: 0, loss: 0.0275878\n",
      "Epoch: 159, iteration: 50, loss: 0.0346881\n",
      "Epoch: 159, iteration: 100, loss: 0.0255908\n",
      "Epoch: 159, iteration: 150, loss: 0.02931\n",
      "Epoch: 159, iteration: 200, loss: 0.0254108\n",
      "Epoch: 159, iteration: 250, loss: 0.0306212\n",
      "Epoch: 159, iteration: 300, loss: 0.0259438\n",
      "Epoch: 159, iteration: 350, loss: 0.0293818\n",
      "Epoch: 159, iteration: 400, loss: 0.0272965\n",
      "Epoch: 159, iteration: 450, loss: 0.0333059\n",
      "Epoch: 159, iteration: 500, loss: 0.0234737\n",
      "Epoch: 159, iteration: 550, loss: 0.0298776\n",
      "Epoch: 159, iteration: 600, loss: 0.0285715\n",
      "Epoch: 159, iteration: 650, loss: 0.037109\n",
      "Epoch: 159, iteration: 700, loss: 0.0256719\n",
      "\n",
      "Validating...\n"
     ]
    },
    {
     "data": {
      "application/vnd.jupyter.widget-view+json": {
       "model_id": "641d8360f4984700868ed253541638a9",
       "version_major": 2,
       "version_minor": 0
      },
      "text/plain": [
       "  0%|          | 0/188 [00:00<?, ?it/s]"
      ]
     },
     "metadata": {},
     "output_type": "display_data"
    },
    {
     "name": "stdout",
     "output_type": "stream",
     "text": [
      "Validation: Epoch: 160, loss: 0.0273855\n",
      "Epoch 160\n"
     ]
    },
    {
     "data": {
      "application/vnd.jupyter.widget-view+json": {
       "model_id": "63999f96e40a42c19f5f498eb9379201",
       "version_major": 2,
       "version_minor": 0
      },
      "text/plain": [
       "  0%|          | 0/750 [00:00<?, ?it/s]"
      ]
     },
     "metadata": {},
     "output_type": "display_data"
    },
    {
     "name": "stdout",
     "output_type": "stream",
     "text": [
      "Epoch: 160, iteration: 0, loss: 0.0267584\n",
      "Epoch: 160, iteration: 50, loss: 0.0285786\n",
      "Epoch: 160, iteration: 100, loss: 0.0328441\n",
      "Epoch: 160, iteration: 150, loss: 0.0259991\n",
      "Epoch: 160, iteration: 200, loss: 0.0275309\n",
      "Epoch: 160, iteration: 250, loss: 0.0261084\n",
      "Epoch: 160, iteration: 300, loss: 0.0301084\n",
      "Epoch: 160, iteration: 350, loss: 0.0250355\n",
      "Epoch: 160, iteration: 400, loss: 0.0300919\n",
      "Epoch: 160, iteration: 450, loss: 0.0265533\n",
      "Epoch: 160, iteration: 500, loss: 0.0352947\n",
      "Epoch: 160, iteration: 550, loss: 0.0255233\n",
      "Epoch: 160, iteration: 600, loss: 0.0299153\n",
      "Epoch: 160, iteration: 650, loss: 0.0263003\n",
      "Epoch: 160, iteration: 700, loss: 0.0355051\n",
      "Epoch 161\n"
     ]
    },
    {
     "data": {
      "application/vnd.jupyter.widget-view+json": {
       "model_id": "3f385ca5fed34fbbb91c9032331d33fc",
       "version_major": 2,
       "version_minor": 0
      },
      "text/plain": [
       "  0%|          | 0/750 [00:00<?, ?it/s]"
      ]
     },
     "metadata": {},
     "output_type": "display_data"
    },
    {
     "name": "stdout",
     "output_type": "stream",
     "text": [
      "Epoch: 161, iteration: 0, loss: 0.0257187\n",
      "Epoch: 161, iteration: 50, loss: 0.0274861\n",
      "Epoch: 161, iteration: 100, loss: 0.0293672\n",
      "Epoch: 161, iteration: 150, loss: 0.0315025\n",
      "Epoch: 161, iteration: 200, loss: 0.027464\n",
      "Epoch: 161, iteration: 250, loss: 0.0317277\n",
      "Epoch: 161, iteration: 300, loss: 0.0262196\n",
      "Epoch: 161, iteration: 350, loss: 0.0308566\n",
      "Epoch: 161, iteration: 400, loss: 0.0257819\n",
      "Epoch: 161, iteration: 450, loss: 0.0279362\n",
      "Epoch: 161, iteration: 500, loss: 0.0266204\n",
      "Epoch: 161, iteration: 550, loss: 0.0354474\n",
      "Epoch: 161, iteration: 600, loss: 0.0216546\n",
      "Epoch: 161, iteration: 650, loss: 0.0320993\n",
      "Epoch: 161, iteration: 700, loss: 0.0273949\n",
      "Epoch 162\n"
     ]
    },
    {
     "data": {
      "application/vnd.jupyter.widget-view+json": {
       "model_id": "a174e9c86cb64171bc15550a10dd53cd",
       "version_major": 2,
       "version_minor": 0
      },
      "text/plain": [
       "  0%|          | 0/750 [00:00<?, ?it/s]"
      ]
     },
     "metadata": {},
     "output_type": "display_data"
    },
    {
     "name": "stdout",
     "output_type": "stream",
     "text": [
      "Epoch: 162, iteration: 0, loss: 0.0308832\n",
      "Epoch: 162, iteration: 50, loss: 0.0230292\n",
      "Epoch: 162, iteration: 100, loss: 0.0269836\n",
      "Epoch: 162, iteration: 150, loss: 0.0262326\n",
      "Epoch: 162, iteration: 200, loss: 0.0328089\n",
      "Epoch: 162, iteration: 250, loss: 0.0250477\n",
      "Epoch: 162, iteration: 300, loss: 0.0301831\n",
      "Epoch: 162, iteration: 350, loss: 0.027218\n",
      "Epoch: 162, iteration: 400, loss: 0.0322856\n",
      "Epoch: 162, iteration: 450, loss: 0.0251053\n",
      "Epoch: 162, iteration: 500, loss: 0.0329269\n",
      "Epoch: 162, iteration: 550, loss: 0.0263519\n",
      "Epoch: 162, iteration: 600, loss: 0.0346369\n",
      "Epoch: 162, iteration: 650, loss: 0.0247891\n",
      "Epoch: 162, iteration: 700, loss: 0.0273445\n",
      "Epoch 163\n"
     ]
    },
    {
     "data": {
      "application/vnd.jupyter.widget-view+json": {
       "model_id": "169b8b19dbfe4fdf8716a11aa90bdab2",
       "version_major": 2,
       "version_minor": 0
      },
      "text/plain": [
       "  0%|          | 0/750 [00:00<?, ?it/s]"
      ]
     },
     "metadata": {},
     "output_type": "display_data"
    },
    {
     "name": "stdout",
     "output_type": "stream",
     "text": [
      "Epoch: 163, iteration: 0, loss: 0.0288236\n",
      "Epoch: 163, iteration: 50, loss: 0.0359603\n",
      "Epoch: 163, iteration: 100, loss: 0.0257303\n",
      "Epoch: 163, iteration: 150, loss: 0.0257018\n",
      "Epoch: 163, iteration: 200, loss: 0.0275389\n",
      "Epoch: 163, iteration: 250, loss: 0.0307384\n",
      "Epoch: 163, iteration: 300, loss: 0.0292242\n",
      "Epoch: 163, iteration: 350, loss: 0.0308445\n",
      "Epoch: 163, iteration: 400, loss: 0.0259534\n",
      "Epoch: 163, iteration: 450, loss: 0.0321474\n",
      "Epoch: 163, iteration: 500, loss: 0.0231974\n",
      "Epoch: 163, iteration: 550, loss: 0.0285839\n",
      "Epoch: 163, iteration: 600, loss: 0.0310122\n",
      "Epoch: 163, iteration: 650, loss: 0.0325655\n",
      "Epoch: 163, iteration: 700, loss: 0.0270844\n",
      "Epoch 164\n"
     ]
    },
    {
     "data": {
      "application/vnd.jupyter.widget-view+json": {
       "model_id": "7a4a33f32d4848bfab6f93bf6fdebc1a",
       "version_major": 2,
       "version_minor": 0
      },
      "text/plain": [
       "  0%|          | 0/750 [00:00<?, ?it/s]"
      ]
     },
     "metadata": {},
     "output_type": "display_data"
    },
    {
     "name": "stdout",
     "output_type": "stream",
     "text": [
      "Epoch: 164, iteration: 0, loss: 0.0313232\n",
      "Epoch: 164, iteration: 50, loss: 0.0289031\n",
      "Epoch: 164, iteration: 100, loss: 0.0297779\n",
      "Epoch: 164, iteration: 150, loss: 0.0255231\n",
      "Epoch: 164, iteration: 200, loss: 0.0283256\n",
      "Epoch: 164, iteration: 250, loss: 0.0248357\n",
      "Epoch: 164, iteration: 300, loss: 0.0292681\n",
      "Epoch: 164, iteration: 350, loss: 0.0268128\n",
      "Epoch: 164, iteration: 400, loss: 0.0279675\n",
      "Epoch: 164, iteration: 450, loss: 0.0293578\n",
      "Epoch: 164, iteration: 500, loss: 0.0312588\n",
      "Epoch: 164, iteration: 550, loss: 0.025059\n",
      "Epoch: 164, iteration: 600, loss: 0.0276923\n",
      "Epoch: 164, iteration: 650, loss: 0.0277733\n",
      "Epoch: 164, iteration: 700, loss: 0.0331386\n",
      "\n",
      "Validating...\n"
     ]
    },
    {
     "data": {
      "application/vnd.jupyter.widget-view+json": {
       "model_id": "92476f7c45784777bd579c5f554ce51e",
       "version_major": 2,
       "version_minor": 0
      },
      "text/plain": [
       "  0%|          | 0/188 [00:00<?, ?it/s]"
      ]
     },
     "metadata": {},
     "output_type": "display_data"
    },
    {
     "name": "stdout",
     "output_type": "stream",
     "text": [
      "Validation: Epoch: 165, loss: 0.027391\n",
      "Epoch 165\n"
     ]
    },
    {
     "data": {
      "application/vnd.jupyter.widget-view+json": {
       "model_id": "3537cb8da4fa419ba1df0b6cff58760c",
       "version_major": 2,
       "version_minor": 0
      },
      "text/plain": [
       "  0%|          | 0/750 [00:00<?, ?it/s]"
      ]
     },
     "metadata": {},
     "output_type": "display_data"
    },
    {
     "name": "stdout",
     "output_type": "stream",
     "text": [
      "Epoch: 165, iteration: 0, loss: 0.0259884\n",
      "Epoch: 165, iteration: 50, loss: 0.0295654\n",
      "Epoch: 165, iteration: 100, loss: 0.0267376\n",
      "Epoch: 165, iteration: 150, loss: 0.0320208\n",
      "Epoch: 165, iteration: 200, loss: 0.0244935\n",
      "Epoch: 165, iteration: 250, loss: 0.0291921\n",
      "Epoch: 165, iteration: 300, loss: 0.0252752\n",
      "Epoch: 165, iteration: 350, loss: 0.0290345\n",
      "Epoch: 165, iteration: 400, loss: 0.0261573\n",
      "Epoch: 165, iteration: 450, loss: 0.0289495\n",
      "Epoch: 165, iteration: 500, loss: 0.0267189\n",
      "Epoch: 165, iteration: 550, loss: 0.0296609\n",
      "Epoch: 165, iteration: 600, loss: 0.0230617\n",
      "Epoch: 165, iteration: 650, loss: 0.0302679\n",
      "Epoch: 165, iteration: 700, loss: 0.0287494\n",
      "Epoch 166\n"
     ]
    },
    {
     "data": {
      "application/vnd.jupyter.widget-view+json": {
       "model_id": "0dc017f8d28a4ec594a4b2f974fa92c9",
       "version_major": 2,
       "version_minor": 0
      },
      "text/plain": [
       "  0%|          | 0/750 [00:00<?, ?it/s]"
      ]
     },
     "metadata": {},
     "output_type": "display_data"
    },
    {
     "name": "stdout",
     "output_type": "stream",
     "text": [
      "Epoch: 166, iteration: 0, loss: 0.0296049\n",
      "Epoch: 166, iteration: 50, loss: 0.0242005\n",
      "Epoch: 166, iteration: 100, loss: 0.0296372\n",
      "Epoch: 166, iteration: 150, loss: 0.025017\n",
      "Epoch: 166, iteration: 200, loss: 0.0334515\n",
      "Epoch: 166, iteration: 250, loss: 0.0242188\n",
      "Epoch: 166, iteration: 300, loss: 0.0287357\n",
      "Epoch: 166, iteration: 350, loss: 0.0294108\n",
      "Epoch: 166, iteration: 400, loss: 0.0353446\n",
      "Epoch: 166, iteration: 450, loss: 0.025972\n",
      "Epoch: 166, iteration: 500, loss: 0.0275306\n",
      "Epoch: 166, iteration: 550, loss: 0.0273299\n",
      "Epoch: 166, iteration: 600, loss: 0.0318448\n",
      "Epoch: 166, iteration: 650, loss: 0.0243822\n",
      "Epoch: 166, iteration: 700, loss: 0.0269379\n",
      "Epoch 167\n"
     ]
    },
    {
     "data": {
      "application/vnd.jupyter.widget-view+json": {
       "model_id": "7e732a8c4dd34b5eb7944b83fb495774",
       "version_major": 2,
       "version_minor": 0
      },
      "text/plain": [
       "  0%|          | 0/750 [00:00<?, ?it/s]"
      ]
     },
     "metadata": {},
     "output_type": "display_data"
    },
    {
     "name": "stdout",
     "output_type": "stream",
     "text": [
      "Epoch: 167, iteration: 0, loss: 0.0273896\n",
      "Epoch: 167, iteration: 50, loss: 0.0308136\n",
      "Epoch: 167, iteration: 100, loss: 0.0253643\n",
      "Epoch: 167, iteration: 150, loss: 0.0287769\n",
      "Epoch: 167, iteration: 200, loss: 0.0293862\n",
      "Epoch: 167, iteration: 250, loss: 0.0343303\n",
      "Epoch: 167, iteration: 300, loss: 0.0272382\n",
      "Epoch: 167, iteration: 350, loss: 0.0298192\n",
      "Epoch: 167, iteration: 400, loss: 0.027748\n",
      "Epoch: 167, iteration: 450, loss: 0.0331586\n",
      "Epoch: 167, iteration: 500, loss: 0.0272979\n",
      "Epoch: 167, iteration: 550, loss: 0.0260346\n",
      "Epoch: 167, iteration: 600, loss: 0.0283847\n",
      "Epoch: 167, iteration: 650, loss: 0.0322034\n",
      "Epoch: 167, iteration: 700, loss: 0.0251729\n",
      "Epoch 168\n"
     ]
    },
    {
     "data": {
      "application/vnd.jupyter.widget-view+json": {
       "model_id": "5f0f8368c2b0470f9c321df22bed1e06",
       "version_major": 2,
       "version_minor": 0
      },
      "text/plain": [
       "  0%|          | 0/750 [00:00<?, ?it/s]"
      ]
     },
     "metadata": {},
     "output_type": "display_data"
    },
    {
     "name": "stdout",
     "output_type": "stream",
     "text": [
      "Epoch: 168, iteration: 0, loss: 0.0295927\n",
      "Epoch: 168, iteration: 50, loss: 0.0276952\n",
      "Epoch: 168, iteration: 100, loss: 0.0334322\n",
      "Epoch: 168, iteration: 150, loss: 0.0249943\n",
      "Epoch: 168, iteration: 200, loss: 0.0326774\n",
      "Epoch: 168, iteration: 250, loss: 0.0253747\n",
      "Epoch: 168, iteration: 300, loss: 0.0323309\n",
      "Epoch: 168, iteration: 350, loss: 0.0236068\n",
      "Epoch: 168, iteration: 400, loss: 0.0257475\n",
      "Epoch: 168, iteration: 450, loss: 0.0265271\n",
      "Epoch: 168, iteration: 500, loss: 0.0328828\n",
      "Epoch: 168, iteration: 550, loss: 0.026852\n",
      "Epoch: 168, iteration: 600, loss: 0.0294066\n",
      "Epoch: 168, iteration: 650, loss: 0.0267359\n",
      "Epoch: 168, iteration: 700, loss: 0.0296062\n",
      "Epoch 169\n"
     ]
    },
    {
     "data": {
      "application/vnd.jupyter.widget-view+json": {
       "model_id": "90e5927cebce4d4488a565ef7bac6a33",
       "version_major": 2,
       "version_minor": 0
      },
      "text/plain": [
       "  0%|          | 0/750 [00:00<?, ?it/s]"
      ]
     },
     "metadata": {},
     "output_type": "display_data"
    },
    {
     "name": "stdout",
     "output_type": "stream",
     "text": [
      "Epoch: 169, iteration: 0, loss: 0.0251981\n",
      "Epoch: 169, iteration: 50, loss: 0.0302902\n",
      "Epoch: 169, iteration: 100, loss: 0.026572\n",
      "Epoch: 169, iteration: 150, loss: 0.0279597\n",
      "Epoch: 169, iteration: 200, loss: 0.0240643\n",
      "Epoch: 169, iteration: 250, loss: 0.027457\n",
      "Epoch: 169, iteration: 300, loss: 0.0273209\n",
      "Epoch: 169, iteration: 350, loss: 0.0318758\n",
      "Epoch: 169, iteration: 400, loss: 0.0258912\n",
      "Epoch: 169, iteration: 450, loss: 0.0308886\n",
      "Epoch: 169, iteration: 500, loss: 0.0281645\n",
      "Epoch: 169, iteration: 550, loss: 0.0330914\n",
      "Epoch: 169, iteration: 600, loss: 0.0279608\n",
      "Epoch: 169, iteration: 650, loss: 0.0287355\n",
      "Epoch: 169, iteration: 700, loss: 0.024877\n",
      "\n",
      "Validating...\n"
     ]
    },
    {
     "data": {
      "application/vnd.jupyter.widget-view+json": {
       "model_id": "8fad275f197f4aadbdabe1b5d89ff746",
       "version_major": 2,
       "version_minor": 0
      },
      "text/plain": [
       "  0%|          | 0/188 [00:00<?, ?it/s]"
      ]
     },
     "metadata": {},
     "output_type": "display_data"
    },
    {
     "name": "stdout",
     "output_type": "stream",
     "text": [
      "Validation: Epoch: 170, loss: 0.0273694\n",
      "Epoch 170\n"
     ]
    },
    {
     "data": {
      "application/vnd.jupyter.widget-view+json": {
       "model_id": "e419627ad5664281bcd467490c94758f",
       "version_major": 2,
       "version_minor": 0
      },
      "text/plain": [
       "  0%|          | 0/750 [00:00<?, ?it/s]"
      ]
     },
     "metadata": {},
     "output_type": "display_data"
    },
    {
     "name": "stdout",
     "output_type": "stream",
     "text": [
      "Epoch: 170, iteration: 0, loss: 0.0333875\n",
      "Epoch: 170, iteration: 50, loss: 0.0241494\n",
      "Epoch: 170, iteration: 100, loss: 0.0284187\n",
      "Epoch: 170, iteration: 150, loss: 0.0247762\n",
      "Epoch: 170, iteration: 200, loss: 0.0326217\n",
      "Epoch: 170, iteration: 250, loss: 0.0259395\n",
      "Epoch: 170, iteration: 300, loss: 0.0297201\n",
      "Epoch: 170, iteration: 350, loss: 0.0259773\n",
      "Epoch: 170, iteration: 400, loss: 0.0321656\n",
      "Epoch: 170, iteration: 450, loss: 0.0237444\n",
      "Epoch: 170, iteration: 500, loss: 0.027931\n",
      "Epoch: 170, iteration: 550, loss: 0.0243531\n",
      "Epoch: 170, iteration: 600, loss: 0.0359464\n",
      "Epoch: 170, iteration: 650, loss: 0.0251799\n",
      "Epoch: 170, iteration: 700, loss: 0.0297966\n",
      "Epoch 171\n"
     ]
    },
    {
     "data": {
      "application/vnd.jupyter.widget-view+json": {
       "model_id": "559def2d65c04da2b718b090459d4238",
       "version_major": 2,
       "version_minor": 0
      },
      "text/plain": [
       "  0%|          | 0/750 [00:00<?, ?it/s]"
      ]
     },
     "metadata": {},
     "output_type": "display_data"
    },
    {
     "name": "stdout",
     "output_type": "stream",
     "text": [
      "Epoch: 171, iteration: 0, loss: 0.0297388\n",
      "Epoch: 171, iteration: 50, loss: 0.0338706\n",
      "Epoch: 171, iteration: 100, loss: 0.0240269\n",
      "Epoch: 171, iteration: 150, loss: 0.0278558\n",
      "Epoch: 171, iteration: 200, loss: 0.0244485\n",
      "Epoch: 171, iteration: 250, loss: 0.0338316\n",
      "Epoch: 171, iteration: 300, loss: 0.0260154\n",
      "Epoch: 171, iteration: 350, loss: 0.0326817\n",
      "Epoch: 171, iteration: 400, loss: 0.0265385\n",
      "Epoch: 171, iteration: 450, loss: 0.0335171\n",
      "Epoch: 171, iteration: 500, loss: 0.0244761\n",
      "Epoch: 171, iteration: 550, loss: 0.0284789\n",
      "Epoch: 171, iteration: 600, loss: 0.0284935\n",
      "Epoch: 171, iteration: 650, loss: 0.0322985\n",
      "Epoch: 171, iteration: 700, loss: 0.02404\n",
      "Epoch 172\n"
     ]
    },
    {
     "data": {
      "application/vnd.jupyter.widget-view+json": {
       "model_id": "1a4d83f2b2884881b791075365503aff",
       "version_major": 2,
       "version_minor": 0
      },
      "text/plain": [
       "  0%|          | 0/750 [00:00<?, ?it/s]"
      ]
     },
     "metadata": {},
     "output_type": "display_data"
    },
    {
     "name": "stdout",
     "output_type": "stream",
     "text": [
      "Epoch: 172, iteration: 0, loss: 0.0272888\n",
      "Epoch: 172, iteration: 50, loss: 0.0274097\n",
      "Epoch: 172, iteration: 100, loss: 0.0324589\n",
      "Epoch: 172, iteration: 150, loss: 0.025764\n",
      "Epoch: 172, iteration: 200, loss: 0.0305186\n",
      "Epoch: 172, iteration: 250, loss: 0.0284548\n",
      "Epoch: 172, iteration: 300, loss: 0.0338048\n",
      "Epoch: 172, iteration: 350, loss: 0.0227357\n",
      "Epoch: 172, iteration: 400, loss: 0.0311757\n",
      "Epoch: 172, iteration: 450, loss: 0.0321935\n",
      "Epoch: 172, iteration: 500, loss: 0.0316313\n",
      "Epoch: 172, iteration: 550, loss: 0.0261181\n",
      "Epoch: 172, iteration: 600, loss: 0.0267406\n",
      "Epoch: 172, iteration: 650, loss: 0.0268157\n",
      "Epoch: 172, iteration: 700, loss: 0.0329923\n",
      "Epoch 173\n"
     ]
    },
    {
     "data": {
      "application/vnd.jupyter.widget-view+json": {
       "model_id": "1ae5379c035a44e0a5461fbaa6a1c7c5",
       "version_major": 2,
       "version_minor": 0
      },
      "text/plain": [
       "  0%|          | 0/750 [00:00<?, ?it/s]"
      ]
     },
     "metadata": {},
     "output_type": "display_data"
    },
    {
     "name": "stdout",
     "output_type": "stream",
     "text": [
      "Epoch: 173, iteration: 0, loss: 0.0284726\n",
      "Epoch: 173, iteration: 50, loss: 0.0294577\n",
      "Epoch: 173, iteration: 100, loss: 0.0272957\n",
      "Epoch: 173, iteration: 150, loss: 0.0334122\n",
      "Epoch: 173, iteration: 200, loss: 0.0246736\n",
      "Epoch: 173, iteration: 250, loss: 0.0300881\n",
      "Epoch: 173, iteration: 300, loss: 0.0303765\n",
      "Epoch: 173, iteration: 350, loss: 0.0304842\n",
      "Epoch: 173, iteration: 400, loss: 0.0270703\n",
      "Epoch: 173, iteration: 450, loss: 0.0303659\n",
      "Epoch: 173, iteration: 500, loss: 0.0245459\n",
      "Epoch: 173, iteration: 550, loss: 0.0312237\n",
      "Epoch: 173, iteration: 600, loss: 0.0252058\n",
      "Epoch: 173, iteration: 650, loss: 0.0282636\n",
      "Epoch: 173, iteration: 700, loss: 0.0275463\n",
      "Epoch 174\n"
     ]
    },
    {
     "data": {
      "application/vnd.jupyter.widget-view+json": {
       "model_id": "0363f17f2e754639bb3ab83b2bf36f03",
       "version_major": 2,
       "version_minor": 0
      },
      "text/plain": [
       "  0%|          | 0/750 [00:00<?, ?it/s]"
      ]
     },
     "metadata": {},
     "output_type": "display_data"
    },
    {
     "name": "stdout",
     "output_type": "stream",
     "text": [
      "Epoch: 174, iteration: 0, loss: 0.0339968\n",
      "Epoch: 174, iteration: 50, loss: 0.0246786\n",
      "Epoch: 174, iteration: 100, loss: 0.0296787\n",
      "Epoch: 174, iteration: 150, loss: 0.028954\n",
      "Epoch: 174, iteration: 200, loss: 0.0302664\n",
      "Epoch: 174, iteration: 250, loss: 0.0260975\n",
      "Epoch: 174, iteration: 300, loss: 0.0294397\n",
      "Epoch: 174, iteration: 350, loss: 0.026348\n",
      "Epoch: 174, iteration: 400, loss: 0.0335159\n",
      "Epoch: 174, iteration: 450, loss: 0.0251756\n",
      "Epoch: 174, iteration: 500, loss: 0.0275647\n",
      "Epoch: 174, iteration: 550, loss: 0.0265663\n",
      "Epoch: 174, iteration: 600, loss: 0.031255\n",
      "Epoch: 174, iteration: 650, loss: 0.0249636\n",
      "Epoch: 174, iteration: 700, loss: 0.0279461\n",
      "\n",
      "Validating...\n"
     ]
    },
    {
     "data": {
      "application/vnd.jupyter.widget-view+json": {
       "model_id": "7a1b04aa01d041f8a6169c01993d0167",
       "version_major": 2,
       "version_minor": 0
      },
      "text/plain": [
       "  0%|          | 0/188 [00:00<?, ?it/s]"
      ]
     },
     "metadata": {},
     "output_type": "display_data"
    },
    {
     "name": "stdout",
     "output_type": "stream",
     "text": [
      "Validation: Epoch: 175, loss: 0.0273519\n",
      "Epoch 175\n"
     ]
    },
    {
     "data": {
      "application/vnd.jupyter.widget-view+json": {
       "model_id": "b95758740c7a49718b6a594b7bc00151",
       "version_major": 2,
       "version_minor": 0
      },
      "text/plain": [
       "  0%|          | 0/750 [00:00<?, ?it/s]"
      ]
     },
     "metadata": {},
     "output_type": "display_data"
    },
    {
     "name": "stdout",
     "output_type": "stream",
     "text": [
      "Epoch: 175, iteration: 0, loss: 0.0273954\n",
      "Epoch: 175, iteration: 50, loss: 0.0312106\n",
      "Epoch: 175, iteration: 100, loss: 0.0238452\n",
      "Epoch: 175, iteration: 150, loss: 0.0299078\n",
      "Epoch: 175, iteration: 200, loss: 0.0285619\n",
      "Epoch: 175, iteration: 250, loss: 0.0351415\n",
      "Epoch: 175, iteration: 300, loss: 0.0283606\n",
      "Epoch: 175, iteration: 350, loss: 0.0306799\n",
      "Epoch: 175, iteration: 400, loss: 0.0259675\n",
      "Epoch: 175, iteration: 450, loss: 0.0325142\n",
      "Epoch: 175, iteration: 500, loss: 0.0291993\n",
      "Epoch: 175, iteration: 550, loss: 0.0279595\n",
      "Epoch: 175, iteration: 600, loss: 0.0263511\n",
      "Epoch: 175, iteration: 650, loss: 0.0337886\n",
      "Epoch: 175, iteration: 700, loss: 0.0248648\n",
      "Epoch 176\n"
     ]
    },
    {
     "data": {
      "application/vnd.jupyter.widget-view+json": {
       "model_id": "10ea027b1d0249a182be8926abd312f5",
       "version_major": 2,
       "version_minor": 0
      },
      "text/plain": [
       "  0%|          | 0/750 [00:00<?, ?it/s]"
      ]
     },
     "metadata": {},
     "output_type": "display_data"
    },
    {
     "name": "stdout",
     "output_type": "stream",
     "text": [
      "Epoch: 176, iteration: 0, loss: 0.0248193\n",
      "Epoch: 176, iteration: 50, loss: 0.0260904\n",
      "Epoch: 176, iteration: 100, loss: 0.0317541\n",
      "Epoch: 176, iteration: 150, loss: 0.0259139\n",
      "Epoch: 176, iteration: 200, loss: 0.0277982\n",
      "Epoch: 176, iteration: 250, loss: 0.0275203\n",
      "Epoch: 176, iteration: 300, loss: 0.0330982\n",
      "Epoch: 176, iteration: 350, loss: 0.0237357\n",
      "Epoch: 176, iteration: 400, loss: 0.0308586\n",
      "Epoch: 176, iteration: 450, loss: 0.0274028\n",
      "Epoch: 176, iteration: 500, loss: 0.0313319\n",
      "Epoch: 176, iteration: 550, loss: 0.0270988\n",
      "Epoch: 176, iteration: 600, loss: 0.0271479\n",
      "Epoch: 176, iteration: 650, loss: 0.0268666\n",
      "Epoch: 176, iteration: 700, loss: 0.0306753\n",
      "Epoch 177\n"
     ]
    },
    {
     "data": {
      "application/vnd.jupyter.widget-view+json": {
       "model_id": "3097979650864971a3407afe4b68dbda",
       "version_major": 2,
       "version_minor": 0
      },
      "text/plain": [
       "  0%|          | 0/750 [00:00<?, ?it/s]"
      ]
     },
     "metadata": {},
     "output_type": "display_data"
    },
    {
     "name": "stdout",
     "output_type": "stream",
     "text": [
      "Epoch: 177, iteration: 0, loss: 0.0242547\n",
      "Epoch: 177, iteration: 50, loss: 0.0277698\n",
      "Epoch: 177, iteration: 100, loss: 0.0275115\n",
      "Epoch: 177, iteration: 150, loss: 0.0338196\n",
      "Epoch: 177, iteration: 200, loss: 0.0247299\n",
      "Epoch: 177, iteration: 250, loss: 0.0273102\n",
      "Epoch: 177, iteration: 300, loss: 0.0265812\n",
      "Epoch: 177, iteration: 350, loss: 0.0322475\n",
      "Epoch: 177, iteration: 400, loss: 0.025262\n",
      "Epoch: 177, iteration: 450, loss: 0.0325636\n",
      "Epoch: 177, iteration: 500, loss: 0.0269762\n",
      "Epoch: 177, iteration: 550, loss: 0.0316539\n",
      "Epoch: 177, iteration: 600, loss: 0.0260858\n",
      "Epoch: 177, iteration: 650, loss: 0.0315107\n",
      "Epoch: 177, iteration: 700, loss: 0.0270088\n",
      "Epoch 178\n"
     ]
    },
    {
     "data": {
      "application/vnd.jupyter.widget-view+json": {
       "model_id": "a2561c41ce634b5ca51b3b2fed7aaab7",
       "version_major": 2,
       "version_minor": 0
      },
      "text/plain": [
       "  0%|          | 0/750 [00:00<?, ?it/s]"
      ]
     },
     "metadata": {},
     "output_type": "display_data"
    },
    {
     "name": "stdout",
     "output_type": "stream",
     "text": [
      "Epoch: 178, iteration: 0, loss: 0.0361651\n",
      "Epoch: 178, iteration: 50, loss: 0.0266276\n",
      "Epoch: 178, iteration: 100, loss: 0.0322642\n",
      "Epoch: 178, iteration: 150, loss: 0.0268163\n",
      "Epoch: 178, iteration: 200, loss: 0.0328612\n",
      "Epoch: 178, iteration: 250, loss: 0.0272101\n",
      "Epoch: 178, iteration: 300, loss: 0.0252422\n",
      "Epoch: 178, iteration: 350, loss: 0.0242955\n",
      "Epoch: 178, iteration: 400, loss: 0.0297714\n",
      "Epoch: 178, iteration: 450, loss: 0.0266962\n",
      "Epoch: 178, iteration: 500, loss: 0.0321283\n",
      "Epoch: 178, iteration: 550, loss: 0.0243719\n",
      "Epoch: 178, iteration: 600, loss: 0.0308854\n",
      "Epoch: 178, iteration: 650, loss: 0.0263394\n",
      "Epoch: 178, iteration: 700, loss: 0.0279276\n",
      "Epoch 179\n"
     ]
    },
    {
     "data": {
      "application/vnd.jupyter.widget-view+json": {
       "model_id": "cc96661726394c189f6036670dc95002",
       "version_major": 2,
       "version_minor": 0
      },
      "text/plain": [
       "  0%|          | 0/750 [00:00<?, ?it/s]"
      ]
     },
     "metadata": {},
     "output_type": "display_data"
    },
    {
     "name": "stdout",
     "output_type": "stream",
     "text": [
      "Epoch: 179, iteration: 0, loss: 0.0272112\n",
      "Epoch: 179, iteration: 50, loss: 0.032333\n",
      "Epoch: 179, iteration: 100, loss: 0.0255383\n",
      "Epoch: 179, iteration: 150, loss: 0.0272492\n",
      "Epoch: 179, iteration: 200, loss: 0.0261958\n",
      "Epoch: 179, iteration: 250, loss: 0.0317953\n",
      "Epoch: 179, iteration: 300, loss: 0.0271614\n",
      "Epoch: 179, iteration: 350, loss: 0.0282896\n",
      "Epoch: 179, iteration: 400, loss: 0.0262772\n",
      "Epoch: 179, iteration: 450, loss: 0.0303978\n",
      "Epoch: 179, iteration: 500, loss: 0.0246214\n",
      "Epoch: 179, iteration: 550, loss: 0.0269872\n",
      "Epoch: 179, iteration: 600, loss: 0.0270388\n",
      "Epoch: 179, iteration: 650, loss: 0.032439\n",
      "Epoch: 179, iteration: 700, loss: 0.0249487\n",
      "\n",
      "Validating...\n"
     ]
    },
    {
     "data": {
      "application/vnd.jupyter.widget-view+json": {
       "model_id": "39ee5365ae2c4eb7a7741f6da83f8334",
       "version_major": 2,
       "version_minor": 0
      },
      "text/plain": [
       "  0%|          | 0/188 [00:00<?, ?it/s]"
      ]
     },
     "metadata": {},
     "output_type": "display_data"
    },
    {
     "name": "stdout",
     "output_type": "stream",
     "text": [
      "Validation: Epoch: 180, loss: 0.0273495\n",
      "Epoch 180\n"
     ]
    },
    {
     "data": {
      "application/vnd.jupyter.widget-view+json": {
       "model_id": "7977c8f9667e45549b4bc93f5a58fcbd",
       "version_major": 2,
       "version_minor": 0
      },
      "text/plain": [
       "  0%|          | 0/750 [00:00<?, ?it/s]"
      ]
     },
     "metadata": {},
     "output_type": "display_data"
    },
    {
     "name": "stdout",
     "output_type": "stream",
     "text": [
      "Epoch: 180, iteration: 0, loss: 0.0259088\n",
      "Epoch: 180, iteration: 50, loss: 0.0263351\n",
      "Epoch: 180, iteration: 100, loss: 0.0347492\n",
      "Epoch: 180, iteration: 150, loss: 0.0264184\n",
      "Epoch: 180, iteration: 200, loss: 0.0267386\n",
      "Epoch: 180, iteration: 250, loss: 0.0259723\n",
      "Epoch: 180, iteration: 300, loss: 0.0326456\n",
      "Epoch: 180, iteration: 350, loss: 0.0241781\n",
      "Epoch: 180, iteration: 400, loss: 0.0286413\n",
      "Epoch: 180, iteration: 450, loss: 0.0282665\n",
      "Epoch: 180, iteration: 500, loss: 0.0316806\n",
      "Epoch: 180, iteration: 550, loss: 0.0241808\n",
      "Epoch: 180, iteration: 600, loss: 0.0315614\n",
      "Epoch: 180, iteration: 650, loss: 0.0258353\n",
      "Epoch: 180, iteration: 700, loss: 0.0360013\n",
      "Epoch 181\n"
     ]
    },
    {
     "data": {
      "application/vnd.jupyter.widget-view+json": {
       "model_id": "7fe97c7c11564664aee46fd20ddec732",
       "version_major": 2,
       "version_minor": 0
      },
      "text/plain": [
       "  0%|          | 0/750 [00:00<?, ?it/s]"
      ]
     },
     "metadata": {},
     "output_type": "display_data"
    },
    {
     "name": "stdout",
     "output_type": "stream",
     "text": [
      "Epoch: 181, iteration: 0, loss: 0.0216022\n",
      "Epoch: 181, iteration: 50, loss: 0.0319734\n",
      "Epoch: 181, iteration: 100, loss: 0.0277472\n",
      "Epoch: 181, iteration: 150, loss: 0.0338506\n",
      "Epoch: 181, iteration: 200, loss: 0.0251421\n",
      "Epoch: 181, iteration: 250, loss: 0.0308745\n",
      "Epoch: 181, iteration: 300, loss: 0.0248406\n",
      "Epoch: 181, iteration: 350, loss: 0.0343805\n",
      "Epoch: 181, iteration: 400, loss: 0.0264276\n",
      "Epoch: 181, iteration: 450, loss: 0.0304154\n",
      "Epoch: 181, iteration: 500, loss: 0.0304707\n",
      "Epoch: 181, iteration: 550, loss: 0.029939\n",
      "Epoch: 181, iteration: 600, loss: 0.0267765\n",
      "Epoch: 181, iteration: 650, loss: 0.029546\n",
      "Epoch: 181, iteration: 700, loss: 0.0254944\n",
      "Epoch 182\n"
     ]
    },
    {
     "data": {
      "application/vnd.jupyter.widget-view+json": {
       "model_id": "c99950e46f9b4b8499b79800d38df881",
       "version_major": 2,
       "version_minor": 0
      },
      "text/plain": [
       "  0%|          | 0/750 [00:00<?, ?it/s]"
      ]
     },
     "metadata": {},
     "output_type": "display_data"
    },
    {
     "name": "stdout",
     "output_type": "stream",
     "text": [
      "Epoch: 182, iteration: 0, loss: 0.0324194\n",
      "Epoch: 182, iteration: 50, loss: 0.0266925\n",
      "Epoch: 182, iteration: 100, loss: 0.0286761\n",
      "Epoch: 182, iteration: 150, loss: 0.0293661\n",
      "Epoch: 182, iteration: 200, loss: 0.0331644\n",
      "Epoch: 182, iteration: 250, loss: 0.0276098\n",
      "Epoch: 182, iteration: 300, loss: 0.0283426\n",
      "Epoch: 182, iteration: 350, loss: 0.0285896\n",
      "Epoch: 182, iteration: 400, loss: 0.0330842\n",
      "Epoch: 182, iteration: 450, loss: 0.0261506\n",
      "Epoch: 182, iteration: 500, loss: 0.0287194\n",
      "Epoch: 182, iteration: 550, loss: 0.0292506\n",
      "Epoch: 182, iteration: 600, loss: 0.0304434\n",
      "Epoch: 182, iteration: 650, loss: 0.0273381\n",
      "Epoch: 182, iteration: 700, loss: 0.031071\n",
      "Epoch 183\n"
     ]
    },
    {
     "data": {
      "application/vnd.jupyter.widget-view+json": {
       "model_id": "69c5948f2f94434d992acc1af5297e20",
       "version_major": 2,
       "version_minor": 0
      },
      "text/plain": [
       "  0%|          | 0/750 [00:00<?, ?it/s]"
      ]
     },
     "metadata": {},
     "output_type": "display_data"
    },
    {
     "name": "stdout",
     "output_type": "stream",
     "text": [
      "Epoch: 183, iteration: 0, loss: 0.0259678\n",
      "Epoch: 183, iteration: 50, loss: 0.0309124\n",
      "Epoch: 183, iteration: 100, loss: 0.0234668\n",
      "Epoch: 183, iteration: 150, loss: 0.030105\n",
      "Epoch: 183, iteration: 200, loss: 0.027103\n",
      "Epoch: 183, iteration: 250, loss: 0.0300682\n",
      "Epoch: 183, iteration: 300, loss: 0.0244696\n",
      "Epoch: 183, iteration: 350, loss: 0.027822\n",
      "Epoch: 183, iteration: 400, loss: 0.0269535\n",
      "Epoch: 183, iteration: 450, loss: 0.034104\n",
      "Epoch: 183, iteration: 500, loss: 0.0238652\n",
      "Epoch: 183, iteration: 550, loss: 0.0276401\n",
      "Epoch: 183, iteration: 600, loss: 0.0262451\n",
      "Epoch: 183, iteration: 650, loss: 0.0289256\n",
      "Epoch: 183, iteration: 700, loss: 0.0250189\n",
      "Epoch 184\n"
     ]
    },
    {
     "data": {
      "application/vnd.jupyter.widget-view+json": {
       "model_id": "054ebd5eb4c44bf09671a511c511d40d",
       "version_major": 2,
       "version_minor": 0
      },
      "text/plain": [
       "  0%|          | 0/750 [00:00<?, ?it/s]"
      ]
     },
     "metadata": {},
     "output_type": "display_data"
    },
    {
     "name": "stdout",
     "output_type": "stream",
     "text": [
      "Epoch: 184, iteration: 0, loss: 0.0283488\n",
      "Epoch: 184, iteration: 50, loss: 0.02701\n",
      "Epoch: 184, iteration: 100, loss: 0.0328212\n",
      "Epoch: 184, iteration: 150, loss: 0.0226926\n",
      "Epoch: 184, iteration: 200, loss: 0.0311242\n",
      "Epoch: 184, iteration: 250, loss: 0.0248726\n",
      "Epoch: 184, iteration: 300, loss: 0.0309232\n",
      "Epoch: 184, iteration: 350, loss: 0.0274393\n",
      "Epoch: 184, iteration: 400, loss: 0.0313995\n",
      "Epoch: 184, iteration: 450, loss: 0.0258096\n",
      "Epoch: 184, iteration: 500, loss: 0.033146\n",
      "Epoch: 184, iteration: 550, loss: 0.0242628\n",
      "Epoch: 184, iteration: 600, loss: 0.0286535\n",
      "Epoch: 184, iteration: 650, loss: 0.0269182\n",
      "Epoch: 184, iteration: 700, loss: 0.0299388\n",
      "\n",
      "Validating...\n"
     ]
    },
    {
     "data": {
      "application/vnd.jupyter.widget-view+json": {
       "model_id": "876edd9b66184dd1a381569511c69e1e",
       "version_major": 2,
       "version_minor": 0
      },
      "text/plain": [
       "  0%|          | 0/188 [00:00<?, ?it/s]"
      ]
     },
     "metadata": {},
     "output_type": "display_data"
    },
    {
     "name": "stdout",
     "output_type": "stream",
     "text": [
      "Validation: Epoch: 185, loss: 0.0273311\n",
      "Epoch 185\n"
     ]
    },
    {
     "data": {
      "application/vnd.jupyter.widget-view+json": {
       "model_id": "1126faa164414b24b31fa254fc8f93cc",
       "version_major": 2,
       "version_minor": 0
      },
      "text/plain": [
       "  0%|          | 0/750 [00:00<?, ?it/s]"
      ]
     },
     "metadata": {},
     "output_type": "display_data"
    },
    {
     "name": "stdout",
     "output_type": "stream",
     "text": [
      "Epoch: 185, iteration: 0, loss: 0.0238943\n",
      "Epoch: 185, iteration: 50, loss: 0.0293876\n",
      "Epoch: 185, iteration: 100, loss: 0.0254144\n",
      "Epoch: 185, iteration: 150, loss: 0.0309233\n",
      "Epoch: 185, iteration: 200, loss: 0.0261976\n",
      "Epoch: 185, iteration: 250, loss: 0.0290302\n",
      "Epoch: 185, iteration: 300, loss: 0.0260144\n",
      "Epoch: 185, iteration: 350, loss: 0.0319486\n",
      "Epoch: 185, iteration: 400, loss: 0.0258794\n",
      "Epoch: 185, iteration: 450, loss: 0.0287167\n",
      "Epoch: 185, iteration: 500, loss: 0.0287541\n",
      "Epoch: 185, iteration: 550, loss: 0.0314524\n",
      "Epoch: 185, iteration: 600, loss: 0.0276441\n",
      "Epoch: 185, iteration: 650, loss: 0.0276622\n",
      "Epoch: 185, iteration: 700, loss: 0.0311765\n",
      "Epoch 186\n"
     ]
    },
    {
     "data": {
      "application/vnd.jupyter.widget-view+json": {
       "model_id": "c2e8aace96504161ad19105638618f18",
       "version_major": 2,
       "version_minor": 0
      },
      "text/plain": [
       "  0%|          | 0/750 [00:00<?, ?it/s]"
      ]
     },
     "metadata": {},
     "output_type": "display_data"
    },
    {
     "name": "stdout",
     "output_type": "stream",
     "text": [
      "Epoch: 186, iteration: 0, loss: 0.0297127\n",
      "Epoch: 186, iteration: 50, loss: 0.0260807\n",
      "Epoch: 186, iteration: 100, loss: 0.0277548\n",
      "Epoch: 186, iteration: 150, loss: 0.0282259\n",
      "Epoch: 186, iteration: 200, loss: 0.0283254\n",
      "Epoch: 186, iteration: 250, loss: 0.0285164\n",
      "Epoch: 186, iteration: 300, loss: 0.0293981\n",
      "Epoch: 186, iteration: 350, loss: 0.0253363\n",
      "Epoch: 186, iteration: 400, loss: 0.0315478\n",
      "Epoch: 186, iteration: 450, loss: 0.0268085\n",
      "Epoch: 186, iteration: 500, loss: 0.0305356\n",
      "Epoch: 186, iteration: 550, loss: 0.0268651\n",
      "Epoch: 186, iteration: 600, loss: 0.0300076\n",
      "Epoch: 186, iteration: 650, loss: 0.0255639\n",
      "Epoch: 186, iteration: 700, loss: 0.0285173\n",
      "Epoch 187\n"
     ]
    },
    {
     "data": {
      "application/vnd.jupyter.widget-view+json": {
       "model_id": "d1e84871079f4465aa3b85e7572d1a59",
       "version_major": 2,
       "version_minor": 0
      },
      "text/plain": [
       "  0%|          | 0/750 [00:00<?, ?it/s]"
      ]
     },
     "metadata": {},
     "output_type": "display_data"
    },
    {
     "name": "stdout",
     "output_type": "stream",
     "text": [
      "Epoch: 187, iteration: 0, loss: 0.0279509\n",
      "Epoch: 187, iteration: 50, loss: 0.0304078\n",
      "Epoch: 187, iteration: 100, loss: 0.0248435\n",
      "Epoch: 187, iteration: 150, loss: 0.0291253\n",
      "Epoch: 187, iteration: 200, loss: 0.0258064\n",
      "Epoch: 187, iteration: 250, loss: 0.0334953\n",
      "Epoch: 187, iteration: 300, loss: 0.0243849\n",
      "Epoch: 187, iteration: 350, loss: 0.0263389\n",
      "Epoch: 187, iteration: 400, loss: 0.0278966\n",
      "Epoch: 187, iteration: 450, loss: 0.0301803\n",
      "Epoch: 187, iteration: 500, loss: 0.0243261\n",
      "Epoch: 187, iteration: 550, loss: 0.0284951\n",
      "Epoch: 187, iteration: 600, loss: 0.0267632\n",
      "Epoch: 187, iteration: 650, loss: 0.0322546\n",
      "Epoch: 187, iteration: 700, loss: 0.0257498\n",
      "Epoch 188\n"
     ]
    },
    {
     "data": {
      "application/vnd.jupyter.widget-view+json": {
       "model_id": "e42456e5817d4e20a29b36f7979b0c2b",
       "version_major": 2,
       "version_minor": 0
      },
      "text/plain": [
       "  0%|          | 0/750 [00:00<?, ?it/s]"
      ]
     },
     "metadata": {},
     "output_type": "display_data"
    },
    {
     "name": "stdout",
     "output_type": "stream",
     "text": [
      "Epoch: 188, iteration: 0, loss: 0.0278957\n",
      "Epoch: 188, iteration: 50, loss: 0.0293354\n",
      "Epoch: 188, iteration: 100, loss: 0.0301022\n",
      "Epoch: 188, iteration: 150, loss: 0.0266452\n",
      "Epoch: 188, iteration: 200, loss: 0.0299047\n",
      "Epoch: 188, iteration: 250, loss: 0.0261415\n",
      "Epoch: 188, iteration: 300, loss: 0.0325741\n",
      "Epoch: 188, iteration: 350, loss: 0.0264819\n",
      "Epoch: 188, iteration: 400, loss: 0.0291134\n",
      "Epoch: 188, iteration: 450, loss: 0.0265309\n",
      "Epoch: 188, iteration: 500, loss: 0.0316372\n",
      "Epoch: 188, iteration: 550, loss: 0.0245824\n",
      "Epoch: 188, iteration: 600, loss: 0.0257704\n",
      "Epoch: 188, iteration: 650, loss: 0.0248902\n",
      "Epoch: 188, iteration: 700, loss: 0.0346725\n",
      "Epoch 189\n"
     ]
    },
    {
     "data": {
      "application/vnd.jupyter.widget-view+json": {
       "model_id": "15875570aa154bed9cc54b21c2b95ae7",
       "version_major": 2,
       "version_minor": 0
      },
      "text/plain": [
       "  0%|          | 0/750 [00:00<?, ?it/s]"
      ]
     },
     "metadata": {},
     "output_type": "display_data"
    },
    {
     "name": "stdout",
     "output_type": "stream",
     "text": [
      "Epoch: 189, iteration: 0, loss: 0.0258865\n",
      "Epoch: 189, iteration: 50, loss: 0.0288342\n",
      "Epoch: 189, iteration: 100, loss: 0.0273995\n",
      "Epoch: 189, iteration: 150, loss: 0.032383\n",
      "Epoch: 189, iteration: 200, loss: 0.0248636\n",
      "Epoch: 189, iteration: 250, loss: 0.0297403\n",
      "Epoch: 189, iteration: 300, loss: 0.0290612\n",
      "Epoch: 189, iteration: 350, loss: 0.0341937\n",
      "Epoch: 189, iteration: 400, loss: 0.0233547\n",
      "Epoch: 189, iteration: 450, loss: 0.0310544\n",
      "Epoch: 189, iteration: 500, loss: 0.0267633\n",
      "Epoch: 189, iteration: 550, loss: 0.0292312\n",
      "Epoch: 189, iteration: 600, loss: 0.0252903\n",
      "Epoch: 189, iteration: 650, loss: 0.0294495\n",
      "Epoch: 189, iteration: 700, loss: 0.0275283\n",
      "\n",
      "Validating...\n"
     ]
    },
    {
     "data": {
      "application/vnd.jupyter.widget-view+json": {
       "model_id": "8dccacd642b449dd848aec0bf8aae608",
       "version_major": 2,
       "version_minor": 0
      },
      "text/plain": [
       "  0%|          | 0/188 [00:00<?, ?it/s]"
      ]
     },
     "metadata": {},
     "output_type": "display_data"
    },
    {
     "name": "stdout",
     "output_type": "stream",
     "text": [
      "Validation: Epoch: 190, loss: 0.0273178\n",
      "Epoch 190\n"
     ]
    },
    {
     "data": {
      "application/vnd.jupyter.widget-view+json": {
       "model_id": "f531f53fcf0b40a7bd0ac038db53e2d9",
       "version_major": 2,
       "version_minor": 0
      },
      "text/plain": [
       "  0%|          | 0/750 [00:00<?, ?it/s]"
      ]
     },
     "metadata": {},
     "output_type": "display_data"
    },
    {
     "name": "stdout",
     "output_type": "stream",
     "text": [
      "Epoch: 190, iteration: 0, loss: 0.0315816\n",
      "Epoch: 190, iteration: 50, loss: 0.0278984\n",
      "Epoch: 190, iteration: 100, loss: 0.0270338\n",
      "Epoch: 190, iteration: 150, loss: 0.0259564\n",
      "Epoch: 190, iteration: 200, loss: 0.0303762\n",
      "Epoch: 190, iteration: 250, loss: 0.0245091\n",
      "Epoch: 190, iteration: 300, loss: 0.0284614\n",
      "Epoch: 190, iteration: 350, loss: 0.0288444\n",
      "Epoch: 190, iteration: 400, loss: 0.0317671\n",
      "Epoch: 190, iteration: 450, loss: 0.0284586\n",
      "Epoch: 190, iteration: 500, loss: 0.0281957\n",
      "Epoch: 190, iteration: 550, loss: 0.0248065\n",
      "Epoch: 190, iteration: 600, loss: 0.0323151\n",
      "Epoch: 190, iteration: 650, loss: 0.0246543\n",
      "Epoch: 190, iteration: 700, loss: 0.0262236\n",
      "Epoch 191\n"
     ]
    },
    {
     "data": {
      "application/vnd.jupyter.widget-view+json": {
       "model_id": "8d329f7ff05f46d8aeae6d64cdda3cd4",
       "version_major": 2,
       "version_minor": 0
      },
      "text/plain": [
       "  0%|          | 0/750 [00:00<?, ?it/s]"
      ]
     },
     "metadata": {},
     "output_type": "display_data"
    },
    {
     "name": "stdout",
     "output_type": "stream",
     "text": [
      "Epoch: 191, iteration: 0, loss: 0.0258911\n",
      "Epoch: 191, iteration: 50, loss: 0.0311466\n",
      "Epoch: 191, iteration: 100, loss: 0.025441\n",
      "Epoch: 191, iteration: 150, loss: 0.0305109\n",
      "Epoch: 191, iteration: 200, loss: 0.0259069\n",
      "Epoch: 191, iteration: 250, loss: 0.0338873\n",
      "Epoch: 191, iteration: 300, loss: 0.0270619\n",
      "Epoch: 191, iteration: 350, loss: 0.0318596\n",
      "Epoch: 191, iteration: 400, loss: 0.0285597\n",
      "Epoch: 191, iteration: 450, loss: 0.0331744\n",
      "Epoch: 191, iteration: 500, loss: 0.0255012\n",
      "Epoch: 191, iteration: 550, loss: 0.0273204\n",
      "Epoch: 191, iteration: 600, loss: 0.0256596\n",
      "Epoch: 191, iteration: 650, loss: 0.0318755\n",
      "Epoch: 191, iteration: 700, loss: 0.0251134\n",
      "Epoch 192\n"
     ]
    },
    {
     "data": {
      "application/vnd.jupyter.widget-view+json": {
       "model_id": "09531346c14241a88337f5eecaf4ca07",
       "version_major": 2,
       "version_minor": 0
      },
      "text/plain": [
       "  0%|          | 0/750 [00:00<?, ?it/s]"
      ]
     },
     "metadata": {},
     "output_type": "display_data"
    },
    {
     "name": "stdout",
     "output_type": "stream",
     "text": [
      "Epoch: 192, iteration: 0, loss: 0.0281331\n",
      "Epoch: 192, iteration: 50, loss: 0.0268845\n",
      "Epoch: 192, iteration: 100, loss: 0.0318486\n",
      "Epoch: 192, iteration: 150, loss: 0.0250522\n",
      "Epoch: 192, iteration: 200, loss: 0.0305878\n",
      "Epoch: 192, iteration: 250, loss: 0.0243888\n",
      "Epoch: 192, iteration: 300, loss: 0.0305927\n",
      "Epoch: 192, iteration: 350, loss: 0.0241541\n",
      "Epoch: 192, iteration: 400, loss: 0.031062\n",
      "Epoch: 192, iteration: 450, loss: 0.0285577\n",
      "Epoch: 192, iteration: 500, loss: 0.0362119\n",
      "Epoch: 192, iteration: 550, loss: 0.0273279\n",
      "Epoch: 192, iteration: 600, loss: 0.0311628\n",
      "Epoch: 192, iteration: 650, loss: 0.0281253\n",
      "Epoch: 192, iteration: 700, loss: 0.0310775\n",
      "Epoch 193\n"
     ]
    },
    {
     "data": {
      "application/vnd.jupyter.widget-view+json": {
       "model_id": "8140ebd7c8324dd2bc9e6c96b9abaca1",
       "version_major": 2,
       "version_minor": 0
      },
      "text/plain": [
       "  0%|          | 0/750 [00:00<?, ?it/s]"
      ]
     },
     "metadata": {},
     "output_type": "display_data"
    },
    {
     "name": "stdout",
     "output_type": "stream",
     "text": [
      "Epoch: 193, iteration: 0, loss: 0.0264774\n",
      "Epoch: 193, iteration: 50, loss: 0.0298122\n",
      "Epoch: 193, iteration: 100, loss: 0.030213\n",
      "Epoch: 193, iteration: 150, loss: 0.0343333\n",
      "Epoch: 193, iteration: 200, loss: 0.0258243\n",
      "Epoch: 193, iteration: 250, loss: 0.0294066\n",
      "Epoch: 193, iteration: 300, loss: 0.0265013\n",
      "Epoch: 193, iteration: 350, loss: 0.0319097\n",
      "Epoch: 193, iteration: 400, loss: 0.0245913\n",
      "Epoch: 193, iteration: 450, loss: 0.0315856\n",
      "Epoch: 193, iteration: 500, loss: 0.025658\n",
      "Epoch: 193, iteration: 550, loss: 0.0341352\n",
      "Epoch: 193, iteration: 600, loss: 0.0240439\n",
      "Epoch: 193, iteration: 650, loss: 0.0278394\n",
      "Epoch: 193, iteration: 700, loss: 0.030814\n",
      "Epoch 194\n"
     ]
    },
    {
     "data": {
      "application/vnd.jupyter.widget-view+json": {
       "model_id": "24b21934e91b4e2c98f5122c092df963",
       "version_major": 2,
       "version_minor": 0
      },
      "text/plain": [
       "  0%|          | 0/750 [00:00<?, ?it/s]"
      ]
     },
     "metadata": {},
     "output_type": "display_data"
    },
    {
     "name": "stdout",
     "output_type": "stream",
     "text": [
      "Epoch: 194, iteration: 0, loss: 0.0351117\n",
      "Epoch: 194, iteration: 50, loss: 0.0258635\n",
      "Epoch: 194, iteration: 100, loss: 0.0331355\n",
      "Epoch: 194, iteration: 150, loss: 0.0284164\n",
      "Epoch: 194, iteration: 200, loss: 0.0311469\n",
      "Epoch: 194, iteration: 250, loss: 0.0247472\n",
      "Epoch: 194, iteration: 300, loss: 0.0295695\n",
      "Epoch: 194, iteration: 350, loss: 0.0255203\n",
      "Epoch: 194, iteration: 400, loss: 0.0299571\n",
      "Epoch: 194, iteration: 450, loss: 0.0244665\n",
      "Epoch: 194, iteration: 500, loss: 0.0279149\n",
      "Epoch: 194, iteration: 550, loss: 0.0257105\n",
      "Epoch: 194, iteration: 600, loss: 0.0316997\n",
      "Epoch: 194, iteration: 650, loss: 0.0261238\n",
      "Epoch: 194, iteration: 700, loss: 0.0294532\n",
      "\n",
      "Validating...\n"
     ]
    },
    {
     "data": {
      "application/vnd.jupyter.widget-view+json": {
       "model_id": "c30f9b7530224814936d5e91e3a147e2",
       "version_major": 2,
       "version_minor": 0
      },
      "text/plain": [
       "  0%|          | 0/188 [00:00<?, ?it/s]"
      ]
     },
     "metadata": {},
     "output_type": "display_data"
    },
    {
     "name": "stdout",
     "output_type": "stream",
     "text": [
      "Validation: Epoch: 195, loss: 0.027312\n",
      "Epoch 195\n"
     ]
    },
    {
     "data": {
      "application/vnd.jupyter.widget-view+json": {
       "model_id": "bdec3c2a978a4290b6ec1033bb7149bb",
       "version_major": 2,
       "version_minor": 0
      },
      "text/plain": [
       "  0%|          | 0/750 [00:00<?, ?it/s]"
      ]
     },
     "metadata": {},
     "output_type": "display_data"
    },
    {
     "name": "stdout",
     "output_type": "stream",
     "text": [
      "Epoch: 195, iteration: 0, loss: 0.0265121\n",
      "Epoch: 195, iteration: 50, loss: 0.0344198\n",
      "Epoch: 195, iteration: 100, loss: 0.024557\n",
      "Epoch: 195, iteration: 150, loss: 0.0259391\n",
      "Epoch: 195, iteration: 200, loss: 0.0274725\n",
      "Epoch: 195, iteration: 250, loss: 0.036107\n",
      "Epoch: 195, iteration: 300, loss: 0.0220602\n",
      "Epoch: 195, iteration: 350, loss: 0.0307127\n",
      "Epoch: 195, iteration: 400, loss: 0.0266845\n",
      "Epoch: 195, iteration: 450, loss: 0.0329969\n",
      "Epoch: 195, iteration: 500, loss: 0.0252293\n",
      "Epoch: 195, iteration: 550, loss: 0.0291752\n",
      "Epoch: 195, iteration: 600, loss: 0.0266015\n",
      "Epoch: 195, iteration: 650, loss: 0.0347059\n",
      "Epoch: 195, iteration: 700, loss: 0.0268842\n",
      "Epoch 196\n"
     ]
    },
    {
     "data": {
      "application/vnd.jupyter.widget-view+json": {
       "model_id": "1859e91d97a7488cba20737da11821ba",
       "version_major": 2,
       "version_minor": 0
      },
      "text/plain": [
       "  0%|          | 0/750 [00:00<?, ?it/s]"
      ]
     },
     "metadata": {},
     "output_type": "display_data"
    },
    {
     "name": "stdout",
     "output_type": "stream",
     "text": [
      "Epoch: 196, iteration: 0, loss: 0.0299547\n",
      "Epoch: 196, iteration: 50, loss: 0.0268065\n",
      "Epoch: 196, iteration: 100, loss: 0.0307345\n",
      "Epoch: 196, iteration: 150, loss: 0.0246417\n",
      "Epoch: 196, iteration: 200, loss: 0.0326144\n",
      "Epoch: 196, iteration: 250, loss: 0.0258131\n",
      "Epoch: 196, iteration: 300, loss: 0.0321531\n",
      "Epoch: 196, iteration: 350, loss: 0.0251535\n",
      "Epoch: 196, iteration: 400, loss: 0.0323493\n",
      "Epoch: 196, iteration: 450, loss: 0.0284791\n",
      "Epoch: 196, iteration: 500, loss: 0.0306807\n",
      "Epoch: 196, iteration: 550, loss: 0.0224427\n",
      "Epoch: 196, iteration: 600, loss: 0.0292916\n",
      "Epoch: 196, iteration: 650, loss: 0.0288186\n",
      "Epoch: 196, iteration: 700, loss: 0.0320221\n",
      "Epoch 197\n"
     ]
    },
    {
     "data": {
      "application/vnd.jupyter.widget-view+json": {
       "model_id": "665defbd1dc84a5bbc94bbf64ea9e94c",
       "version_major": 2,
       "version_minor": 0
      },
      "text/plain": [
       "  0%|          | 0/750 [00:00<?, ?it/s]"
      ]
     },
     "metadata": {},
     "output_type": "display_data"
    },
    {
     "name": "stdout",
     "output_type": "stream",
     "text": [
      "Epoch: 197, iteration: 0, loss: 0.0282363\n",
      "Epoch: 197, iteration: 50, loss: 0.0290748\n",
      "Epoch: 197, iteration: 100, loss: 0.027308\n",
      "Epoch: 197, iteration: 150, loss: 0.0293603\n",
      "Epoch: 197, iteration: 200, loss: 0.0243301\n",
      "Epoch: 197, iteration: 250, loss: 0.0285733\n",
      "Epoch: 197, iteration: 300, loss: 0.026386\n",
      "Epoch: 197, iteration: 350, loss: 0.0324002\n",
      "Epoch: 197, iteration: 400, loss: 0.0254712\n",
      "Epoch: 197, iteration: 450, loss: 0.0335144\n",
      "Epoch: 197, iteration: 500, loss: 0.0261476\n",
      "Epoch: 197, iteration: 550, loss: 0.0319655\n",
      "Epoch: 197, iteration: 600, loss: 0.0225492\n",
      "Epoch: 197, iteration: 650, loss: 0.0301773\n",
      "Epoch: 197, iteration: 700, loss: 0.0268155\n",
      "Epoch 198\n"
     ]
    },
    {
     "data": {
      "application/vnd.jupyter.widget-view+json": {
       "model_id": "f0c359d51b4c470cac540b48316164d4",
       "version_major": 2,
       "version_minor": 0
      },
      "text/plain": [
       "  0%|          | 0/750 [00:00<?, ?it/s]"
      ]
     },
     "metadata": {},
     "output_type": "display_data"
    },
    {
     "name": "stdout",
     "output_type": "stream",
     "text": [
      "Epoch: 198, iteration: 0, loss: 0.0323758\n",
      "Epoch: 198, iteration: 50, loss: 0.0244911\n",
      "Epoch: 198, iteration: 100, loss: 0.029463\n",
      "Epoch: 198, iteration: 150, loss: 0.025032\n",
      "Epoch: 198, iteration: 200, loss: 0.0323786\n",
      "Epoch: 198, iteration: 250, loss: 0.0256844\n",
      "Epoch: 198, iteration: 300, loss: 0.0294627\n",
      "Epoch: 198, iteration: 350, loss: 0.0250093\n",
      "Epoch: 198, iteration: 400, loss: 0.0332081\n",
      "Epoch: 198, iteration: 450, loss: 0.0269493\n",
      "Epoch: 198, iteration: 500, loss: 0.0305241\n",
      "Epoch: 198, iteration: 550, loss: 0.0286402\n",
      "Epoch: 198, iteration: 600, loss: 0.0312333\n",
      "Epoch: 198, iteration: 650, loss: 0.0261111\n",
      "Epoch: 198, iteration: 700, loss: 0.0293055\n",
      "Epoch 199\n"
     ]
    },
    {
     "data": {
      "application/vnd.jupyter.widget-view+json": {
       "model_id": "b6db57e44e794b90969e61d1ce10d282",
       "version_major": 2,
       "version_minor": 0
      },
      "text/plain": [
       "  0%|          | 0/750 [00:00<?, ?it/s]"
      ]
     },
     "metadata": {},
     "output_type": "display_data"
    },
    {
     "name": "stdout",
     "output_type": "stream",
     "text": [
      "Epoch: 199, iteration: 0, loss: 0.0274595\n",
      "Epoch: 199, iteration: 50, loss: 0.0339349\n",
      "Epoch: 199, iteration: 100, loss: 0.0254351\n",
      "Epoch: 199, iteration: 150, loss: 0.0249804\n",
      "Epoch: 199, iteration: 200, loss: 0.0291406\n",
      "Epoch: 199, iteration: 250, loss: 0.0296832\n",
      "Epoch: 199, iteration: 300, loss: 0.0240917\n",
      "Epoch: 199, iteration: 350, loss: 0.0275531\n",
      "Epoch: 199, iteration: 400, loss: 0.0267125\n",
      "Epoch: 199, iteration: 450, loss: 0.0321351\n",
      "Epoch: 199, iteration: 500, loss: 0.0246406\n",
      "Epoch: 199, iteration: 550, loss: 0.0270321\n",
      "Epoch: 199, iteration: 600, loss: 0.0271569\n",
      "Epoch: 199, iteration: 650, loss: 0.0347009\n",
      "Epoch: 199, iteration: 700, loss: 0.0251545\n",
      "\n",
      "Validating...\n"
     ]
    },
    {
     "data": {
      "application/vnd.jupyter.widget-view+json": {
       "model_id": "4fb2618ecd864d458a755d0ef6857e7c",
       "version_major": 2,
       "version_minor": 0
      },
      "text/plain": [
       "  0%|          | 0/188 [00:00<?, ?it/s]"
      ]
     },
     "metadata": {},
     "output_type": "display_data"
    },
    {
     "name": "stdout",
     "output_type": "stream",
     "text": [
      "Validation: Epoch: 200, loss: 0.0273109\n",
      "Epoch 200\n"
     ]
    },
    {
     "data": {
      "application/vnd.jupyter.widget-view+json": {
       "model_id": "ba6cb89e606a43cf98b0c039cfd54f2c",
       "version_major": 2,
       "version_minor": 0
      },
      "text/plain": [
       "  0%|          | 0/750 [00:00<?, ?it/s]"
      ]
     },
     "metadata": {},
     "output_type": "display_data"
    },
    {
     "name": "stdout",
     "output_type": "stream",
     "text": [
      "Epoch: 200, iteration: 0, loss: 0.0274477\n",
      "Epoch: 200, iteration: 50, loss: 0.0294392\n",
      "Epoch: 200, iteration: 100, loss: 0.0307257\n",
      "Epoch: 200, iteration: 150, loss: 0.02505\n",
      "Epoch: 200, iteration: 200, loss: 0.0308958\n",
      "Epoch: 200, iteration: 250, loss: 0.0257281\n",
      "Epoch: 200, iteration: 300, loss: 0.0307995\n",
      "Epoch: 200, iteration: 350, loss: 0.0237907\n",
      "Epoch: 200, iteration: 400, loss: 0.0244156\n",
      "Epoch: 200, iteration: 450, loss: 0.0287917\n",
      "Epoch: 200, iteration: 500, loss: 0.0331947\n",
      "Epoch: 200, iteration: 550, loss: 0.0245896\n",
      "Epoch: 200, iteration: 600, loss: 0.0288432\n",
      "Epoch: 200, iteration: 650, loss: 0.0264021\n",
      "Epoch: 200, iteration: 700, loss: 0.0287895\n",
      "Epoch 201\n"
     ]
    },
    {
     "data": {
      "application/vnd.jupyter.widget-view+json": {
       "model_id": "ae8123e55bc046628b32cb2d49348948",
       "version_major": 2,
       "version_minor": 0
      },
      "text/plain": [
       "  0%|          | 0/750 [00:00<?, ?it/s]"
      ]
     },
     "metadata": {},
     "output_type": "display_data"
    },
    {
     "name": "stdout",
     "output_type": "stream",
     "text": [
      "Epoch: 201, iteration: 0, loss: 0.0235165\n",
      "Epoch: 201, iteration: 50, loss: 0.0258876\n",
      "Epoch: 201, iteration: 100, loss: 0.0284468\n",
      "Epoch: 201, iteration: 150, loss: 0.0298185\n",
      "Epoch: 201, iteration: 200, loss: 0.0295559\n",
      "Epoch: 201, iteration: 250, loss: 0.0280967\n",
      "Epoch: 201, iteration: 300, loss: 0.029783\n",
      "Epoch: 201, iteration: 350, loss: 0.0331557\n",
      "Epoch: 201, iteration: 400, loss: 0.0238868\n",
      "Epoch: 201, iteration: 450, loss: 0.0290945\n",
      "Epoch: 201, iteration: 500, loss: 0.0253526\n",
      "Epoch: 201, iteration: 550, loss: 0.033432\n",
      "Epoch: 201, iteration: 600, loss: 0.0263781\n",
      "Epoch: 201, iteration: 650, loss: 0.0276467\n",
      "Epoch: 201, iteration: 700, loss: 0.0256708\n",
      "Epoch 202\n"
     ]
    },
    {
     "data": {
      "application/vnd.jupyter.widget-view+json": {
       "model_id": "510ea371781a44bda536006a24b1e901",
       "version_major": 2,
       "version_minor": 0
      },
      "text/plain": [
       "  0%|          | 0/750 [00:00<?, ?it/s]"
      ]
     },
     "metadata": {},
     "output_type": "display_data"
    },
    {
     "name": "stdout",
     "output_type": "stream",
     "text": [
      "Epoch: 202, iteration: 0, loss: 0.0317624\n",
      "Epoch: 202, iteration: 50, loss: 0.0287304\n",
      "Epoch: 202, iteration: 100, loss: 0.0267973\n",
      "Epoch: 202, iteration: 150, loss: 0.0248171\n",
      "Epoch: 202, iteration: 200, loss: 0.0335068\n",
      "Epoch: 202, iteration: 250, loss: 0.0251438\n",
      "Epoch: 202, iteration: 300, loss: 0.0305952\n",
      "Epoch: 202, iteration: 350, loss: 0.0261619\n",
      "Epoch: 202, iteration: 400, loss: 0.0323207\n",
      "Epoch: 202, iteration: 450, loss: 0.0245003\n",
      "Epoch: 202, iteration: 500, loss: 0.0311919\n",
      "Epoch: 202, iteration: 550, loss: 0.025372\n",
      "Epoch: 202, iteration: 600, loss: 0.0325703\n",
      "Epoch: 202, iteration: 650, loss: 0.0254386\n",
      "Epoch: 202, iteration: 700, loss: 0.0321069\n",
      "Epoch 203\n"
     ]
    },
    {
     "data": {
      "application/vnd.jupyter.widget-view+json": {
       "model_id": "ae27e85a21ad488aac16067f9b5b6201",
       "version_major": 2,
       "version_minor": 0
      },
      "text/plain": [
       "  0%|          | 0/750 [00:00<?, ?it/s]"
      ]
     },
     "metadata": {},
     "output_type": "display_data"
    },
    {
     "name": "stdout",
     "output_type": "stream",
     "text": [
      "Epoch: 203, iteration: 0, loss: 0.0266273\n",
      "Epoch: 203, iteration: 50, loss: 0.0318672\n",
      "Epoch: 203, iteration: 100, loss: 0.022807\n",
      "Epoch: 203, iteration: 150, loss: 0.0281401\n",
      "Epoch: 203, iteration: 200, loss: 0.0275559\n",
      "Epoch: 203, iteration: 250, loss: 0.0350795\n",
      "Epoch: 203, iteration: 300, loss: 0.0255976\n",
      "Epoch: 203, iteration: 350, loss: 0.0306233\n",
      "Epoch: 203, iteration: 400, loss: 0.0234007\n",
      "Epoch: 203, iteration: 450, loss: 0.0334696\n",
      "Epoch: 203, iteration: 500, loss: 0.0246919\n",
      "Epoch: 203, iteration: 550, loss: 0.0318505\n",
      "Epoch: 203, iteration: 600, loss: 0.027632\n",
      "Epoch: 203, iteration: 650, loss: 0.0304395\n",
      "Epoch: 203, iteration: 700, loss: 0.0258944\n",
      "Epoch 204\n"
     ]
    },
    {
     "data": {
      "application/vnd.jupyter.widget-view+json": {
       "model_id": "c4758f52e8b04e27a7ac630a28709ea9",
       "version_major": 2,
       "version_minor": 0
      },
      "text/plain": [
       "  0%|          | 0/750 [00:00<?, ?it/s]"
      ]
     },
     "metadata": {},
     "output_type": "display_data"
    },
    {
     "name": "stdout",
     "output_type": "stream",
     "text": [
      "Epoch: 204, iteration: 0, loss: 0.0274012\n",
      "Epoch: 204, iteration: 50, loss: 0.0307346\n",
      "Epoch: 204, iteration: 100, loss: 0.0294246\n",
      "Epoch: 204, iteration: 150, loss: 0.0283852\n",
      "Epoch: 204, iteration: 200, loss: 0.0291464\n",
      "Epoch: 204, iteration: 250, loss: 0.0275189\n",
      "Epoch: 204, iteration: 300, loss: 0.0337012\n",
      "Epoch: 204, iteration: 350, loss: 0.0231941\n",
      "Epoch: 204, iteration: 400, loss: 0.0333303\n",
      "Epoch: 204, iteration: 450, loss: 0.0275848\n",
      "Epoch: 204, iteration: 500, loss: 0.0319238\n",
      "Epoch: 204, iteration: 550, loss: 0.0228281\n",
      "Epoch: 204, iteration: 600, loss: 0.0275106\n",
      "Epoch: 204, iteration: 650, loss: 0.0261377\n",
      "Epoch: 204, iteration: 700, loss: 0.0341862\n",
      "\n",
      "Validating...\n"
     ]
    },
    {
     "data": {
      "application/vnd.jupyter.widget-view+json": {
       "model_id": "88b64df285444b6ba09d48c2d8037bfa",
       "version_major": 2,
       "version_minor": 0
      },
      "text/plain": [
       "  0%|          | 0/188 [00:00<?, ?it/s]"
      ]
     },
     "metadata": {},
     "output_type": "display_data"
    },
    {
     "name": "stdout",
     "output_type": "stream",
     "text": [
      "Validation: Epoch: 205, loss: 0.0273054\n",
      "Epoch 205\n"
     ]
    },
    {
     "data": {
      "application/vnd.jupyter.widget-view+json": {
       "model_id": "011484b254b14a16858d715f958d2691",
       "version_major": 2,
       "version_minor": 0
      },
      "text/plain": [
       "  0%|          | 0/750 [00:00<?, ?it/s]"
      ]
     },
     "metadata": {},
     "output_type": "display_data"
    },
    {
     "name": "stdout",
     "output_type": "stream",
     "text": [
      "Epoch: 205, iteration: 0, loss: 0.0261277\n",
      "Epoch: 205, iteration: 50, loss: 0.0296217\n",
      "Epoch: 205, iteration: 100, loss: 0.0277023\n",
      "Epoch: 205, iteration: 150, loss: 0.0314944\n",
      "Epoch: 205, iteration: 200, loss: 0.0241088\n",
      "Epoch: 205, iteration: 250, loss: 0.0281508\n",
      "Epoch: 205, iteration: 300, loss: 0.0254586\n",
      "Epoch: 205, iteration: 350, loss: 0.0317732\n",
      "Epoch: 205, iteration: 400, loss: 0.0251968\n",
      "Epoch: 205, iteration: 450, loss: 0.0273866\n",
      "Epoch: 205, iteration: 500, loss: 0.0286328\n",
      "Epoch: 205, iteration: 550, loss: 0.0321264\n",
      "Epoch: 205, iteration: 600, loss: 0.0249314\n",
      "Epoch: 205, iteration: 650, loss: 0.0296448\n",
      "Epoch: 205, iteration: 700, loss: 0.0276418\n",
      "Epoch 206\n"
     ]
    },
    {
     "data": {
      "application/vnd.jupyter.widget-view+json": {
       "model_id": "729559717c4b42a29241e5eaf6274417",
       "version_major": 2,
       "version_minor": 0
      },
      "text/plain": [
       "  0%|          | 0/750 [00:00<?, ?it/s]"
      ]
     },
     "metadata": {},
     "output_type": "display_data"
    },
    {
     "name": "stdout",
     "output_type": "stream",
     "text": [
      "Epoch: 206, iteration: 0, loss: 0.0312962\n",
      "Epoch: 206, iteration: 50, loss: 0.0254705\n",
      "Epoch: 206, iteration: 100, loss: 0.0306717\n",
      "Epoch: 206, iteration: 150, loss: 0.0299222\n",
      "Epoch: 206, iteration: 200, loss: 0.0318794\n",
      "Epoch: 206, iteration: 250, loss: 0.0266019\n",
      "Epoch: 206, iteration: 300, loss: 0.0279351\n",
      "Epoch: 206, iteration: 350, loss: 0.0278265\n",
      "Epoch: 206, iteration: 400, loss: 0.0338139\n",
      "Epoch: 206, iteration: 450, loss: 0.0259035\n",
      "Epoch: 206, iteration: 500, loss: 0.0280773\n",
      "Epoch: 206, iteration: 550, loss: 0.0259636\n",
      "Epoch: 206, iteration: 600, loss: 0.0323377\n",
      "Epoch: 206, iteration: 650, loss: 0.0258073\n",
      "Epoch: 206, iteration: 700, loss: 0.0330764\n",
      "Epoch 207\n"
     ]
    },
    {
     "data": {
      "application/vnd.jupyter.widget-view+json": {
       "model_id": "8478454a78104a419a3d35fd38a93892",
       "version_major": 2,
       "version_minor": 0
      },
      "text/plain": [
       "  0%|          | 0/750 [00:00<?, ?it/s]"
      ]
     },
     "metadata": {},
     "output_type": "display_data"
    },
    {
     "name": "stdout",
     "output_type": "stream",
     "text": [
      "Epoch: 207, iteration: 0, loss: 0.0257566\n",
      "Epoch: 207, iteration: 50, loss: 0.0317371\n",
      "Epoch: 207, iteration: 100, loss: 0.0237838\n",
      "Epoch: 207, iteration: 150, loss: 0.0310335\n",
      "Epoch: 207, iteration: 200, loss: 0.0279366\n",
      "Epoch: 207, iteration: 250, loss: 0.0333534\n",
      "Epoch: 207, iteration: 300, loss: 0.0269468\n",
      "Epoch: 207, iteration: 350, loss: 0.0281237\n",
      "Epoch: 207, iteration: 400, loss: 0.0260955\n",
      "Epoch: 207, iteration: 450, loss: 0.0310797\n",
      "Epoch: 207, iteration: 500, loss: 0.0264972\n",
      "Epoch: 207, iteration: 550, loss: 0.0311242\n",
      "Epoch: 207, iteration: 600, loss: 0.0288487\n",
      "Epoch: 207, iteration: 650, loss: 0.0328399\n",
      "Epoch: 207, iteration: 700, loss: 0.024665\n",
      "Epoch 208\n"
     ]
    },
    {
     "data": {
      "application/vnd.jupyter.widget-view+json": {
       "model_id": "518dd61fe610468183bf39f89912cf71",
       "version_major": 2,
       "version_minor": 0
      },
      "text/plain": [
       "  0%|          | 0/750 [00:00<?, ?it/s]"
      ]
     },
     "metadata": {},
     "output_type": "display_data"
    },
    {
     "name": "stdout",
     "output_type": "stream",
     "text": [
      "Epoch: 208, iteration: 0, loss: 0.0269747\n",
      "Epoch: 208, iteration: 50, loss: 0.0270194\n",
      "Epoch: 208, iteration: 100, loss: 0.0337639\n",
      "Epoch: 208, iteration: 150, loss: 0.0252489\n",
      "Epoch: 208, iteration: 200, loss: 0.0270716\n",
      "Epoch: 208, iteration: 250, loss: 0.0283807\n",
      "Epoch: 208, iteration: 300, loss: 0.0326955\n",
      "Epoch: 208, iteration: 350, loss: 0.0256469\n",
      "Epoch: 208, iteration: 400, loss: 0.0274462\n",
      "Epoch: 208, iteration: 450, loss: 0.0286079\n",
      "Epoch: 208, iteration: 500, loss: 0.0313769\n",
      "Epoch: 208, iteration: 550, loss: 0.0222783\n",
      "Epoch: 208, iteration: 600, loss: 0.0319294\n",
      "Epoch: 208, iteration: 650, loss: 0.0260836\n",
      "Epoch: 208, iteration: 700, loss: 0.031456\n",
      "Epoch 209\n"
     ]
    },
    {
     "data": {
      "application/vnd.jupyter.widget-view+json": {
       "model_id": "79bfc6b982a54494899e26dbf82e85e5",
       "version_major": 2,
       "version_minor": 0
      },
      "text/plain": [
       "  0%|          | 0/750 [00:00<?, ?it/s]"
      ]
     },
     "metadata": {},
     "output_type": "display_data"
    },
    {
     "name": "stdout",
     "output_type": "stream",
     "text": [
      "Epoch: 209, iteration: 0, loss: 0.0249253\n",
      "Epoch: 209, iteration: 50, loss: 0.0270054\n",
      "Epoch: 209, iteration: 100, loss: 0.0282659\n",
      "Epoch: 209, iteration: 150, loss: 0.0322105\n",
      "Epoch: 209, iteration: 200, loss: 0.0251595\n",
      "Epoch: 209, iteration: 250, loss: 0.028815\n",
      "Epoch: 209, iteration: 300, loss: 0.0273031\n",
      "Epoch: 209, iteration: 350, loss: 0.030376\n",
      "Epoch: 209, iteration: 400, loss: 0.0267214\n",
      "Epoch: 209, iteration: 450, loss: 0.0303109\n",
      "Epoch: 209, iteration: 500, loss: 0.0268236\n",
      "Epoch: 209, iteration: 550, loss: 0.0295978\n",
      "Epoch: 209, iteration: 600, loss: 0.0243959\n",
      "Epoch: 209, iteration: 650, loss: 0.0283604\n",
      "Epoch: 209, iteration: 700, loss: 0.027561\n",
      "\n",
      "Validating...\n"
     ]
    },
    {
     "data": {
      "application/vnd.jupyter.widget-view+json": {
       "model_id": "bab7c3c54b4d47a88cf5e54f2c14ff71",
       "version_major": 2,
       "version_minor": 0
      },
      "text/plain": [
       "  0%|          | 0/188 [00:00<?, ?it/s]"
      ]
     },
     "metadata": {},
     "output_type": "display_data"
    },
    {
     "name": "stdout",
     "output_type": "stream",
     "text": [
      "Validation: Epoch: 210, loss: 0.0272875\n",
      "Epoch 210\n"
     ]
    },
    {
     "data": {
      "application/vnd.jupyter.widget-view+json": {
       "model_id": "b15235432b1f4923851ecf4f1bf9d701",
       "version_major": 2,
       "version_minor": 0
      },
      "text/plain": [
       "  0%|          | 0/750 [00:00<?, ?it/s]"
      ]
     },
     "metadata": {},
     "output_type": "display_data"
    },
    {
     "name": "stdout",
     "output_type": "stream",
     "text": [
      "Epoch: 210, iteration: 0, loss: 0.0314995\n",
      "Epoch: 210, iteration: 50, loss: 0.02459\n",
      "Epoch: 210, iteration: 100, loss: 0.0269226\n",
      "Epoch: 210, iteration: 150, loss: 0.0278788\n",
      "Epoch: 210, iteration: 200, loss: 0.0312724\n",
      "Epoch: 210, iteration: 250, loss: 0.0253606\n",
      "Epoch: 210, iteration: 300, loss: 0.0257098\n",
      "Epoch: 210, iteration: 350, loss: 0.0287889\n",
      "Epoch: 210, iteration: 400, loss: 0.0316373\n",
      "Epoch: 210, iteration: 450, loss: 0.0250978\n",
      "Epoch: 210, iteration: 500, loss: 0.0281422\n",
      "Epoch: 210, iteration: 550, loss: 0.0260108\n",
      "Epoch: 210, iteration: 600, loss: 0.029273\n",
      "Epoch: 210, iteration: 650, loss: 0.0250394\n",
      "Epoch: 210, iteration: 700, loss: 0.0285186\n",
      "Epoch 211\n"
     ]
    },
    {
     "data": {
      "application/vnd.jupyter.widget-view+json": {
       "model_id": "36c519c7ea5f4d719b1ed4e4a1481665",
       "version_major": 2,
       "version_minor": 0
      },
      "text/plain": [
       "  0%|          | 0/750 [00:00<?, ?it/s]"
      ]
     },
     "metadata": {},
     "output_type": "display_data"
    },
    {
     "name": "stdout",
     "output_type": "stream",
     "text": [
      "Epoch: 211, iteration: 0, loss: 0.0282656\n",
      "Epoch: 211, iteration: 50, loss: 0.0311899\n",
      "Epoch: 211, iteration: 100, loss: 0.025141\n",
      "Epoch: 211, iteration: 150, loss: 0.0290571\n",
      "Epoch: 211, iteration: 200, loss: 0.0281001\n",
      "Epoch: 211, iteration: 250, loss: 0.0343561\n",
      "Epoch: 211, iteration: 300, loss: 0.0243164\n",
      "Epoch: 211, iteration: 350, loss: 0.0275777\n",
      "Epoch: 211, iteration: 400, loss: 0.0256409\n",
      "Epoch: 211, iteration: 450, loss: 0.0317056\n",
      "Epoch: 211, iteration: 500, loss: 0.0276079\n",
      "Epoch: 211, iteration: 550, loss: 0.0317908\n",
      "Epoch: 211, iteration: 600, loss: 0.0295237\n",
      "Epoch: 211, iteration: 650, loss: 0.0330968\n",
      "Epoch: 211, iteration: 700, loss: 0.025963\n",
      "Epoch 212\n"
     ]
    },
    {
     "data": {
      "application/vnd.jupyter.widget-view+json": {
       "model_id": "8acd79da50c4482a8268dcbe52f77b60",
       "version_major": 2,
       "version_minor": 0
      },
      "text/plain": [
       "  0%|          | 0/750 [00:00<?, ?it/s]"
      ]
     },
     "metadata": {},
     "output_type": "display_data"
    },
    {
     "name": "stdout",
     "output_type": "stream",
     "text": [
      "Epoch: 212, iteration: 0, loss: 0.0275326\n",
      "Epoch: 212, iteration: 50, loss: 0.0290062\n",
      "Epoch: 212, iteration: 100, loss: 0.0312616\n",
      "Epoch: 212, iteration: 150, loss: 0.0249906\n",
      "Epoch: 212, iteration: 200, loss: 0.0300544\n",
      "Epoch: 212, iteration: 250, loss: 0.0268556\n",
      "Epoch: 212, iteration: 300, loss: 0.0310807\n",
      "Epoch: 212, iteration: 350, loss: 0.0261088\n",
      "Epoch: 212, iteration: 400, loss: 0.0289698\n",
      "Epoch: 212, iteration: 450, loss: 0.0285508\n",
      "Epoch: 212, iteration: 500, loss: 0.0306101\n",
      "Epoch: 212, iteration: 550, loss: 0.02825\n",
      "Epoch: 212, iteration: 600, loss: 0.0309015\n",
      "Epoch: 212, iteration: 650, loss: 0.0278664\n",
      "Epoch: 212, iteration: 700, loss: 0.0302758\n",
      "Epoch 213\n"
     ]
    },
    {
     "data": {
      "application/vnd.jupyter.widget-view+json": {
       "model_id": "ce48479cb0eb4954b62b6c87eb16f53d",
       "version_major": 2,
       "version_minor": 0
      },
      "text/plain": [
       "  0%|          | 0/750 [00:00<?, ?it/s]"
      ]
     },
     "metadata": {},
     "output_type": "display_data"
    },
    {
     "name": "stdout",
     "output_type": "stream",
     "text": [
      "Epoch: 213, iteration: 0, loss: 0.02586\n",
      "Epoch: 213, iteration: 50, loss: 0.0307665\n",
      "Epoch: 213, iteration: 100, loss: 0.0275446\n",
      "Epoch: 213, iteration: 150, loss: 0.0341853\n",
      "Epoch: 213, iteration: 200, loss: 0.0252071\n",
      "Epoch: 213, iteration: 250, loss: 0.0300561\n",
      "Epoch: 213, iteration: 300, loss: 0.0255211\n",
      "Epoch: 213, iteration: 350, loss: 0.030486\n",
      "Epoch: 213, iteration: 400, loss: 0.0278877\n",
      "Epoch: 213, iteration: 450, loss: 0.0282259\n",
      "Epoch: 213, iteration: 500, loss: 0.0248661\n",
      "Epoch: 213, iteration: 550, loss: 0.033133\n",
      "Epoch: 213, iteration: 600, loss: 0.0247312\n",
      "Epoch: 213, iteration: 650, loss: 0.028264\n",
      "Epoch: 213, iteration: 700, loss: 0.0301718\n",
      "Epoch 214\n"
     ]
    },
    {
     "data": {
      "application/vnd.jupyter.widget-view+json": {
       "model_id": "ab579fd7384249beb33dea01fae0df42",
       "version_major": 2,
       "version_minor": 0
      },
      "text/plain": [
       "  0%|          | 0/750 [00:00<?, ?it/s]"
      ]
     },
     "metadata": {},
     "output_type": "display_data"
    },
    {
     "name": "stdout",
     "output_type": "stream",
     "text": [
      "Epoch: 214, iteration: 0, loss: 0.0373335\n",
      "Epoch: 214, iteration: 50, loss: 0.0271722\n",
      "Epoch: 214, iteration: 100, loss: 0.0296928\n",
      "Epoch: 214, iteration: 150, loss: 0.0287804\n",
      "Epoch: 214, iteration: 200, loss: 0.0317739\n",
      "Epoch: 214, iteration: 250, loss: 0.0249301\n",
      "Epoch: 214, iteration: 300, loss: 0.0269131\n",
      "Epoch: 214, iteration: 350, loss: 0.0256563\n",
      "Epoch: 214, iteration: 400, loss: 0.0323534\n",
      "Epoch: 214, iteration: 450, loss: 0.0262344\n",
      "Epoch: 214, iteration: 500, loss: 0.0308243\n",
      "Epoch: 214, iteration: 550, loss: 0.0274571\n",
      "Epoch: 214, iteration: 600, loss: 0.0317658\n",
      "Epoch: 214, iteration: 650, loss: 0.0223055\n",
      "Epoch: 214, iteration: 700, loss: 0.028286\n",
      "\n",
      "Validating...\n"
     ]
    },
    {
     "data": {
      "application/vnd.jupyter.widget-view+json": {
       "model_id": "d34b984d0a25431c9fe4c915036fa441",
       "version_major": 2,
       "version_minor": 0
      },
      "text/plain": [
       "  0%|          | 0/188 [00:00<?, ?it/s]"
      ]
     },
     "metadata": {},
     "output_type": "display_data"
    },
    {
     "name": "stdout",
     "output_type": "stream",
     "text": [
      "Validation: Epoch: 215, loss: 0.0272819\n",
      "Epoch 215\n"
     ]
    },
    {
     "data": {
      "application/vnd.jupyter.widget-view+json": {
       "model_id": "16d3723074ac4fcc9ee24680fc31adae",
       "version_major": 2,
       "version_minor": 0
      },
      "text/plain": [
       "  0%|          | 0/750 [00:00<?, ?it/s]"
      ]
     },
     "metadata": {},
     "output_type": "display_data"
    },
    {
     "name": "stdout",
     "output_type": "stream",
     "text": [
      "Epoch: 215, iteration: 0, loss: 0.0288556\n",
      "Epoch: 215, iteration: 50, loss: 0.0308125\n",
      "Epoch: 215, iteration: 100, loss: 0.0241373\n",
      "Epoch: 215, iteration: 150, loss: 0.0303827\n",
      "Epoch: 215, iteration: 200, loss: 0.027454\n",
      "Epoch: 215, iteration: 250, loss: 0.0326259\n",
      "Epoch: 215, iteration: 300, loss: 0.0250899\n",
      "Epoch: 215, iteration: 350, loss: 0.0270186\n",
      "Epoch: 215, iteration: 400, loss: 0.0269883\n",
      "Epoch: 215, iteration: 450, loss: 0.0309338\n",
      "Epoch: 215, iteration: 500, loss: 0.0257858\n",
      "Epoch: 215, iteration: 550, loss: 0.0322263\n",
      "Epoch: 215, iteration: 600, loss: 0.0270887\n",
      "Epoch: 215, iteration: 650, loss: 0.0320024\n",
      "Epoch: 215, iteration: 700, loss: 0.0265771\n",
      "Epoch 216\n"
     ]
    },
    {
     "data": {
      "application/vnd.jupyter.widget-view+json": {
       "model_id": "b99ed87292354ed9adc78ce445bb6730",
       "version_major": 2,
       "version_minor": 0
      },
      "text/plain": [
       "  0%|          | 0/750 [00:00<?, ?it/s]"
      ]
     },
     "metadata": {},
     "output_type": "display_data"
    },
    {
     "name": "stdout",
     "output_type": "stream",
     "text": [
      "Epoch: 216, iteration: 0, loss: 0.0308763\n",
      "Epoch: 216, iteration: 50, loss: 0.0274707\n",
      "Epoch: 216, iteration: 100, loss: 0.0324157\n",
      "Epoch: 216, iteration: 150, loss: 0.0250437\n",
      "Epoch: 216, iteration: 200, loss: 0.0297142\n",
      "Epoch: 216, iteration: 250, loss: 0.0284219\n",
      "Epoch: 216, iteration: 300, loss: 0.0314634\n",
      "Epoch: 216, iteration: 350, loss: 0.0232663\n",
      "Epoch: 216, iteration: 400, loss: 0.0284183\n",
      "Epoch: 216, iteration: 450, loss: 0.0258561\n",
      "Epoch: 216, iteration: 500, loss: 0.0330701\n",
      "Epoch: 216, iteration: 550, loss: 0.0239918\n",
      "Epoch: 216, iteration: 600, loss: 0.0276835\n",
      "Epoch: 216, iteration: 650, loss: 0.0270167\n",
      "Epoch: 216, iteration: 700, loss: 0.0309476\n",
      "Epoch 217\n"
     ]
    },
    {
     "data": {
      "application/vnd.jupyter.widget-view+json": {
       "model_id": "a73b74278e5e4cf99a592c9c472fb773",
       "version_major": 2,
       "version_minor": 0
      },
      "text/plain": [
       "  0%|          | 0/750 [00:00<?, ?it/s]"
      ]
     },
     "metadata": {},
     "output_type": "display_data"
    },
    {
     "name": "stdout",
     "output_type": "stream",
     "text": [
      "Epoch: 217, iteration: 0, loss: 0.0299465\n",
      "Epoch: 217, iteration: 50, loss: 0.0285695\n",
      "Epoch: 217, iteration: 100, loss: 0.026551\n",
      "Epoch: 217, iteration: 150, loss: 0.0305255\n",
      "Epoch: 217, iteration: 200, loss: 0.026674\n",
      "Epoch: 217, iteration: 250, loss: 0.0292321\n",
      "Epoch: 217, iteration: 300, loss: 0.0277263\n",
      "Epoch: 217, iteration: 350, loss: 0.032178\n",
      "Epoch: 217, iteration: 400, loss: 0.0254239\n",
      "Epoch: 217, iteration: 450, loss: 0.0282281\n",
      "Epoch: 217, iteration: 500, loss: 0.0251187\n",
      "Epoch: 217, iteration: 550, loss: 0.0315473\n",
      "Epoch: 217, iteration: 600, loss: 0.0260048\n",
      "Epoch: 217, iteration: 650, loss: 0.0291499\n",
      "Epoch: 217, iteration: 700, loss: 0.0272261\n",
      "Epoch 218\n"
     ]
    },
    {
     "data": {
      "application/vnd.jupyter.widget-view+json": {
       "model_id": "41e22d33f251424a8a760d46089f1105",
       "version_major": 2,
       "version_minor": 0
      },
      "text/plain": [
       "  0%|          | 0/750 [00:00<?, ?it/s]"
      ]
     },
     "metadata": {},
     "output_type": "display_data"
    },
    {
     "name": "stdout",
     "output_type": "stream",
     "text": [
      "Epoch: 218, iteration: 0, loss: 0.0306589\n",
      "Epoch: 218, iteration: 50, loss: 0.025117\n",
      "Epoch: 218, iteration: 100, loss: 0.032775\n",
      "Epoch: 218, iteration: 150, loss: 0.0254073\n",
      "Epoch: 218, iteration: 200, loss: 0.0264558\n",
      "Epoch: 218, iteration: 250, loss: 0.0233731\n",
      "Epoch: 218, iteration: 300, loss: 0.0281425\n",
      "Epoch: 218, iteration: 350, loss: 0.0259845\n",
      "Epoch: 218, iteration: 400, loss: 0.0328256\n",
      "Epoch: 218, iteration: 450, loss: 0.0253042\n",
      "Epoch: 218, iteration: 500, loss: 0.0264348\n",
      "Epoch: 218, iteration: 550, loss: 0.0275899\n",
      "Epoch: 218, iteration: 600, loss: 0.0332885\n",
      "Epoch: 218, iteration: 650, loss: 0.026997\n",
      "Epoch: 218, iteration: 700, loss: 0.0316159\n",
      "Epoch 219\n"
     ]
    },
    {
     "data": {
      "application/vnd.jupyter.widget-view+json": {
       "model_id": "d2a6d7a583e247c48353b01403f216b8",
       "version_major": 2,
       "version_minor": 0
      },
      "text/plain": [
       "  0%|          | 0/750 [00:00<?, ?it/s]"
      ]
     },
     "metadata": {},
     "output_type": "display_data"
    },
    {
     "name": "stdout",
     "output_type": "stream",
     "text": [
      "Epoch: 219, iteration: 0, loss: 0.0262561\n",
      "Epoch: 219, iteration: 50, loss: 0.0303271\n",
      "Epoch: 219, iteration: 100, loss: 0.0241728\n",
      "Epoch: 219, iteration: 150, loss: 0.0308324\n",
      "Epoch: 219, iteration: 200, loss: 0.0261005\n",
      "Epoch: 219, iteration: 250, loss: 0.0316727\n",
      "Epoch: 219, iteration: 300, loss: 0.0233622\n",
      "Epoch: 219, iteration: 350, loss: 0.0284895\n",
      "Epoch: 219, iteration: 400, loss: 0.0250335\n",
      "Epoch: 219, iteration: 450, loss: 0.032471\n",
      "Epoch: 219, iteration: 500, loss: 0.0254067\n",
      "Epoch: 219, iteration: 550, loss: 0.0299212\n",
      "Epoch: 219, iteration: 600, loss: 0.027223\n",
      "Epoch: 219, iteration: 650, loss: 0.031823\n",
      "Epoch: 219, iteration: 700, loss: 0.0244667\n",
      "\n",
      "Validating...\n"
     ]
    },
    {
     "data": {
      "application/vnd.jupyter.widget-view+json": {
       "model_id": "d0a9cc1f80ad411191ec4e6bd494f9ce",
       "version_major": 2,
       "version_minor": 0
      },
      "text/plain": [
       "  0%|          | 0/188 [00:00<?, ?it/s]"
      ]
     },
     "metadata": {},
     "output_type": "display_data"
    },
    {
     "name": "stdout",
     "output_type": "stream",
     "text": [
      "Validation: Epoch: 220, loss: 0.0272658\n",
      "Epoch 220\n"
     ]
    },
    {
     "data": {
      "application/vnd.jupyter.widget-view+json": {
       "model_id": "a363266e99f343839171100b712575bb",
       "version_major": 2,
       "version_minor": 0
      },
      "text/plain": [
       "  0%|          | 0/750 [00:00<?, ?it/s]"
      ]
     },
     "metadata": {},
     "output_type": "display_data"
    },
    {
     "name": "stdout",
     "output_type": "stream",
     "text": [
      "Epoch: 220, iteration: 0, loss: 0.0281792\n",
      "Epoch: 220, iteration: 50, loss: 0.0276983\n",
      "Epoch: 220, iteration: 100, loss: 0.0309116\n",
      "Epoch: 220, iteration: 150, loss: 0.023309\n",
      "Epoch: 220, iteration: 200, loss: 0.0293426\n",
      "Epoch: 220, iteration: 250, loss: 0.0245579\n",
      "Epoch: 220, iteration: 300, loss: 0.0359655\n",
      "Epoch: 220, iteration: 350, loss: 0.026615\n",
      "Epoch: 220, iteration: 400, loss: 0.0285355\n",
      "Epoch: 220, iteration: 450, loss: 0.0267688\n",
      "Epoch: 220, iteration: 500, loss: 0.0291858\n",
      "Epoch: 220, iteration: 550, loss: 0.0261952\n",
      "Epoch: 220, iteration: 600, loss: 0.0283942\n",
      "Epoch: 220, iteration: 650, loss: 0.0242409\n",
      "Epoch: 220, iteration: 700, loss: 0.0320425\n",
      "Epoch 221\n"
     ]
    },
    {
     "data": {
      "application/vnd.jupyter.widget-view+json": {
       "model_id": "7204c7acc9f64d5a9170d253f61c28be",
       "version_major": 2,
       "version_minor": 0
      },
      "text/plain": [
       "  0%|          | 0/750 [00:00<?, ?it/s]"
      ]
     },
     "metadata": {},
     "output_type": "display_data"
    },
    {
     "name": "stdout",
     "output_type": "stream",
     "text": [
      "Epoch: 221, iteration: 0, loss: 0.0245276\n",
      "Epoch: 221, iteration: 50, loss: 0.0291883\n",
      "Epoch: 221, iteration: 100, loss: 0.0254989\n",
      "Epoch: 221, iteration: 150, loss: 0.0304877\n",
      "Epoch: 221, iteration: 200, loss: 0.0307983\n",
      "Epoch: 221, iteration: 250, loss: 0.0290034\n",
      "Epoch: 221, iteration: 300, loss: 0.0278846\n",
      "Epoch: 221, iteration: 350, loss: 0.0299924\n",
      "Epoch: 221, iteration: 400, loss: 0.0229122\n",
      "Epoch: 221, iteration: 450, loss: 0.0293031\n",
      "Epoch: 221, iteration: 500, loss: 0.0257993\n",
      "Epoch: 221, iteration: 550, loss: 0.0307335\n",
      "Epoch: 221, iteration: 600, loss: 0.0251796\n",
      "Epoch: 221, iteration: 650, loss: 0.0277015\n",
      "Epoch: 221, iteration: 700, loss: 0.0281491\n",
      "Epoch 222\n"
     ]
    },
    {
     "data": {
      "application/vnd.jupyter.widget-view+json": {
       "model_id": "edc54670f68744de8497c028a67a4ee8",
       "version_major": 2,
       "version_minor": 0
      },
      "text/plain": [
       "  0%|          | 0/750 [00:00<?, ?it/s]"
      ]
     },
     "metadata": {},
     "output_type": "display_data"
    },
    {
     "name": "stdout",
     "output_type": "stream",
     "text": [
      "Epoch: 222, iteration: 0, loss: 0.0288055\n",
      "Epoch: 222, iteration: 50, loss: 0.0265826\n",
      "Epoch: 222, iteration: 100, loss: 0.0314613\n",
      "Epoch: 222, iteration: 150, loss: 0.0271402\n",
      "Epoch: 222, iteration: 200, loss: 0.0307252\n",
      "Epoch: 222, iteration: 250, loss: 0.0272834\n",
      "Epoch: 222, iteration: 300, loss: 0.0281349\n",
      "Epoch: 222, iteration: 350, loss: 0.0261776\n",
      "Epoch: 222, iteration: 400, loss: 0.0311014\n",
      "Epoch: 222, iteration: 450, loss: 0.0248805\n",
      "Epoch: 222, iteration: 500, loss: 0.0298275\n",
      "Epoch: 222, iteration: 550, loss: 0.0249835\n",
      "Epoch: 222, iteration: 600, loss: 0.0301736\n",
      "Epoch: 222, iteration: 650, loss: 0.0244229\n",
      "Epoch: 222, iteration: 700, loss: 0.028343\n",
      "Epoch 223\n"
     ]
    },
    {
     "data": {
      "application/vnd.jupyter.widget-view+json": {
       "model_id": "0ff3c9f79e2b441da919a4f9d7cc5e5e",
       "version_major": 2,
       "version_minor": 0
      },
      "text/plain": [
       "  0%|          | 0/750 [00:00<?, ?it/s]"
      ]
     },
     "metadata": {},
     "output_type": "display_data"
    },
    {
     "name": "stdout",
     "output_type": "stream",
     "text": [
      "Epoch: 223, iteration: 0, loss: 0.0285847\n",
      "Epoch: 223, iteration: 50, loss: 0.0329434\n",
      "Epoch: 223, iteration: 100, loss: 0.0244741\n",
      "Epoch: 223, iteration: 150, loss: 0.0282048\n",
      "Epoch: 223, iteration: 200, loss: 0.0282484\n",
      "Epoch: 223, iteration: 250, loss: 0.0299493\n",
      "Epoch: 223, iteration: 300, loss: 0.0257014\n",
      "Epoch: 223, iteration: 350, loss: 0.0312025\n",
      "Epoch: 223, iteration: 400, loss: 0.0275892\n",
      "Epoch: 223, iteration: 450, loss: 0.033219\n",
      "Epoch: 223, iteration: 500, loss: 0.0272337\n",
      "Epoch: 223, iteration: 550, loss: 0.0318407\n",
      "Epoch: 223, iteration: 600, loss: 0.028664\n",
      "Epoch: 223, iteration: 650, loss: 0.0318706\n",
      "Epoch: 223, iteration: 700, loss: 0.0253087\n",
      "Epoch 224\n"
     ]
    },
    {
     "data": {
      "application/vnd.jupyter.widget-view+json": {
       "model_id": "4e5157f1b643434cbce941ee934bcd2f",
       "version_major": 2,
       "version_minor": 0
      },
      "text/plain": [
       "  0%|          | 0/750 [00:00<?, ?it/s]"
      ]
     },
     "metadata": {},
     "output_type": "display_data"
    },
    {
     "name": "stdout",
     "output_type": "stream",
     "text": [
      "Epoch: 224, iteration: 0, loss: 0.0267071\n",
      "Epoch: 224, iteration: 50, loss: 0.0247156\n",
      "Epoch: 224, iteration: 100, loss: 0.0338713\n",
      "Epoch: 224, iteration: 150, loss: 0.0257329\n",
      "Epoch: 224, iteration: 200, loss: 0.0279205\n",
      "Epoch: 224, iteration: 250, loss: 0.0284854\n",
      "Epoch: 224, iteration: 300, loss: 0.0317432\n",
      "Epoch: 224, iteration: 350, loss: 0.0236851\n",
      "Epoch: 224, iteration: 400, loss: 0.0292377\n",
      "Epoch: 224, iteration: 450, loss: 0.0270884\n",
      "Epoch: 224, iteration: 500, loss: 0.0312062\n",
      "Epoch: 224, iteration: 550, loss: 0.0261486\n",
      "Epoch: 224, iteration: 600, loss: 0.0300493\n",
      "Epoch: 224, iteration: 650, loss: 0.0279075\n",
      "Epoch: 224, iteration: 700, loss: 0.0340994\n",
      "\n",
      "Validating...\n"
     ]
    },
    {
     "data": {
      "application/vnd.jupyter.widget-view+json": {
       "model_id": "e67a6df74d214bc0b67ee620195f81df",
       "version_major": 2,
       "version_minor": 0
      },
      "text/plain": [
       "  0%|          | 0/188 [00:00<?, ?it/s]"
      ]
     },
     "metadata": {},
     "output_type": "display_data"
    },
    {
     "name": "stdout",
     "output_type": "stream",
     "text": [
      "Validation: Epoch: 225, loss: 0.0272689\n",
      "Epoch 225\n"
     ]
    },
    {
     "data": {
      "application/vnd.jupyter.widget-view+json": {
       "model_id": "1d25602995bd4f0d8d9cb4942bda3cdb",
       "version_major": 2,
       "version_minor": 0
      },
      "text/plain": [
       "  0%|          | 0/750 [00:00<?, ?it/s]"
      ]
     },
     "metadata": {},
     "output_type": "display_data"
    },
    {
     "name": "stdout",
     "output_type": "stream",
     "text": [
      "Epoch: 225, iteration: 0, loss: 0.026557\n",
      "Epoch: 225, iteration: 50, loss: 0.0282238\n",
      "Epoch: 225, iteration: 100, loss: 0.0261455\n",
      "Epoch: 225, iteration: 150, loss: 0.0305727\n",
      "Epoch: 225, iteration: 200, loss: 0.0257578\n",
      "Epoch: 225, iteration: 250, loss: 0.0287667\n",
      "Epoch: 225, iteration: 300, loss: 0.0269158\n",
      "Epoch: 225, iteration: 350, loss: 0.0314437\n",
      "Epoch: 225, iteration: 400, loss: 0.0253366\n",
      "Epoch: 225, iteration: 450, loss: 0.0282645\n",
      "Epoch: 225, iteration: 500, loss: 0.026784\n",
      "Epoch: 225, iteration: 550, loss: 0.0310277\n",
      "Epoch: 225, iteration: 600, loss: 0.0229917\n",
      "Epoch: 225, iteration: 650, loss: 0.0286112\n",
      "Epoch: 225, iteration: 700, loss: 0.0284825\n",
      "Epoch 226\n"
     ]
    },
    {
     "data": {
      "application/vnd.jupyter.widget-view+json": {
       "model_id": "fc174b465370459d9ddabc616e604b56",
       "version_major": 2,
       "version_minor": 0
      },
      "text/plain": [
       "  0%|          | 0/750 [00:00<?, ?it/s]"
      ]
     },
     "metadata": {},
     "output_type": "display_data"
    },
    {
     "name": "stdout",
     "output_type": "stream",
     "text": [
      "Epoch: 226, iteration: 0, loss: 0.0307666\n",
      "Epoch: 226, iteration: 50, loss: 0.0225978\n",
      "Epoch: 226, iteration: 100, loss: 0.0283699\n",
      "Epoch: 226, iteration: 150, loss: 0.0288992\n",
      "Epoch: 226, iteration: 200, loss: 0.0318376\n",
      "Epoch: 226, iteration: 250, loss: 0.0223492\n",
      "Epoch: 226, iteration: 300, loss: 0.0286398\n",
      "Epoch: 226, iteration: 350, loss: 0.0263411\n",
      "Epoch: 226, iteration: 400, loss: 0.029472\n",
      "Epoch: 226, iteration: 450, loss: 0.0241832\n",
      "Epoch: 226, iteration: 500, loss: 0.0279286\n",
      "Epoch: 226, iteration: 550, loss: 0.0261563\n",
      "Epoch: 226, iteration: 600, loss: 0.0321641\n",
      "Epoch: 226, iteration: 650, loss: 0.0254202\n",
      "Epoch: 226, iteration: 700, loss: 0.0290788\n",
      "Epoch 227\n"
     ]
    },
    {
     "data": {
      "application/vnd.jupyter.widget-view+json": {
       "model_id": "d5d893a469b345e4bc4da6d34561cf9b",
       "version_major": 2,
       "version_minor": 0
      },
      "text/plain": [
       "  0%|          | 0/750 [00:00<?, ?it/s]"
      ]
     },
     "metadata": {},
     "output_type": "display_data"
    },
    {
     "name": "stdout",
     "output_type": "stream",
     "text": [
      "Epoch: 227, iteration: 0, loss: 0.0268849\n",
      "Epoch: 227, iteration: 50, loss: 0.0336451\n",
      "Epoch: 227, iteration: 100, loss: 0.0256131\n",
      "Epoch: 227, iteration: 150, loss: 0.0277156\n",
      "Epoch: 227, iteration: 200, loss: 0.0283863\n",
      "Epoch: 227, iteration: 250, loss: 0.0336622\n",
      "Epoch: 227, iteration: 300, loss: 0.0261844\n",
      "Epoch: 227, iteration: 350, loss: 0.0285896\n",
      "Epoch: 227, iteration: 400, loss: 0.028484\n",
      "Epoch: 227, iteration: 450, loss: 0.0310178\n",
      "Epoch: 227, iteration: 500, loss: 0.0254497\n",
      "Epoch: 227, iteration: 550, loss: 0.0311332\n",
      "Epoch: 227, iteration: 600, loss: 0.0263637\n",
      "Epoch: 227, iteration: 650, loss: 0.0344768\n",
      "Epoch: 227, iteration: 700, loss: 0.0259887\n",
      "Epoch 228\n"
     ]
    },
    {
     "data": {
      "application/vnd.jupyter.widget-view+json": {
       "model_id": "73857864b8a8425eba72cc2ea26aa8d1",
       "version_major": 2,
       "version_minor": 0
      },
      "text/plain": [
       "  0%|          | 0/750 [00:00<?, ?it/s]"
      ]
     },
     "metadata": {},
     "output_type": "display_data"
    },
    {
     "name": "stdout",
     "output_type": "stream",
     "text": [
      "Epoch: 228, iteration: 0, loss: 0.0278568\n",
      "Epoch: 228, iteration: 50, loss: 0.0264746\n",
      "Epoch: 228, iteration: 100, loss: 0.0324696\n",
      "Epoch: 228, iteration: 150, loss: 0.0256916\n",
      "Epoch: 228, iteration: 200, loss: 0.0284729\n",
      "Epoch: 228, iteration: 250, loss: 0.0274547\n",
      "Epoch: 228, iteration: 300, loss: 0.034669\n",
      "Epoch: 228, iteration: 350, loss: 0.0240423\n",
      "Epoch: 228, iteration: 400, loss: 0.0287478\n",
      "Epoch: 228, iteration: 450, loss: 0.0281475\n",
      "Epoch: 228, iteration: 500, loss: 0.0305018\n",
      "Epoch: 228, iteration: 550, loss: 0.0258705\n",
      "Epoch: 228, iteration: 600, loss: 0.026813\n",
      "Epoch: 228, iteration: 650, loss: 0.0260573\n",
      "Epoch: 228, iteration: 700, loss: 0.0315554\n",
      "Epoch 229\n"
     ]
    },
    {
     "data": {
      "application/vnd.jupyter.widget-view+json": {
       "model_id": "f6d0de467ea541f49c2fcf228d59d1a5",
       "version_major": 2,
       "version_minor": 0
      },
      "text/plain": [
       "  0%|          | 0/750 [00:00<?, ?it/s]"
      ]
     },
     "metadata": {},
     "output_type": "display_data"
    },
    {
     "name": "stdout",
     "output_type": "stream",
     "text": [
      "Epoch: 229, iteration: 0, loss: 0.0289586\n",
      "Epoch: 229, iteration: 50, loss: 0.0316022\n",
      "Epoch: 229, iteration: 100, loss: 0.0273718\n",
      "Epoch: 229, iteration: 150, loss: 0.0330882\n",
      "Epoch: 229, iteration: 200, loss: 0.0271041\n",
      "Epoch: 229, iteration: 250, loss: 0.0299587\n",
      "Epoch: 229, iteration: 300, loss: 0.0270617\n",
      "Epoch: 229, iteration: 350, loss: 0.0328912\n",
      "Epoch: 229, iteration: 400, loss: 0.0240434\n",
      "Epoch: 229, iteration: 450, loss: 0.0297763\n",
      "Epoch: 229, iteration: 500, loss: 0.0259357\n",
      "Epoch: 229, iteration: 550, loss: 0.0333983\n",
      "Epoch: 229, iteration: 600, loss: 0.0239525\n",
      "Epoch: 229, iteration: 650, loss: 0.0322654\n",
      "Epoch: 229, iteration: 700, loss: 0.0261202\n",
      "\n",
      "Validating...\n"
     ]
    },
    {
     "data": {
      "application/vnd.jupyter.widget-view+json": {
       "model_id": "243efd83504444e5bdfabd2875fc1966",
       "version_major": 2,
       "version_minor": 0
      },
      "text/plain": [
       "  0%|          | 0/188 [00:00<?, ?it/s]"
      ]
     },
     "metadata": {},
     "output_type": "display_data"
    },
    {
     "name": "stdout",
     "output_type": "stream",
     "text": [
      "Validation: Epoch: 230, loss: 0.0272619\n",
      "Epoch 230\n"
     ]
    },
    {
     "data": {
      "application/vnd.jupyter.widget-view+json": {
       "model_id": "b73737ec20fb46d9b3561ec2da54f3ff",
       "version_major": 2,
       "version_minor": 0
      },
      "text/plain": [
       "  0%|          | 0/750 [00:00<?, ?it/s]"
      ]
     },
     "metadata": {},
     "output_type": "display_data"
    },
    {
     "name": "stdout",
     "output_type": "stream",
     "text": [
      "Epoch: 230, iteration: 0, loss: 0.0318558\n",
      "Epoch: 230, iteration: 50, loss: 0.0229968\n",
      "Epoch: 230, iteration: 100, loss: 0.0294923\n",
      "Epoch: 230, iteration: 150, loss: 0.0243489\n",
      "Epoch: 230, iteration: 200, loss: 0.0298725\n",
      "Epoch: 230, iteration: 250, loss: 0.0268101\n",
      "Epoch: 230, iteration: 300, loss: 0.0292787\n",
      "Epoch: 230, iteration: 350, loss: 0.0276137\n",
      "Epoch: 230, iteration: 400, loss: 0.0294502\n",
      "Epoch: 230, iteration: 450, loss: 0.0238935\n",
      "Epoch: 230, iteration: 500, loss: 0.0302241\n",
      "Epoch: 230, iteration: 550, loss: 0.0262067\n",
      "Epoch: 230, iteration: 600, loss: 0.030463\n",
      "Epoch: 230, iteration: 650, loss: 0.0288675\n",
      "Epoch: 230, iteration: 700, loss: 0.0284137\n",
      "Epoch 231\n"
     ]
    },
    {
     "data": {
      "application/vnd.jupyter.widget-view+json": {
       "model_id": "909badeb4ea74492b8dea3595e56371c",
       "version_major": 2,
       "version_minor": 0
      },
      "text/plain": [
       "  0%|          | 0/750 [00:00<?, ?it/s]"
      ]
     },
     "metadata": {},
     "output_type": "display_data"
    },
    {
     "name": "stdout",
     "output_type": "stream",
     "text": [
      "Epoch: 231, iteration: 0, loss: 0.0263392\n",
      "Epoch: 231, iteration: 50, loss: 0.0324948\n",
      "Epoch: 231, iteration: 100, loss: 0.0257601\n",
      "Epoch: 231, iteration: 150, loss: 0.0287789\n",
      "Epoch: 231, iteration: 200, loss: 0.0288303\n",
      "Epoch: 231, iteration: 250, loss: 0.0347817\n",
      "Epoch: 231, iteration: 300, loss: 0.0291574\n",
      "Epoch: 231, iteration: 350, loss: 0.0290372\n",
      "Epoch: 231, iteration: 400, loss: 0.0261126\n",
      "Epoch: 231, iteration: 450, loss: 0.0349995\n",
      "Epoch: 231, iteration: 500, loss: 0.0276751\n",
      "Epoch: 231, iteration: 550, loss: 0.0281978\n",
      "Epoch: 231, iteration: 600, loss: 0.0279416\n",
      "Epoch: 231, iteration: 650, loss: 0.0323308\n",
      "Epoch: 231, iteration: 700, loss: 0.0249445\n",
      "Epoch 232\n"
     ]
    },
    {
     "data": {
      "application/vnd.jupyter.widget-view+json": {
       "model_id": "b54abce2c5af4a08927c2ab6ba64feb2",
       "version_major": 2,
       "version_minor": 0
      },
      "text/plain": [
       "  0%|          | 0/750 [00:00<?, ?it/s]"
      ]
     },
     "metadata": {},
     "output_type": "display_data"
    },
    {
     "name": "stdout",
     "output_type": "stream",
     "text": [
      "Epoch: 232, iteration: 0, loss: 0.0278453\n",
      "Epoch: 232, iteration: 50, loss: 0.0259613\n",
      "Epoch: 232, iteration: 100, loss: 0.0326351\n",
      "Epoch: 232, iteration: 150, loss: 0.0249694\n",
      "Epoch: 232, iteration: 200, loss: 0.0264687\n",
      "Epoch: 232, iteration: 250, loss: 0.0253813\n",
      "Epoch: 232, iteration: 300, loss: 0.0314857\n",
      "Epoch: 232, iteration: 350, loss: 0.0243598\n",
      "Epoch: 232, iteration: 400, loss: 0.0321855\n",
      "Epoch: 232, iteration: 450, loss: 0.0253162\n",
      "Epoch: 232, iteration: 500, loss: 0.0332107\n",
      "Epoch: 232, iteration: 550, loss: 0.0250595\n",
      "Epoch: 232, iteration: 600, loss: 0.0301647\n",
      "Epoch: 232, iteration: 650, loss: 0.0286472\n",
      "Epoch: 232, iteration: 700, loss: 0.0314285\n",
      "Epoch 233\n"
     ]
    },
    {
     "data": {
      "application/vnd.jupyter.widget-view+json": {
       "model_id": "1a5a94d849da40ceaa61fd03ea266a7b",
       "version_major": 2,
       "version_minor": 0
      },
      "text/plain": [
       "  0%|          | 0/750 [00:00<?, ?it/s]"
      ]
     },
     "metadata": {},
     "output_type": "display_data"
    },
    {
     "name": "stdout",
     "output_type": "stream",
     "text": [
      "Epoch: 233, iteration: 0, loss: 0.0244727\n",
      "Epoch: 233, iteration: 50, loss: 0.02919\n",
      "Epoch: 233, iteration: 100, loss: 0.0280618\n",
      "Epoch: 233, iteration: 150, loss: 0.0331937\n",
      "Epoch: 233, iteration: 200, loss: 0.0275503\n",
      "Epoch: 233, iteration: 250, loss: 0.0275052\n",
      "Epoch: 233, iteration: 300, loss: 0.0287007\n",
      "Epoch: 233, iteration: 350, loss: 0.0277116\n",
      "Epoch: 233, iteration: 400, loss: 0.0271876\n",
      "Epoch: 233, iteration: 450, loss: 0.0248329\n",
      "Epoch: 233, iteration: 500, loss: 0.0257824\n",
      "Epoch: 233, iteration: 550, loss: 0.0318722\n",
      "Epoch: 233, iteration: 600, loss: 0.0266975\n",
      "Epoch: 233, iteration: 650, loss: 0.0287898\n",
      "Epoch: 233, iteration: 700, loss: 0.0253242\n",
      "Epoch 234\n"
     ]
    },
    {
     "data": {
      "application/vnd.jupyter.widget-view+json": {
       "model_id": "82fa328f1f764f0aa4b5ca1c93288170",
       "version_major": 2,
       "version_minor": 0
      },
      "text/plain": [
       "  0%|          | 0/750 [00:00<?, ?it/s]"
      ]
     },
     "metadata": {},
     "output_type": "display_data"
    },
    {
     "name": "stdout",
     "output_type": "stream",
     "text": [
      "Epoch: 234, iteration: 0, loss: 0.0295651\n",
      "Epoch: 234, iteration: 50, loss: 0.0242958\n",
      "Epoch: 234, iteration: 100, loss: 0.0294588\n",
      "Epoch: 234, iteration: 150, loss: 0.0238389\n",
      "Epoch: 234, iteration: 200, loss: 0.0320652\n",
      "Epoch: 234, iteration: 250, loss: 0.0257577\n",
      "Epoch: 234, iteration: 300, loss: 0.0301881\n",
      "Epoch: 234, iteration: 350, loss: 0.0257365\n",
      "Epoch: 234, iteration: 400, loss: 0.0308578\n",
      "Epoch: 234, iteration: 450, loss: 0.0244187\n",
      "Epoch: 234, iteration: 500, loss: 0.0300114\n",
      "Epoch: 234, iteration: 550, loss: 0.0277091\n",
      "Epoch: 234, iteration: 600, loss: 0.0342345\n",
      "Epoch: 234, iteration: 650, loss: 0.0257196\n",
      "Epoch: 234, iteration: 700, loss: 0.032527\n",
      "\n",
      "Validating...\n"
     ]
    },
    {
     "data": {
      "application/vnd.jupyter.widget-view+json": {
       "model_id": "535184ed6b4b47488af4f4f05e64c736",
       "version_major": 2,
       "version_minor": 0
      },
      "text/plain": [
       "  0%|          | 0/188 [00:00<?, ?it/s]"
      ]
     },
     "metadata": {},
     "output_type": "display_data"
    },
    {
     "name": "stdout",
     "output_type": "stream",
     "text": [
      "Validation: Epoch: 235, loss: 0.0272551\n",
      "Epoch 235\n"
     ]
    },
    {
     "data": {
      "application/vnd.jupyter.widget-view+json": {
       "model_id": "bb9e9170a14f40d48924ef331f03a407",
       "version_major": 2,
       "version_minor": 0
      },
      "text/plain": [
       "  0%|          | 0/750 [00:00<?, ?it/s]"
      ]
     },
     "metadata": {},
     "output_type": "display_data"
    },
    {
     "name": "stdout",
     "output_type": "stream",
     "text": [
      "Epoch: 235, iteration: 0, loss: 0.0286092\n",
      "Epoch: 235, iteration: 50, loss: 0.0312245\n",
      "Epoch: 235, iteration: 100, loss: 0.0242736\n",
      "Epoch: 235, iteration: 150, loss: 0.028979\n",
      "Epoch: 235, iteration: 200, loss: 0.0272977\n",
      "Epoch: 235, iteration: 250, loss: 0.034407\n",
      "Epoch: 235, iteration: 300, loss: 0.0224838\n",
      "Epoch: 235, iteration: 350, loss: 0.0272649\n",
      "Epoch: 235, iteration: 400, loss: 0.027618\n",
      "Epoch: 235, iteration: 450, loss: 0.0307762\n",
      "Epoch: 235, iteration: 500, loss: 0.0258275\n",
      "Epoch: 235, iteration: 550, loss: 0.0274043\n",
      "Epoch: 235, iteration: 600, loss: 0.0246232\n",
      "Epoch: 235, iteration: 650, loss: 0.0320803\n",
      "Epoch: 235, iteration: 700, loss: 0.0253289\n",
      "Epoch 236\n"
     ]
    },
    {
     "data": {
      "application/vnd.jupyter.widget-view+json": {
       "model_id": "64747ee4b6264aa69d74166a62b0f812",
       "version_major": 2,
       "version_minor": 0
      },
      "text/plain": [
       "  0%|          | 0/750 [00:00<?, ?it/s]"
      ]
     },
     "metadata": {},
     "output_type": "display_data"
    },
    {
     "name": "stdout",
     "output_type": "stream",
     "text": [
      "Epoch: 236, iteration: 0, loss: 0.0301348\n",
      "Epoch: 236, iteration: 50, loss: 0.0266941\n",
      "Epoch: 236, iteration: 100, loss: 0.0348071\n",
      "Epoch: 236, iteration: 150, loss: 0.0219992\n",
      "Epoch: 236, iteration: 200, loss: 0.0284642\n",
      "Epoch: 236, iteration: 250, loss: 0.0253148\n",
      "Epoch: 236, iteration: 300, loss: 0.0318525\n",
      "Epoch: 236, iteration: 350, loss: 0.0260459\n",
      "Epoch: 236, iteration: 400, loss: 0.0312291\n",
      "Epoch: 236, iteration: 450, loss: 0.0274919\n",
      "Epoch: 236, iteration: 500, loss: 0.0321694\n",
      "Epoch: 236, iteration: 550, loss: 0.0256044\n",
      "Epoch: 236, iteration: 600, loss: 0.029922\n",
      "Epoch: 236, iteration: 650, loss: 0.0277206\n",
      "Epoch: 236, iteration: 700, loss: 0.0315927\n",
      "Epoch 237\n"
     ]
    },
    {
     "data": {
      "application/vnd.jupyter.widget-view+json": {
       "model_id": "eb486debd8bc4ee986c0559c3638020f",
       "version_major": 2,
       "version_minor": 0
      },
      "text/plain": [
       "  0%|          | 0/750 [00:00<?, ?it/s]"
      ]
     },
     "metadata": {},
     "output_type": "display_data"
    },
    {
     "name": "stdout",
     "output_type": "stream",
     "text": [
      "Epoch: 237, iteration: 0, loss: 0.028022\n",
      "Epoch: 237, iteration: 50, loss: 0.0303082\n",
      "Epoch: 237, iteration: 100, loss: 0.0308287\n",
      "Epoch: 237, iteration: 150, loss: 0.0301849\n",
      "Epoch: 237, iteration: 200, loss: 0.0267406\n",
      "Epoch: 237, iteration: 250, loss: 0.0281172\n",
      "Epoch: 237, iteration: 300, loss: 0.0257498\n",
      "Epoch: 237, iteration: 350, loss: 0.0313902\n",
      "Epoch: 237, iteration: 400, loss: 0.0262607\n",
      "Epoch: 237, iteration: 450, loss: 0.0281668\n",
      "Epoch: 237, iteration: 500, loss: 0.0262702\n",
      "Epoch: 237, iteration: 550, loss: 0.0341416\n",
      "Epoch: 237, iteration: 600, loss: 0.0254384\n",
      "Epoch: 237, iteration: 650, loss: 0.0296546\n",
      "Epoch: 237, iteration: 700, loss: 0.0261389\n",
      "Epoch 238\n"
     ]
    },
    {
     "data": {
      "application/vnd.jupyter.widget-view+json": {
       "model_id": "d544376af225468f9a49259b2f68dade",
       "version_major": 2,
       "version_minor": 0
      },
      "text/plain": [
       "  0%|          | 0/750 [00:00<?, ?it/s]"
      ]
     },
     "metadata": {},
     "output_type": "display_data"
    },
    {
     "name": "stdout",
     "output_type": "stream",
     "text": [
      "Epoch: 238, iteration: 0, loss: 0.0310423\n",
      "Epoch: 238, iteration: 50, loss: 0.027162\n",
      "Epoch: 238, iteration: 100, loss: 0.0284328\n",
      "Epoch: 238, iteration: 150, loss: 0.0277136\n",
      "Epoch: 238, iteration: 200, loss: 0.0320487\n",
      "Epoch: 238, iteration: 250, loss: 0.0263099\n",
      "Epoch: 238, iteration: 300, loss: 0.0276154\n",
      "Epoch: 238, iteration: 350, loss: 0.0244086\n",
      "Epoch: 238, iteration: 400, loss: 0.0337304\n",
      "Epoch: 238, iteration: 450, loss: 0.0268315\n",
      "Epoch: 238, iteration: 500, loss: 0.0288564\n",
      "Epoch: 238, iteration: 550, loss: 0.0281751\n",
      "Epoch: 238, iteration: 600, loss: 0.0325323\n",
      "Epoch: 238, iteration: 650, loss: 0.0253438\n",
      "Epoch: 238, iteration: 700, loss: 0.0320978\n",
      "Epoch 239\n"
     ]
    },
    {
     "data": {
      "application/vnd.jupyter.widget-view+json": {
       "model_id": "2c6d3bc5e4be4967bbd7a98f24973714",
       "version_major": 2,
       "version_minor": 0
      },
      "text/plain": [
       "  0%|          | 0/750 [00:00<?, ?it/s]"
      ]
     },
     "metadata": {},
     "output_type": "display_data"
    },
    {
     "name": "stdout",
     "output_type": "stream",
     "text": [
      "Epoch: 239, iteration: 0, loss: 0.0259264\n",
      "Epoch: 239, iteration: 50, loss: 0.0297804\n",
      "Epoch: 239, iteration: 100, loss: 0.025199\n",
      "Epoch: 239, iteration: 150, loss: 0.0285239\n",
      "Epoch: 239, iteration: 200, loss: 0.0266055\n",
      "Epoch: 239, iteration: 250, loss: 0.0314989\n",
      "Epoch: 239, iteration: 300, loss: 0.0248782\n",
      "Epoch: 239, iteration: 350, loss: 0.0284302\n",
      "Epoch: 239, iteration: 400, loss: 0.0271371\n",
      "Epoch: 239, iteration: 450, loss: 0.0310061\n",
      "Epoch: 239, iteration: 500, loss: 0.027393\n",
      "Epoch: 239, iteration: 550, loss: 0.0294749\n",
      "Epoch: 239, iteration: 600, loss: 0.0260641\n",
      "Epoch: 239, iteration: 650, loss: 0.0294021\n",
      "Epoch: 239, iteration: 700, loss: 0.0263517\n",
      "\n",
      "Validating...\n"
     ]
    },
    {
     "data": {
      "application/vnd.jupyter.widget-view+json": {
       "model_id": "96ba68f8c1f640929eb68492338334a6",
       "version_major": 2,
       "version_minor": 0
      },
      "text/plain": [
       "  0%|          | 0/188 [00:00<?, ?it/s]"
      ]
     },
     "metadata": {},
     "output_type": "display_data"
    },
    {
     "name": "stdout",
     "output_type": "stream",
     "text": [
      "Validation: Epoch: 240, loss: 0.0272396\n",
      "Epoch 240\n"
     ]
    },
    {
     "data": {
      "application/vnd.jupyter.widget-view+json": {
       "model_id": "807425cdfbf14cafba535ea3afe81c44",
       "version_major": 2,
       "version_minor": 0
      },
      "text/plain": [
       "  0%|          | 0/750 [00:00<?, ?it/s]"
      ]
     },
     "metadata": {},
     "output_type": "display_data"
    },
    {
     "name": "stdout",
     "output_type": "stream",
     "text": [
      "Epoch: 240, iteration: 0, loss: 0.0277691\n",
      "Epoch: 240, iteration: 50, loss: 0.0248557\n",
      "Epoch: 240, iteration: 100, loss: 0.0321481\n",
      "Epoch: 240, iteration: 150, loss: 0.0254171\n",
      "Epoch: 240, iteration: 200, loss: 0.0272473\n",
      "Epoch: 240, iteration: 250, loss: 0.0281056\n",
      "Epoch: 240, iteration: 300, loss: 0.0323634\n",
      "Epoch: 240, iteration: 350, loss: 0.0247519\n",
      "Epoch: 240, iteration: 400, loss: 0.0300067\n",
      "Epoch: 240, iteration: 450, loss: 0.0280646\n",
      "Epoch: 240, iteration: 500, loss: 0.0311601\n",
      "Epoch: 240, iteration: 550, loss: 0.0267441\n",
      "Epoch: 240, iteration: 600, loss: 0.0313628\n",
      "Epoch: 240, iteration: 650, loss: 0.0282969\n",
      "Epoch: 240, iteration: 700, loss: 0.0315398\n",
      "Epoch 241\n"
     ]
    },
    {
     "data": {
      "application/vnd.jupyter.widget-view+json": {
       "model_id": "8e0244c316044f2cbc652a0f549bdb66",
       "version_major": 2,
       "version_minor": 0
      },
      "text/plain": [
       "  0%|          | 0/750 [00:00<?, ?it/s]"
      ]
     },
     "metadata": {},
     "output_type": "display_data"
    },
    {
     "name": "stdout",
     "output_type": "stream",
     "text": [
      "Epoch: 241, iteration: 0, loss: 0.0279989\n",
      "Epoch: 241, iteration: 50, loss: 0.029671\n",
      "Epoch: 241, iteration: 100, loss: 0.0267639\n",
      "Epoch: 241, iteration: 150, loss: 0.0356668\n",
      "Epoch: 241, iteration: 200, loss: 0.0240659\n",
      "Epoch: 241, iteration: 250, loss: 0.0301768\n",
      "Epoch: 241, iteration: 300, loss: 0.0265961\n",
      "Epoch: 241, iteration: 350, loss: 0.031335\n",
      "Epoch: 241, iteration: 400, loss: 0.0258812\n",
      "Epoch: 241, iteration: 450, loss: 0.029501\n",
      "Epoch: 241, iteration: 500, loss: 0.0271634\n",
      "Epoch: 241, iteration: 550, loss: 0.0324706\n",
      "Epoch: 241, iteration: 600, loss: 0.026344\n",
      "Epoch: 241, iteration: 650, loss: 0.0321869\n",
      "Epoch: 241, iteration: 700, loss: 0.025598\n",
      "Epoch 242\n"
     ]
    },
    {
     "data": {
      "application/vnd.jupyter.widget-view+json": {
       "model_id": "b2039d9d343444be8d9e79477e18714d",
       "version_major": 2,
       "version_minor": 0
      },
      "text/plain": [
       "  0%|          | 0/750 [00:00<?, ?it/s]"
      ]
     },
     "metadata": {},
     "output_type": "display_data"
    },
    {
     "name": "stdout",
     "output_type": "stream",
     "text": [
      "Epoch: 242, iteration: 0, loss: 0.0312078\n",
      "Epoch: 242, iteration: 50, loss: 0.0229739\n",
      "Epoch: 242, iteration: 100, loss: 0.0266698\n",
      "Epoch: 242, iteration: 150, loss: 0.0278151\n",
      "Epoch: 242, iteration: 200, loss: 0.0333532\n",
      "Epoch: 242, iteration: 250, loss: 0.0282316\n",
      "Epoch: 242, iteration: 300, loss: 0.0313558\n",
      "Epoch: 242, iteration: 350, loss: 0.0274318\n",
      "Epoch: 242, iteration: 400, loss: 0.0303036\n",
      "Epoch: 242, iteration: 450, loss: 0.0266484\n",
      "Epoch: 242, iteration: 500, loss: 0.0300843\n",
      "Epoch: 242, iteration: 550, loss: 0.0249191\n",
      "Epoch: 242, iteration: 600, loss: 0.0359729\n",
      "Epoch: 242, iteration: 650, loss: 0.0255976\n",
      "Epoch: 242, iteration: 700, loss: 0.0279466\n",
      "Epoch 243\n"
     ]
    },
    {
     "data": {
      "application/vnd.jupyter.widget-view+json": {
       "model_id": "fefa1c59ee334e658f548ef3ab66ffea",
       "version_major": 2,
       "version_minor": 0
      },
      "text/plain": [
       "  0%|          | 0/750 [00:00<?, ?it/s]"
      ]
     },
     "metadata": {},
     "output_type": "display_data"
    },
    {
     "name": "stdout",
     "output_type": "stream",
     "text": [
      "Epoch: 243, iteration: 0, loss: 0.0250211\n",
      "Epoch: 243, iteration: 50, loss: 0.0307461\n",
      "Epoch: 243, iteration: 100, loss: 0.0218922\n",
      "Epoch: 243, iteration: 150, loss: 0.0278322\n",
      "Epoch: 243, iteration: 200, loss: 0.0258634\n",
      "Epoch: 243, iteration: 250, loss: 0.0322199\n",
      "Epoch: 243, iteration: 300, loss: 0.0256853\n",
      "Epoch: 243, iteration: 350, loss: 0.0286179\n",
      "Epoch: 243, iteration: 400, loss: 0.0279843\n",
      "Epoch: 243, iteration: 450, loss: 0.0299734\n",
      "Epoch: 243, iteration: 500, loss: 0.026951\n",
      "Epoch: 243, iteration: 550, loss: 0.0317079\n",
      "Epoch: 243, iteration: 600, loss: 0.0251827\n",
      "Epoch: 243, iteration: 650, loss: 0.0306841\n",
      "Epoch: 243, iteration: 700, loss: 0.0256143\n",
      "Epoch 244\n"
     ]
    },
    {
     "data": {
      "application/vnd.jupyter.widget-view+json": {
       "model_id": "a738b013886b4ebe964b3fd5f04c1d00",
       "version_major": 2,
       "version_minor": 0
      },
      "text/plain": [
       "  0%|          | 0/750 [00:00<?, ?it/s]"
      ]
     },
     "metadata": {},
     "output_type": "display_data"
    },
    {
     "name": "stdout",
     "output_type": "stream",
     "text": [
      "Epoch: 244, iteration: 0, loss: 0.0290944\n",
      "Epoch: 244, iteration: 50, loss: 0.0256869\n",
      "Epoch: 244, iteration: 100, loss: 0.032821\n",
      "Epoch: 244, iteration: 150, loss: 0.0248362\n",
      "Epoch: 244, iteration: 200, loss: 0.0294912\n",
      "Epoch: 244, iteration: 250, loss: 0.0266166\n",
      "Epoch: 244, iteration: 300, loss: 0.0309785\n",
      "Epoch: 244, iteration: 350, loss: 0.0257627\n",
      "Epoch: 244, iteration: 400, loss: 0.0301342\n",
      "Epoch: 244, iteration: 450, loss: 0.0269129\n",
      "Epoch: 244, iteration: 500, loss: 0.0324607\n",
      "Epoch: 244, iteration: 550, loss: 0.025995\n",
      "Epoch: 244, iteration: 600, loss: 0.0261698\n",
      "Epoch: 244, iteration: 650, loss: 0.0262665\n",
      "Epoch: 244, iteration: 700, loss: 0.0346569\n",
      "\n",
      "Validating...\n"
     ]
    },
    {
     "data": {
      "application/vnd.jupyter.widget-view+json": {
       "model_id": "e47c310624654bdea0c2170510d44e6d",
       "version_major": 2,
       "version_minor": 0
      },
      "text/plain": [
       "  0%|          | 0/188 [00:00<?, ?it/s]"
      ]
     },
     "metadata": {},
     "output_type": "display_data"
    },
    {
     "name": "stdout",
     "output_type": "stream",
     "text": [
      "Validation: Epoch: 245, loss: 0.0272434\n",
      "Epoch 245\n"
     ]
    },
    {
     "data": {
      "application/vnd.jupyter.widget-view+json": {
       "model_id": "f2bacf4a27f0443ab7847a59258744c9",
       "version_major": 2,
       "version_minor": 0
      },
      "text/plain": [
       "  0%|          | 0/750 [00:00<?, ?it/s]"
      ]
     },
     "metadata": {},
     "output_type": "display_data"
    },
    {
     "name": "stdout",
     "output_type": "stream",
     "text": [
      "Epoch: 245, iteration: 0, loss: 0.0230053\n",
      "Epoch: 245, iteration: 50, loss: 0.0288429\n",
      "Epoch: 245, iteration: 100, loss: 0.0262098\n",
      "Epoch: 245, iteration: 150, loss: 0.0316573\n",
      "Epoch: 245, iteration: 200, loss: 0.0253784\n",
      "Epoch: 245, iteration: 250, loss: 0.0273773\n",
      "Epoch: 245, iteration: 300, loss: 0.0255837\n",
      "Epoch: 245, iteration: 350, loss: 0.0304426\n",
      "Epoch: 245, iteration: 400, loss: 0.0277312\n",
      "Epoch: 245, iteration: 450, loss: 0.0298539\n",
      "Epoch: 245, iteration: 500, loss: 0.0279058\n",
      "Epoch: 245, iteration: 550, loss: 0.0304162\n",
      "Epoch: 245, iteration: 600, loss: 0.0239831\n",
      "Epoch: 245, iteration: 650, loss: 0.027197\n",
      "Epoch: 245, iteration: 700, loss: 0.0291172\n",
      "Epoch 246\n"
     ]
    },
    {
     "data": {
      "application/vnd.jupyter.widget-view+json": {
       "model_id": "05fd7bf255fc445faed40bd977cbeab2",
       "version_major": 2,
       "version_minor": 0
      },
      "text/plain": [
       "  0%|          | 0/750 [00:00<?, ?it/s]"
      ]
     },
     "metadata": {},
     "output_type": "display_data"
    },
    {
     "name": "stdout",
     "output_type": "stream",
     "text": [
      "Epoch: 246, iteration: 0, loss: 0.0285236\n",
      "Epoch: 246, iteration: 50, loss: 0.0223775\n",
      "Epoch: 246, iteration: 100, loss: 0.028627\n",
      "Epoch: 246, iteration: 150, loss: 0.0255511\n",
      "Epoch: 246, iteration: 200, loss: 0.0304396\n",
      "Epoch: 246, iteration: 250, loss: 0.026743\n",
      "Epoch: 246, iteration: 300, loss: 0.0301898\n",
      "Epoch: 246, iteration: 350, loss: 0.0270879\n",
      "Epoch: 246, iteration: 400, loss: 0.0321967\n",
      "Epoch: 246, iteration: 450, loss: 0.0256943\n",
      "Epoch: 246, iteration: 500, loss: 0.0264962\n",
      "Epoch: 246, iteration: 550, loss: 0.0271545\n",
      "Epoch: 246, iteration: 600, loss: 0.0298149\n",
      "Epoch: 246, iteration: 650, loss: 0.0245729\n",
      "Epoch: 246, iteration: 700, loss: 0.0284745\n",
      "Epoch 247\n"
     ]
    },
    {
     "data": {
      "application/vnd.jupyter.widget-view+json": {
       "model_id": "6f92c98d16ca48498b3cccbfae8f00d0",
       "version_major": 2,
       "version_minor": 0
      },
      "text/plain": [
       "  0%|          | 0/750 [00:00<?, ?it/s]"
      ]
     },
     "metadata": {},
     "output_type": "display_data"
    },
    {
     "name": "stdout",
     "output_type": "stream",
     "text": [
      "Epoch: 247, iteration: 0, loss: 0.025046\n",
      "Epoch: 247, iteration: 50, loss: 0.0338658\n",
      "Epoch: 247, iteration: 100, loss: 0.0239076\n",
      "Epoch: 247, iteration: 150, loss: 0.028105\n",
      "Epoch: 247, iteration: 200, loss: 0.0282009\n",
      "Epoch: 247, iteration: 250, loss: 0.0321222\n",
      "Epoch: 247, iteration: 300, loss: 0.0281392\n",
      "Epoch: 247, iteration: 350, loss: 0.027615\n",
      "Epoch: 247, iteration: 400, loss: 0.0267462\n",
      "Epoch: 247, iteration: 450, loss: 0.028173\n",
      "Epoch: 247, iteration: 500, loss: 0.0232435\n",
      "Epoch: 247, iteration: 550, loss: 0.0276603\n",
      "Epoch: 247, iteration: 600, loss: 0.0276791\n",
      "Epoch: 247, iteration: 650, loss: 0.0288837\n",
      "Epoch: 247, iteration: 700, loss: 0.0249289\n",
      "Epoch 248\n"
     ]
    },
    {
     "data": {
      "application/vnd.jupyter.widget-view+json": {
       "model_id": "867766aceae44670aed1c431d7980c2a",
       "version_major": 2,
       "version_minor": 0
      },
      "text/plain": [
       "  0%|          | 0/750 [00:00<?, ?it/s]"
      ]
     },
     "metadata": {},
     "output_type": "display_data"
    },
    {
     "name": "stdout",
     "output_type": "stream",
     "text": [
      "Epoch: 248, iteration: 0, loss: 0.0290026\n",
      "Epoch: 248, iteration: 50, loss: 0.029627\n",
      "Epoch: 248, iteration: 100, loss: 0.0331572\n",
      "Epoch: 248, iteration: 150, loss: 0.0226412\n",
      "Epoch: 248, iteration: 200, loss: 0.0298559\n",
      "Epoch: 248, iteration: 250, loss: 0.0269436\n",
      "Epoch: 248, iteration: 300, loss: 0.0308207\n",
      "Epoch: 248, iteration: 350, loss: 0.0248604\n",
      "Epoch: 248, iteration: 400, loss: 0.0293415\n",
      "Epoch: 248, iteration: 450, loss: 0.0276912\n",
      "Epoch: 248, iteration: 500, loss: 0.0311105\n",
      "Epoch: 248, iteration: 550, loss: 0.0268608\n",
      "Epoch: 248, iteration: 600, loss: 0.0288363\n",
      "Epoch: 248, iteration: 650, loss: 0.0257148\n",
      "Epoch: 248, iteration: 700, loss: 0.0311192\n",
      "Epoch 249\n"
     ]
    },
    {
     "data": {
      "application/vnd.jupyter.widget-view+json": {
       "model_id": "270b1fe195024a93a28d5a7bf7285a4e",
       "version_major": 2,
       "version_minor": 0
      },
      "text/plain": [
       "  0%|          | 0/750 [00:00<?, ?it/s]"
      ]
     },
     "metadata": {},
     "output_type": "display_data"
    },
    {
     "name": "stdout",
     "output_type": "stream",
     "text": [
      "Epoch: 249, iteration: 0, loss: 0.0238026\n",
      "Epoch: 249, iteration: 50, loss: 0.0282796\n",
      "Epoch: 249, iteration: 100, loss: 0.0279514\n",
      "Epoch: 249, iteration: 150, loss: 0.0361812\n",
      "Epoch: 249, iteration: 200, loss: 0.0266256\n",
      "Epoch: 249, iteration: 250, loss: 0.031252\n",
      "Epoch: 249, iteration: 300, loss: 0.0246606\n",
      "Epoch: 249, iteration: 350, loss: 0.0294024\n",
      "Epoch: 249, iteration: 400, loss: 0.0220993\n",
      "Epoch: 249, iteration: 450, loss: 0.0291089\n",
      "Epoch: 249, iteration: 500, loss: 0.0284338\n",
      "Epoch: 249, iteration: 550, loss: 0.0305537\n",
      "Epoch: 249, iteration: 600, loss: 0.0274319\n",
      "Epoch: 249, iteration: 650, loss: 0.0268004\n",
      "Epoch: 249, iteration: 700, loss: 0.0259404\n",
      "\n",
      "Validating...\n"
     ]
    },
    {
     "data": {
      "application/vnd.jupyter.widget-view+json": {
       "model_id": "b5827e434a62484480425dc24d2a5447",
       "version_major": 2,
       "version_minor": 0
      },
      "text/plain": [
       "  0%|          | 0/188 [00:00<?, ?it/s]"
      ]
     },
     "metadata": {},
     "output_type": "display_data"
    },
    {
     "name": "stdout",
     "output_type": "stream",
     "text": [
      "Validation: Epoch: 250, loss: 0.0272367\n",
      "Epoch 250\n"
     ]
    },
    {
     "data": {
      "application/vnd.jupyter.widget-view+json": {
       "model_id": "c65085e4e3944e1b8491f5762e53f429",
       "version_major": 2,
       "version_minor": 0
      },
      "text/plain": [
       "  0%|          | 0/750 [00:00<?, ?it/s]"
      ]
     },
     "metadata": {},
     "output_type": "display_data"
    },
    {
     "name": "stdout",
     "output_type": "stream",
     "text": [
      "Epoch: 250, iteration: 0, loss: 0.0307892\n",
      "Epoch: 250, iteration: 50, loss: 0.0242598\n",
      "Epoch: 250, iteration: 100, loss: 0.0284694\n",
      "Epoch: 250, iteration: 150, loss: 0.0255557\n",
      "Epoch: 250, iteration: 200, loss: 0.0288485\n",
      "Epoch: 250, iteration: 250, loss: 0.0249033\n",
      "Epoch: 250, iteration: 300, loss: 0.0335572\n",
      "Epoch: 250, iteration: 350, loss: 0.0299702\n",
      "Epoch: 250, iteration: 400, loss: 0.0313758\n",
      "Epoch: 250, iteration: 450, loss: 0.0228829\n",
      "Epoch: 250, iteration: 500, loss: 0.0286291\n",
      "Epoch: 250, iteration: 550, loss: 0.0275611\n",
      "Epoch: 250, iteration: 600, loss: 0.0309912\n",
      "Epoch: 250, iteration: 650, loss: 0.0269846\n",
      "Epoch: 250, iteration: 700, loss: 0.0273318\n",
      "\n",
      "Sampling...\n"
     ]
    },
    {
     "data": {
      "application/vnd.jupyter.widget-view+json": {
       "model_id": "d854820331424edeb4bb19dff56c42c9",
       "version_major": 2,
       "version_minor": 0
      },
      "text/plain": [
       "  0%|          | 0/500 [00:00<?, ?it/s]"
      ]
     },
     "metadata": {},
     "output_type": "display_data"
    },
    {
     "name": "stderr",
     "output_type": "stream",
     "text": [
      "/opt/conda/lib/python3.9/site-packages/torch/nn/functional.py:718: UserWarning: Named tensors and all their associated APIs are an experimental feature and subject to change. Please do not use them for anything important until they are released as stable. (Triggered internally at  /pytorch/c10/core/TensorImpl.h:1156.)\n",
      "  return torch.max_pool2d(input, kernel_size, stride, padding, dilation, ceil_mode)\n"
     ]
    },
    {
     "data": {
      "image/png": "[encoded data removed]",
      "text/plain": [
       "<IPython.core.display.Image object>"
      ]
     },
     "metadata": {},
     "output_type": "display_data"
    },
    {
     "data": {
      "image/png": "[encoded data removed]",
      "text/plain": [
       "<IPython.core.display.Image object>"
      ]
     },
     "metadata": {},
     "output_type": "display_data"
    },
    {
     "data": {
      "image/png": "[encoded data removed]",
      "text/plain": [
       "<IPython.core.display.Image object>"
      ]
     },
     "metadata": {},
     "output_type": "display_data"
    },
    {
     "data": {
      "image/png": "[encoded data removed]",
      "text/plain": [
       "<IPython.core.display.Image object>"
      ]
     },
     "metadata": {},
     "output_type": "display_data"
    },
    {
     "data": {
      "image/png": "[encoded data removed]",
      "text/plain": [
       "<IPython.core.display.Image object>"
      ]
     },
     "metadata": {},
     "output_type": "display_data"
    },
    {
     "data": {
      "image/png": "[encoded data removed]",
      "text/plain": [
       "<IPython.core.display.Image object>"
      ]
     },
     "metadata": {},
     "output_type": "display_data"
    },
    {
     "data": {
      "image/png": "[encoded data removed]",
      "text/plain": [
       "<IPython.core.display.Image object>"
      ]
     },
     "metadata": {},
     "output_type": "display_data"
    },
    {
     "data": {
      "image/png": "[encoded data removed]",
      "text/plain": [
       "<IPython.core.display.Image object>"
      ]
     },
     "metadata": {},
     "output_type": "display_data"
    },
    {
     "data": {
      "image/png": "[encoded data removed]",
      "text/plain": [
       "<IPython.core.display.Image object>"
      ]
     },
     "metadata": {},
     "output_type": "display_data"
    },
    {
     "data": {
      "image/png": "[encoded data removed]",
      "text/plain": [
       "<IPython.core.display.Image object>"
      ]
     },
     "metadata": {},
     "output_type": "display_data"
    },
    {
     "data": {
      "image/png": "[encoded data removed]",
      "text/plain": [
       "<IPython.core.display.Image object>"
      ]
     },
     "metadata": {},
     "output_type": "display_data"
    },
    {
     "data": {
      "image/png": "[encoded data removed]",
      "text/plain": [
       "<IPython.core.display.Image object>"
      ]
     },
     "metadata": {},
     "output_type": "display_data"
    },
    {
     "data": {
      "image/png": "[encoded data removed]",
      "text/plain": [
       "<IPython.core.display.Image object>"
      ]
     },
     "metadata": {},
     "output_type": "display_data"
    },
    {
     "data": {
      "image/png": "[encoded data removed]",
      "text/plain": [
       "<IPython.core.display.Image object>"
      ]
     },
     "metadata": {},
     "output_type": "display_data"
    },
    {
     "data": {
      "image/png": "[encoded data removed]",
      "text/plain": [
       "<IPython.core.display.Image object>"
      ]
     },
     "metadata": {},
     "output_type": "display_data"
    },
    {
     "data": {
      "image/png": "[encoded data removed]",
      "text/plain": [
       "<IPython.core.display.Image object>"
      ]
     },
     "metadata": {},
     "output_type": "display_data"
    },
    {
     "data": {
      "image/png": "[encoded data removed]",
      "text/plain": [
       "<IPython.core.display.Image object>"
      ]
     },
     "metadata": {},
     "output_type": "display_data"
    },
    {
     "data": {
      "image/png": "[encoded data removed]",
      "text/plain": [
       "<IPython.core.display.Image object>"
      ]
     },
     "metadata": {},
     "output_type": "display_data"
    },
    {
     "data": {
      "image/png": "[encoded data removed]",
      "text/plain": [
       "<IPython.core.display.Image object>"
      ]
     },
     "metadata": {},
     "output_type": "display_data"
    },
    {
     "data": {
      "image/png": "[encoded data removed]",
      "text/plain": [
       "<IPython.core.display.Image object>"
      ]
     },
     "metadata": {},
     "output_type": "display_data"
    },
    {
     "data": {
      "image/png": "[encoded data removed]",
      "text/plain": [
       "<IPython.core.display.Image object>"
      ]
     },
     "metadata": {},
     "output_type": "display_data"
    },
    {
     "data": {
      "image/png": "[encoded data removed]",
      "text/plain": [
       "<IPython.core.display.Image object>"
      ]
     },
     "metadata": {},
     "output_type": "display_data"
    },
    {
     "data": {
      "image/png": "[encoded data removed]",
      "text/plain": [
       "<IPython.core.display.Image object>"
      ]
     },
     "metadata": {},
     "output_type": "display_data"
    },
    {
     "data": {
      "image/png": "[encoded data removed]",
      "text/plain": [
       "<IPython.core.display.Image object>"
      ]
     },
     "metadata": {},
     "output_type": "display_data"
    },
    {
     "data": {
      "image/png": "[encoded data removed]",
      "text/plain": [
       "<IPython.core.display.Image object>"
      ]
     },
     "metadata": {},
     "output_type": "display_data"
    },
    {
     "data": {
      "image/png": "[encoded data removed]",
      "text/plain": [
       "<IPython.core.display.Image object>"
      ]
     },
     "metadata": {},
     "output_type": "display_data"
    },
    {
     "data": {
      "image/png": "[encoded data removed]",
      "text/plain": [
       "<IPython.core.display.Image object>"
      ]
     },
     "metadata": {},
     "output_type": "display_data"
    },
    {
     "data": {
      "image/png": "[encoded data removed]",
      "text/plain": [
       "<IPython.core.display.Image object>"
      ]
     },
     "metadata": {},
     "output_type": "display_data"
    },
    {
     "data": {
      "image/png": "[encoded data removed]",
      "text/plain": [
       "<IPython.core.display.Image object>"
      ]
     },
     "metadata": {},
     "output_type": "display_data"
    },
    {
     "data": {
      "image/png": "[encoded data removed]",
      "text/plain": [
       "<IPython.core.display.Image object>"
      ]
     },
     "metadata": {},
     "output_type": "display_data"
    },
    {
     "data": {
      "image/png": "[encoded data removed]",
      "text/plain": [
       "<IPython.core.display.Image object>"
      ]
     },
     "metadata": {},
     "output_type": "display_data"
    },
    {
     "data": {
      "image/png": "[encoded data removed]",
      "text/plain": [
       "<IPython.core.display.Image object>"
      ]
     },
     "metadata": {},
     "output_type": "display_data"
    },
    {
     "data": {
      "image/png": "[encoded data removed]",
      "text/plain": [
       "<IPython.core.display.Image object>"
      ]
     },
     "metadata": {},
     "output_type": "display_data"
    },
    {
     "data": {
      "image/png": "[encoded data removed]",
      "text/plain": [
       "<IPython.core.display.Image object>"
      ]
     },
     "metadata": {},
     "output_type": "display_data"
    },
    {
     "data": {
      "image/png": "[encoded data removed]",
      "text/plain": [
       "<IPython.core.display.Image object>"
      ]
     },
     "metadata": {},
     "output_type": "display_data"
    },
    {
     "data": {
      "image/png": "[encoded data removed]",
      "text/plain": [
       "<IPython.core.display.Image object>"
      ]
     },
     "metadata": {},
     "output_type": "display_data"
    },
    {
     "data": {
      "image/png": "[encoded data removed]",
      "text/plain": [
       "<IPython.core.display.Image object>"
      ]
     },
     "metadata": {},
     "output_type": "display_data"
    },
    {
     "data": {
      "image/png": "[encoded data removed]",
      "text/plain": [
       "<IPython.core.display.Image object>"
      ]
     },
     "metadata": {},
     "output_type": "display_data"
    },
    {
     "data": {
      "image/png": "[encoded data removed]",
      "text/plain": [
       "<IPython.core.display.Image object>"
      ]
     },
     "metadata": {},
     "output_type": "display_data"
    },
    {
     "data": {
      "image/png": "[encoded data removed]",
      "text/plain": [
       "<IPython.core.display.Image object>"
      ]
     },
     "metadata": {},
     "output_type": "display_data"
    },
    {
     "data": {
      "image/png": "[encoded data removed]",
      "text/plain": [
       "<IPython.core.display.Image object>"
      ]
     },
     "metadata": {},
     "output_type": "display_data"
    },
    {
     "data": {
      "image/png": "[encoded data removed]",
      "text/plain": [
       "<IPython.core.display.Image object>"
      ]
     },
     "metadata": {},
     "output_type": "display_data"
    },
    {
     "data": {
      "image/png": "[encoded data removed]",
      "text/plain": [
       "<IPython.core.display.Image object>"
      ]
     },
     "metadata": {},
     "output_type": "display_data"
    },
    {
     "data": {
      "image/png": "[encoded data removed]",
      "text/plain": [
       "<IPython.core.display.Image object>"
      ]
     },
     "metadata": {},
     "output_type": "display_data"
    },
    {
     "data": {
      "image/png": "[encoded data removed]",
      "text/plain": [
       "<IPython.core.display.Image object>"
      ]
     },
     "metadata": {},
     "output_type": "display_data"
    },
    {
     "data": {
      "image/png": "[encoded data removed]",
      "text/plain": [
       "<IPython.core.display.Image object>"
      ]
     },
     "metadata": {},
     "output_type": "display_data"
    },
    {
     "data": {
      "image/png": "[encoded data removed]",
      "text/plain": [
       "<IPython.core.display.Image object>"
      ]
     },
     "metadata": {},
     "output_type": "display_data"
    },
    {
     "data": {
      "image/png": "[encoded data removed]",
      "text/plain": [
       "<IPython.core.display.Image object>"
      ]
     },
     "metadata": {},
     "output_type": "display_data"
    },
    {
     "data": {
      "image/png": "[encoded data removed]",
      "text/plain": [
       "<IPython.core.display.Image object>"
      ]
     },
     "metadata": {},
     "output_type": "display_data"
    },
    {
     "data": {
      "image/png": "[encoded data removed]",
      "text/plain": [
       "<IPython.core.display.Image object>"
      ]
     },
     "metadata": {},
     "output_type": "display_data"
    },
    {
     "data": {
      "image/png": "[encoded data removed]",
      "text/plain": [
       "<IPython.core.display.Image object>"
      ]
     },
     "metadata": {},
     "output_type": "display_data"
    },
    {
     "data": {
      "image/png": "[encoded data removed]",
      "text/plain": [
       "<IPython.core.display.Image object>"
      ]
     },
     "metadata": {},
     "output_type": "display_data"
    },
    {
     "data": {
      "image/png": "[encoded data removed]",
      "text/plain": [
       "<IPython.core.display.Image object>"
      ]
     },
     "metadata": {},
     "output_type": "display_data"
    },
    {
     "data": {
      "image/png": "[encoded data removed]",
      "text/plain": [
       "<IPython.core.display.Image object>"
      ]
     },
     "metadata": {},
     "output_type": "display_data"
    },
    {
     "data": {
      "image/png": "[encoded data removed]",
      "text/plain": [
       "<IPython.core.display.Image object>"
      ]
     },
     "metadata": {},
     "output_type": "display_data"
    },
    {
     "data": {
      "image/png": "[encoded data removed]",
      "text/plain": [
       "<IPython.core.display.Image object>"
      ]
     },
     "metadata": {},
     "output_type": "display_data"
    },
    {
     "data": {
      "image/png": "[encoded data removed]",
      "text/plain": [
       "<IPython.core.display.Image object>"
      ]
     },
     "metadata": {},
     "output_type": "display_data"
    },
    {
     "data": {
      "image/png": "[encoded data removed]",
      "text/plain": [
       "<IPython.core.display.Image object>"
      ]
     },
     "metadata": {},
     "output_type": "display_data"
    },
    {
     "data": {
      "image/png": "[encoded data removed]",
      "text/plain": [
       "<IPython.core.display.Image object>"
      ]
     },
     "metadata": {},
     "output_type": "display_data"
    },
    {
     "data": {
      "image/png": "[encoded data removed]",
      "text/plain": [
       "<IPython.core.display.Image object>"
      ]
     },
     "metadata": {},
     "output_type": "display_data"
    },
    {
     "data": {
      "image/png": "[encoded data removed]",
      "text/plain": [
       "<IPython.core.display.Image object>"
      ]
     },
     "metadata": {},
     "output_type": "display_data"
    },
    {
     "data": {
      "image/png": "[encoded data removed]",
      "text/plain": [
       "<IPython.core.display.Image object>"
      ]
     },
     "metadata": {},
     "output_type": "display_data"
    },
    {
     "data": {
      "image/png": "[encoded data removed]",
      "text/plain": [
       "<IPython.core.display.Image object>"
      ]
     },
     "metadata": {},
     "output_type": "display_data"
    },
    {
     "data": {
      "image/png": "[encoded data removed]",
      "text/plain": [
       "<IPython.core.display.Image object>"
      ]
     },
     "metadata": {},
     "output_type": "display_data"
    },
    {
     "data": {
      "image/png": "[encoded data removed]",
      "text/plain": [
       "<IPython.core.display.Image object>"
      ]
     },
     "metadata": {},
     "output_type": "display_data"
    },
    {
     "data": {
      "image/png": "[encoded data removed]",
      "text/plain": [
       "<IPython.core.display.Image object>"
      ]
     },
     "metadata": {},
     "output_type": "display_data"
    },
    {
     "data": {
      "image/png": "[encoded data removed]",
      "text/plain": [
       "<IPython.core.display.Image object>"
      ]
     },
     "metadata": {},
     "output_type": "display_data"
    },
    {
     "data": {
      "image/png": "[encoded data removed]",
      "text/plain": [
       "<IPython.core.display.Image object>"
      ]
     },
     "metadata": {},
     "output_type": "display_data"
    },
    {
     "data": {
      "image/png": "[encoded data removed]",
      "text/plain": [
       "<IPython.core.display.Image object>"
      ]
     },
     "metadata": {},
     "output_type": "display_data"
    },
    {
     "data": {
      "image/png": "[encoded data removed]",
      "text/plain": [
       "<IPython.core.display.Image object>"
      ]
     },
     "metadata": {},
     "output_type": "display_data"
    },
    {
     "data": {
      "image/png": "[encoded data removed]",
      "text/plain": [
       "<IPython.core.display.Image object>"
      ]
     },
     "metadata": {},
     "output_type": "display_data"
    },
    {
     "data": {
      "image/png": "[encoded data removed]",
      "text/plain": [
       "<IPython.core.display.Image object>"
      ]
     },
     "metadata": {},
     "output_type": "display_data"
    },
    {
     "data": {
      "image/png": "[encoded data removed]",
      "text/plain": [
       "<IPython.core.display.Image object>"
      ]
     },
     "metadata": {},
     "output_type": "display_data"
    },
    {
     "data": {
      "image/png": "[encoded data removed]",
      "text/plain": [
       "<IPython.core.display.Image object>"
      ]
     },
     "metadata": {},
     "output_type": "display_data"
    },
    {
     "data": {
      "image/png": "[encoded data removed]",
      "text/plain": [
       "<IPython.core.display.Image object>"
      ]
     },
     "metadata": {},
     "output_type": "display_data"
    },
    {
     "data": {
      "image/png": "[encoded data removed]",
      "text/plain": [
       "<IPython.core.display.Image object>"
      ]
     },
     "metadata": {},
     "output_type": "display_data"
    },
    {
     "data": {
      "image/png": "[encoded data removed]",
      "text/plain": [
       "<IPython.core.display.Image object>"
      ]
     },
     "metadata": {},
     "output_type": "display_data"
    },
    {
     "data": {
      "image/png": "[encoded data removed]",
      "text/plain": [
       "<IPython.core.display.Image object>"
      ]
     },
     "metadata": {},
     "output_type": "display_data"
    },
    {
     "data": {
      "image/png": "[encoded data removed]",
      "text/plain": [
       "<IPython.core.display.Image object>"
      ]
     },
     "metadata": {},
     "output_type": "display_data"
    },
    {
     "data": {
      "image/png": "[encoded data removed]",
      "text/plain": [
       "<IPython.core.display.Image object>"
      ]
     },
     "metadata": {},
     "output_type": "display_data"
    },
    {
     "data": {
      "image/png": "[encoded data removed]",
      "text/plain": [
       "<IPython.core.display.Image object>"
      ]
     },
     "metadata": {},
     "output_type": "display_data"
    },
    {
     "data": {
      "image/png": "[encoded data removed]",
      "text/plain": [
       "<IPython.core.display.Image object>"
      ]
     },
     "metadata": {},
     "output_type": "display_data"
    },
    {
     "data": {
      "image/png": "[encoded data removed]",
      "text/plain": [
       "<IPython.core.display.Image object>"
      ]
     },
     "metadata": {},
     "output_type": "display_data"
    },
    {
     "data": {
      "image/png": "[encoded data removed]",
      "text/plain": [
       "<IPython.core.display.Image object>"
      ]
     },
     "metadata": {},
     "output_type": "display_data"
    },
    {
     "data": {
      "image/png": "[encoded data removed]",
      "text/plain": [
       "<IPython.core.display.Image object>"
      ]
     },
     "metadata": {},
     "output_type": "display_data"
    },
    {
     "data": {
      "image/png": "[encoded data removed]",
      "text/plain": [
       "<IPython.core.display.Image object>"
      ]
     },
     "metadata": {},
     "output_type": "display_data"
    },
    {
     "data": {
      "image/png": "[encoded data removed]",
      "text/plain": [
       "<IPython.core.display.Image object>"
      ]
     },
     "metadata": {},
     "output_type": "display_data"
    },
    {
     "data": {
      "image/png": "[encoded data removed]",
      "text/plain": [
       "<IPython.core.display.Image object>"
      ]
     },
     "metadata": {},
     "output_type": "display_data"
    },
    {
     "data": {
      "image/png": "[encoded data removed]",
      "text/plain": [
       "<IPython.core.display.Image object>"
      ]
     },
     "metadata": {},
     "output_type": "display_data"
    },
    {
     "data": {
      "image/png": "[encoded data removed]",
      "text/plain": [
       "<IPython.core.display.Image object>"
      ]
     },
     "metadata": {},
     "output_type": "display_data"
    },
    {
     "data": {
      "image/png": "[encoded data removed]",
      "text/plain": [
       "<IPython.core.display.Image object>"
      ]
     },
     "metadata": {},
     "output_type": "display_data"
    },
    {
     "data": {
      "image/png": "[encoded data removed]",
      "text/plain": [
       "<IPython.core.display.Image object>"
      ]
     },
     "metadata": {},
     "output_type": "display_data"
    },
    {
     "data": {
      "image/png": "[encoded data removed]",
      "text/plain": [
       "<IPython.core.display.Image object>"
      ]
     },
     "metadata": {},
     "output_type": "display_data"
    },
    {
     "data": {
      "image/png": "[encoded data removed]",
      "text/plain": [
       "<IPython.core.display.Image object>"
      ]
     },
     "metadata": {},
     "output_type": "display_data"
    },
    {
     "data": {
      "image/png": "[encoded data removed]",
      "text/plain": [
       "<IPython.core.display.Image object>"
      ]
     },
     "metadata": {},
     "output_type": "display_data"
    },
    {
     "data": {
      "image/png": "[encoded data removed]",
      "text/plain": [
       "<IPython.core.display.Image object>"
      ]
     },
     "metadata": {},
     "output_type": "display_data"
    },
    {
     "data": {
      "image/png": "[encoded data removed]",
      "text/plain": [
       "<IPython.core.display.Image object>"
      ]
     },
     "metadata": {},
     "output_type": "display_data"
    },
    {
     "data": {
      "image/png": "[encoded data removed]",
      "text/plain": [
       "<IPython.core.display.Image object>"
      ]
     },
     "metadata": {},
     "output_type": "display_data"
    },
    {
     "data": {
      "image/png": "[encoded data removed]",
      "text/plain": [
       "<IPython.core.display.Image object>"
      ]
     },
     "metadata": {},
     "output_type": "display_data"
    },
    {
     "data": {
      "image/png": "[encoded data removed]",
      "text/plain": [
       "<IPython.core.display.Image object>"
      ]
     },
     "metadata": {},
     "output_type": "display_data"
    },
    {
     "name": "stdout",
     "output_type": "stream",
     "text": [
      "Inception Score: 2.133696402541158\n"
     ]
    }
   ],
   "source": [
    "# Actually train the model\n",
    "\n",
    "ema_decay = 0.998\n",
    "\n",
    "# The number of timesteps to use when sampling\n",
    "steps = 500\n",
    "\n",
    "# The amount of noise to add each timestep when sampling\n",
    "# 0 = no noise (DDIM)\n",
    "# 1 = full noise (DDPM)\n",
    "eta = 1.\n",
    "\n",
    "\n",
    "def eval_loss(model, rng, reals):\n",
    "    # Draw uniformly distributed continuous timesteps\n",
    "    t = rng.draw(reals.shape[0])[:, 0].to(device)\n",
    "\n",
    "    # Calculate the noise schedule parameters for those timesteps\n",
    "    log_snrs = get_ddpm_schedule(t)\n",
    "    alphas, sigmas = get_alphas_sigmas(log_snrs)\n",
    "    weights = log_snrs.exp() / log_snrs.exp().add(1)\n",
    "\n",
    "    # Combine the ground truth images and the noise\n",
    "    alphas = alphas[:, None, None, None]\n",
    "    sigmas = sigmas[:, None, None, None]\n",
    "    noise = torch.randn_like(reals)\n",
    "    noised_reals = reals * alphas + noise * sigmas\n",
    "    targets = noise * alphas - reals * sigmas\n",
    "\n",
    "    with torch.cuda.amp.autocast():\n",
    "        v = model(noised_reals, log_snrs)\n",
    "        return (v - targets).pow(2).mean([1, 2, 3]).mul(weights).mean()\n",
    "\n",
    "\n",
    "def train():\n",
    "    for i, reals in enumerate(tqdm(train_dl)):\n",
    "        opt.zero_grad()\n",
    "        reals = reals.to(device)\n",
    "\n",
    "        # Evaluate the loss\n",
    "        loss = eval_loss(model, rng, reals)\n",
    "\n",
    "        # Do the optimizer step and EMA update\n",
    "        scaler.scale(loss).backward()\n",
    "        scaler.step(opt)\n",
    "        ema_update(model, model_ema, 0.95 if epoch < 20 else ema_decay)\n",
    "        scaler.update()\n",
    "\n",
    "        if i % 50 == 0:\n",
    "            tqdm.write(f'Epoch: {epoch}, iteration: {i}, loss: {loss.item():g}')\n",
    "\n",
    "\n",
    "@torch.no_grad()\n",
    "@torch.random.fork_rng()\n",
    "@eval_mode(model_ema)\n",
    "\n",
    "def val():\n",
    "    tqdm.write('\\nValidating...')\n",
    "    torch.manual_seed(seed)\n",
    "    rng = torch.quasirandom.SobolEngine(1, scramble=True)\n",
    "    total_loss = 0\n",
    "    count = 0\n",
    "    for i, reals in enumerate(tqdm(val_dl)):\n",
    "        reals = reals.to(device)\n",
    "\n",
    "        loss = eval_loss(model_ema, rng, reals)\n",
    "\n",
    "        total_loss += loss.item() * len(reals)\n",
    "        count += len(reals)\n",
    "    loss = total_loss / count\n",
    "    tqdm.write(f'Validation: Epoch: {epoch}, loss: {loss:g}')\n",
    "\n",
    "@torch.no_grad()\n",
    "@torch.random.fork_rng()\n",
    "@eval_mode(model_ema)\n",
    "def demo():\n",
    "    tqdm.write('\\nSampling...')\n",
    "\n",
    "    torch.manual_seed(42)\n",
    "\n",
    "    noise = torch.randn([100, 3, 32, 32], device=device)\n",
    "    fakes = sample(model_ema, noise, steps, eta)\n",
    "    state = evaluator.run([fakes.data])\n",
    "\n",
    "    for i, fake in enumerate(fakes):\n",
    "        img_normalized = (fake.add(1).div(2).clamp(0, 1)).cpu()  # Normalize\n",
    "        filename = f'StableDiffusion_CelebA_Out/{epoch:03}_{i:03}.png'\n",
    "\n",
    "        save_image(img_normalized, filename)\n",
    "\n",
    "        display.display(display.Image(filename))\n",
    "\n",
    "    tqdm.write(f'Inception Score: {state.metrics[\"is\"]}')\n",
    "    \n",
    "\n",
    "\n",
    "def save():\n",
    "    filename = 'celeba_diffusion.pth'\n",
    "    obj = {\n",
    "        'model': model.state_dict(),\n",
    "        'model_ema': model_ema.state_dict(),\n",
    "        'opt': opt.state_dict(),\n",
    "        'scaler': scaler.state_dict(),\n",
    "        'epoch': epoch,\n",
    "    }\n",
    "    torch.save(obj, filename)\n",
    "\n",
    "\n",
    "try:\n",
    "    val()\n",
    "    while epoch <= 250:\n",
    "        print('Epoch', epoch)\n",
    "        train()\n",
    "        epoch += 1\n",
    "        if epoch % 5 == 0:\n",
    "            val()\n",
    "        save()\n",
    "    demo()  \n",
    "except KeyboardInterrupt:\n",
    "    pass\n"
   ]
  },
  {
   "cell_type": "code",
   "execution_count": 14,
   "id": "a273351a",
   "metadata": {},
   "outputs": [
    {
     "name": "stdout",
     "output_type": "stream",
     "text": [
      "compute FID between two folders\n",
      "Found 100 images in the folder StableDiffusion_CelebA_Out\n"
     ]
    },
    {
     "name": "stderr",
     "output_type": "stream",
     "text": [
      "FID StableDiffusion_CelebA_Out : 100%|██████████| 4/4 [00:03<00:00,  1.04it/s]\n"
     ]
    },
    {
     "name": "stdout",
     "output_type": "stream",
     "text": [
      "Found 60000 images in the folder data/img_align_celeba\n"
     ]
    },
    {
     "name": "stderr",
     "output_type": "stream",
     "text": [
      "FID img_align_celeba : 100%|██████████| 1875/1875 [02:59<00:00, 10.43it/s]\n"
     ]
    },
    {
     "name": "stdout",
     "output_type": "stream",
     "text": [
      "169.7237714222573\n"
     ]
    }
   ],
   "source": [
    "from cleanfid import fid\n",
    "\n",
    "fdir1 = \"StableDiffusion_CelebA_Out\"\n",
    "fdir2 = \"data/img_align_celeba\"\n",
    "\n",
    "score = fid.compute_fid(fdir1, fdir2, dataset_res=32)\n",
    "\n",
    "print(score)"
   ]
  },
  {
   "cell_type": "code",
   "execution_count": null,
   "id": "80d0258a",
   "metadata": {},
   "outputs": [],
   "source": []
  },
  {
   "cell_type": "code",
   "execution_count": null,
   "id": "d949f3a1",
   "metadata": {},
   "outputs": [],
   "source": []
  }
 ],
 "metadata": {
  "kernelspec": {
   "display_name": "Python 3 (ipykernel)",
   "language": "python",
   "name": "python3"
  },
  "language_info": {
   "codemirror_mode": {
    "name": "ipython",
    "version": 3
   },
   "file_extension": ".py",
   "mimetype": "text/x-python",
   "name": "python",
   "nbconvert_exporter": "python",
   "pygments_lexer": "ipython3",
   "version": "3.9.5"
  }
 },
 "nbformat": 4,
 "nbformat_minor": 5
}
